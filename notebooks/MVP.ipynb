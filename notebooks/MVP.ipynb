{
 "cells": [
  {
   "cell_type": "code",
   "execution_count": 1,
   "metadata": {},
   "outputs": [],
   "source": [
    "import pandas as pd"
   ]
  },
  {
   "cell_type": "code",
   "execution_count": 2,
   "metadata": {},
   "outputs": [],
   "source": [
    "data = pd.read_csv('../data/raw/first_dataset_lyrics_only.csv')"
   ]
  },
  {
   "cell_type": "code",
   "execution_count": 3,
   "metadata": {},
   "outputs": [
    {
     "data": {
      "text/html": [
       "<div>\n",
       "<style scoped>\n",
       "    .dataframe tbody tr th:only-of-type {\n",
       "        vertical-align: middle;\n",
       "    }\n",
       "\n",
       "    .dataframe tbody tr th {\n",
       "        vertical-align: top;\n",
       "    }\n",
       "\n",
       "    .dataframe thead th {\n",
       "        text-align: right;\n",
       "    }\n",
       "</style>\n",
       "<table border=\"1\" class=\"dataframe\">\n",
       "  <thead>\n",
       "    <tr style=\"text-align: right;\">\n",
       "      <th></th>\n",
       "      <th>genre</th>\n",
       "      <th>interpret</th>\n",
       "      <th>album</th>\n",
       "      <th>release_year</th>\n",
       "      <th>songtitle</th>\n",
       "      <th>decade</th>\n",
       "      <th>song_id</th>\n",
       "      <th>full_title</th>\n",
       "      <th>release_date_components_raw</th>\n",
       "      <th>release_date_for_display</th>\n",
       "      <th>stats_raw</th>\n",
       "      <th>lyrics</th>\n",
       "    </tr>\n",
       "  </thead>\n",
       "  <tbody>\n",
       "    <tr>\n",
       "      <th>0</th>\n",
       "      <td>Pop</td>\n",
       "      <td>Adel Tawil</td>\n",
       "      <td>Lieder</td>\n",
       "      <td>2013</td>\n",
       "      <td>Immer da</td>\n",
       "      <td>2010</td>\n",
       "      <td>256740</td>\n",
       "      <td>Immer da by Adel Tawil</td>\n",
       "      <td>{'year': 2013, 'month': 11, 'day': 8}</td>\n",
       "      <td>November 8, 2013</td>\n",
       "      <td>{'unreviewed_annotations': 0, 'hot': False}</td>\n",
       "      <td>Immer da Lyrics\\n\\nManchmal hast du gar nichts...</td>\n",
       "    </tr>\n",
       "    <tr>\n",
       "      <th>1</th>\n",
       "      <td>Pop</td>\n",
       "      <td>Adel Tawil</td>\n",
       "      <td>Lieder</td>\n",
       "      <td>2013</td>\n",
       "      <td>Wenn Du liebst</td>\n",
       "      <td>2010</td>\n",
       "      <td>256742</td>\n",
       "      <td>Wenn du liebst by Adel Tawil</td>\n",
       "      <td>{'year': 2013, 'month': 11, 'day': 8}</td>\n",
       "      <td>November 8, 2013</td>\n",
       "      <td>{'unreviewed_annotations': 4, 'hot': False, 'p...</td>\n",
       "      <td>Wenn du liebst Lyrics\\nGanz allein im schwarze...</td>\n",
       "    </tr>\n",
       "    <tr>\n",
       "      <th>2</th>\n",
       "      <td>Pop</td>\n",
       "      <td>Adel Tawil</td>\n",
       "      <td>Lieder</td>\n",
       "      <td>2013</td>\n",
       "      <td>Lieder</td>\n",
       "      <td>2010</td>\n",
       "      <td>236655</td>\n",
       "      <td>Lieder by Adel Tawil</td>\n",
       "      <td>{'year': 2013, 'month': 11, 'day': 8}</td>\n",
       "      <td>November 8, 2013</td>\n",
       "      <td>{'unreviewed_annotations': 0, 'hot': False, 'p...</td>\n",
       "      <td>Lieder Lyrics\\n\\nIch ging wie ein Ägypter\\nHab...</td>\n",
       "    </tr>\n",
       "    <tr>\n",
       "      <th>3</th>\n",
       "      <td>Pop</td>\n",
       "      <td>Adel Tawil</td>\n",
       "      <td>Lieder</td>\n",
       "      <td>2013</td>\n",
       "      <td>Weinen</td>\n",
       "      <td>2010</td>\n",
       "      <td>256745</td>\n",
       "      <td>Weinen by Adel Tawil</td>\n",
       "      <td>{'year': 2013, 'month': 11, 'day': 8}</td>\n",
       "      <td>November 8, 2013</td>\n",
       "      <td>{'unreviewed_annotations': 0, 'hot': False, 'p...</td>\n",
       "      <td>Weinen Lyrics\\n\\nDu warst die ganze Welt für m...</td>\n",
       "    </tr>\n",
       "    <tr>\n",
       "      <th>4</th>\n",
       "      <td>Pop</td>\n",
       "      <td>Adel Tawil</td>\n",
       "      <td>Lieder</td>\n",
       "      <td>2013</td>\n",
       "      <td>Unter Wasser</td>\n",
       "      <td>2010</td>\n",
       "      <td>256747</td>\n",
       "      <td>Unter Wasser by Adel Tawil</td>\n",
       "      <td>{'year': 2013, 'month': 11, 'day': 8}</td>\n",
       "      <td>November 8, 2013</td>\n",
       "      <td>{'unreviewed_annotations': 0, 'hot': False}</td>\n",
       "      <td>Unter Wasser Lyrics\\n\\nKeine Chance, es ist vi...</td>\n",
       "    </tr>\n",
       "  </tbody>\n",
       "</table>\n",
       "</div>"
      ],
      "text/plain": [
       "  genre   interpret   album  release_year       songtitle  decade  song_id  \\\n",
       "0   Pop  Adel Tawil  Lieder          2013        Immer da    2010   256740   \n",
       "1   Pop  Adel Tawil  Lieder          2013  Wenn Du liebst    2010   256742   \n",
       "2   Pop  Adel Tawil  Lieder          2013          Lieder    2010   236655   \n",
       "3   Pop  Adel Tawil  Lieder          2013          Weinen    2010   256745   \n",
       "4   Pop  Adel Tawil  Lieder          2013    Unter Wasser    2010   256747   \n",
       "\n",
       "                     full_title            release_date_components_raw  \\\n",
       "0        Immer da by Adel Tawil  {'year': 2013, 'month': 11, 'day': 8}   \n",
       "1  Wenn du liebst by Adel Tawil  {'year': 2013, 'month': 11, 'day': 8}   \n",
       "2          Lieder by Adel Tawil  {'year': 2013, 'month': 11, 'day': 8}   \n",
       "3          Weinen by Adel Tawil  {'year': 2013, 'month': 11, 'day': 8}   \n",
       "4    Unter Wasser by Adel Tawil  {'year': 2013, 'month': 11, 'day': 8}   \n",
       "\n",
       "  release_date_for_display                                          stats_raw  \\\n",
       "0         November 8, 2013        {'unreviewed_annotations': 0, 'hot': False}   \n",
       "1         November 8, 2013  {'unreviewed_annotations': 4, 'hot': False, 'p...   \n",
       "2         November 8, 2013  {'unreviewed_annotations': 0, 'hot': False, 'p...   \n",
       "3         November 8, 2013  {'unreviewed_annotations': 0, 'hot': False, 'p...   \n",
       "4         November 8, 2013        {'unreviewed_annotations': 0, 'hot': False}   \n",
       "\n",
       "                                              lyrics  \n",
       "0  Immer da Lyrics\\n\\nManchmal hast du gar nichts...  \n",
       "1  Wenn du liebst Lyrics\\nGanz allein im schwarze...  \n",
       "2  Lieder Lyrics\\n\\nIch ging wie ein Ägypter\\nHab...  \n",
       "3  Weinen Lyrics\\n\\nDu warst die ganze Welt für m...  \n",
       "4  Unter Wasser Lyrics\\n\\nKeine Chance, es ist vi...  "
      ]
     },
     "execution_count": 3,
     "metadata": {},
     "output_type": "execute_result"
    }
   ],
   "source": [
    "data.head()"
   ]
  },
  {
   "cell_type": "code",
   "execution_count": 19,
   "metadata": {},
   "outputs": [
    {
     "data": {
      "text/plain": [
       "4542"
      ]
     },
     "execution_count": 19,
     "metadata": {},
     "output_type": "execute_result"
    }
   ],
   "source": [
    "data.value_counts('genre')\n",
    "\n",
    "len(data)"
   ]
  },
  {
   "cell_type": "code",
   "execution_count": 10,
   "metadata": {},
   "outputs": [
    {
     "data": {
      "text/plain": [
       "Die Ärzte             302\n",
       "Udo Lindenberg        168\n",
       "Andrea Berg           147\n",
       "Bushido               132\n",
       "Herbert Grönemeyer    121\n",
       "                     ... \n",
       "DJ Tomekk               4\n",
       "Von wegen Lisbeth       3\n",
       "Karel Gott              2\n",
       "Guildo Horn             1\n",
       "Andreas Gabalier        1\n",
       "Name: interpret, Length: 91, dtype: int64"
      ]
     },
     "execution_count": 10,
     "metadata": {},
     "output_type": "execute_result"
    }
   ],
   "source": [
    "data.interpret.value_counts()"
   ]
  },
  {
   "cell_type": "code",
   "execution_count": 11,
   "metadata": {},
   "outputs": [
    {
     "data": {
      "text/plain": [
       "91"
      ]
     },
     "execution_count": 11,
     "metadata": {},
     "output_type": "execute_result"
    }
   ],
   "source": [
    "len(data.interpret.unique())"
   ]
  },
  {
   "cell_type": "code",
   "execution_count": 12,
   "metadata": {},
   "outputs": [
    {
     "data": {
      "text/plain": [
       "[1966, 2018]"
      ]
     },
     "execution_count": 12,
     "metadata": {},
     "output_type": "execute_result"
    }
   ],
   "source": [
    "[data.release_year.min(), data.release_year.max()]"
   ]
  },
  {
   "cell_type": "code",
   "execution_count": 13,
   "metadata": {},
   "outputs": [
    {
     "data": {
      "text/plain": [
       "array([1966, 1967, 1968, 1970, 1971, 1972, 1973, 1974, 1975, 1976, 1977,\n",
       "       1978, 1979, 1980, 1981, 1982, 1983, 1984, 1985, 1986, 1987, 1988,\n",
       "       1989, 1990, 1991, 1992, 1993, 1994, 1995, 1996, 1997, 1998, 1999,\n",
       "       2000, 2001, 2002, 2003, 2004, 2005, 2006, 2007, 2008, 2009, 2010,\n",
       "       2011, 2012, 2013, 2014, 2015, 2016, 2017, 2018])"
      ]
     },
     "execution_count": 13,
     "metadata": {},
     "output_type": "execute_result"
    }
   ],
   "source": [
    "data.release_year.sort_values().unique()"
   ]
  },
  {
   "cell_type": "code",
   "execution_count": 14,
   "metadata": {},
   "outputs": [
    {
     "data": {
      "text/html": [
       "<div>\n",
       "<style scoped>\n",
       "    .dataframe tbody tr th:only-of-type {\n",
       "        vertical-align: middle;\n",
       "    }\n",
       "\n",
       "    .dataframe tbody tr th {\n",
       "        vertical-align: top;\n",
       "    }\n",
       "\n",
       "    .dataframe thead th {\n",
       "        text-align: right;\n",
       "    }\n",
       "</style>\n",
       "<table border=\"1\" class=\"dataframe\">\n",
       "  <thead>\n",
       "    <tr style=\"text-align: right;\">\n",
       "      <th></th>\n",
       "      <th>release_year</th>\n",
       "      <th>decade</th>\n",
       "      <th>song_id</th>\n",
       "    </tr>\n",
       "  </thead>\n",
       "  <tbody>\n",
       "    <tr>\n",
       "      <th>count</th>\n",
       "      <td>4542.000000</td>\n",
       "      <td>4542.000000</td>\n",
       "      <td>4.542000e+03</td>\n",
       "    </tr>\n",
       "    <tr>\n",
       "      <th>mean</th>\n",
       "      <td>2004.669969</td>\n",
       "      <td>2000.242184</td>\n",
       "      <td>1.188238e+06</td>\n",
       "    </tr>\n",
       "    <tr>\n",
       "      <th>std</th>\n",
       "      <td>9.345956</td>\n",
       "      <td>9.885199</td>\n",
       "      <td>1.286876e+06</td>\n",
       "    </tr>\n",
       "    <tr>\n",
       "      <th>min</th>\n",
       "      <td>1966.000000</td>\n",
       "      <td>1960.000000</td>\n",
       "      <td>1.669000e+03</td>\n",
       "    </tr>\n",
       "    <tr>\n",
       "      <th>25%</th>\n",
       "      <td>2001.000000</td>\n",
       "      <td>2000.000000</td>\n",
       "      <td>3.770165e+05</td>\n",
       "    </tr>\n",
       "    <tr>\n",
       "      <th>50%</th>\n",
       "      <td>2007.000000</td>\n",
       "      <td>2000.000000</td>\n",
       "      <td>7.090190e+05</td>\n",
       "    </tr>\n",
       "    <tr>\n",
       "      <th>75%</th>\n",
       "      <td>2011.000000</td>\n",
       "      <td>2010.000000</td>\n",
       "      <td>1.631335e+06</td>\n",
       "    </tr>\n",
       "    <tr>\n",
       "      <th>max</th>\n",
       "      <td>2018.000000</td>\n",
       "      <td>2010.000000</td>\n",
       "      <td>9.004003e+06</td>\n",
       "    </tr>\n",
       "  </tbody>\n",
       "</table>\n",
       "</div>"
      ],
      "text/plain": [
       "       release_year       decade       song_id\n",
       "count   4542.000000  4542.000000  4.542000e+03\n",
       "mean    2004.669969  2000.242184  1.188238e+06\n",
       "std        9.345956     9.885199  1.286876e+06\n",
       "min     1966.000000  1960.000000  1.669000e+03\n",
       "25%     2001.000000  2000.000000  3.770165e+05\n",
       "50%     2007.000000  2000.000000  7.090190e+05\n",
       "75%     2011.000000  2010.000000  1.631335e+06\n",
       "max     2018.000000  2010.000000  9.004003e+06"
      ]
     },
     "execution_count": 14,
     "metadata": {},
     "output_type": "execute_result"
    }
   ],
   "source": [
    "data.describe()"
   ]
  },
  {
   "cell_type": "code",
   "execution_count": 15,
   "metadata": {},
   "outputs": [],
   "source": [
    "pd.options.plotting.backend = \"plotly\""
   ]
  },
  {
   "cell_type": "code",
   "execution_count": 16,
   "metadata": {},
   "outputs": [],
   "source": [
    "release_year_fig = data.release_year.value_counts().sort_index().plot(kind='bar', title='Release Year')"
   ]
  },
  {
   "cell_type": "code",
   "execution_count": 17,
   "metadata": {},
   "outputs": [
    {
     "data": {
      "application/vnd.plotly.v1+json": {
       "config": {
        "plotlyServerURL": "https://plot.ly"
       },
       "data": [
        {
         "alignmentgroup": "True",
         "hovertemplate": "variable=release_year<br>index=%{x}<br>value=%{y}<extra></extra>",
         "legendgroup": "release_year",
         "marker": {
          "color": "#636efa",
          "pattern": {
           "shape": ""
          }
         },
         "name": "release_year",
         "offsetgroup": "release_year",
         "orientation": "v",
         "showlegend": true,
         "textposition": "auto",
         "type": "bar",
         "x": [
          1966,
          1967,
          1968,
          1970,
          1971,
          1972,
          1973,
          1974,
          1975,
          1976,
          1977,
          1978,
          1979,
          1980,
          1981,
          1982,
          1983,
          1984,
          1985,
          1986,
          1987,
          1988,
          1989,
          1990,
          1991,
          1992,
          1993,
          1994,
          1995,
          1996,
          1997,
          1998,
          1999,
          2000,
          2001,
          2002,
          2003,
          2004,
          2005,
          2006,
          2007,
          2008,
          2009,
          2010,
          2011,
          2012,
          2013,
          2014,
          2015,
          2016,
          2017,
          2018
         ],
         "xaxis": "x",
         "y": [
          3,
          3,
          3,
          1,
          2,
          3,
          17,
          5,
          17,
          25,
          9,
          7,
          16,
          10,
          15,
          15,
          51,
          32,
          39,
          41,
          22,
          47,
          38,
          14,
          29,
          37,
          56,
          44,
          104,
          65,
          43,
          121,
          20,
          116,
          132,
          108,
          163,
          143,
          223,
          399,
          216,
          292,
          191,
          249,
          297,
          248,
          236,
          229,
          122,
          131,
          16,
          77
         ],
         "yaxis": "y"
        }
       ],
       "layout": {
        "barmode": "relative",
        "legend": {
         "title": {
          "text": "variable"
         },
         "tracegroupgap": 0
        },
        "template": {
         "data": {
          "bar": [
           {
            "error_x": {
             "color": "#2a3f5f"
            },
            "error_y": {
             "color": "#2a3f5f"
            },
            "marker": {
             "line": {
              "color": "#E5ECF6",
              "width": 0.5
             },
             "pattern": {
              "fillmode": "overlay",
              "size": 10,
              "solidity": 0.2
             }
            },
            "type": "bar"
           }
          ],
          "barpolar": [
           {
            "marker": {
             "line": {
              "color": "#E5ECF6",
              "width": 0.5
             },
             "pattern": {
              "fillmode": "overlay",
              "size": 10,
              "solidity": 0.2
             }
            },
            "type": "barpolar"
           }
          ],
          "carpet": [
           {
            "aaxis": {
             "endlinecolor": "#2a3f5f",
             "gridcolor": "white",
             "linecolor": "white",
             "minorgridcolor": "white",
             "startlinecolor": "#2a3f5f"
            },
            "baxis": {
             "endlinecolor": "#2a3f5f",
             "gridcolor": "white",
             "linecolor": "white",
             "minorgridcolor": "white",
             "startlinecolor": "#2a3f5f"
            },
            "type": "carpet"
           }
          ],
          "choropleth": [
           {
            "colorbar": {
             "outlinewidth": 0,
             "ticks": ""
            },
            "type": "choropleth"
           }
          ],
          "contour": [
           {
            "colorbar": {
             "outlinewidth": 0,
             "ticks": ""
            },
            "colorscale": [
             [
              0,
              "#0d0887"
             ],
             [
              0.1111111111111111,
              "#46039f"
             ],
             [
              0.2222222222222222,
              "#7201a8"
             ],
             [
              0.3333333333333333,
              "#9c179e"
             ],
             [
              0.4444444444444444,
              "#bd3786"
             ],
             [
              0.5555555555555556,
              "#d8576b"
             ],
             [
              0.6666666666666666,
              "#ed7953"
             ],
             [
              0.7777777777777778,
              "#fb9f3a"
             ],
             [
              0.8888888888888888,
              "#fdca26"
             ],
             [
              1,
              "#f0f921"
             ]
            ],
            "type": "contour"
           }
          ],
          "contourcarpet": [
           {
            "colorbar": {
             "outlinewidth": 0,
             "ticks": ""
            },
            "type": "contourcarpet"
           }
          ],
          "heatmap": [
           {
            "colorbar": {
             "outlinewidth": 0,
             "ticks": ""
            },
            "colorscale": [
             [
              0,
              "#0d0887"
             ],
             [
              0.1111111111111111,
              "#46039f"
             ],
             [
              0.2222222222222222,
              "#7201a8"
             ],
             [
              0.3333333333333333,
              "#9c179e"
             ],
             [
              0.4444444444444444,
              "#bd3786"
             ],
             [
              0.5555555555555556,
              "#d8576b"
             ],
             [
              0.6666666666666666,
              "#ed7953"
             ],
             [
              0.7777777777777778,
              "#fb9f3a"
             ],
             [
              0.8888888888888888,
              "#fdca26"
             ],
             [
              1,
              "#f0f921"
             ]
            ],
            "type": "heatmap"
           }
          ],
          "heatmapgl": [
           {
            "colorbar": {
             "outlinewidth": 0,
             "ticks": ""
            },
            "colorscale": [
             [
              0,
              "#0d0887"
             ],
             [
              0.1111111111111111,
              "#46039f"
             ],
             [
              0.2222222222222222,
              "#7201a8"
             ],
             [
              0.3333333333333333,
              "#9c179e"
             ],
             [
              0.4444444444444444,
              "#bd3786"
             ],
             [
              0.5555555555555556,
              "#d8576b"
             ],
             [
              0.6666666666666666,
              "#ed7953"
             ],
             [
              0.7777777777777778,
              "#fb9f3a"
             ],
             [
              0.8888888888888888,
              "#fdca26"
             ],
             [
              1,
              "#f0f921"
             ]
            ],
            "type": "heatmapgl"
           }
          ],
          "histogram": [
           {
            "marker": {
             "pattern": {
              "fillmode": "overlay",
              "size": 10,
              "solidity": 0.2
             }
            },
            "type": "histogram"
           }
          ],
          "histogram2d": [
           {
            "colorbar": {
             "outlinewidth": 0,
             "ticks": ""
            },
            "colorscale": [
             [
              0,
              "#0d0887"
             ],
             [
              0.1111111111111111,
              "#46039f"
             ],
             [
              0.2222222222222222,
              "#7201a8"
             ],
             [
              0.3333333333333333,
              "#9c179e"
             ],
             [
              0.4444444444444444,
              "#bd3786"
             ],
             [
              0.5555555555555556,
              "#d8576b"
             ],
             [
              0.6666666666666666,
              "#ed7953"
             ],
             [
              0.7777777777777778,
              "#fb9f3a"
             ],
             [
              0.8888888888888888,
              "#fdca26"
             ],
             [
              1,
              "#f0f921"
             ]
            ],
            "type": "histogram2d"
           }
          ],
          "histogram2dcontour": [
           {
            "colorbar": {
             "outlinewidth": 0,
             "ticks": ""
            },
            "colorscale": [
             [
              0,
              "#0d0887"
             ],
             [
              0.1111111111111111,
              "#46039f"
             ],
             [
              0.2222222222222222,
              "#7201a8"
             ],
             [
              0.3333333333333333,
              "#9c179e"
             ],
             [
              0.4444444444444444,
              "#bd3786"
             ],
             [
              0.5555555555555556,
              "#d8576b"
             ],
             [
              0.6666666666666666,
              "#ed7953"
             ],
             [
              0.7777777777777778,
              "#fb9f3a"
             ],
             [
              0.8888888888888888,
              "#fdca26"
             ],
             [
              1,
              "#f0f921"
             ]
            ],
            "type": "histogram2dcontour"
           }
          ],
          "mesh3d": [
           {
            "colorbar": {
             "outlinewidth": 0,
             "ticks": ""
            },
            "type": "mesh3d"
           }
          ],
          "parcoords": [
           {
            "line": {
             "colorbar": {
              "outlinewidth": 0,
              "ticks": ""
             }
            },
            "type": "parcoords"
           }
          ],
          "pie": [
           {
            "automargin": true,
            "type": "pie"
           }
          ],
          "scatter": [
           {
            "fillpattern": {
             "fillmode": "overlay",
             "size": 10,
             "solidity": 0.2
            },
            "type": "scatter"
           }
          ],
          "scatter3d": [
           {
            "line": {
             "colorbar": {
              "outlinewidth": 0,
              "ticks": ""
             }
            },
            "marker": {
             "colorbar": {
              "outlinewidth": 0,
              "ticks": ""
             }
            },
            "type": "scatter3d"
           }
          ],
          "scattercarpet": [
           {
            "marker": {
             "colorbar": {
              "outlinewidth": 0,
              "ticks": ""
             }
            },
            "type": "scattercarpet"
           }
          ],
          "scattergeo": [
           {
            "marker": {
             "colorbar": {
              "outlinewidth": 0,
              "ticks": ""
             }
            },
            "type": "scattergeo"
           }
          ],
          "scattergl": [
           {
            "marker": {
             "colorbar": {
              "outlinewidth": 0,
              "ticks": ""
             }
            },
            "type": "scattergl"
           }
          ],
          "scattermapbox": [
           {
            "marker": {
             "colorbar": {
              "outlinewidth": 0,
              "ticks": ""
             }
            },
            "type": "scattermapbox"
           }
          ],
          "scatterpolar": [
           {
            "marker": {
             "colorbar": {
              "outlinewidth": 0,
              "ticks": ""
             }
            },
            "type": "scatterpolar"
           }
          ],
          "scatterpolargl": [
           {
            "marker": {
             "colorbar": {
              "outlinewidth": 0,
              "ticks": ""
             }
            },
            "type": "scatterpolargl"
           }
          ],
          "scatterternary": [
           {
            "marker": {
             "colorbar": {
              "outlinewidth": 0,
              "ticks": ""
             }
            },
            "type": "scatterternary"
           }
          ],
          "surface": [
           {
            "colorbar": {
             "outlinewidth": 0,
             "ticks": ""
            },
            "colorscale": [
             [
              0,
              "#0d0887"
             ],
             [
              0.1111111111111111,
              "#46039f"
             ],
             [
              0.2222222222222222,
              "#7201a8"
             ],
             [
              0.3333333333333333,
              "#9c179e"
             ],
             [
              0.4444444444444444,
              "#bd3786"
             ],
             [
              0.5555555555555556,
              "#d8576b"
             ],
             [
              0.6666666666666666,
              "#ed7953"
             ],
             [
              0.7777777777777778,
              "#fb9f3a"
             ],
             [
              0.8888888888888888,
              "#fdca26"
             ],
             [
              1,
              "#f0f921"
             ]
            ],
            "type": "surface"
           }
          ],
          "table": [
           {
            "cells": {
             "fill": {
              "color": "#EBF0F8"
             },
             "line": {
              "color": "white"
             }
            },
            "header": {
             "fill": {
              "color": "#C8D4E3"
             },
             "line": {
              "color": "white"
             }
            },
            "type": "table"
           }
          ]
         },
         "layout": {
          "annotationdefaults": {
           "arrowcolor": "#2a3f5f",
           "arrowhead": 0,
           "arrowwidth": 1
          },
          "autotypenumbers": "strict",
          "coloraxis": {
           "colorbar": {
            "outlinewidth": 0,
            "ticks": ""
           }
          },
          "colorscale": {
           "diverging": [
            [
             0,
             "#8e0152"
            ],
            [
             0.1,
             "#c51b7d"
            ],
            [
             0.2,
             "#de77ae"
            ],
            [
             0.3,
             "#f1b6da"
            ],
            [
             0.4,
             "#fde0ef"
            ],
            [
             0.5,
             "#f7f7f7"
            ],
            [
             0.6,
             "#e6f5d0"
            ],
            [
             0.7,
             "#b8e186"
            ],
            [
             0.8,
             "#7fbc41"
            ],
            [
             0.9,
             "#4d9221"
            ],
            [
             1,
             "#276419"
            ]
           ],
           "sequential": [
            [
             0,
             "#0d0887"
            ],
            [
             0.1111111111111111,
             "#46039f"
            ],
            [
             0.2222222222222222,
             "#7201a8"
            ],
            [
             0.3333333333333333,
             "#9c179e"
            ],
            [
             0.4444444444444444,
             "#bd3786"
            ],
            [
             0.5555555555555556,
             "#d8576b"
            ],
            [
             0.6666666666666666,
             "#ed7953"
            ],
            [
             0.7777777777777778,
             "#fb9f3a"
            ],
            [
             0.8888888888888888,
             "#fdca26"
            ],
            [
             1,
             "#f0f921"
            ]
           ],
           "sequentialminus": [
            [
             0,
             "#0d0887"
            ],
            [
             0.1111111111111111,
             "#46039f"
            ],
            [
             0.2222222222222222,
             "#7201a8"
            ],
            [
             0.3333333333333333,
             "#9c179e"
            ],
            [
             0.4444444444444444,
             "#bd3786"
            ],
            [
             0.5555555555555556,
             "#d8576b"
            ],
            [
             0.6666666666666666,
             "#ed7953"
            ],
            [
             0.7777777777777778,
             "#fb9f3a"
            ],
            [
             0.8888888888888888,
             "#fdca26"
            ],
            [
             1,
             "#f0f921"
            ]
           ]
          },
          "colorway": [
           "#636efa",
           "#EF553B",
           "#00cc96",
           "#ab63fa",
           "#FFA15A",
           "#19d3f3",
           "#FF6692",
           "#B6E880",
           "#FF97FF",
           "#FECB52"
          ],
          "font": {
           "color": "#2a3f5f"
          },
          "geo": {
           "bgcolor": "white",
           "lakecolor": "white",
           "landcolor": "#E5ECF6",
           "showlakes": true,
           "showland": true,
           "subunitcolor": "white"
          },
          "hoverlabel": {
           "align": "left"
          },
          "hovermode": "closest",
          "mapbox": {
           "style": "light"
          },
          "paper_bgcolor": "white",
          "plot_bgcolor": "#E5ECF6",
          "polar": {
           "angularaxis": {
            "gridcolor": "white",
            "linecolor": "white",
            "ticks": ""
           },
           "bgcolor": "#E5ECF6",
           "radialaxis": {
            "gridcolor": "white",
            "linecolor": "white",
            "ticks": ""
           }
          },
          "scene": {
           "xaxis": {
            "backgroundcolor": "#E5ECF6",
            "gridcolor": "white",
            "gridwidth": 2,
            "linecolor": "white",
            "showbackground": true,
            "ticks": "",
            "zerolinecolor": "white"
           },
           "yaxis": {
            "backgroundcolor": "#E5ECF6",
            "gridcolor": "white",
            "gridwidth": 2,
            "linecolor": "white",
            "showbackground": true,
            "ticks": "",
            "zerolinecolor": "white"
           },
           "zaxis": {
            "backgroundcolor": "#E5ECF6",
            "gridcolor": "white",
            "gridwidth": 2,
            "linecolor": "white",
            "showbackground": true,
            "ticks": "",
            "zerolinecolor": "white"
           }
          },
          "shapedefaults": {
           "line": {
            "color": "#2a3f5f"
           }
          },
          "ternary": {
           "aaxis": {
            "gridcolor": "white",
            "linecolor": "white",
            "ticks": ""
           },
           "baxis": {
            "gridcolor": "white",
            "linecolor": "white",
            "ticks": ""
           },
           "bgcolor": "#E5ECF6",
           "caxis": {
            "gridcolor": "white",
            "linecolor": "white",
            "ticks": ""
           }
          },
          "title": {
           "x": 0.05
          },
          "xaxis": {
           "automargin": true,
           "gridcolor": "white",
           "linecolor": "white",
           "ticks": "",
           "title": {
            "standoff": 15
           },
           "zerolinecolor": "white",
           "zerolinewidth": 2
          },
          "yaxis": {
           "automargin": true,
           "gridcolor": "white",
           "linecolor": "white",
           "ticks": "",
           "title": {
            "standoff": 15
           },
           "zerolinecolor": "white",
           "zerolinewidth": 2
          }
         }
        },
        "title": {
         "text": "Release Year"
        },
        "xaxis": {
         "anchor": "y",
         "domain": [
          0,
          1
         ],
         "title": {
          "text": "index"
         }
        },
        "yaxis": {
         "anchor": "x",
         "domain": [
          0,
          1
         ],
         "title": {
          "text": "value"
         }
        }
       }
      }
     },
     "metadata": {},
     "output_type": "display_data"
    }
   ],
   "source": [
    "release_year_fig.show()"
   ]
  },
  {
   "cell_type": "code",
   "execution_count": 18,
   "metadata": {},
   "outputs": [
    {
     "data": {
      "text/html": [
       "<div>\n",
       "<style scoped>\n",
       "    .dataframe tbody tr th:only-of-type {\n",
       "        vertical-align: middle;\n",
       "    }\n",
       "\n",
       "    .dataframe tbody tr th {\n",
       "        vertical-align: top;\n",
       "    }\n",
       "\n",
       "    .dataframe thead th {\n",
       "        text-align: right;\n",
       "    }\n",
       "</style>\n",
       "<table border=\"1\" class=\"dataframe\">\n",
       "  <thead>\n",
       "    <tr style=\"text-align: right;\">\n",
       "      <th>genre</th>\n",
       "      <th>Pop</th>\n",
       "      <th>Rap</th>\n",
       "      <th>Rock</th>\n",
       "      <th>Schlager</th>\n",
       "    </tr>\n",
       "    <tr>\n",
       "      <th>release_year</th>\n",
       "      <th></th>\n",
       "      <th></th>\n",
       "      <th></th>\n",
       "      <th></th>\n",
       "    </tr>\n",
       "  </thead>\n",
       "  <tbody>\n",
       "    <tr>\n",
       "      <th>1966</th>\n",
       "      <td>0</td>\n",
       "      <td>0</td>\n",
       "      <td>0</td>\n",
       "      <td>3</td>\n",
       "    </tr>\n",
       "    <tr>\n",
       "      <th>1967</th>\n",
       "      <td>0</td>\n",
       "      <td>0</td>\n",
       "      <td>0</td>\n",
       "      <td>3</td>\n",
       "    </tr>\n",
       "    <tr>\n",
       "      <th>1968</th>\n",
       "      <td>0</td>\n",
       "      <td>0</td>\n",
       "      <td>0</td>\n",
       "      <td>3</td>\n",
       "    </tr>\n",
       "    <tr>\n",
       "      <th>1970</th>\n",
       "      <td>0</td>\n",
       "      <td>0</td>\n",
       "      <td>0</td>\n",
       "      <td>1</td>\n",
       "    </tr>\n",
       "    <tr>\n",
       "      <th>1971</th>\n",
       "      <td>0</td>\n",
       "      <td>0</td>\n",
       "      <td>0</td>\n",
       "      <td>2</td>\n",
       "    </tr>\n",
       "    <tr>\n",
       "      <th>1972</th>\n",
       "      <td>0</td>\n",
       "      <td>0</td>\n",
       "      <td>0</td>\n",
       "      <td>3</td>\n",
       "    </tr>\n",
       "    <tr>\n",
       "      <th>1973</th>\n",
       "      <td>0</td>\n",
       "      <td>0</td>\n",
       "      <td>15</td>\n",
       "      <td>2</td>\n",
       "    </tr>\n",
       "    <tr>\n",
       "      <th>1974</th>\n",
       "      <td>0</td>\n",
       "      <td>0</td>\n",
       "      <td>0</td>\n",
       "      <td>5</td>\n",
       "    </tr>\n",
       "    <tr>\n",
       "      <th>1975</th>\n",
       "      <td>0</td>\n",
       "      <td>0</td>\n",
       "      <td>11</td>\n",
       "      <td>6</td>\n",
       "    </tr>\n",
       "    <tr>\n",
       "      <th>1976</th>\n",
       "      <td>0</td>\n",
       "      <td>0</td>\n",
       "      <td>16</td>\n",
       "      <td>9</td>\n",
       "    </tr>\n",
       "  </tbody>\n",
       "</table>\n",
       "</div>"
      ],
      "text/plain": [
       "genre         Pop  Rap  Rock  Schlager\n",
       "release_year                          \n",
       "1966            0    0     0         3\n",
       "1967            0    0     0         3\n",
       "1968            0    0     0         3\n",
       "1970            0    0     0         1\n",
       "1971            0    0     0         2\n",
       "1972            0    0     0         3\n",
       "1973            0    0    15         2\n",
       "1974            0    0     0         5\n",
       "1975            0    0    11         6\n",
       "1976            0    0    16         9"
      ]
     },
     "execution_count": 18,
     "metadata": {},
     "output_type": "execute_result"
    }
   ],
   "source": [
    "genre_pivot = data.pivot_table(index='release_year', columns='genre', aggfunc='size', fill_value=0)\n",
    "genre_pivot.head(n=10)"
   ]
  },
  {
   "cell_type": "code",
   "execution_count": 21,
   "metadata": {},
   "outputs": [
    {
     "data": {
      "application/vnd.plotly.v1+json": {
       "config": {
        "plotlyServerURL": "https://plot.ly"
       },
       "data": [
        {
         "alignmentgroup": "True",
         "hovertemplate": "genre=Pop<br>release_year=%{x}<br>value=%{y}<extra></extra>",
         "legendgroup": "Pop",
         "marker": {
          "color": "#636efa",
          "pattern": {
           "shape": ""
          }
         },
         "name": "Pop",
         "offsetgroup": "Pop",
         "orientation": "v",
         "showlegend": true,
         "textposition": "auto",
         "type": "bar",
         "x": [
          1966,
          1967,
          1968,
          1970,
          1971,
          1972,
          1973,
          1974,
          1975,
          1976,
          1977,
          1978,
          1979,
          1980,
          1981,
          1982,
          1983,
          1984,
          1985,
          1986,
          1987,
          1988,
          1989,
          1990,
          1991,
          1992,
          1993,
          1994,
          1995,
          1996,
          1997,
          1998,
          1999,
          2000,
          2001,
          2002,
          2003,
          2004,
          2005,
          2006,
          2007,
          2008,
          2009,
          2010,
          2011,
          2012,
          2013,
          2014,
          2015,
          2016,
          2017,
          2018
         ],
         "xaxis": "x",
         "y": [
          0,
          0,
          0,
          0,
          0,
          0,
          0,
          0,
          0,
          0,
          0,
          0,
          10,
          10,
          0,
          7,
          28,
          10,
          18,
          20,
          8,
          0,
          0,
          12,
          16,
          9,
          10,
          13,
          11,
          14,
          0,
          12,
          0,
          12,
          13,
          33,
          40,
          55,
          64,
          79,
          51,
          69,
          41,
          55,
          63,
          72,
          50,
          92,
          52,
          35,
          4,
          37
         ],
         "yaxis": "y"
        },
        {
         "alignmentgroup": "True",
         "hovertemplate": "genre=Rap<br>release_year=%{x}<br>value=%{y}<extra></extra>",
         "legendgroup": "Rap",
         "marker": {
          "color": "#EF553B",
          "pattern": {
           "shape": ""
          }
         },
         "name": "Rap",
         "offsetgroup": "Rap",
         "orientation": "v",
         "showlegend": true,
         "textposition": "auto",
         "type": "bar",
         "x": [
          1966,
          1967,
          1968,
          1970,
          1971,
          1972,
          1973,
          1974,
          1975,
          1976,
          1977,
          1978,
          1979,
          1980,
          1981,
          1982,
          1983,
          1984,
          1985,
          1986,
          1987,
          1988,
          1989,
          1990,
          1991,
          1992,
          1993,
          1994,
          1995,
          1996,
          1997,
          1998,
          1999,
          2000,
          2001,
          2002,
          2003,
          2004,
          2005,
          2006,
          2007,
          2008,
          2009,
          2010,
          2011,
          2012,
          2013,
          2014,
          2015,
          2016,
          2017,
          2018
         ],
         "xaxis": "x",
         "y": [
          0,
          0,
          0,
          0,
          0,
          0,
          0,
          0,
          0,
          0,
          0,
          0,
          0,
          0,
          0,
          0,
          0,
          0,
          0,
          0,
          0,
          0,
          0,
          0,
          0,
          16,
          0,
          0,
          29,
          10,
          0,
          32,
          20,
          27,
          45,
          27,
          50,
          48,
          93,
          150,
          66,
          98,
          83,
          127,
          149,
          145,
          104,
          84,
          50,
          56,
          12,
          23
         ],
         "yaxis": "y"
        },
        {
         "alignmentgroup": "True",
         "hovertemplate": "genre=Rock<br>release_year=%{x}<br>value=%{y}<extra></extra>",
         "legendgroup": "Rock",
         "marker": {
          "color": "#00cc96",
          "pattern": {
           "shape": ""
          }
         },
         "name": "Rock",
         "offsetgroup": "Rock",
         "orientation": "v",
         "showlegend": true,
         "textposition": "auto",
         "type": "bar",
         "x": [
          1966,
          1967,
          1968,
          1970,
          1971,
          1972,
          1973,
          1974,
          1975,
          1976,
          1977,
          1978,
          1979,
          1980,
          1981,
          1982,
          1983,
          1984,
          1985,
          1986,
          1987,
          1988,
          1989,
          1990,
          1991,
          1992,
          1993,
          1994,
          1995,
          1996,
          1997,
          1998,
          1999,
          2000,
          2001,
          2002,
          2003,
          2004,
          2005,
          2006,
          2007,
          2008,
          2009,
          2010,
          2011,
          2012,
          2013,
          2014,
          2015,
          2016,
          2017,
          2018
         ],
         "xaxis": "x",
         "y": [
          0,
          0,
          0,
          0,
          0,
          0,
          15,
          0,
          11,
          16,
          9,
          0,
          0,
          0,
          0,
          0,
          11,
          10,
          9,
          13,
          14,
          47,
          20,
          0,
          0,
          12,
          29,
          23,
          33,
          24,
          19,
          52,
          0,
          56,
          53,
          35,
          46,
          28,
          54,
          129,
          62,
          87,
          44,
          55,
          45,
          31,
          41,
          52,
          20,
          40,
          0,
          17
         ],
         "yaxis": "y"
        },
        {
         "alignmentgroup": "True",
         "hovertemplate": "genre=Schlager<br>release_year=%{x}<br>value=%{y}<extra></extra>",
         "legendgroup": "Schlager",
         "marker": {
          "color": "#ab63fa",
          "pattern": {
           "shape": ""
          }
         },
         "name": "Schlager",
         "offsetgroup": "Schlager",
         "orientation": "v",
         "showlegend": true,
         "textposition": "auto",
         "type": "bar",
         "x": [
          1966,
          1967,
          1968,
          1970,
          1971,
          1972,
          1973,
          1974,
          1975,
          1976,
          1977,
          1978,
          1979,
          1980,
          1981,
          1982,
          1983,
          1984,
          1985,
          1986,
          1987,
          1988,
          1989,
          1990,
          1991,
          1992,
          1993,
          1994,
          1995,
          1996,
          1997,
          1998,
          1999,
          2000,
          2001,
          2002,
          2003,
          2004,
          2005,
          2006,
          2007,
          2008,
          2009,
          2010,
          2011,
          2012,
          2013,
          2014,
          2015,
          2016,
          2017,
          2018
         ],
         "xaxis": "x",
         "y": [
          3,
          3,
          3,
          1,
          2,
          3,
          2,
          5,
          6,
          9,
          0,
          7,
          6,
          0,
          15,
          8,
          12,
          12,
          12,
          8,
          0,
          0,
          18,
          2,
          13,
          0,
          17,
          8,
          31,
          17,
          24,
          25,
          0,
          21,
          21,
          13,
          27,
          12,
          12,
          41,
          37,
          38,
          23,
          12,
          40,
          0,
          41,
          1,
          0,
          0,
          0,
          0
         ],
         "yaxis": "y"
        }
       ],
       "layout": {
        "barmode": "group",
        "legend": {
         "title": {
          "text": "genre"
         },
         "tracegroupgap": 0
        },
        "template": {
         "data": {
          "bar": [
           {
            "error_x": {
             "color": "#2a3f5f"
            },
            "error_y": {
             "color": "#2a3f5f"
            },
            "marker": {
             "line": {
              "color": "#E5ECF6",
              "width": 0.5
             },
             "pattern": {
              "fillmode": "overlay",
              "size": 10,
              "solidity": 0.2
             }
            },
            "type": "bar"
           }
          ],
          "barpolar": [
           {
            "marker": {
             "line": {
              "color": "#E5ECF6",
              "width": 0.5
             },
             "pattern": {
              "fillmode": "overlay",
              "size": 10,
              "solidity": 0.2
             }
            },
            "type": "barpolar"
           }
          ],
          "carpet": [
           {
            "aaxis": {
             "endlinecolor": "#2a3f5f",
             "gridcolor": "white",
             "linecolor": "white",
             "minorgridcolor": "white",
             "startlinecolor": "#2a3f5f"
            },
            "baxis": {
             "endlinecolor": "#2a3f5f",
             "gridcolor": "white",
             "linecolor": "white",
             "minorgridcolor": "white",
             "startlinecolor": "#2a3f5f"
            },
            "type": "carpet"
           }
          ],
          "choropleth": [
           {
            "colorbar": {
             "outlinewidth": 0,
             "ticks": ""
            },
            "type": "choropleth"
           }
          ],
          "contour": [
           {
            "colorbar": {
             "outlinewidth": 0,
             "ticks": ""
            },
            "colorscale": [
             [
              0,
              "#0d0887"
             ],
             [
              0.1111111111111111,
              "#46039f"
             ],
             [
              0.2222222222222222,
              "#7201a8"
             ],
             [
              0.3333333333333333,
              "#9c179e"
             ],
             [
              0.4444444444444444,
              "#bd3786"
             ],
             [
              0.5555555555555556,
              "#d8576b"
             ],
             [
              0.6666666666666666,
              "#ed7953"
             ],
             [
              0.7777777777777778,
              "#fb9f3a"
             ],
             [
              0.8888888888888888,
              "#fdca26"
             ],
             [
              1,
              "#f0f921"
             ]
            ],
            "type": "contour"
           }
          ],
          "contourcarpet": [
           {
            "colorbar": {
             "outlinewidth": 0,
             "ticks": ""
            },
            "type": "contourcarpet"
           }
          ],
          "heatmap": [
           {
            "colorbar": {
             "outlinewidth": 0,
             "ticks": ""
            },
            "colorscale": [
             [
              0,
              "#0d0887"
             ],
             [
              0.1111111111111111,
              "#46039f"
             ],
             [
              0.2222222222222222,
              "#7201a8"
             ],
             [
              0.3333333333333333,
              "#9c179e"
             ],
             [
              0.4444444444444444,
              "#bd3786"
             ],
             [
              0.5555555555555556,
              "#d8576b"
             ],
             [
              0.6666666666666666,
              "#ed7953"
             ],
             [
              0.7777777777777778,
              "#fb9f3a"
             ],
             [
              0.8888888888888888,
              "#fdca26"
             ],
             [
              1,
              "#f0f921"
             ]
            ],
            "type": "heatmap"
           }
          ],
          "heatmapgl": [
           {
            "colorbar": {
             "outlinewidth": 0,
             "ticks": ""
            },
            "colorscale": [
             [
              0,
              "#0d0887"
             ],
             [
              0.1111111111111111,
              "#46039f"
             ],
             [
              0.2222222222222222,
              "#7201a8"
             ],
             [
              0.3333333333333333,
              "#9c179e"
             ],
             [
              0.4444444444444444,
              "#bd3786"
             ],
             [
              0.5555555555555556,
              "#d8576b"
             ],
             [
              0.6666666666666666,
              "#ed7953"
             ],
             [
              0.7777777777777778,
              "#fb9f3a"
             ],
             [
              0.8888888888888888,
              "#fdca26"
             ],
             [
              1,
              "#f0f921"
             ]
            ],
            "type": "heatmapgl"
           }
          ],
          "histogram": [
           {
            "marker": {
             "pattern": {
              "fillmode": "overlay",
              "size": 10,
              "solidity": 0.2
             }
            },
            "type": "histogram"
           }
          ],
          "histogram2d": [
           {
            "colorbar": {
             "outlinewidth": 0,
             "ticks": ""
            },
            "colorscale": [
             [
              0,
              "#0d0887"
             ],
             [
              0.1111111111111111,
              "#46039f"
             ],
             [
              0.2222222222222222,
              "#7201a8"
             ],
             [
              0.3333333333333333,
              "#9c179e"
             ],
             [
              0.4444444444444444,
              "#bd3786"
             ],
             [
              0.5555555555555556,
              "#d8576b"
             ],
             [
              0.6666666666666666,
              "#ed7953"
             ],
             [
              0.7777777777777778,
              "#fb9f3a"
             ],
             [
              0.8888888888888888,
              "#fdca26"
             ],
             [
              1,
              "#f0f921"
             ]
            ],
            "type": "histogram2d"
           }
          ],
          "histogram2dcontour": [
           {
            "colorbar": {
             "outlinewidth": 0,
             "ticks": ""
            },
            "colorscale": [
             [
              0,
              "#0d0887"
             ],
             [
              0.1111111111111111,
              "#46039f"
             ],
             [
              0.2222222222222222,
              "#7201a8"
             ],
             [
              0.3333333333333333,
              "#9c179e"
             ],
             [
              0.4444444444444444,
              "#bd3786"
             ],
             [
              0.5555555555555556,
              "#d8576b"
             ],
             [
              0.6666666666666666,
              "#ed7953"
             ],
             [
              0.7777777777777778,
              "#fb9f3a"
             ],
             [
              0.8888888888888888,
              "#fdca26"
             ],
             [
              1,
              "#f0f921"
             ]
            ],
            "type": "histogram2dcontour"
           }
          ],
          "mesh3d": [
           {
            "colorbar": {
             "outlinewidth": 0,
             "ticks": ""
            },
            "type": "mesh3d"
           }
          ],
          "parcoords": [
           {
            "line": {
             "colorbar": {
              "outlinewidth": 0,
              "ticks": ""
             }
            },
            "type": "parcoords"
           }
          ],
          "pie": [
           {
            "automargin": true,
            "type": "pie"
           }
          ],
          "scatter": [
           {
            "fillpattern": {
             "fillmode": "overlay",
             "size": 10,
             "solidity": 0.2
            },
            "type": "scatter"
           }
          ],
          "scatter3d": [
           {
            "line": {
             "colorbar": {
              "outlinewidth": 0,
              "ticks": ""
             }
            },
            "marker": {
             "colorbar": {
              "outlinewidth": 0,
              "ticks": ""
             }
            },
            "type": "scatter3d"
           }
          ],
          "scattercarpet": [
           {
            "marker": {
             "colorbar": {
              "outlinewidth": 0,
              "ticks": ""
             }
            },
            "type": "scattercarpet"
           }
          ],
          "scattergeo": [
           {
            "marker": {
             "colorbar": {
              "outlinewidth": 0,
              "ticks": ""
             }
            },
            "type": "scattergeo"
           }
          ],
          "scattergl": [
           {
            "marker": {
             "colorbar": {
              "outlinewidth": 0,
              "ticks": ""
             }
            },
            "type": "scattergl"
           }
          ],
          "scattermapbox": [
           {
            "marker": {
             "colorbar": {
              "outlinewidth": 0,
              "ticks": ""
             }
            },
            "type": "scattermapbox"
           }
          ],
          "scatterpolar": [
           {
            "marker": {
             "colorbar": {
              "outlinewidth": 0,
              "ticks": ""
             }
            },
            "type": "scatterpolar"
           }
          ],
          "scatterpolargl": [
           {
            "marker": {
             "colorbar": {
              "outlinewidth": 0,
              "ticks": ""
             }
            },
            "type": "scatterpolargl"
           }
          ],
          "scatterternary": [
           {
            "marker": {
             "colorbar": {
              "outlinewidth": 0,
              "ticks": ""
             }
            },
            "type": "scatterternary"
           }
          ],
          "surface": [
           {
            "colorbar": {
             "outlinewidth": 0,
             "ticks": ""
            },
            "colorscale": [
             [
              0,
              "#0d0887"
             ],
             [
              0.1111111111111111,
              "#46039f"
             ],
             [
              0.2222222222222222,
              "#7201a8"
             ],
             [
              0.3333333333333333,
              "#9c179e"
             ],
             [
              0.4444444444444444,
              "#bd3786"
             ],
             [
              0.5555555555555556,
              "#d8576b"
             ],
             [
              0.6666666666666666,
              "#ed7953"
             ],
             [
              0.7777777777777778,
              "#fb9f3a"
             ],
             [
              0.8888888888888888,
              "#fdca26"
             ],
             [
              1,
              "#f0f921"
             ]
            ],
            "type": "surface"
           }
          ],
          "table": [
           {
            "cells": {
             "fill": {
              "color": "#EBF0F8"
             },
             "line": {
              "color": "white"
             }
            },
            "header": {
             "fill": {
              "color": "#C8D4E3"
             },
             "line": {
              "color": "white"
             }
            },
            "type": "table"
           }
          ]
         },
         "layout": {
          "annotationdefaults": {
           "arrowcolor": "#2a3f5f",
           "arrowhead": 0,
           "arrowwidth": 1
          },
          "autotypenumbers": "strict",
          "coloraxis": {
           "colorbar": {
            "outlinewidth": 0,
            "ticks": ""
           }
          },
          "colorscale": {
           "diverging": [
            [
             0,
             "#8e0152"
            ],
            [
             0.1,
             "#c51b7d"
            ],
            [
             0.2,
             "#de77ae"
            ],
            [
             0.3,
             "#f1b6da"
            ],
            [
             0.4,
             "#fde0ef"
            ],
            [
             0.5,
             "#f7f7f7"
            ],
            [
             0.6,
             "#e6f5d0"
            ],
            [
             0.7,
             "#b8e186"
            ],
            [
             0.8,
             "#7fbc41"
            ],
            [
             0.9,
             "#4d9221"
            ],
            [
             1,
             "#276419"
            ]
           ],
           "sequential": [
            [
             0,
             "#0d0887"
            ],
            [
             0.1111111111111111,
             "#46039f"
            ],
            [
             0.2222222222222222,
             "#7201a8"
            ],
            [
             0.3333333333333333,
             "#9c179e"
            ],
            [
             0.4444444444444444,
             "#bd3786"
            ],
            [
             0.5555555555555556,
             "#d8576b"
            ],
            [
             0.6666666666666666,
             "#ed7953"
            ],
            [
             0.7777777777777778,
             "#fb9f3a"
            ],
            [
             0.8888888888888888,
             "#fdca26"
            ],
            [
             1,
             "#f0f921"
            ]
           ],
           "sequentialminus": [
            [
             0,
             "#0d0887"
            ],
            [
             0.1111111111111111,
             "#46039f"
            ],
            [
             0.2222222222222222,
             "#7201a8"
            ],
            [
             0.3333333333333333,
             "#9c179e"
            ],
            [
             0.4444444444444444,
             "#bd3786"
            ],
            [
             0.5555555555555556,
             "#d8576b"
            ],
            [
             0.6666666666666666,
             "#ed7953"
            ],
            [
             0.7777777777777778,
             "#fb9f3a"
            ],
            [
             0.8888888888888888,
             "#fdca26"
            ],
            [
             1,
             "#f0f921"
            ]
           ]
          },
          "colorway": [
           "#636efa",
           "#EF553B",
           "#00cc96",
           "#ab63fa",
           "#FFA15A",
           "#19d3f3",
           "#FF6692",
           "#B6E880",
           "#FF97FF",
           "#FECB52"
          ],
          "font": {
           "color": "#2a3f5f"
          },
          "geo": {
           "bgcolor": "white",
           "lakecolor": "white",
           "landcolor": "#E5ECF6",
           "showlakes": true,
           "showland": true,
           "subunitcolor": "white"
          },
          "hoverlabel": {
           "align": "left"
          },
          "hovermode": "closest",
          "mapbox": {
           "style": "light"
          },
          "paper_bgcolor": "white",
          "plot_bgcolor": "#E5ECF6",
          "polar": {
           "angularaxis": {
            "gridcolor": "white",
            "linecolor": "white",
            "ticks": ""
           },
           "bgcolor": "#E5ECF6",
           "radialaxis": {
            "gridcolor": "white",
            "linecolor": "white",
            "ticks": ""
           }
          },
          "scene": {
           "xaxis": {
            "backgroundcolor": "#E5ECF6",
            "gridcolor": "white",
            "gridwidth": 2,
            "linecolor": "white",
            "showbackground": true,
            "ticks": "",
            "zerolinecolor": "white"
           },
           "yaxis": {
            "backgroundcolor": "#E5ECF6",
            "gridcolor": "white",
            "gridwidth": 2,
            "linecolor": "white",
            "showbackground": true,
            "ticks": "",
            "zerolinecolor": "white"
           },
           "zaxis": {
            "backgroundcolor": "#E5ECF6",
            "gridcolor": "white",
            "gridwidth": 2,
            "linecolor": "white",
            "showbackground": true,
            "ticks": "",
            "zerolinecolor": "white"
           }
          },
          "shapedefaults": {
           "line": {
            "color": "#2a3f5f"
           }
          },
          "ternary": {
           "aaxis": {
            "gridcolor": "white",
            "linecolor": "white",
            "ticks": ""
           },
           "baxis": {
            "gridcolor": "white",
            "linecolor": "white",
            "ticks": ""
           },
           "bgcolor": "#E5ECF6",
           "caxis": {
            "gridcolor": "white",
            "linecolor": "white",
            "ticks": ""
           }
          },
          "title": {
           "x": 0.05
          },
          "xaxis": {
           "automargin": true,
           "gridcolor": "white",
           "linecolor": "white",
           "ticks": "",
           "title": {
            "standoff": 15
           },
           "zerolinecolor": "white",
           "zerolinewidth": 2
          },
          "yaxis": {
           "automargin": true,
           "gridcolor": "white",
           "linecolor": "white",
           "ticks": "",
           "title": {
            "standoff": 15
           },
           "zerolinecolor": "white",
           "zerolinewidth": 2
          }
         }
        },
        "title": {
         "text": "Genre by Release Year"
        },
        "xaxis": {
         "anchor": "y",
         "domain": [
          0,
          1
         ],
         "title": {
          "text": "release_year"
         }
        },
        "yaxis": {
         "anchor": "x",
         "domain": [
          0,
          1
         ],
         "title": {
          "text": "value"
         }
        }
       }
      }
     },
     "metadata": {},
     "output_type": "display_data"
    }
   ],
   "source": [
    "genre_release_year_fig = genre_pivot.plot(kind='bar', title='Genre by Release Year')\n",
    "genre_release_year_fig.update_layout(barmode='group')\n",
    "genre_release_year_fig.show()"
   ]
  },
  {
   "cell_type": "code",
   "execution_count": 23,
   "metadata": {},
   "outputs": [
    {
     "data": {
      "text/html": [
       "<div>\n",
       "<style scoped>\n",
       "    .dataframe tbody tr th:only-of-type {\n",
       "        vertical-align: middle;\n",
       "    }\n",
       "\n",
       "    .dataframe tbody tr th {\n",
       "        vertical-align: top;\n",
       "    }\n",
       "\n",
       "    .dataframe thead th {\n",
       "        text-align: right;\n",
       "    }\n",
       "</style>\n",
       "<table border=\"1\" class=\"dataframe\">\n",
       "  <thead>\n",
       "    <tr style=\"text-align: right;\">\n",
       "      <th></th>\n",
       "      <th>genre</th>\n",
       "      <th>interpret</th>\n",
       "      <th>album</th>\n",
       "      <th>release_year</th>\n",
       "      <th>songtitle</th>\n",
       "      <th>decade</th>\n",
       "      <th>song_id</th>\n",
       "      <th>full_title</th>\n",
       "      <th>release_date_components_raw</th>\n",
       "      <th>release_date_for_display</th>\n",
       "      <th>stats_raw</th>\n",
       "      <th>lyrics</th>\n",
       "    </tr>\n",
       "  </thead>\n",
       "  <tbody>\n",
       "    <tr>\n",
       "      <th>2102</th>\n",
       "      <td>Rap</td>\n",
       "      <td>Genetikk</td>\n",
       "      <td>D.N.A.2</td>\n",
       "      <td>2018</td>\n",
       "      <td>Genetikk4ever</td>\n",
       "      <td>2010</td>\n",
       "      <td>3904644</td>\n",
       "      <td>Genetikk4ever by Genetikk</td>\n",
       "      <td>{'year': 2018, 'month': 8, 'day': 17}</td>\n",
       "      <td>August 17, 2018</td>\n",
       "      <td>{'unreviewed_annotations': 6, 'hot': False, 'p...</td>\n",
       "      <td>Genetikk4ever Lyrics\\nGang für immer, loyal bi...</td>\n",
       "    </tr>\n",
       "    <tr>\n",
       "      <th>2294</th>\n",
       "      <td>Rap</td>\n",
       "      <td>Kollegah</td>\n",
       "      <td>Monument</td>\n",
       "      <td>2018</td>\n",
       "      <td>Bossmove</td>\n",
       "      <td>2010</td>\n",
       "      <td>4135451</td>\n",
       "      <td>Bossmove by Kollegah</td>\n",
       "      <td>{'year': 2018, 'month': 12, 'day': 7}</td>\n",
       "      <td>December 7, 2018</td>\n",
       "      <td>{'unreviewed_annotations': 0, 'hot': False, 'p...</td>\n",
       "      <td>Bossmove Lyrics\\n\\nAh!\\n\\nIch verdrängte meine...</td>\n",
       "    </tr>\n",
       "    <tr>\n",
       "      <th>2296</th>\n",
       "      <td>Rap</td>\n",
       "      <td>Kollegah</td>\n",
       "      <td>Monument</td>\n",
       "      <td>2018</td>\n",
       "      <td>Psycho</td>\n",
       "      <td>2010</td>\n",
       "      <td>4135383</td>\n",
       "      <td>Psycho by Kollegah (Ft. Farid Bang)</td>\n",
       "      <td>{'year': 2018, 'month': 12, 'day': 7}</td>\n",
       "      <td>December 7, 2018</td>\n",
       "      <td>{'unreviewed_annotations': 0, 'hot': False, 'p...</td>\n",
       "      <td>Psycho Lyrics\\n\\nBoss und Banger, unser Life e...</td>\n",
       "    </tr>\n",
       "    <tr>\n",
       "      <th>2297</th>\n",
       "      <td>Rap</td>\n",
       "      <td>Kollegah</td>\n",
       "      <td>Monument</td>\n",
       "      <td>2018</td>\n",
       "      <td>Löwe</td>\n",
       "      <td>2010</td>\n",
       "      <td>4024005</td>\n",
       "      <td>Löwe by Kollegah</td>\n",
       "      <td>{'year': 2018, 'month': 10, 'day': 26}</td>\n",
       "      <td>October 26, 2018</td>\n",
       "      <td>{'unreviewed_annotations': 0, 'hot': False, 'p...</td>\n",
       "      <td>Löwe Lyrics\\n\\nYeah\\n\\nNur noch selten Zeit fü...</td>\n",
       "    </tr>\n",
       "    <tr>\n",
       "      <th>2298</th>\n",
       "      <td>Rap</td>\n",
       "      <td>Kollegah</td>\n",
       "      <td>Monument</td>\n",
       "      <td>2018</td>\n",
       "      <td>La Vida Koka</td>\n",
       "      <td>2010</td>\n",
       "      <td>4135384</td>\n",
       "      <td>La Vida Koka by Kollegah</td>\n",
       "      <td>{'year': 2018, 'month': 12, 'day': 7}</td>\n",
       "      <td>December 7, 2018</td>\n",
       "      <td>{'unreviewed_annotations': 1, 'hot': False, 'p...</td>\n",
       "      <td>La Vida Koka Lyrics\\n\\n(You are now listening ...</td>\n",
       "    </tr>\n",
       "    <tr>\n",
       "      <th>2299</th>\n",
       "      <td>Rap</td>\n",
       "      <td>Kollegah</td>\n",
       "      <td>Monument</td>\n",
       "      <td>2018</td>\n",
       "      <td>Makiaveli</td>\n",
       "      <td>2010</td>\n",
       "      <td>4135389</td>\n",
       "      <td>Makiaveli by Kollegah</td>\n",
       "      <td>{'year': 2018, 'month': 12, 'day': 7}</td>\n",
       "      <td>December 7, 2018</td>\n",
       "      <td>{'unreviewed_annotations': 0, 'hot': False, 'p...</td>\n",
       "      <td>Makiaveli Lyrics\\n\\nIhr ganzen verkommenen kle...</td>\n",
       "    </tr>\n",
       "    <tr>\n",
       "      <th>2300</th>\n",
       "      <td>Rap</td>\n",
       "      <td>Kollegah</td>\n",
       "      <td>Monument</td>\n",
       "      <td>2018</td>\n",
       "      <td>Realtalk</td>\n",
       "      <td>2010</td>\n",
       "      <td>4135390</td>\n",
       "      <td>Realtalk by Kollegah</td>\n",
       "      <td>{'year': 2018, 'month': 12, 'day': 7}</td>\n",
       "      <td>December 7, 2018</td>\n",
       "      <td>{'unreviewed_annotations': 11, 'hot': False, '...</td>\n",
       "      <td>Realtalk Lyrics\\nYou are now listening to Araa...</td>\n",
       "    </tr>\n",
       "    <tr>\n",
       "      <th>2301</th>\n",
       "      <td>Rap</td>\n",
       "      <td>Kollegah</td>\n",
       "      <td>Monument</td>\n",
       "      <td>2018</td>\n",
       "      <td>Continental</td>\n",
       "      <td>2010</td>\n",
       "      <td>4135391</td>\n",
       "      <td>Continental by Kollegah (Ft. Nas)</td>\n",
       "      <td>{'year': 2018, 'month': 12, 'day': 7}</td>\n",
       "      <td>December 7, 2018</td>\n",
       "      <td>{'unreviewed_annotations': 0, 'hot': False, 'p...</td>\n",
       "      <td>Continental Lyrics\\nYeah, jetzt wird auf deine...</td>\n",
       "    </tr>\n",
       "    <tr>\n",
       "      <th>2302</th>\n",
       "      <td>Rap</td>\n",
       "      <td>Kollegah</td>\n",
       "      <td>Monument</td>\n",
       "      <td>2018</td>\n",
       "      <td>Donlife</td>\n",
       "      <td>2010</td>\n",
       "      <td>4101478</td>\n",
       "      <td>Donlife by Kollegah (Ft. Cam'ron)</td>\n",
       "      <td>{'year': 2018, 'month': 12, 'day': 7}</td>\n",
       "      <td>December 7, 2018</td>\n",
       "      <td>{'unreviewed_annotations': 1, 'hot': False, 'p...</td>\n",
       "      <td>Donlife Lyrics\\n\\nKollegah, what's up, man?\\nA...</td>\n",
       "    </tr>\n",
       "    <tr>\n",
       "      <th>2303</th>\n",
       "      <td>Rap</td>\n",
       "      <td>Kollegah</td>\n",
       "      <td>Monument</td>\n",
       "      <td>2018</td>\n",
       "      <td>Cohiba Symphony</td>\n",
       "      <td>2010</td>\n",
       "      <td>4135392</td>\n",
       "      <td>Cohiba Symphony by Kollegah</td>\n",
       "      <td>{'year': 2018, 'month': 12, 'day': 7}</td>\n",
       "      <td>December 7, 2018</td>\n",
       "      <td>{'unreviewed_annotations': 2, 'hot': False, 'p...</td>\n",
       "      <td>Cohiba Symphony Lyrics\\n\\nYou are now listenin...</td>\n",
       "    </tr>\n",
       "  </tbody>\n",
       "</table>\n",
       "</div>"
      ],
      "text/plain": [
       "     genre interpret     album  release_year        songtitle  decade  \\\n",
       "2102   Rap  Genetikk   D.N.A.2          2018    Genetikk4ever    2010   \n",
       "2294   Rap  Kollegah  Monument          2018         Bossmove    2010   \n",
       "2296   Rap  Kollegah  Monument          2018           Psycho    2010   \n",
       "2297   Rap  Kollegah  Monument          2018             Löwe    2010   \n",
       "2298   Rap  Kollegah  Monument          2018     La Vida Koka    2010   \n",
       "2299   Rap  Kollegah  Monument          2018        Makiaveli    2010   \n",
       "2300   Rap  Kollegah  Monument          2018         Realtalk    2010   \n",
       "2301   Rap  Kollegah  Monument          2018      Continental    2010   \n",
       "2302   Rap  Kollegah  Monument          2018          Donlife    2010   \n",
       "2303   Rap  Kollegah  Monument          2018  Cohiba Symphony    2010   \n",
       "\n",
       "      song_id                           full_title  \\\n",
       "2102  3904644            Genetikk4ever by Genetikk   \n",
       "2294  4135451                 Bossmove by Kollegah   \n",
       "2296  4135383  Psycho by Kollegah (Ft. Farid Bang)   \n",
       "2297  4024005                     Löwe by Kollegah   \n",
       "2298  4135384             La Vida Koka by Kollegah   \n",
       "2299  4135389                Makiaveli by Kollegah   \n",
       "2300  4135390                 Realtalk by Kollegah   \n",
       "2301  4135391    Continental by Kollegah (Ft. Nas)   \n",
       "2302  4101478    Donlife by Kollegah (Ft. Cam'ron)   \n",
       "2303  4135392          Cohiba Symphony by Kollegah   \n",
       "\n",
       "                 release_date_components_raw release_date_for_display  \\\n",
       "2102   {'year': 2018, 'month': 8, 'day': 17}          August 17, 2018   \n",
       "2294   {'year': 2018, 'month': 12, 'day': 7}         December 7, 2018   \n",
       "2296   {'year': 2018, 'month': 12, 'day': 7}         December 7, 2018   \n",
       "2297  {'year': 2018, 'month': 10, 'day': 26}         October 26, 2018   \n",
       "2298   {'year': 2018, 'month': 12, 'day': 7}         December 7, 2018   \n",
       "2299   {'year': 2018, 'month': 12, 'day': 7}         December 7, 2018   \n",
       "2300   {'year': 2018, 'month': 12, 'day': 7}         December 7, 2018   \n",
       "2301   {'year': 2018, 'month': 12, 'day': 7}         December 7, 2018   \n",
       "2302   {'year': 2018, 'month': 12, 'day': 7}         December 7, 2018   \n",
       "2303   {'year': 2018, 'month': 12, 'day': 7}         December 7, 2018   \n",
       "\n",
       "                                              stats_raw  \\\n",
       "2102  {'unreviewed_annotations': 6, 'hot': False, 'p...   \n",
       "2294  {'unreviewed_annotations': 0, 'hot': False, 'p...   \n",
       "2296  {'unreviewed_annotations': 0, 'hot': False, 'p...   \n",
       "2297  {'unreviewed_annotations': 0, 'hot': False, 'p...   \n",
       "2298  {'unreviewed_annotations': 1, 'hot': False, 'p...   \n",
       "2299  {'unreviewed_annotations': 0, 'hot': False, 'p...   \n",
       "2300  {'unreviewed_annotations': 11, 'hot': False, '...   \n",
       "2301  {'unreviewed_annotations': 0, 'hot': False, 'p...   \n",
       "2302  {'unreviewed_annotations': 1, 'hot': False, 'p...   \n",
       "2303  {'unreviewed_annotations': 2, 'hot': False, 'p...   \n",
       "\n",
       "                                                 lyrics  \n",
       "2102  Genetikk4ever Lyrics\\nGang für immer, loyal bi...  \n",
       "2294  Bossmove Lyrics\\n\\nAh!\\n\\nIch verdrängte meine...  \n",
       "2296  Psycho Lyrics\\n\\nBoss und Banger, unser Life e...  \n",
       "2297  Löwe Lyrics\\n\\nYeah\\n\\nNur noch selten Zeit fü...  \n",
       "2298  La Vida Koka Lyrics\\n\\n(You are now listening ...  \n",
       "2299  Makiaveli Lyrics\\n\\nIhr ganzen verkommenen kle...  \n",
       "2300  Realtalk Lyrics\\nYou are now listening to Araa...  \n",
       "2301  Continental Lyrics\\nYeah, jetzt wird auf deine...  \n",
       "2302  Donlife Lyrics\\n\\nKollegah, what's up, man?\\nA...  \n",
       "2303  Cohiba Symphony Lyrics\\n\\nYou are now listenin...  "
      ]
     },
     "execution_count": 23,
     "metadata": {},
     "output_type": "execute_result"
    }
   ],
   "source": [
    "data.sort_values('release_year', ascending=False).iloc[0:10]"
   ]
  },
  {
   "cell_type": "code",
   "execution_count": 24,
   "metadata": {},
   "outputs": [
    {
     "data": {
      "text/html": [
       "<div>\n",
       "<style scoped>\n",
       "    .dataframe tbody tr th:only-of-type {\n",
       "        vertical-align: middle;\n",
       "    }\n",
       "\n",
       "    .dataframe tbody tr th {\n",
       "        vertical-align: top;\n",
       "    }\n",
       "\n",
       "    .dataframe thead th {\n",
       "        text-align: right;\n",
       "    }\n",
       "</style>\n",
       "<table border=\"1\" class=\"dataframe\">\n",
       "  <thead>\n",
       "    <tr style=\"text-align: right;\">\n",
       "      <th></th>\n",
       "      <th>genre</th>\n",
       "      <th>interpret</th>\n",
       "      <th>album</th>\n",
       "      <th>release_year</th>\n",
       "      <th>songtitle</th>\n",
       "      <th>decade</th>\n",
       "      <th>song_id</th>\n",
       "      <th>full_title</th>\n",
       "      <th>release_date_components_raw</th>\n",
       "      <th>release_date_for_display</th>\n",
       "      <th>stats_raw</th>\n",
       "      <th>lyrics</th>\n",
       "    </tr>\n",
       "  </thead>\n",
       "  <tbody>\n",
       "    <tr>\n",
       "      <th>1644</th>\n",
       "      <td>Rap</td>\n",
       "      <td>Die Fantastischen Vier</td>\n",
       "      <td>4 Gewinnt</td>\n",
       "      <td>1992</td>\n",
       "      <td>Dicker Pulli</td>\n",
       "      <td>1990</td>\n",
       "      <td>649874</td>\n",
       "      <td>Dicker Pulli by Die Fantastischen Vier</td>\n",
       "      <td>NaN</td>\n",
       "      <td>NaN</td>\n",
       "      <td>{'unreviewed_annotations': 0, 'hot': False}</td>\n",
       "      <td>Dicker Pulli Lyrics \\nDicker pulli an, man, da...</td>\n",
       "    </tr>\n",
       "    <tr>\n",
       "      <th>1647</th>\n",
       "      <td>Rap</td>\n",
       "      <td>Die Fantastischen Vier</td>\n",
       "      <td>4 Gewinnt</td>\n",
       "      <td>1992</td>\n",
       "      <td>Es wird Regen geben</td>\n",
       "      <td>1990</td>\n",
       "      <td>1559854</td>\n",
       "      <td>Es Wird Regen Geben by Die Fantastischen Vier</td>\n",
       "      <td>NaN</td>\n",
       "      <td>NaN</td>\n",
       "      <td>{'unreviewed_annotations': 0, 'hot': False}</td>\n",
       "      <td>Es Wird Regen Geben LyricsIch mach die Augen a...</td>\n",
       "    </tr>\n",
       "    <tr>\n",
       "      <th>1648</th>\n",
       "      <td>Rap</td>\n",
       "      <td>Die Fantastischen Vier</td>\n",
       "      <td>4 Gewinnt</td>\n",
       "      <td>1992</td>\n",
       "      <td>Plattenspieler</td>\n",
       "      <td>1990</td>\n",
       "      <td>649897</td>\n",
       "      <td>Plattenspieler by Die Fantastischen Vier</td>\n",
       "      <td>NaN</td>\n",
       "      <td>NaN</td>\n",
       "      <td>{'unreviewed_annotations': 0, 'hot': False}</td>\n",
       "      <td>Plattenspieler Lyrics\\nPlattenspieler, Platten...</td>\n",
       "    </tr>\n",
       "    <tr>\n",
       "      <th>1649</th>\n",
       "      <td>Rap</td>\n",
       "      <td>Die Fantastischen Vier</td>\n",
       "      <td>4 Gewinnt</td>\n",
       "      <td>1992</td>\n",
       "      <td>Hip Hop Musik</td>\n",
       "      <td>1990</td>\n",
       "      <td>649899</td>\n",
       "      <td>Hip Hop Musik by Die Fantastischen Vier</td>\n",
       "      <td>NaN</td>\n",
       "      <td>NaN</td>\n",
       "      <td>{'unreviewed_annotations': 1, 'hot': False}</td>\n",
       "      <td>Hip Hop Musik Lyrics \\nEs hat ein für allemal ...</td>\n",
       "    </tr>\n",
       "    <tr>\n",
       "      <th>1650</th>\n",
       "      <td>Rap</td>\n",
       "      <td>Die Fantastischen Vier</td>\n",
       "      <td>4 Gewinnt</td>\n",
       "      <td>1992</td>\n",
       "      <td>Laß die Sonne rein</td>\n",
       "      <td>1990</td>\n",
       "      <td>649916</td>\n",
       "      <td>Lass die Sonne rein by Die Fantastischen Vier</td>\n",
       "      <td>NaN</td>\n",
       "      <td>NaN</td>\n",
       "      <td>{'unreviewed_annotations': 1, 'hot': False}</td>\n",
       "      <td>Lass die Sonne rein Lyrics\\nSommer, Sonne Sonn...</td>\n",
       "    </tr>\n",
       "    <tr>\n",
       "      <th>1643</th>\n",
       "      <td>Rap</td>\n",
       "      <td>Die Fantastischen Vier</td>\n",
       "      <td>4 Gewinnt</td>\n",
       "      <td>1992</td>\n",
       "      <td>Saft</td>\n",
       "      <td>1990</td>\n",
       "      <td>442411</td>\n",
       "      <td>Saft by Die Fantastischen Vier</td>\n",
       "      <td>{'year': 1993, 'month': 1, 'day': 18}</td>\n",
       "      <td>January 18, 1993</td>\n",
       "      <td>{'unreviewed_annotations': 2, 'hot': False}</td>\n",
       "      <td>Saft Lyrics\\nGib mir Deinen Saft, ich geb Dir ...</td>\n",
       "    </tr>\n",
       "    <tr>\n",
       "      <th>1642</th>\n",
       "      <td>Rap</td>\n",
       "      <td>Die Fantastischen Vier</td>\n",
       "      <td>4 Gewinnt</td>\n",
       "      <td>1992</td>\n",
       "      <td>Hört euch den hier an</td>\n",
       "      <td>1990</td>\n",
       "      <td>649869</td>\n",
       "      <td>Hört Euch den hier an by Die Fantastischen Vier</td>\n",
       "      <td>NaN</td>\n",
       "      <td>NaN</td>\n",
       "      <td>{'unreviewed_annotations': 0, 'hot': False}</td>\n",
       "      <td>Hört Euch den hier an Lyrics\\nS.M.U.D.O. von d...</td>\n",
       "    </tr>\n",
       "    <tr>\n",
       "      <th>1646</th>\n",
       "      <td>Rap</td>\n",
       "      <td>Die Fantastischen Vier</td>\n",
       "      <td>4 Gewinnt</td>\n",
       "      <td>1992</td>\n",
       "      <td>Einen noch</td>\n",
       "      <td>1990</td>\n",
       "      <td>649895</td>\n",
       "      <td>Einen noch by Die Fantastischen Vier</td>\n",
       "      <td>NaN</td>\n",
       "      <td>NaN</td>\n",
       "      <td>{'unreviewed_annotations': 0, 'hot': False}</td>\n",
       "      <td>Einen noch Lyrics\\nHör mal zu, was ich\\nKann I...</td>\n",
       "    </tr>\n",
       "    <tr>\n",
       "      <th>1656</th>\n",
       "      <td>Rap</td>\n",
       "      <td>Die Fantastischen Vier</td>\n",
       "      <td>4 Gewinnt</td>\n",
       "      <td>1992</td>\n",
       "      <td>Arschloch</td>\n",
       "      <td>1990</td>\n",
       "      <td>650532</td>\n",
       "      <td>Arschloch by Die Fantastischen Vier</td>\n",
       "      <td>NaN</td>\n",
       "      <td>NaN</td>\n",
       "      <td>{'unreviewed_annotations': 0, 'hot': False}</td>\n",
       "      <td>Arschloch Lyrics\\nLeck mich, ich bin 'n Arschl...</td>\n",
       "    </tr>\n",
       "    <tr>\n",
       "      <th>1655</th>\n",
       "      <td>Rap</td>\n",
       "      <td>Die Fantastischen Vier</td>\n",
       "      <td>4 Gewinnt</td>\n",
       "      <td>1992</td>\n",
       "      <td>Individuell aber schnell</td>\n",
       "      <td>1990</td>\n",
       "      <td>650527</td>\n",
       "      <td>Individuell aber schnell by Die Fantastischen ...</td>\n",
       "      <td>NaN</td>\n",
       "      <td>NaN</td>\n",
       "      <td>{'unreviewed_annotations': 0, 'hot': False}</td>\n",
       "      <td>Individuell aber schnell Lyrics\\nIst euch scho...</td>\n",
       "    </tr>\n",
       "    <tr>\n",
       "      <th>1645</th>\n",
       "      <td>Rap</td>\n",
       "      <td>Die Fantastischen Vier</td>\n",
       "      <td>4 Gewinnt</td>\n",
       "      <td>1992</td>\n",
       "      <td>Na Gut</td>\n",
       "      <td>1990</td>\n",
       "      <td>649878</td>\n",
       "      <td>Na gut by Die Fantastischen Vier</td>\n",
       "      <td>NaN</td>\n",
       "      <td>NaN</td>\n",
       "      <td>{'unreviewed_annotations': 0, 'hot': False}</td>\n",
       "      <td>Na gut Lyrics\\nAh, ah gut\\n\\nNa gut - dann geh...</td>\n",
       "    </tr>\n",
       "    <tr>\n",
       "      <th>1653</th>\n",
       "      <td>Rap</td>\n",
       "      <td>Die Fantastischen Vier</td>\n",
       "      <td>4 Gewinnt</td>\n",
       "      <td>1992</td>\n",
       "      <td>Jaaa</td>\n",
       "      <td>1990</td>\n",
       "      <td>650243</td>\n",
       "      <td>Jaaa by Die Fantastischen Vier</td>\n",
       "      <td>NaN</td>\n",
       "      <td>NaN</td>\n",
       "      <td>{'unreviewed_annotations': 0, 'hot': False}</td>\n",
       "      <td>Jaaa Lyrics\\nKomm mal her\\nKomm mal her\\nKomm ...</td>\n",
       "    </tr>\n",
       "    <tr>\n",
       "      <th>1652</th>\n",
       "      <td>Rap</td>\n",
       "      <td>Die Fantastischen Vier</td>\n",
       "      <td>4 Gewinnt</td>\n",
       "      <td>1992</td>\n",
       "      <td>Nonixnarretz</td>\n",
       "      <td>1990</td>\n",
       "      <td>650227</td>\n",
       "      <td>Nonixnarretz by Die Fantastischen Vier</td>\n",
       "      <td>NaN</td>\n",
       "      <td>NaN</td>\n",
       "      <td>{'unreviewed_annotations': 1, 'hot': False}</td>\n",
       "      <td>Nonixnarretz Lyrics\\nIch sag, ich sag, ich\\nSa...</td>\n",
       "    </tr>\n",
       "    <tr>\n",
       "      <th>1651</th>\n",
       "      <td>Rap</td>\n",
       "      <td>Die Fantastischen Vier</td>\n",
       "      <td>4 Gewinnt</td>\n",
       "      <td>1992</td>\n",
       "      <td>Thomas und die Fraun</td>\n",
       "      <td>1990</td>\n",
       "      <td>649994</td>\n",
       "      <td>Thomas und die Fraun by Die Fantastischen Vier</td>\n",
       "      <td>NaN</td>\n",
       "      <td>NaN</td>\n",
       "      <td>{'unreviewed_annotations': 1, 'hot': False}</td>\n",
       "      <td>Thomas und die Fraun Lyrics\\nSoweit, so gut, i...</td>\n",
       "    </tr>\n",
       "    <tr>\n",
       "      <th>1654</th>\n",
       "      <td>Rap</td>\n",
       "      <td>Die Fantastischen Vier</td>\n",
       "      <td>4 Gewinnt</td>\n",
       "      <td>1992</td>\n",
       "      <td>Reich</td>\n",
       "      <td>1990</td>\n",
       "      <td>650525</td>\n",
       "      <td>Reich by Die Fantastischen Vier</td>\n",
       "      <td>NaN</td>\n",
       "      <td>NaN</td>\n",
       "      <td>{'unreviewed_annotations': 0, 'hot': False}</td>\n",
       "      <td>Reich Lyrics\\nWas sind wir?\\nReich und mächtig...</td>\n",
       "    </tr>\n",
       "    <tr>\n",
       "      <th>1641</th>\n",
       "      <td>Rap</td>\n",
       "      <td>Die Fantastischen Vier</td>\n",
       "      <td>4 Gewinnt</td>\n",
       "      <td>1992</td>\n",
       "      <td>Vier gewinnt</td>\n",
       "      <td>1990</td>\n",
       "      <td>649863</td>\n",
       "      <td>Vier gewinnt by Die Fantastischen Vier</td>\n",
       "      <td>NaN</td>\n",
       "      <td>NaN</td>\n",
       "      <td>{'unreviewed_annotations': 0, 'hot': False}</td>\n",
       "      <td>Vier gewinnt Lyrics\\nDer Smudo, der Smudo, ich...</td>\n",
       "    </tr>\n",
       "    <tr>\n",
       "      <th>1669</th>\n",
       "      <td>Rap</td>\n",
       "      <td>Die Fantastischen Vier</td>\n",
       "      <td>Lauschgift</td>\n",
       "      <td>1995</td>\n",
       "      <td>On the Next Album</td>\n",
       "      <td>1990</td>\n",
       "      <td>648272</td>\n",
       "      <td>On the Next Album by Die Fantastischen Vier</td>\n",
       "      <td>NaN</td>\n",
       "      <td>NaN</td>\n",
       "      <td>{'unreviewed_annotations': 0, 'hot': False}</td>\n",
       "      <td>On the Next Album Lyrics\\nYo, Michael Schmidt,...</td>\n",
       "    </tr>\n",
       "    <tr>\n",
       "      <th>1670</th>\n",
       "      <td>Rap</td>\n",
       "      <td>Die Fantastischen Vier</td>\n",
       "      <td>Lauschgift</td>\n",
       "      <td>1995</td>\n",
       "      <td>Locker bleiben</td>\n",
       "      <td>1990</td>\n",
       "      <td>649313</td>\n",
       "      <td>Locker bleiben by Die Fantastischen Vier</td>\n",
       "      <td>NaN</td>\n",
       "      <td>NaN</td>\n",
       "      <td>{'unreviewed_annotations': 0, 'hot': False}</td>\n",
       "      <td>Locker bleiben Lyrics\\nZack, was geht ab? Ich ...</td>\n",
       "    </tr>\n",
       "    <tr>\n",
       "      <th>1671</th>\n",
       "      <td>Rap</td>\n",
       "      <td>Die Fantastischen Vier</td>\n",
       "      <td>Lauschgift</td>\n",
       "      <td>1995</td>\n",
       "      <td>Love Sucks</td>\n",
       "      <td>1990</td>\n",
       "      <td>649317</td>\n",
       "      <td>Love Sucks by Die Fantastischen Vier</td>\n",
       "      <td>NaN</td>\n",
       "      <td>NaN</td>\n",
       "      <td>{'unreviewed_annotations': 0, 'hot': False}</td>\n",
       "      <td>Love Sucks Lyrics\\nJetzt muss es raus jetzt pa...</td>\n",
       "    </tr>\n",
       "    <tr>\n",
       "      <th>1672</th>\n",
       "      <td>Rap</td>\n",
       "      <td>Die Fantastischen Vier</td>\n",
       "      <td>Lauschgift</td>\n",
       "      <td>1995</td>\n",
       "      <td>Wie die Anderen</td>\n",
       "      <td>1990</td>\n",
       "      <td>649321</td>\n",
       "      <td>Wie die anderen by Die Fantastischen Vier</td>\n",
       "      <td>NaN</td>\n",
       "      <td>NaN</td>\n",
       "      <td>{'unreviewed_annotations': 0, 'hot': False}</td>\n",
       "      <td>Wie die anderen Lyrics\\nWie die andern die and...</td>\n",
       "    </tr>\n",
       "  </tbody>\n",
       "</table>\n",
       "</div>"
      ],
      "text/plain": [
       "     genre               interpret       album  release_year  \\\n",
       "1644   Rap  Die Fantastischen Vier   4 Gewinnt          1992   \n",
       "1647   Rap  Die Fantastischen Vier   4 Gewinnt          1992   \n",
       "1648   Rap  Die Fantastischen Vier   4 Gewinnt          1992   \n",
       "1649   Rap  Die Fantastischen Vier   4 Gewinnt          1992   \n",
       "1650   Rap  Die Fantastischen Vier   4 Gewinnt          1992   \n",
       "1643   Rap  Die Fantastischen Vier   4 Gewinnt          1992   \n",
       "1642   Rap  Die Fantastischen Vier   4 Gewinnt          1992   \n",
       "1646   Rap  Die Fantastischen Vier   4 Gewinnt          1992   \n",
       "1656   Rap  Die Fantastischen Vier   4 Gewinnt          1992   \n",
       "1655   Rap  Die Fantastischen Vier   4 Gewinnt          1992   \n",
       "1645   Rap  Die Fantastischen Vier   4 Gewinnt          1992   \n",
       "1653   Rap  Die Fantastischen Vier   4 Gewinnt          1992   \n",
       "1652   Rap  Die Fantastischen Vier   4 Gewinnt          1992   \n",
       "1651   Rap  Die Fantastischen Vier   4 Gewinnt          1992   \n",
       "1654   Rap  Die Fantastischen Vier   4 Gewinnt          1992   \n",
       "1641   Rap  Die Fantastischen Vier   4 Gewinnt          1992   \n",
       "1669   Rap  Die Fantastischen Vier  Lauschgift          1995   \n",
       "1670   Rap  Die Fantastischen Vier  Lauschgift          1995   \n",
       "1671   Rap  Die Fantastischen Vier  Lauschgift          1995   \n",
       "1672   Rap  Die Fantastischen Vier  Lauschgift          1995   \n",
       "\n",
       "                     songtitle  decade  song_id  \\\n",
       "1644              Dicker Pulli    1990   649874   \n",
       "1647       Es wird Regen geben    1990  1559854   \n",
       "1648            Plattenspieler    1990   649897   \n",
       "1649             Hip Hop Musik    1990   649899   \n",
       "1650        Laß die Sonne rein    1990   649916   \n",
       "1643                      Saft    1990   442411   \n",
       "1642     Hört euch den hier an    1990   649869   \n",
       "1646                Einen noch    1990   649895   \n",
       "1656                 Arschloch    1990   650532   \n",
       "1655  Individuell aber schnell    1990   650527   \n",
       "1645                    Na Gut    1990   649878   \n",
       "1653                      Jaaa    1990   650243   \n",
       "1652              Nonixnarretz    1990   650227   \n",
       "1651      Thomas und die Fraun    1990   649994   \n",
       "1654                     Reich    1990   650525   \n",
       "1641              Vier gewinnt    1990   649863   \n",
       "1669         On the Next Album    1990   648272   \n",
       "1670            Locker bleiben    1990   649313   \n",
       "1671                Love Sucks    1990   649317   \n",
       "1672           Wie die Anderen    1990   649321   \n",
       "\n",
       "                                             full_title  \\\n",
       "1644             Dicker Pulli by Die Fantastischen Vier   \n",
       "1647      Es Wird Regen Geben by Die Fantastischen Vier   \n",
       "1648           Plattenspieler by Die Fantastischen Vier   \n",
       "1649            Hip Hop Musik by Die Fantastischen Vier   \n",
       "1650      Lass die Sonne rein by Die Fantastischen Vier   \n",
       "1643                     Saft by Die Fantastischen Vier   \n",
       "1642    Hört Euch den hier an by Die Fantastischen Vier   \n",
       "1646               Einen noch by Die Fantastischen Vier   \n",
       "1656                Arschloch by Die Fantastischen Vier   \n",
       "1655  Individuell aber schnell by Die Fantastischen ...   \n",
       "1645                   Na gut by Die Fantastischen Vier   \n",
       "1653                     Jaaa by Die Fantastischen Vier   \n",
       "1652             Nonixnarretz by Die Fantastischen Vier   \n",
       "1651     Thomas und die Fraun by Die Fantastischen Vier   \n",
       "1654                    Reich by Die Fantastischen Vier   \n",
       "1641             Vier gewinnt by Die Fantastischen Vier   \n",
       "1669        On the Next Album by Die Fantastischen Vier   \n",
       "1670           Locker bleiben by Die Fantastischen Vier   \n",
       "1671               Love Sucks by Die Fantastischen Vier   \n",
       "1672          Wie die anderen by Die Fantastischen Vier   \n",
       "\n",
       "                release_date_components_raw release_date_for_display  \\\n",
       "1644                                    NaN                      NaN   \n",
       "1647                                    NaN                      NaN   \n",
       "1648                                    NaN                      NaN   \n",
       "1649                                    NaN                      NaN   \n",
       "1650                                    NaN                      NaN   \n",
       "1643  {'year': 1993, 'month': 1, 'day': 18}         January 18, 1993   \n",
       "1642                                    NaN                      NaN   \n",
       "1646                                    NaN                      NaN   \n",
       "1656                                    NaN                      NaN   \n",
       "1655                                    NaN                      NaN   \n",
       "1645                                    NaN                      NaN   \n",
       "1653                                    NaN                      NaN   \n",
       "1652                                    NaN                      NaN   \n",
       "1651                                    NaN                      NaN   \n",
       "1654                                    NaN                      NaN   \n",
       "1641                                    NaN                      NaN   \n",
       "1669                                    NaN                      NaN   \n",
       "1670                                    NaN                      NaN   \n",
       "1671                                    NaN                      NaN   \n",
       "1672                                    NaN                      NaN   \n",
       "\n",
       "                                        stats_raw  \\\n",
       "1644  {'unreviewed_annotations': 0, 'hot': False}   \n",
       "1647  {'unreviewed_annotations': 0, 'hot': False}   \n",
       "1648  {'unreviewed_annotations': 0, 'hot': False}   \n",
       "1649  {'unreviewed_annotations': 1, 'hot': False}   \n",
       "1650  {'unreviewed_annotations': 1, 'hot': False}   \n",
       "1643  {'unreviewed_annotations': 2, 'hot': False}   \n",
       "1642  {'unreviewed_annotations': 0, 'hot': False}   \n",
       "1646  {'unreviewed_annotations': 0, 'hot': False}   \n",
       "1656  {'unreviewed_annotations': 0, 'hot': False}   \n",
       "1655  {'unreviewed_annotations': 0, 'hot': False}   \n",
       "1645  {'unreviewed_annotations': 0, 'hot': False}   \n",
       "1653  {'unreviewed_annotations': 0, 'hot': False}   \n",
       "1652  {'unreviewed_annotations': 1, 'hot': False}   \n",
       "1651  {'unreviewed_annotations': 1, 'hot': False}   \n",
       "1654  {'unreviewed_annotations': 0, 'hot': False}   \n",
       "1641  {'unreviewed_annotations': 0, 'hot': False}   \n",
       "1669  {'unreviewed_annotations': 0, 'hot': False}   \n",
       "1670  {'unreviewed_annotations': 0, 'hot': False}   \n",
       "1671  {'unreviewed_annotations': 0, 'hot': False}   \n",
       "1672  {'unreviewed_annotations': 0, 'hot': False}   \n",
       "\n",
       "                                                 lyrics  \n",
       "1644  Dicker Pulli Lyrics \\nDicker pulli an, man, da...  \n",
       "1647  Es Wird Regen Geben LyricsIch mach die Augen a...  \n",
       "1648  Plattenspieler Lyrics\\nPlattenspieler, Platten...  \n",
       "1649  Hip Hop Musik Lyrics \\nEs hat ein für allemal ...  \n",
       "1650  Lass die Sonne rein Lyrics\\nSommer, Sonne Sonn...  \n",
       "1643  Saft Lyrics\\nGib mir Deinen Saft, ich geb Dir ...  \n",
       "1642  Hört Euch den hier an Lyrics\\nS.M.U.D.O. von d...  \n",
       "1646  Einen noch Lyrics\\nHör mal zu, was ich\\nKann I...  \n",
       "1656  Arschloch Lyrics\\nLeck mich, ich bin 'n Arschl...  \n",
       "1655  Individuell aber schnell Lyrics\\nIst euch scho...  \n",
       "1645  Na gut Lyrics\\nAh, ah gut\\n\\nNa gut - dann geh...  \n",
       "1653  Jaaa Lyrics\\nKomm mal her\\nKomm mal her\\nKomm ...  \n",
       "1652  Nonixnarretz Lyrics\\nIch sag, ich sag, ich\\nSa...  \n",
       "1651  Thomas und die Fraun Lyrics\\nSoweit, so gut, i...  \n",
       "1654  Reich Lyrics\\nWas sind wir?\\nReich und mächtig...  \n",
       "1641  Vier gewinnt Lyrics\\nDer Smudo, der Smudo, ich...  \n",
       "1669  On the Next Album Lyrics\\nYo, Michael Schmidt,...  \n",
       "1670  Locker bleiben Lyrics\\nZack, was geht ab? Ich ...  \n",
       "1671  Love Sucks Lyrics\\nJetzt muss es raus jetzt pa...  \n",
       "1672  Wie die anderen Lyrics\\nWie die andern die and...  "
      ]
     },
     "execution_count": 24,
     "metadata": {},
     "output_type": "execute_result"
    }
   ],
   "source": [
    "data[data['genre'] == 'Rap'].sort_values('release_year').head(n=20)"
   ]
  },
  {
   "cell_type": "code",
   "execution_count": 26,
   "metadata": {},
   "outputs": [
    {
     "data": {
      "text/html": [
       "<div>\n",
       "<style scoped>\n",
       "    .dataframe tbody tr th:only-of-type {\n",
       "        vertical-align: middle;\n",
       "    }\n",
       "\n",
       "    .dataframe tbody tr th {\n",
       "        vertical-align: top;\n",
       "    }\n",
       "\n",
       "    .dataframe thead th {\n",
       "        text-align: right;\n",
       "    }\n",
       "</style>\n",
       "<table border=\"1\" class=\"dataframe\">\n",
       "  <thead>\n",
       "    <tr style=\"text-align: right;\">\n",
       "      <th></th>\n",
       "      <th>genre</th>\n",
       "      <th>interpret</th>\n",
       "      <th>album</th>\n",
       "      <th>release_year</th>\n",
       "      <th>songtitle</th>\n",
       "      <th>decade</th>\n",
       "      <th>song_id</th>\n",
       "      <th>full_title</th>\n",
       "      <th>release_date_components_raw</th>\n",
       "      <th>release_date_for_display</th>\n",
       "      <th>stats_raw</th>\n",
       "      <th>lyrics</th>\n",
       "    </tr>\n",
       "  </thead>\n",
       "  <tbody>\n",
       "    <tr>\n",
       "      <th>4309</th>\n",
       "      <td>Schlager</td>\n",
       "      <td>Nina Hagen</td>\n",
       "      <td>FreuD Euch</td>\n",
       "      <td>1995</td>\n",
       "      <td>Sternmädchen</td>\n",
       "      <td>1990</td>\n",
       "      <td>866656</td>\n",
       "      <td>Sternmädchen by Nina Hagen</td>\n",
       "      <td>{'year': 1995, 'month': 1, 'day': 1}</td>\n",
       "      <td>January 1, 1995</td>\n",
       "      <td>{'unreviewed_annotations': 0, 'hot': False}</td>\n",
       "      <td>Sternmädchen LyricsIch bin ’n Sternmädchen\\nIc...</td>\n",
       "    </tr>\n",
       "    <tr>\n",
       "      <th>4306</th>\n",
       "      <td>Schlager</td>\n",
       "      <td>Nina Hagen</td>\n",
       "      <td>FreuD Euch</td>\n",
       "      <td>1995</td>\n",
       "      <td>Wende</td>\n",
       "      <td>1990</td>\n",
       "      <td>1499355</td>\n",
       "      <td>Wende by Nina Hagen</td>\n",
       "      <td>{'year': 1995, 'month': 1, 'day': 1}</td>\n",
       "      <td>January 1, 1995</td>\n",
       "      <td>{'unreviewed_annotations': 0, 'hot': False}</td>\n",
       "      <td>Wende Lyrics\\nDu sollst nicht alles glauben wa...</td>\n",
       "    </tr>\n",
       "    <tr>\n",
       "      <th>4305</th>\n",
       "      <td>Schlager</td>\n",
       "      <td>Nina Hagen</td>\n",
       "      <td>FreuD Euch</td>\n",
       "      <td>1995</td>\n",
       "      <td>Freiheitslied</td>\n",
       "      <td>1990</td>\n",
       "      <td>930380</td>\n",
       "      <td>Freiheitslied by Nina Hagen</td>\n",
       "      <td>{'year': 1995, 'month': 1, 'day': 1}</td>\n",
       "      <td>January 1, 1995</td>\n",
       "      <td>{'unreviewed_annotations': 0, 'hot': False}</td>\n",
       "      <td>Freiheitslied Lyrics\\nIch bin schon vierzig Ja...</td>\n",
       "    </tr>\n",
       "    <tr>\n",
       "      <th>4304</th>\n",
       "      <td>Schlager</td>\n",
       "      <td>Nina Hagen</td>\n",
       "      <td>FreuD Euch</td>\n",
       "      <td>1995</td>\n",
       "      <td>Abgehaun</td>\n",
       "      <td>1990</td>\n",
       "      <td>1254096</td>\n",
       "      <td>Abgehaun by Nina Hagen</td>\n",
       "      <td>{'year': 1995, 'month': 1, 'day': 1}</td>\n",
       "      <td>January 1, 1995</td>\n",
       "      <td>{'unreviewed_annotations': 0, 'hot': False}</td>\n",
       "      <td>Abgehaun Lyrics\\nWo ich bin kann ich nicht sei...</td>\n",
       "    </tr>\n",
       "    <tr>\n",
       "      <th>4303</th>\n",
       "      <td>Schlager</td>\n",
       "      <td>Nina Hagen</td>\n",
       "      <td>FreuD Euch</td>\n",
       "      <td>1995</td>\n",
       "      <td>Sonntagmorgen</td>\n",
       "      <td>1990</td>\n",
       "      <td>1139835</td>\n",
       "      <td>Sonntagmorgen by Nina Hagen</td>\n",
       "      <td>{'year': 1995, 'month': 1, 'day': 1}</td>\n",
       "      <td>January 1, 1995</td>\n",
       "      <td>{'unreviewed_annotations': 0, 'hot': False}</td>\n",
       "      <td>Sonntagmorgen Lyrics\\nSonntagmorgen\\nUnd deine...</td>\n",
       "    </tr>\n",
       "    <tr>\n",
       "      <th>...</th>\n",
       "      <td>...</td>\n",
       "      <td>...</td>\n",
       "      <td>...</td>\n",
       "      <td>...</td>\n",
       "      <td>...</td>\n",
       "      <td>...</td>\n",
       "      <td>...</td>\n",
       "      <td>...</td>\n",
       "      <td>...</td>\n",
       "      <td>...</td>\n",
       "      <td>...</td>\n",
       "      <td>...</td>\n",
       "    </tr>\n",
       "    <tr>\n",
       "      <th>3996</th>\n",
       "      <td>Schlager</td>\n",
       "      <td>Andrea Berg</td>\n",
       "      <td>Du bist frei</td>\n",
       "      <td>2004</td>\n",
       "      <td>Und dann fehlt mir der Mut</td>\n",
       "      <td>2000</td>\n",
       "      <td>1431250</td>\n",
       "      <td>Und dann fehlt mir der Mut by Andrea Berg</td>\n",
       "      <td>NaN</td>\n",
       "      <td>NaN</td>\n",
       "      <td>{'unreviewed_annotations': 0, 'hot': False}</td>\n",
       "      <td>Und dann fehlt mir der Mut LyricsNur einen Tis...</td>\n",
       "    </tr>\n",
       "    <tr>\n",
       "      <th>3997</th>\n",
       "      <td>Schlager</td>\n",
       "      <td>Andrea Berg</td>\n",
       "      <td>Du bist frei</td>\n",
       "      <td>2004</td>\n",
       "      <td>Weil ich dich liebe</td>\n",
       "      <td>2000</td>\n",
       "      <td>1634078</td>\n",
       "      <td>Weil ich dich liebe by Andrea Berg</td>\n",
       "      <td>NaN</td>\n",
       "      <td>NaN</td>\n",
       "      <td>{'unreviewed_annotations': 0, 'hot': False}</td>\n",
       "      <td>Weil ich dich liebe LyricsRegen fällt und der ...</td>\n",
       "    </tr>\n",
       "    <tr>\n",
       "      <th>3998</th>\n",
       "      <td>Schlager</td>\n",
       "      <td>Andrea Berg</td>\n",
       "      <td>Du bist frei</td>\n",
       "      <td>2004</td>\n",
       "      <td>Schwarzes Labyrinth</td>\n",
       "      <td>2000</td>\n",
       "      <td>1059446</td>\n",
       "      <td>Schwarzes Labyrinth by Andrea Berg</td>\n",
       "      <td>NaN</td>\n",
       "      <td>NaN</td>\n",
       "      <td>{'unreviewed_annotations': 0, 'hot': False}</td>\n",
       "      <td>Schwarzes Labyrinth LyricsFlüsternde Macht drä...</td>\n",
       "    </tr>\n",
       "    <tr>\n",
       "      <th>1296</th>\n",
       "      <td>Rap</td>\n",
       "      <td>Bushido</td>\n",
       "      <td>Electro Ghetto</td>\n",
       "      <td>2004</td>\n",
       "      <td>Teufelskreis</td>\n",
       "      <td>2000</td>\n",
       "      <td>56786</td>\n",
       "      <td>Teufelskreis by Bushido (Ft. Sentino)</td>\n",
       "      <td>{'year': 2004, 'month': 10, 'day': 24}</td>\n",
       "      <td>October 24, 2004</td>\n",
       "      <td>{'unreviewed_annotations': 0, 'hot': False}</td>\n",
       "      <td>Teufelskreis Lyrics\\n\\nBadam-bam-bam\\nAh, yo\\n...</td>\n",
       "    </tr>\n",
       "    <tr>\n",
       "      <th>141</th>\n",
       "      <td>Pop</td>\n",
       "      <td>Clueso</td>\n",
       "      <td>Gute Musik</td>\n",
       "      <td>2004</td>\n",
       "      <td>Nacht Unterwegs</td>\n",
       "      <td>2000</td>\n",
       "      <td>599391</td>\n",
       "      <td>Nacht unterwegs by Clueso</td>\n",
       "      <td>NaN</td>\n",
       "      <td>NaN</td>\n",
       "      <td>{'unreviewed_annotations': 0, 'hot': False}</td>\n",
       "      <td>Nacht unterwegs Lyrics\\nGuten tag\\nDa müsste e...</td>\n",
       "    </tr>\n",
       "  </tbody>\n",
       "</table>\n",
       "<p>1015 rows × 12 columns</p>\n",
       "</div>"
      ],
      "text/plain": [
       "         genre    interpret           album  release_year  \\\n",
       "4309  Schlager   Nina Hagen      FreuD Euch          1995   \n",
       "4306  Schlager   Nina Hagen      FreuD Euch          1995   \n",
       "4305  Schlager   Nina Hagen      FreuD Euch          1995   \n",
       "4304  Schlager   Nina Hagen      FreuD Euch          1995   \n",
       "4303  Schlager   Nina Hagen      FreuD Euch          1995   \n",
       "...        ...          ...             ...           ...   \n",
       "3996  Schlager  Andrea Berg    Du bist frei          2004   \n",
       "3997  Schlager  Andrea Berg    Du bist frei          2004   \n",
       "3998  Schlager  Andrea Berg    Du bist frei          2004   \n",
       "1296       Rap      Bushido  Electro Ghetto          2004   \n",
       "141        Pop       Clueso      Gute Musik          2004   \n",
       "\n",
       "                       songtitle  decade  song_id  \\\n",
       "4309                Sternmädchen    1990   866656   \n",
       "4306                       Wende    1990  1499355   \n",
       "4305               Freiheitslied    1990   930380   \n",
       "4304                    Abgehaun    1990  1254096   \n",
       "4303               Sonntagmorgen    1990  1139835   \n",
       "...                          ...     ...      ...   \n",
       "3996  Und dann fehlt mir der Mut    2000  1431250   \n",
       "3997         Weil ich dich liebe    2000  1634078   \n",
       "3998         Schwarzes Labyrinth    2000  1059446   \n",
       "1296                Teufelskreis    2000    56786   \n",
       "141              Nacht Unterwegs    2000   599391   \n",
       "\n",
       "                                     full_title  \\\n",
       "4309                 Sternmädchen by Nina Hagen   \n",
       "4306                        Wende by Nina Hagen   \n",
       "4305                Freiheitslied by Nina Hagen   \n",
       "4304                     Abgehaun by Nina Hagen   \n",
       "4303                Sonntagmorgen by Nina Hagen   \n",
       "...                                         ...   \n",
       "3996  Und dann fehlt mir der Mut by Andrea Berg   \n",
       "3997         Weil ich dich liebe by Andrea Berg   \n",
       "3998         Schwarzes Labyrinth by Andrea Berg   \n",
       "1296      Teufelskreis by Bushido (Ft. Sentino)   \n",
       "141                   Nacht unterwegs by Clueso   \n",
       "\n",
       "                 release_date_components_raw release_date_for_display  \\\n",
       "4309    {'year': 1995, 'month': 1, 'day': 1}          January 1, 1995   \n",
       "4306    {'year': 1995, 'month': 1, 'day': 1}          January 1, 1995   \n",
       "4305    {'year': 1995, 'month': 1, 'day': 1}          January 1, 1995   \n",
       "4304    {'year': 1995, 'month': 1, 'day': 1}          January 1, 1995   \n",
       "4303    {'year': 1995, 'month': 1, 'day': 1}          January 1, 1995   \n",
       "...                                      ...                      ...   \n",
       "3996                                     NaN                      NaN   \n",
       "3997                                     NaN                      NaN   \n",
       "3998                                     NaN                      NaN   \n",
       "1296  {'year': 2004, 'month': 10, 'day': 24}         October 24, 2004   \n",
       "141                                      NaN                      NaN   \n",
       "\n",
       "                                        stats_raw  \\\n",
       "4309  {'unreviewed_annotations': 0, 'hot': False}   \n",
       "4306  {'unreviewed_annotations': 0, 'hot': False}   \n",
       "4305  {'unreviewed_annotations': 0, 'hot': False}   \n",
       "4304  {'unreviewed_annotations': 0, 'hot': False}   \n",
       "4303  {'unreviewed_annotations': 0, 'hot': False}   \n",
       "...                                           ...   \n",
       "3996  {'unreviewed_annotations': 0, 'hot': False}   \n",
       "3997  {'unreviewed_annotations': 0, 'hot': False}   \n",
       "3998  {'unreviewed_annotations': 0, 'hot': False}   \n",
       "1296  {'unreviewed_annotations': 0, 'hot': False}   \n",
       "141   {'unreviewed_annotations': 0, 'hot': False}   \n",
       "\n",
       "                                                 lyrics  \n",
       "4309  Sternmädchen LyricsIch bin ’n Sternmädchen\\nIc...  \n",
       "4306  Wende Lyrics\\nDu sollst nicht alles glauben wa...  \n",
       "4305  Freiheitslied Lyrics\\nIch bin schon vierzig Ja...  \n",
       "4304  Abgehaun Lyrics\\nWo ich bin kann ich nicht sei...  \n",
       "4303  Sonntagmorgen Lyrics\\nSonntagmorgen\\nUnd deine...  \n",
       "...                                                 ...  \n",
       "3996  Und dann fehlt mir der Mut LyricsNur einen Tis...  \n",
       "3997  Weil ich dich liebe LyricsRegen fällt und der ...  \n",
       "3998  Schwarzes Labyrinth LyricsFlüsternde Macht drä...  \n",
       "1296  Teufelskreis Lyrics\\n\\nBadam-bam-bam\\nAh, yo\\n...  \n",
       "141   Nacht unterwegs Lyrics\\nGuten tag\\nDa müsste e...  \n",
       "\n",
       "[1015 rows x 12 columns]"
      ]
     },
     "execution_count": 26,
     "metadata": {},
     "output_type": "execute_result"
    }
   ],
   "source": [
    "data[(data.release_year >= 1995) & (data.release_year < 2005)].sort_values('release_year')"
   ]
  },
  {
   "cell_type": "code",
   "execution_count": 27,
   "metadata": {},
   "outputs": [],
   "source": [
    "import math\n",
    "data['decade'] = data['release_year'].map(lambda x : int(math.trunc(x / 10) * 10))"
   ]
  },
  {
   "cell_type": "code",
   "execution_count": 28,
   "metadata": {},
   "outputs": [],
   "source": [
    "genre_pivot_decade = data.pivot_table(index='decade', columns='genre', aggfunc='size', fill_value=0)"
   ]
  },
  {
   "cell_type": "code",
   "execution_count": 29,
   "metadata": {},
   "outputs": [
    {
     "data": {
      "application/vnd.plotly.v1+json": {
       "config": {
        "plotlyServerURL": "https://plot.ly"
       },
       "data": [
        {
         "alignmentgroup": "True",
         "hovertemplate": "genre=Pop<br>decade=%{x}<br>value=%{y}<extra></extra>",
         "legendgroup": "Pop",
         "marker": {
          "color": "#636efa",
          "pattern": {
           "shape": ""
          }
         },
         "name": "Pop",
         "offsetgroup": "Pop",
         "orientation": "v",
         "showlegend": true,
         "textposition": "auto",
         "type": "bar",
         "x": [
          1960,
          1970,
          1980,
          1990,
          2000,
          2010
         ],
         "xaxis": "x",
         "y": [
          0,
          10,
          101,
          97,
          457,
          460
         ],
         "yaxis": "y"
        },
        {
         "alignmentgroup": "True",
         "hovertemplate": "genre=Rap<br>decade=%{x}<br>value=%{y}<extra></extra>",
         "legendgroup": "Rap",
         "marker": {
          "color": "#EF553B",
          "pattern": {
           "shape": ""
          }
         },
         "name": "Rap",
         "offsetgroup": "Rap",
         "orientation": "v",
         "showlegend": true,
         "textposition": "auto",
         "type": "bar",
         "x": [
          1960,
          1970,
          1980,
          1990,
          2000,
          2010
         ],
         "xaxis": "x",
         "y": [
          0,
          0,
          0,
          107,
          687,
          750
         ],
         "yaxis": "y"
        },
        {
         "alignmentgroup": "True",
         "hovertemplate": "genre=Rock<br>decade=%{x}<br>value=%{y}<extra></extra>",
         "legendgroup": "Rock",
         "marker": {
          "color": "#00cc96",
          "pattern": {
           "shape": ""
          }
         },
         "name": "Rock",
         "offsetgroup": "Rock",
         "orientation": "v",
         "showlegend": true,
         "textposition": "auto",
         "type": "bar",
         "x": [
          1960,
          1970,
          1980,
          1990,
          2000,
          2010
         ],
         "xaxis": "x",
         "y": [
          0,
          51,
          124,
          192,
          594,
          301
         ],
         "yaxis": "y"
        },
        {
         "alignmentgroup": "True",
         "hovertemplate": "genre=Schlager<br>decade=%{x}<br>value=%{y}<extra></extra>",
         "legendgroup": "Schlager",
         "marker": {
          "color": "#ab63fa",
          "pattern": {
           "shape": ""
          }
         },
         "name": "Schlager",
         "offsetgroup": "Schlager",
         "orientation": "v",
         "showlegend": true,
         "textposition": "auto",
         "type": "bar",
         "x": [
          1960,
          1970,
          1980,
          1990,
          2000,
          2010
         ],
         "xaxis": "x",
         "y": [
          9,
          41,
          85,
          137,
          245,
          94
         ],
         "yaxis": "y"
        }
       ],
       "layout": {
        "barmode": "group",
        "legend": {
         "title": {
          "text": "genre"
         },
         "tracegroupgap": 0
        },
        "template": {
         "data": {
          "bar": [
           {
            "error_x": {
             "color": "#2a3f5f"
            },
            "error_y": {
             "color": "#2a3f5f"
            },
            "marker": {
             "line": {
              "color": "#E5ECF6",
              "width": 0.5
             },
             "pattern": {
              "fillmode": "overlay",
              "size": 10,
              "solidity": 0.2
             }
            },
            "type": "bar"
           }
          ],
          "barpolar": [
           {
            "marker": {
             "line": {
              "color": "#E5ECF6",
              "width": 0.5
             },
             "pattern": {
              "fillmode": "overlay",
              "size": 10,
              "solidity": 0.2
             }
            },
            "type": "barpolar"
           }
          ],
          "carpet": [
           {
            "aaxis": {
             "endlinecolor": "#2a3f5f",
             "gridcolor": "white",
             "linecolor": "white",
             "minorgridcolor": "white",
             "startlinecolor": "#2a3f5f"
            },
            "baxis": {
             "endlinecolor": "#2a3f5f",
             "gridcolor": "white",
             "linecolor": "white",
             "minorgridcolor": "white",
             "startlinecolor": "#2a3f5f"
            },
            "type": "carpet"
           }
          ],
          "choropleth": [
           {
            "colorbar": {
             "outlinewidth": 0,
             "ticks": ""
            },
            "type": "choropleth"
           }
          ],
          "contour": [
           {
            "colorbar": {
             "outlinewidth": 0,
             "ticks": ""
            },
            "colorscale": [
             [
              0,
              "#0d0887"
             ],
             [
              0.1111111111111111,
              "#46039f"
             ],
             [
              0.2222222222222222,
              "#7201a8"
             ],
             [
              0.3333333333333333,
              "#9c179e"
             ],
             [
              0.4444444444444444,
              "#bd3786"
             ],
             [
              0.5555555555555556,
              "#d8576b"
             ],
             [
              0.6666666666666666,
              "#ed7953"
             ],
             [
              0.7777777777777778,
              "#fb9f3a"
             ],
             [
              0.8888888888888888,
              "#fdca26"
             ],
             [
              1,
              "#f0f921"
             ]
            ],
            "type": "contour"
           }
          ],
          "contourcarpet": [
           {
            "colorbar": {
             "outlinewidth": 0,
             "ticks": ""
            },
            "type": "contourcarpet"
           }
          ],
          "heatmap": [
           {
            "colorbar": {
             "outlinewidth": 0,
             "ticks": ""
            },
            "colorscale": [
             [
              0,
              "#0d0887"
             ],
             [
              0.1111111111111111,
              "#46039f"
             ],
             [
              0.2222222222222222,
              "#7201a8"
             ],
             [
              0.3333333333333333,
              "#9c179e"
             ],
             [
              0.4444444444444444,
              "#bd3786"
             ],
             [
              0.5555555555555556,
              "#d8576b"
             ],
             [
              0.6666666666666666,
              "#ed7953"
             ],
             [
              0.7777777777777778,
              "#fb9f3a"
             ],
             [
              0.8888888888888888,
              "#fdca26"
             ],
             [
              1,
              "#f0f921"
             ]
            ],
            "type": "heatmap"
           }
          ],
          "heatmapgl": [
           {
            "colorbar": {
             "outlinewidth": 0,
             "ticks": ""
            },
            "colorscale": [
             [
              0,
              "#0d0887"
             ],
             [
              0.1111111111111111,
              "#46039f"
             ],
             [
              0.2222222222222222,
              "#7201a8"
             ],
             [
              0.3333333333333333,
              "#9c179e"
             ],
             [
              0.4444444444444444,
              "#bd3786"
             ],
             [
              0.5555555555555556,
              "#d8576b"
             ],
             [
              0.6666666666666666,
              "#ed7953"
             ],
             [
              0.7777777777777778,
              "#fb9f3a"
             ],
             [
              0.8888888888888888,
              "#fdca26"
             ],
             [
              1,
              "#f0f921"
             ]
            ],
            "type": "heatmapgl"
           }
          ],
          "histogram": [
           {
            "marker": {
             "pattern": {
              "fillmode": "overlay",
              "size": 10,
              "solidity": 0.2
             }
            },
            "type": "histogram"
           }
          ],
          "histogram2d": [
           {
            "colorbar": {
             "outlinewidth": 0,
             "ticks": ""
            },
            "colorscale": [
             [
              0,
              "#0d0887"
             ],
             [
              0.1111111111111111,
              "#46039f"
             ],
             [
              0.2222222222222222,
              "#7201a8"
             ],
             [
              0.3333333333333333,
              "#9c179e"
             ],
             [
              0.4444444444444444,
              "#bd3786"
             ],
             [
              0.5555555555555556,
              "#d8576b"
             ],
             [
              0.6666666666666666,
              "#ed7953"
             ],
             [
              0.7777777777777778,
              "#fb9f3a"
             ],
             [
              0.8888888888888888,
              "#fdca26"
             ],
             [
              1,
              "#f0f921"
             ]
            ],
            "type": "histogram2d"
           }
          ],
          "histogram2dcontour": [
           {
            "colorbar": {
             "outlinewidth": 0,
             "ticks": ""
            },
            "colorscale": [
             [
              0,
              "#0d0887"
             ],
             [
              0.1111111111111111,
              "#46039f"
             ],
             [
              0.2222222222222222,
              "#7201a8"
             ],
             [
              0.3333333333333333,
              "#9c179e"
             ],
             [
              0.4444444444444444,
              "#bd3786"
             ],
             [
              0.5555555555555556,
              "#d8576b"
             ],
             [
              0.6666666666666666,
              "#ed7953"
             ],
             [
              0.7777777777777778,
              "#fb9f3a"
             ],
             [
              0.8888888888888888,
              "#fdca26"
             ],
             [
              1,
              "#f0f921"
             ]
            ],
            "type": "histogram2dcontour"
           }
          ],
          "mesh3d": [
           {
            "colorbar": {
             "outlinewidth": 0,
             "ticks": ""
            },
            "type": "mesh3d"
           }
          ],
          "parcoords": [
           {
            "line": {
             "colorbar": {
              "outlinewidth": 0,
              "ticks": ""
             }
            },
            "type": "parcoords"
           }
          ],
          "pie": [
           {
            "automargin": true,
            "type": "pie"
           }
          ],
          "scatter": [
           {
            "fillpattern": {
             "fillmode": "overlay",
             "size": 10,
             "solidity": 0.2
            },
            "type": "scatter"
           }
          ],
          "scatter3d": [
           {
            "line": {
             "colorbar": {
              "outlinewidth": 0,
              "ticks": ""
             }
            },
            "marker": {
             "colorbar": {
              "outlinewidth": 0,
              "ticks": ""
             }
            },
            "type": "scatter3d"
           }
          ],
          "scattercarpet": [
           {
            "marker": {
             "colorbar": {
              "outlinewidth": 0,
              "ticks": ""
             }
            },
            "type": "scattercarpet"
           }
          ],
          "scattergeo": [
           {
            "marker": {
             "colorbar": {
              "outlinewidth": 0,
              "ticks": ""
             }
            },
            "type": "scattergeo"
           }
          ],
          "scattergl": [
           {
            "marker": {
             "colorbar": {
              "outlinewidth": 0,
              "ticks": ""
             }
            },
            "type": "scattergl"
           }
          ],
          "scattermapbox": [
           {
            "marker": {
             "colorbar": {
              "outlinewidth": 0,
              "ticks": ""
             }
            },
            "type": "scattermapbox"
           }
          ],
          "scatterpolar": [
           {
            "marker": {
             "colorbar": {
              "outlinewidth": 0,
              "ticks": ""
             }
            },
            "type": "scatterpolar"
           }
          ],
          "scatterpolargl": [
           {
            "marker": {
             "colorbar": {
              "outlinewidth": 0,
              "ticks": ""
             }
            },
            "type": "scatterpolargl"
           }
          ],
          "scatterternary": [
           {
            "marker": {
             "colorbar": {
              "outlinewidth": 0,
              "ticks": ""
             }
            },
            "type": "scatterternary"
           }
          ],
          "surface": [
           {
            "colorbar": {
             "outlinewidth": 0,
             "ticks": ""
            },
            "colorscale": [
             [
              0,
              "#0d0887"
             ],
             [
              0.1111111111111111,
              "#46039f"
             ],
             [
              0.2222222222222222,
              "#7201a8"
             ],
             [
              0.3333333333333333,
              "#9c179e"
             ],
             [
              0.4444444444444444,
              "#bd3786"
             ],
             [
              0.5555555555555556,
              "#d8576b"
             ],
             [
              0.6666666666666666,
              "#ed7953"
             ],
             [
              0.7777777777777778,
              "#fb9f3a"
             ],
             [
              0.8888888888888888,
              "#fdca26"
             ],
             [
              1,
              "#f0f921"
             ]
            ],
            "type": "surface"
           }
          ],
          "table": [
           {
            "cells": {
             "fill": {
              "color": "#EBF0F8"
             },
             "line": {
              "color": "white"
             }
            },
            "header": {
             "fill": {
              "color": "#C8D4E3"
             },
             "line": {
              "color": "white"
             }
            },
            "type": "table"
           }
          ]
         },
         "layout": {
          "annotationdefaults": {
           "arrowcolor": "#2a3f5f",
           "arrowhead": 0,
           "arrowwidth": 1
          },
          "autotypenumbers": "strict",
          "coloraxis": {
           "colorbar": {
            "outlinewidth": 0,
            "ticks": ""
           }
          },
          "colorscale": {
           "diverging": [
            [
             0,
             "#8e0152"
            ],
            [
             0.1,
             "#c51b7d"
            ],
            [
             0.2,
             "#de77ae"
            ],
            [
             0.3,
             "#f1b6da"
            ],
            [
             0.4,
             "#fde0ef"
            ],
            [
             0.5,
             "#f7f7f7"
            ],
            [
             0.6,
             "#e6f5d0"
            ],
            [
             0.7,
             "#b8e186"
            ],
            [
             0.8,
             "#7fbc41"
            ],
            [
             0.9,
             "#4d9221"
            ],
            [
             1,
             "#276419"
            ]
           ],
           "sequential": [
            [
             0,
             "#0d0887"
            ],
            [
             0.1111111111111111,
             "#46039f"
            ],
            [
             0.2222222222222222,
             "#7201a8"
            ],
            [
             0.3333333333333333,
             "#9c179e"
            ],
            [
             0.4444444444444444,
             "#bd3786"
            ],
            [
             0.5555555555555556,
             "#d8576b"
            ],
            [
             0.6666666666666666,
             "#ed7953"
            ],
            [
             0.7777777777777778,
             "#fb9f3a"
            ],
            [
             0.8888888888888888,
             "#fdca26"
            ],
            [
             1,
             "#f0f921"
            ]
           ],
           "sequentialminus": [
            [
             0,
             "#0d0887"
            ],
            [
             0.1111111111111111,
             "#46039f"
            ],
            [
             0.2222222222222222,
             "#7201a8"
            ],
            [
             0.3333333333333333,
             "#9c179e"
            ],
            [
             0.4444444444444444,
             "#bd3786"
            ],
            [
             0.5555555555555556,
             "#d8576b"
            ],
            [
             0.6666666666666666,
             "#ed7953"
            ],
            [
             0.7777777777777778,
             "#fb9f3a"
            ],
            [
             0.8888888888888888,
             "#fdca26"
            ],
            [
             1,
             "#f0f921"
            ]
           ]
          },
          "colorway": [
           "#636efa",
           "#EF553B",
           "#00cc96",
           "#ab63fa",
           "#FFA15A",
           "#19d3f3",
           "#FF6692",
           "#B6E880",
           "#FF97FF",
           "#FECB52"
          ],
          "font": {
           "color": "#2a3f5f"
          },
          "geo": {
           "bgcolor": "white",
           "lakecolor": "white",
           "landcolor": "#E5ECF6",
           "showlakes": true,
           "showland": true,
           "subunitcolor": "white"
          },
          "hoverlabel": {
           "align": "left"
          },
          "hovermode": "closest",
          "mapbox": {
           "style": "light"
          },
          "paper_bgcolor": "white",
          "plot_bgcolor": "#E5ECF6",
          "polar": {
           "angularaxis": {
            "gridcolor": "white",
            "linecolor": "white",
            "ticks": ""
           },
           "bgcolor": "#E5ECF6",
           "radialaxis": {
            "gridcolor": "white",
            "linecolor": "white",
            "ticks": ""
           }
          },
          "scene": {
           "xaxis": {
            "backgroundcolor": "#E5ECF6",
            "gridcolor": "white",
            "gridwidth": 2,
            "linecolor": "white",
            "showbackground": true,
            "ticks": "",
            "zerolinecolor": "white"
           },
           "yaxis": {
            "backgroundcolor": "#E5ECF6",
            "gridcolor": "white",
            "gridwidth": 2,
            "linecolor": "white",
            "showbackground": true,
            "ticks": "",
            "zerolinecolor": "white"
           },
           "zaxis": {
            "backgroundcolor": "#E5ECF6",
            "gridcolor": "white",
            "gridwidth": 2,
            "linecolor": "white",
            "showbackground": true,
            "ticks": "",
            "zerolinecolor": "white"
           }
          },
          "shapedefaults": {
           "line": {
            "color": "#2a3f5f"
           }
          },
          "ternary": {
           "aaxis": {
            "gridcolor": "white",
            "linecolor": "white",
            "ticks": ""
           },
           "baxis": {
            "gridcolor": "white",
            "linecolor": "white",
            "ticks": ""
           },
           "bgcolor": "#E5ECF6",
           "caxis": {
            "gridcolor": "white",
            "linecolor": "white",
            "ticks": ""
           }
          },
          "title": {
           "x": 0.05
          },
          "xaxis": {
           "automargin": true,
           "gridcolor": "white",
           "linecolor": "white",
           "ticks": "",
           "title": {
            "standoff": 15
           },
           "zerolinecolor": "white",
           "zerolinewidth": 2
          },
          "yaxis": {
           "automargin": true,
           "gridcolor": "white",
           "linecolor": "white",
           "ticks": "",
           "title": {
            "standoff": 15
           },
           "zerolinecolor": "white",
           "zerolinewidth": 2
          }
         }
        },
        "title": {
         "text": "Genre by Release Year"
        },
        "xaxis": {
         "anchor": "y",
         "domain": [
          0,
          1
         ],
         "title": {
          "text": "decade"
         }
        },
        "yaxis": {
         "anchor": "x",
         "domain": [
          0,
          1
         ],
         "title": {
          "text": "value"
         }
        }
       }
      }
     },
     "metadata": {},
     "output_type": "display_data"
    }
   ],
   "source": [
    "genre_decade_fig = genre_pivot_decade.plot(kind='bar', title='Genre by Release Year')\n",
    "genre_decade_fig.update_layout(barmode='group')\n",
    "genre_decade_fig.show()"
   ]
  },
  {
   "cell_type": "markdown",
   "metadata": {},
   "source": [
    "### Start eigener Code"
   ]
  },
  {
   "cell_type": "code",
   "execution_count": 20,
   "metadata": {},
   "outputs": [
    {
     "data": {
      "text/html": [
       "<div>\n",
       "<style scoped>\n",
       "    .dataframe tbody tr th:only-of-type {\n",
       "        vertical-align: middle;\n",
       "    }\n",
       "\n",
       "    .dataframe tbody tr th {\n",
       "        vertical-align: top;\n",
       "    }\n",
       "\n",
       "    .dataframe thead th {\n",
       "        text-align: right;\n",
       "    }\n",
       "</style>\n",
       "<table border=\"1\" class=\"dataframe\">\n",
       "  <thead>\n",
       "    <tr style=\"text-align: right;\">\n",
       "      <th></th>\n",
       "      <th>genre</th>\n",
       "      <th>interpret</th>\n",
       "      <th>album</th>\n",
       "      <th>release_year</th>\n",
       "      <th>songtitle</th>\n",
       "      <th>decade</th>\n",
       "      <th>song_id</th>\n",
       "      <th>full_title</th>\n",
       "      <th>release_date_components_raw</th>\n",
       "      <th>release_date_for_display</th>\n",
       "      <th>stats_raw</th>\n",
       "      <th>lyrics</th>\n",
       "    </tr>\n",
       "  </thead>\n",
       "  <tbody>\n",
       "    <tr>\n",
       "      <th>1176</th>\n",
       "      <td>Rap</td>\n",
       "      <td>Alligatoah</td>\n",
       "      <td>Schlaftabletten, Rotwein III</td>\n",
       "      <td>2011</td>\n",
       "      <td>Schwamm drüber</td>\n",
       "      <td>2010</td>\n",
       "      <td>109913</td>\n",
       "      <td>Schwamm drüber by Alligatoah</td>\n",
       "      <td>{'year': 2011, 'month': 2, 'day': 25}</td>\n",
       "      <td>February 25, 2011</td>\n",
       "      <td>{'unreviewed_annotations': 7, 'hot': False, 'p...</td>\n",
       "      <td>Schwamm drüber Lyrics\\nIn meiner Wohnung leben...</td>\n",
       "    </tr>\n",
       "  </tbody>\n",
       "</table>\n",
       "</div>"
      ],
      "text/plain": [
       "     genre   interpret                         album  release_year  \\\n",
       "1176   Rap  Alligatoah  Schlaftabletten, Rotwein III          2011   \n",
       "\n",
       "           songtitle  decade  song_id                    full_title  \\\n",
       "1176  Schwamm drüber    2010   109913  Schwamm drüber by Alligatoah   \n",
       "\n",
       "                release_date_components_raw release_date_for_display  \\\n",
       "1176  {'year': 2011, 'month': 2, 'day': 25}        February 25, 2011   \n",
       "\n",
       "                                              stats_raw  \\\n",
       "1176  {'unreviewed_annotations': 7, 'hot': False, 'p...   \n",
       "\n",
       "                                                 lyrics  \n",
       "1176  Schwamm drüber Lyrics\\nIn meiner Wohnung leben...  "
      ]
     },
     "execution_count": 20,
     "metadata": {},
     "output_type": "execute_result"
    }
   ],
   "source": [
    "data.loc[data[\"lyrics\"].str.contains(\"Erbsenzähler\", case=False)]"
   ]
  },
  {
   "cell_type": "code",
   "execution_count": 32,
   "metadata": {},
   "outputs": [
    {
     "ename": "TypeError",
     "evalue": "iterrows() takes 1 positional argument but 2 were given",
     "output_type": "error",
     "traceback": [
      "\u001b[0;31m---------------------------------------------------------------------------\u001b[0m",
      "\u001b[0;31mTypeError\u001b[0m                                 Traceback (most recent call last)",
      "Cell \u001b[0;32mIn [32], line 1\u001b[0m\n\u001b[0;32m----> 1\u001b[0m \u001b[39mfor\u001b[39;00m i \u001b[39min\u001b[39;00m data\u001b[39m.\u001b[39;49miterrows(\u001b[39m\"\u001b[39;49m\u001b[39mlyrics\u001b[39;49m\u001b[39m\"\u001b[39;49m):\n\u001b[1;32m      2\u001b[0m     \u001b[39mprint\u001b[39m(\u001b[39mlen\u001b[39m(i))\n\u001b[1;32m      3\u001b[0m     \u001b[39mbreak\u001b[39;00m\n",
      "\u001b[0;31mTypeError\u001b[0m: iterrows() takes 1 positional argument but 2 were given"
     ]
    }
   ],
   "source": [
    "for i in data.iterrows(\"lyrics\"):\n",
    "    print(len(i))\n",
    "    break"
   ]
  },
  {
   "cell_type": "code",
   "execution_count": null,
   "metadata": {},
   "outputs": [],
   "source": [
    "with open(\"textdatei.txt\", \"r\") as f:\n",
    "    words = f.read().splitlines()"
   ]
  },
  {
   "cell_type": "code",
   "execution_count": null,
   "metadata": {},
   "outputs": [],
   "source": [
    "word_count={}\n",
    "\n",
    "for word in words"
   ]
  }
 ],
 "metadata": {
  "kernelspec": {
   "display_name": "Python 3.9.1 64-bit ('3.9.1')",
   "language": "python",
   "name": "python3"
  },
  "language_info": {
   "codemirror_mode": {
    "name": "ipython",
    "version": 3
   },
   "file_extension": ".py",
   "mimetype": "text/x-python",
   "name": "python",
   "nbconvert_exporter": "python",
   "pygments_lexer": "ipython3",
   "version": "3.9.1"
  },
  "orig_nbformat": 4,
  "vscode": {
   "interpreter": {
    "hash": "fb408a8a50588f9d482ac690f7d1c5df410608bd4bf41691bb22e16d1eff6208"
   }
  }
 },
 "nbformat": 4,
 "nbformat_minor": 2
}
