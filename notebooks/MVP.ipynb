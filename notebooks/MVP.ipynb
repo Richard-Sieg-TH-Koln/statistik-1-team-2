{
 "cells": [
  {
   "cell_type": "code",
   "execution_count": 1,
   "metadata": {},
   "outputs": [],
   "source": [
    "import pandas as pd"
   ]
  },
  {
   "cell_type": "code",
   "execution_count": 2,
   "metadata": {},
   "outputs": [],
   "source": [
    "data = pd.read_csv('../data/raw/first_dataset_lyrics_only.csv')"
   ]
  },
  {
   "cell_type": "code",
   "execution_count": 3,
   "metadata": {},
   "outputs": [
    {
     "data": {
      "text/html": [
       "<div>\n",
       "<style scoped>\n",
       "    .dataframe tbody tr th:only-of-type {\n",
       "        vertical-align: middle;\n",
       "    }\n",
       "\n",
       "    .dataframe tbody tr th {\n",
       "        vertical-align: top;\n",
       "    }\n",
       "\n",
       "    .dataframe thead th {\n",
       "        text-align: right;\n",
       "    }\n",
       "</style>\n",
       "<table border=\"1\" class=\"dataframe\">\n",
       "  <thead>\n",
       "    <tr style=\"text-align: right;\">\n",
       "      <th></th>\n",
       "      <th>genre</th>\n",
       "      <th>interpret</th>\n",
       "      <th>album</th>\n",
       "      <th>release_year</th>\n",
       "      <th>songtitle</th>\n",
       "      <th>decade</th>\n",
       "      <th>song_id</th>\n",
       "      <th>full_title</th>\n",
       "      <th>release_date_components_raw</th>\n",
       "      <th>release_date_for_display</th>\n",
       "      <th>stats_raw</th>\n",
       "      <th>lyrics</th>\n",
       "    </tr>\n",
       "  </thead>\n",
       "  <tbody>\n",
       "    <tr>\n",
       "      <th>0</th>\n",
       "      <td>Pop</td>\n",
       "      <td>Adel Tawil</td>\n",
       "      <td>Lieder</td>\n",
       "      <td>2013</td>\n",
       "      <td>Immer da</td>\n",
       "      <td>2010</td>\n",
       "      <td>256740</td>\n",
       "      <td>Immer da by Adel Tawil</td>\n",
       "      <td>{'year': 2013, 'month': 11, 'day': 8}</td>\n",
       "      <td>November 8, 2013</td>\n",
       "      <td>{'unreviewed_annotations': 0, 'hot': False}</td>\n",
       "      <td>Immer da Lyrics\\n\\nManchmal hast du gar nichts...</td>\n",
       "    </tr>\n",
       "    <tr>\n",
       "      <th>1</th>\n",
       "      <td>Pop</td>\n",
       "      <td>Adel Tawil</td>\n",
       "      <td>Lieder</td>\n",
       "      <td>2013</td>\n",
       "      <td>Wenn Du liebst</td>\n",
       "      <td>2010</td>\n",
       "      <td>256742</td>\n",
       "      <td>Wenn du liebst by Adel Tawil</td>\n",
       "      <td>{'year': 2013, 'month': 11, 'day': 8}</td>\n",
       "      <td>November 8, 2013</td>\n",
       "      <td>{'unreviewed_annotations': 4, 'hot': False, 'p...</td>\n",
       "      <td>Wenn du liebst Lyrics\\nGanz allein im schwarze...</td>\n",
       "    </tr>\n",
       "    <tr>\n",
       "      <th>2</th>\n",
       "      <td>Pop</td>\n",
       "      <td>Adel Tawil</td>\n",
       "      <td>Lieder</td>\n",
       "      <td>2013</td>\n",
       "      <td>Lieder</td>\n",
       "      <td>2010</td>\n",
       "      <td>236655</td>\n",
       "      <td>Lieder by Adel Tawil</td>\n",
       "      <td>{'year': 2013, 'month': 11, 'day': 8}</td>\n",
       "      <td>November 8, 2013</td>\n",
       "      <td>{'unreviewed_annotations': 0, 'hot': False, 'p...</td>\n",
       "      <td>Lieder Lyrics\\n\\nIch ging wie ein Ägypter\\nHab...</td>\n",
       "    </tr>\n",
       "    <tr>\n",
       "      <th>3</th>\n",
       "      <td>Pop</td>\n",
       "      <td>Adel Tawil</td>\n",
       "      <td>Lieder</td>\n",
       "      <td>2013</td>\n",
       "      <td>Weinen</td>\n",
       "      <td>2010</td>\n",
       "      <td>256745</td>\n",
       "      <td>Weinen by Adel Tawil</td>\n",
       "      <td>{'year': 2013, 'month': 11, 'day': 8}</td>\n",
       "      <td>November 8, 2013</td>\n",
       "      <td>{'unreviewed_annotations': 0, 'hot': False, 'p...</td>\n",
       "      <td>Weinen Lyrics\\n\\nDu warst die ganze Welt für m...</td>\n",
       "    </tr>\n",
       "    <tr>\n",
       "      <th>4</th>\n",
       "      <td>Pop</td>\n",
       "      <td>Adel Tawil</td>\n",
       "      <td>Lieder</td>\n",
       "      <td>2013</td>\n",
       "      <td>Unter Wasser</td>\n",
       "      <td>2010</td>\n",
       "      <td>256747</td>\n",
       "      <td>Unter Wasser by Adel Tawil</td>\n",
       "      <td>{'year': 2013, 'month': 11, 'day': 8}</td>\n",
       "      <td>November 8, 2013</td>\n",
       "      <td>{'unreviewed_annotations': 0, 'hot': False}</td>\n",
       "      <td>Unter Wasser Lyrics\\n\\nKeine Chance, es ist vi...</td>\n",
       "    </tr>\n",
       "  </tbody>\n",
       "</table>\n",
       "</div>"
      ],
      "text/plain": [
       "  genre   interpret   album  release_year       songtitle  decade  song_id  \\\n",
       "0   Pop  Adel Tawil  Lieder          2013        Immer da    2010   256740   \n",
       "1   Pop  Adel Tawil  Lieder          2013  Wenn Du liebst    2010   256742   \n",
       "2   Pop  Adel Tawil  Lieder          2013          Lieder    2010   236655   \n",
       "3   Pop  Adel Tawil  Lieder          2013          Weinen    2010   256745   \n",
       "4   Pop  Adel Tawil  Lieder          2013    Unter Wasser    2010   256747   \n",
       "\n",
       "                     full_title            release_date_components_raw  \\\n",
       "0        Immer da by Adel Tawil  {'year': 2013, 'month': 11, 'day': 8}   \n",
       "1  Wenn du liebst by Adel Tawil  {'year': 2013, 'month': 11, 'day': 8}   \n",
       "2          Lieder by Adel Tawil  {'year': 2013, 'month': 11, 'day': 8}   \n",
       "3          Weinen by Adel Tawil  {'year': 2013, 'month': 11, 'day': 8}   \n",
       "4    Unter Wasser by Adel Tawil  {'year': 2013, 'month': 11, 'day': 8}   \n",
       "\n",
       "  release_date_for_display                                          stats_raw  \\\n",
       "0         November 8, 2013        {'unreviewed_annotations': 0, 'hot': False}   \n",
       "1         November 8, 2013  {'unreviewed_annotations': 4, 'hot': False, 'p...   \n",
       "2         November 8, 2013  {'unreviewed_annotations': 0, 'hot': False, 'p...   \n",
       "3         November 8, 2013  {'unreviewed_annotations': 0, 'hot': False, 'p...   \n",
       "4         November 8, 2013        {'unreviewed_annotations': 0, 'hot': False}   \n",
       "\n",
       "                                              lyrics  \n",
       "0  Immer da Lyrics\\n\\nManchmal hast du gar nichts...  \n",
       "1  Wenn du liebst Lyrics\\nGanz allein im schwarze...  \n",
       "2  Lieder Lyrics\\n\\nIch ging wie ein Ägypter\\nHab...  \n",
       "3  Weinen Lyrics\\n\\nDu warst die ganze Welt für m...  \n",
       "4  Unter Wasser Lyrics\\n\\nKeine Chance, es ist vi...  "
      ]
     },
     "execution_count": 3,
     "metadata": {},
     "output_type": "execute_result"
    }
   ],
   "source": [
    "data.head()"
   ]
  },
  {
   "cell_type": "code",
   "execution_count": 19,
   "metadata": {},
   "outputs": [
    {
     "data": {
      "text/plain": [
       "4542"
      ]
     },
     "execution_count": 19,
     "metadata": {},
     "output_type": "execute_result"
    }
   ],
   "source": [
    "data.value_counts('genre')\n",
    "\n",
    "len(data)"
   ]
  },
  {
   "cell_type": "code",
   "execution_count": 10,
   "metadata": {},
   "outputs": [
    {
     "data": {
      "text/plain": [
       "Die Ärzte             302\n",
       "Udo Lindenberg        168\n",
       "Andrea Berg           147\n",
       "Bushido               132\n",
       "Herbert Grönemeyer    121\n",
       "                     ... \n",
       "DJ Tomekk               4\n",
       "Von wegen Lisbeth       3\n",
       "Karel Gott              2\n",
       "Guildo Horn             1\n",
       "Andreas Gabalier        1\n",
       "Name: interpret, Length: 91, dtype: int64"
      ]
     },
     "execution_count": 10,
     "metadata": {},
     "output_type": "execute_result"
    }
   ],
   "source": [
    "data.interpret.value_counts()"
   ]
  },
  {
   "cell_type": "code",
   "execution_count": 11,
   "metadata": {},
   "outputs": [
    {
     "data": {
      "text/plain": [
       "91"
      ]
     },
     "execution_count": 11,
     "metadata": {},
     "output_type": "execute_result"
    }
   ],
   "source": [
    "len(data.interpret.unique())"
   ]
  },
  {
   "cell_type": "code",
   "execution_count": 12,
   "metadata": {},
   "outputs": [
    {
     "data": {
      "text/plain": [
       "[1966, 2018]"
      ]
     },
     "execution_count": 12,
     "metadata": {},
     "output_type": "execute_result"
    }
   ],
   "source": [
    "[data.release_year.min(), data.release_year.max()]"
   ]
  },
  {
   "cell_type": "code",
   "execution_count": 13,
   "metadata": {},
   "outputs": [
    {
     "data": {
      "text/plain": [
       "array([1966, 1967, 1968, 1970, 1971, 1972, 1973, 1974, 1975, 1976, 1977,\n",
       "       1978, 1979, 1980, 1981, 1982, 1983, 1984, 1985, 1986, 1987, 1988,\n",
       "       1989, 1990, 1991, 1992, 1993, 1994, 1995, 1996, 1997, 1998, 1999,\n",
       "       2000, 2001, 2002, 2003, 2004, 2005, 2006, 2007, 2008, 2009, 2010,\n",
       "       2011, 2012, 2013, 2014, 2015, 2016, 2017, 2018])"
      ]
     },
     "execution_count": 13,
     "metadata": {},
     "output_type": "execute_result"
    }
   ],
   "source": [
    "data.release_year.sort_values().unique()"
   ]
  },
  {
   "cell_type": "code",
   "execution_count": 14,
   "metadata": {},
   "outputs": [
    {
     "data": {
      "text/html": [
       "<div>\n",
       "<style scoped>\n",
       "    .dataframe tbody tr th:only-of-type {\n",
       "        vertical-align: middle;\n",
       "    }\n",
       "\n",
       "    .dataframe tbody tr th {\n",
       "        vertical-align: top;\n",
       "    }\n",
       "\n",
       "    .dataframe thead th {\n",
       "        text-align: right;\n",
       "    }\n",
       "</style>\n",
       "<table border=\"1\" class=\"dataframe\">\n",
       "  <thead>\n",
       "    <tr style=\"text-align: right;\">\n",
       "      <th></th>\n",
       "      <th>release_year</th>\n",
       "      <th>decade</th>\n",
       "      <th>song_id</th>\n",
       "    </tr>\n",
       "  </thead>\n",
       "  <tbody>\n",
       "    <tr>\n",
       "      <th>count</th>\n",
       "      <td>4542.000000</td>\n",
       "      <td>4542.000000</td>\n",
       "      <td>4.542000e+03</td>\n",
       "    </tr>\n",
       "    <tr>\n",
       "      <th>mean</th>\n",
       "      <td>2004.669969</td>\n",
       "      <td>2000.242184</td>\n",
       "      <td>1.188238e+06</td>\n",
       "    </tr>\n",
       "    <tr>\n",
       "      <th>std</th>\n",
       "      <td>9.345956</td>\n",
       "      <td>9.885199</td>\n",
       "      <td>1.286876e+06</td>\n",
       "    </tr>\n",
       "    <tr>\n",
       "      <th>min</th>\n",
       "      <td>1966.000000</td>\n",
       "      <td>1960.000000</td>\n",
       "      <td>1.669000e+03</td>\n",
       "    </tr>\n",
       "    <tr>\n",
       "      <th>25%</th>\n",
       "      <td>2001.000000</td>\n",
       "      <td>2000.000000</td>\n",
       "      <td>3.770165e+05</td>\n",
       "    </tr>\n",
       "    <tr>\n",
       "      <th>50%</th>\n",
       "      <td>2007.000000</td>\n",
       "      <td>2000.000000</td>\n",
       "      <td>7.090190e+05</td>\n",
       "    </tr>\n",
       "    <tr>\n",
       "      <th>75%</th>\n",
       "      <td>2011.000000</td>\n",
       "      <td>2010.000000</td>\n",
       "      <td>1.631335e+06</td>\n",
       "    </tr>\n",
       "    <tr>\n",
       "      <th>max</th>\n",
       "      <td>2018.000000</td>\n",
       "      <td>2010.000000</td>\n",
       "      <td>9.004003e+06</td>\n",
       "    </tr>\n",
       "  </tbody>\n",
       "</table>\n",
       "</div>"
      ],
      "text/plain": [
       "       release_year       decade       song_id\n",
       "count   4542.000000  4542.000000  4.542000e+03\n",
       "mean    2004.669969  2000.242184  1.188238e+06\n",
       "std        9.345956     9.885199  1.286876e+06\n",
       "min     1966.000000  1960.000000  1.669000e+03\n",
       "25%     2001.000000  2000.000000  3.770165e+05\n",
       "50%     2007.000000  2000.000000  7.090190e+05\n",
       "75%     2011.000000  2010.000000  1.631335e+06\n",
       "max     2018.000000  2010.000000  9.004003e+06"
      ]
     },
     "execution_count": 14,
     "metadata": {},
     "output_type": "execute_result"
    }
   ],
   "source": [
    "data.describe()"
   ]
  },
  {
   "cell_type": "code",
   "execution_count": 15,
   "metadata": {},
   "outputs": [],
   "source": [
    "pd.options.plotting.backend = \"plotly\""
   ]
  },
  {
   "cell_type": "code",
   "execution_count": 16,
   "metadata": {},
   "outputs": [],
   "source": [
    "release_year_fig = data.release_year.value_counts().sort_index().plot(kind='bar', title='Release Year')"
   ]
  },
  {
   "cell_type": "code",
   "execution_count": 17,
   "metadata": {},
   "outputs": [
    {
     "data": {
      "application/vnd.plotly.v1+json": {
       "config": {
        "plotlyServerURL": "https://plot.ly"
       },
       "data": [
        {
         "alignmentgroup": "True",
         "hovertemplate": "variable=release_year<br>index=%{x}<br>value=%{y}<extra></extra>",
         "legendgroup": "release_year",
         "marker": {
          "color": "#636efa",
          "pattern": {
           "shape": ""
          }
         },
         "name": "release_year",
         "offsetgroup": "release_year",
         "orientation": "v",
         "showlegend": true,
         "textposition": "auto",
         "type": "bar",
         "x": [
          1966,
          1967,
          1968,
          1970,
          1971,
          1972,
          1973,
          1974,
          1975,
          1976,
          1977,
          1978,
          1979,
          1980,
          1981,
          1982,
          1983,
          1984,
          1985,
          1986,
          1987,
          1988,
          1989,
          1990,
          1991,
          1992,
          1993,
          1994,
          1995,
          1996,
          1997,
          1998,
          1999,
          2000,
          2001,
          2002,
          2003,
          2004,
          2005,
          2006,
          2007,
          2008,
          2009,
          2010,
          2011,
          2012,
          2013,
          2014,
          2015,
          2016,
          2017,
          2018
         ],
         "xaxis": "x",
         "y": [
          3,
          3,
          3,
          1,
          2,
          3,
          17,
          5,
          17,
          25,
          9,
          7,
          16,
          10,
          15,
          15,
          51,
          32,
          39,
          41,
          22,
          47,
          38,
          14,
          29,
          37,
          56,
          44,
          104,
          65,
          43,
          121,
          20,
          116,
          132,
          108,
          163,
          143,
          223,
          399,
          216,
          292,
          191,
          249,
          297,
          248,
          236,
          229,
          122,
          131,
          16,
          77
         ],
         "yaxis": "y"
        }
       ],
       "layout": {
        "barmode": "relative",
        "legend": {
         "title": {
          "text": "variable"
         },
         "tracegroupgap": 0
        },
        "template": {
         "data": {
          "bar": [
           {
            "error_x": {
             "color": "#2a3f5f"
            },
            "error_y": {
             "color": "#2a3f5f"
            },
            "marker": {
             "line": {
              "color": "#E5ECF6",
              "width": 0.5
             },
             "pattern": {
              "fillmode": "overlay",
              "size": 10,
              "solidity": 0.2
             }
            },
            "type": "bar"
           }
          ],
          "barpolar": [
           {
            "marker": {
             "line": {
              "color": "#E5ECF6",
              "width": 0.5
             },
             "pattern": {
              "fillmode": "overlay",
              "size": 10,
              "solidity": 0.2
             }
            },
            "type": "barpolar"
           }
          ],
          "carpet": [
           {
            "aaxis": {
             "endlinecolor": "#2a3f5f",
             "gridcolor": "white",
             "linecolor": "white",
             "minorgridcolor": "white",
             "startlinecolor": "#2a3f5f"
            },
            "baxis": {
             "endlinecolor": "#2a3f5f",
             "gridcolor": "white",
             "linecolor": "white",
             "minorgridcolor": "white",
             "startlinecolor": "#2a3f5f"
            },
            "type": "carpet"
           }
          ],
          "choropleth": [
           {
            "colorbar": {
             "outlinewidth": 0,
             "ticks": ""
            },
            "type": "choropleth"
           }
          ],
          "contour": [
           {
            "colorbar": {
             "outlinewidth": 0,
             "ticks": ""
            },
            "colorscale": [
             [
              0,
              "#0d0887"
             ],
             [
              0.1111111111111111,
              "#46039f"
             ],
             [
              0.2222222222222222,
              "#7201a8"
             ],
             [
              0.3333333333333333,
              "#9c179e"
             ],
             [
              0.4444444444444444,
              "#bd3786"
             ],
             [
              0.5555555555555556,
              "#d8576b"
             ],
             [
              0.6666666666666666,
              "#ed7953"
             ],
             [
              0.7777777777777778,
              "#fb9f3a"
             ],
             [
              0.8888888888888888,
              "#fdca26"
             ],
             [
              1,
              "#f0f921"
             ]
            ],
            "type": "contour"
           }
          ],
          "contourcarpet": [
           {
            "colorbar": {
             "outlinewidth": 0,
             "ticks": ""
            },
            "type": "contourcarpet"
           }
          ],
          "heatmap": [
           {
            "colorbar": {
             "outlinewidth": 0,
             "ticks": ""
            },
            "colorscale": [
             [
              0,
              "#0d0887"
             ],
             [
              0.1111111111111111,
              "#46039f"
             ],
             [
              0.2222222222222222,
              "#7201a8"
             ],
             [
              0.3333333333333333,
              "#9c179e"
             ],
             [
              0.4444444444444444,
              "#bd3786"
             ],
             [
              0.5555555555555556,
              "#d8576b"
             ],
             [
              0.6666666666666666,
              "#ed7953"
             ],
             [
              0.7777777777777778,
              "#fb9f3a"
             ],
             [
              0.8888888888888888,
              "#fdca26"
             ],
             [
              1,
              "#f0f921"
             ]
            ],
            "type": "heatmap"
           }
          ],
          "heatmapgl": [
           {
            "colorbar": {
             "outlinewidth": 0,
             "ticks": ""
            },
            "colorscale": [
             [
              0,
              "#0d0887"
             ],
             [
              0.1111111111111111,
              "#46039f"
             ],
             [
              0.2222222222222222,
              "#7201a8"
             ],
             [
              0.3333333333333333,
              "#9c179e"
             ],
             [
              0.4444444444444444,
              "#bd3786"
             ],
             [
              0.5555555555555556,
              "#d8576b"
             ],
             [
              0.6666666666666666,
              "#ed7953"
             ],
             [
              0.7777777777777778,
              "#fb9f3a"
             ],
             [
              0.8888888888888888,
              "#fdca26"
             ],
             [
              1,
              "#f0f921"
             ]
            ],
            "type": "heatmapgl"
           }
          ],
          "histogram": [
           {
            "marker": {
             "pattern": {
              "fillmode": "overlay",
              "size": 10,
              "solidity": 0.2
             }
            },
            "type": "histogram"
           }
          ],
          "histogram2d": [
           {
            "colorbar": {
             "outlinewidth": 0,
             "ticks": ""
            },
            "colorscale": [
             [
              0,
              "#0d0887"
             ],
             [
              0.1111111111111111,
              "#46039f"
             ],
             [
              0.2222222222222222,
              "#7201a8"
             ],
             [
              0.3333333333333333,
              "#9c179e"
             ],
             [
              0.4444444444444444,
              "#bd3786"
             ],
             [
              0.5555555555555556,
              "#d8576b"
             ],
             [
              0.6666666666666666,
              "#ed7953"
             ],
             [
              0.7777777777777778,
              "#fb9f3a"
             ],
             [
              0.8888888888888888,
              "#fdca26"
             ],
             [
              1,
              "#f0f921"
             ]
            ],
            "type": "histogram2d"
           }
          ],
          "histogram2dcontour": [
           {
            "colorbar": {
             "outlinewidth": 0,
             "ticks": ""
            },
            "colorscale": [
             [
              0,
              "#0d0887"
             ],
             [
              0.1111111111111111,
              "#46039f"
             ],
             [
              0.2222222222222222,
              "#7201a8"
             ],
             [
              0.3333333333333333,
              "#9c179e"
             ],
             [
              0.4444444444444444,
              "#bd3786"
             ],
             [
              0.5555555555555556,
              "#d8576b"
             ],
             [
              0.6666666666666666,
              "#ed7953"
             ],
             [
              0.7777777777777778,
              "#fb9f3a"
             ],
             [
              0.8888888888888888,
              "#fdca26"
             ],
             [
              1,
              "#f0f921"
             ]
            ],
            "type": "histogram2dcontour"
           }
          ],
          "mesh3d": [
           {
            "colorbar": {
             "outlinewidth": 0,
             "ticks": ""
            },
            "type": "mesh3d"
           }
          ],
          "parcoords": [
           {
            "line": {
             "colorbar": {
              "outlinewidth": 0,
              "ticks": ""
             }
            },
            "type": "parcoords"
           }
          ],
          "pie": [
           {
            "automargin": true,
            "type": "pie"
           }
          ],
          "scatter": [
           {
            "fillpattern": {
             "fillmode": "overlay",
             "size": 10,
             "solidity": 0.2
            },
            "type": "scatter"
           }
          ],
          "scatter3d": [
           {
            "line": {
             "colorbar": {
              "outlinewidth": 0,
              "ticks": ""
             }
            },
            "marker": {
             "colorbar": {
              "outlinewidth": 0,
              "ticks": ""
             }
            },
            "type": "scatter3d"
           }
          ],
          "scattercarpet": [
           {
            "marker": {
             "colorbar": {
              "outlinewidth": 0,
              "ticks": ""
             }
            },
            "type": "scattercarpet"
           }
          ],
          "scattergeo": [
           {
            "marker": {
             "colorbar": {
              "outlinewidth": 0,
              "ticks": ""
             }
            },
            "type": "scattergeo"
           }
          ],
          "scattergl": [
           {
            "marker": {
             "colorbar": {
              "outlinewidth": 0,
              "ticks": ""
             }
            },
            "type": "scattergl"
           }
          ],
          "scattermapbox": [
           {
            "marker": {
             "colorbar": {
              "outlinewidth": 0,
              "ticks": ""
             }
            },
            "type": "scattermapbox"
           }
          ],
          "scatterpolar": [
           {
            "marker": {
             "colorbar": {
              "outlinewidth": 0,
              "ticks": ""
             }
            },
            "type": "scatterpolar"
           }
          ],
          "scatterpolargl": [
           {
            "marker": {
             "colorbar": {
              "outlinewidth": 0,
              "ticks": ""
             }
            },
            "type": "scatterpolargl"
           }
          ],
          "scatterternary": [
           {
            "marker": {
             "colorbar": {
              "outlinewidth": 0,
              "ticks": ""
             }
            },
            "type": "scatterternary"
           }
          ],
          "surface": [
           {
            "colorbar": {
             "outlinewidth": 0,
             "ticks": ""
            },
            "colorscale": [
             [
              0,
              "#0d0887"
             ],
             [
              0.1111111111111111,
              "#46039f"
             ],
             [
              0.2222222222222222,
              "#7201a8"
             ],
             [
              0.3333333333333333,
              "#9c179e"
             ],
             [
              0.4444444444444444,
              "#bd3786"
             ],
             [
              0.5555555555555556,
              "#d8576b"
             ],
             [
              0.6666666666666666,
              "#ed7953"
             ],
             [
              0.7777777777777778,
              "#fb9f3a"
             ],
             [
              0.8888888888888888,
              "#fdca26"
             ],
             [
              1,
              "#f0f921"
             ]
            ],
            "type": "surface"
           }
          ],
          "table": [
           {
            "cells": {
             "fill": {
              "color": "#EBF0F8"
             },
             "line": {
              "color": "white"
             }
            },
            "header": {
             "fill": {
              "color": "#C8D4E3"
             },
             "line": {
              "color": "white"
             }
            },
            "type": "table"
           }
          ]
         },
         "layout": {
          "annotationdefaults": {
           "arrowcolor": "#2a3f5f",
           "arrowhead": 0,
           "arrowwidth": 1
          },
          "autotypenumbers": "strict",
          "coloraxis": {
           "colorbar": {
            "outlinewidth": 0,
            "ticks": ""
           }
          },
          "colorscale": {
           "diverging": [
            [
             0,
             "#8e0152"
            ],
            [
             0.1,
             "#c51b7d"
            ],
            [
             0.2,
             "#de77ae"
            ],
            [
             0.3,
             "#f1b6da"
            ],
            [
             0.4,
             "#fde0ef"
            ],
            [
             0.5,
             "#f7f7f7"
            ],
            [
             0.6,
             "#e6f5d0"
            ],
            [
             0.7,
             "#b8e186"
            ],
            [
             0.8,
             "#7fbc41"
            ],
            [
             0.9,
             "#4d9221"
            ],
            [
             1,
             "#276419"
            ]
           ],
           "sequential": [
            [
             0,
             "#0d0887"
            ],
            [
             0.1111111111111111,
             "#46039f"
            ],
            [
             0.2222222222222222,
             "#7201a8"
            ],
            [
             0.3333333333333333,
             "#9c179e"
            ],
            [
             0.4444444444444444,
             "#bd3786"
            ],
            [
             0.5555555555555556,
             "#d8576b"
            ],
            [
             0.6666666666666666,
             "#ed7953"
            ],
            [
             0.7777777777777778,
             "#fb9f3a"
            ],
            [
             0.8888888888888888,
             "#fdca26"
            ],
            [
             1,
             "#f0f921"
            ]
           ],
           "sequentialminus": [
            [
             0,
             "#0d0887"
            ],
            [
             0.1111111111111111,
             "#46039f"
            ],
            [
             0.2222222222222222,
             "#7201a8"
            ],
            [
             0.3333333333333333,
             "#9c179e"
            ],
            [
             0.4444444444444444,
             "#bd3786"
            ],
            [
             0.5555555555555556,
             "#d8576b"
            ],
            [
             0.6666666666666666,
             "#ed7953"
            ],
            [
             0.7777777777777778,
             "#fb9f3a"
            ],
            [
             0.8888888888888888,
             "#fdca26"
            ],
            [
             1,
             "#f0f921"
            ]
           ]
          },
          "colorway": [
           "#636efa",
           "#EF553B",
           "#00cc96",
           "#ab63fa",
           "#FFA15A",
           "#19d3f3",
           "#FF6692",
           "#B6E880",
           "#FF97FF",
           "#FECB52"
          ],
          "font": {
           "color": "#2a3f5f"
          },
          "geo": {
           "bgcolor": "white",
           "lakecolor": "white",
           "landcolor": "#E5ECF6",
           "showlakes": true,
           "showland": true,
           "subunitcolor": "white"
          },
          "hoverlabel": {
           "align": "left"
          },
          "hovermode": "closest",
          "mapbox": {
           "style": "light"
          },
          "paper_bgcolor": "white",
          "plot_bgcolor": "#E5ECF6",
          "polar": {
           "angularaxis": {
            "gridcolor": "white",
            "linecolor": "white",
            "ticks": ""
           },
           "bgcolor": "#E5ECF6",
           "radialaxis": {
            "gridcolor": "white",
            "linecolor": "white",
            "ticks": ""
           }
          },
          "scene": {
           "xaxis": {
            "backgroundcolor": "#E5ECF6",
            "gridcolor": "white",
            "gridwidth": 2,
            "linecolor": "white",
            "showbackground": true,
            "ticks": "",
            "zerolinecolor": "white"
           },
           "yaxis": {
            "backgroundcolor": "#E5ECF6",
            "gridcolor": "white",
            "gridwidth": 2,
            "linecolor": "white",
            "showbackground": true,
            "ticks": "",
            "zerolinecolor": "white"
           },
           "zaxis": {
            "backgroundcolor": "#E5ECF6",
            "gridcolor": "white",
            "gridwidth": 2,
            "linecolor": "white",
            "showbackground": true,
            "ticks": "",
            "zerolinecolor": "white"
           }
          },
          "shapedefaults": {
           "line": {
            "color": "#2a3f5f"
           }
          },
          "ternary": {
           "aaxis": {
            "gridcolor": "white",
            "linecolor": "white",
            "ticks": ""
           },
           "baxis": {
            "gridcolor": "white",
            "linecolor": "white",
            "ticks": ""
           },
           "bgcolor": "#E5ECF6",
           "caxis": {
            "gridcolor": "white",
            "linecolor": "white",
            "ticks": ""
           }
          },
          "title": {
           "x": 0.05
          },
          "xaxis": {
           "automargin": true,
           "gridcolor": "white",
           "linecolor": "white",
           "ticks": "",
           "title": {
            "standoff": 15
           },
           "zerolinecolor": "white",
           "zerolinewidth": 2
          },
          "yaxis": {
           "automargin": true,
           "gridcolor": "white",
           "linecolor": "white",
           "ticks": "",
           "title": {
            "standoff": 15
           },
           "zerolinecolor": "white",
           "zerolinewidth": 2
          }
         }
        },
        "title": {
         "text": "Release Year"
        },
        "xaxis": {
         "anchor": "y",
         "domain": [
          0,
          1
         ],
         "title": {
          "text": "index"
         }
        },
        "yaxis": {
         "anchor": "x",
         "domain": [
          0,
          1
         ],
         "title": {
          "text": "value"
         }
        }
       }
      }
     },
     "metadata": {},
     "output_type": "display_data"
    }
   ],
   "source": [
    "release_year_fig.show()"
   ]
  },
  {
   "cell_type": "code",
   "execution_count": 18,
   "metadata": {},
   "outputs": [
    {
     "data": {
      "text/html": [
       "<div>\n",
       "<style scoped>\n",
       "    .dataframe tbody tr th:only-of-type {\n",
       "        vertical-align: middle;\n",
       "    }\n",
       "\n",
       "    .dataframe tbody tr th {\n",
       "        vertical-align: top;\n",
       "    }\n",
       "\n",
       "    .dataframe thead th {\n",
       "        text-align: right;\n",
       "    }\n",
       "</style>\n",
       "<table border=\"1\" class=\"dataframe\">\n",
       "  <thead>\n",
       "    <tr style=\"text-align: right;\">\n",
       "      <th>genre</th>\n",
       "      <th>Pop</th>\n",
       "      <th>Rap</th>\n",
       "      <th>Rock</th>\n",
       "      <th>Schlager</th>\n",
       "    </tr>\n",
       "    <tr>\n",
       "      <th>release_year</th>\n",
       "      <th></th>\n",
       "      <th></th>\n",
       "      <th></th>\n",
       "      <th></th>\n",
       "    </tr>\n",
       "  </thead>\n",
       "  <tbody>\n",
       "    <tr>\n",
       "      <th>1966</th>\n",
       "      <td>0</td>\n",
       "      <td>0</td>\n",
       "      <td>0</td>\n",
       "      <td>3</td>\n",
       "    </tr>\n",
       "    <tr>\n",
       "      <th>1967</th>\n",
       "      <td>0</td>\n",
       "      <td>0</td>\n",
       "      <td>0</td>\n",
       "      <td>3</td>\n",
       "    </tr>\n",
       "    <tr>\n",
       "      <th>1968</th>\n",
       "      <td>0</td>\n",
       "      <td>0</td>\n",
       "      <td>0</td>\n",
       "      <td>3</td>\n",
       "    </tr>\n",
       "    <tr>\n",
       "      <th>1970</th>\n",
       "      <td>0</td>\n",
       "      <td>0</td>\n",
       "      <td>0</td>\n",
       "      <td>1</td>\n",
       "    </tr>\n",
       "    <tr>\n",
       "      <th>1971</th>\n",
       "      <td>0</td>\n",
       "      <td>0</td>\n",
       "      <td>0</td>\n",
       "      <td>2</td>\n",
       "    </tr>\n",
       "    <tr>\n",
       "      <th>1972</th>\n",
       "      <td>0</td>\n",
       "      <td>0</td>\n",
       "      <td>0</td>\n",
       "      <td>3</td>\n",
       "    </tr>\n",
       "    <tr>\n",
       "      <th>1973</th>\n",
       "      <td>0</td>\n",
       "      <td>0</td>\n",
       "      <td>15</td>\n",
       "      <td>2</td>\n",
       "    </tr>\n",
       "    <tr>\n",
       "      <th>1974</th>\n",
       "      <td>0</td>\n",
       "      <td>0</td>\n",
       "      <td>0</td>\n",
       "      <td>5</td>\n",
       "    </tr>\n",
       "    <tr>\n",
       "      <th>1975</th>\n",
       "      <td>0</td>\n",
       "      <td>0</td>\n",
       "      <td>11</td>\n",
       "      <td>6</td>\n",
       "    </tr>\n",
       "    <tr>\n",
       "      <th>1976</th>\n",
       "      <td>0</td>\n",
       "      <td>0</td>\n",
       "      <td>16</td>\n",
       "      <td>9</td>\n",
       "    </tr>\n",
       "  </tbody>\n",
       "</table>\n",
       "</div>"
      ],
      "text/plain": [
       "genre         Pop  Rap  Rock  Schlager\n",
       "release_year                          \n",
       "1966            0    0     0         3\n",
       "1967            0    0     0         3\n",
       "1968            0    0     0         3\n",
       "1970            0    0     0         1\n",
       "1971            0    0     0         2\n",
       "1972            0    0     0         3\n",
       "1973            0    0    15         2\n",
       "1974            0    0     0         5\n",
       "1975            0    0    11         6\n",
       "1976            0    0    16         9"
      ]
     },
     "execution_count": 18,
     "metadata": {},
     "output_type": "execute_result"
    }
   ],
   "source": [
    "genre_pivot = data.pivot_table(index='release_year', columns='genre', aggfunc='size', fill_value=0)\n",
    "genre_pivot.head(n=10)"
   ]
  },
  {
   "cell_type": "code",
   "execution_count": 21,
   "metadata": {},
   "outputs": [
    {
     "data": {
      "application/vnd.plotly.v1+json": {
       "config": {
        "plotlyServerURL": "https://plot.ly"
       },
       "data": [
        {
         "alignmentgroup": "True",
         "hovertemplate": "genre=Pop<br>release_year=%{x}<br>value=%{y}<extra></extra>",
         "legendgroup": "Pop",
         "marker": {
          "color": "#636efa",
          "pattern": {
           "shape": ""
          }
         },
         "name": "Pop",
         "offsetgroup": "Pop",
         "orientation": "v",
         "showlegend": true,
         "textposition": "auto",
         "type": "bar",
         "x": [
          1966,
          1967,
          1968,
          1970,
          1971,
          1972,
          1973,
          1974,
          1975,
          1976,
          1977,
          1978,
          1979,
          1980,
          1981,
          1982,
          1983,
          1984,
          1985,
          1986,
          1987,
          1988,
          1989,
          1990,
          1991,
          1992,
          1993,
          1994,
          1995,
          1996,
          1997,
          1998,
          1999,
          2000,
          2001,
          2002,
          2003,
          2004,
          2005,
          2006,
          2007,
          2008,
          2009,
          2010,
          2011,
          2012,
          2013,
          2014,
          2015,
          2016,
          2017,
          2018
         ],
         "xaxis": "x",
         "y": [
          0,
          0,
          0,
          0,
          0,
          0,
          0,
          0,
          0,
          0,
          0,
          0,
          10,
          10,
          0,
          7,
          28,
          10,
          18,
          20,
          8,
          0,
          0,
          12,
          16,
          9,
          10,
          13,
          11,
          14,
          0,
          12,
          0,
          12,
          13,
          33,
          40,
          55,
          64,
          79,
          51,
          69,
          41,
          55,
          63,
          72,
          50,
          92,
          52,
          35,
          4,
          37
         ],
         "yaxis": "y"
        },
        {
         "alignmentgroup": "True",
         "hovertemplate": "genre=Rap<br>release_year=%{x}<br>value=%{y}<extra></extra>",
         "legendgroup": "Rap",
         "marker": {
          "color": "#EF553B",
          "pattern": {
           "shape": ""
          }
         },
         "name": "Rap",
         "offsetgroup": "Rap",
         "orientation": "v",
         "showlegend": true,
         "textposition": "auto",
         "type": "bar",
         "x": [
          1966,
          1967,
          1968,
          1970,
          1971,
          1972,
          1973,
          1974,
          1975,
          1976,
          1977,
          1978,
          1979,
          1980,
          1981,
          1982,
          1983,
          1984,
          1985,
          1986,
          1987,
          1988,
          1989,
          1990,
          1991,
          1992,
          1993,
          1994,
          1995,
          1996,
          1997,
          1998,
          1999,
          2000,
          2001,
          2002,
          2003,
          2004,
          2005,
          2006,
          2007,
          2008,
          2009,
          2010,
          2011,
          2012,
          2013,
          2014,
          2015,
          2016,
          2017,
          2018
         ],
         "xaxis": "x",
         "y": [
          0,
          0,
          0,
          0,
          0,
          0,
          0,
          0,
          0,
          0,
          0,
          0,
          0,
          0,
          0,
          0,
          0,
          0,
          0,
          0,
          0,
          0,
          0,
          0,
          0,
          16,
          0,
          0,
          29,
          10,
          0,
          32,
          20,
          27,
          45,
          27,
          50,
          48,
          93,
          150,
          66,
          98,
          83,
          127,
          149,
          145,
          104,
          84,
          50,
          56,
          12,
          23
         ],
         "yaxis": "y"
        },
        {
         "alignmentgroup": "True",
         "hovertemplate": "genre=Rock<br>release_year=%{x}<br>value=%{y}<extra></extra>",
         "legendgroup": "Rock",
         "marker": {
          "color": "#00cc96",
          "pattern": {
           "shape": ""
          }
         },
         "name": "Rock",
         "offsetgroup": "Rock",
         "orientation": "v",
         "showlegend": true,
         "textposition": "auto",
         "type": "bar",
         "x": [
          1966,
          1967,
          1968,
          1970,
          1971,
          1972,
          1973,
          1974,
          1975,
          1976,
          1977,
          1978,
          1979,
          1980,
          1981,
          1982,
          1983,
          1984,
          1985,
          1986,
          1987,
          1988,
          1989,
          1990,
          1991,
          1992,
          1993,
          1994,
          1995,
          1996,
          1997,
          1998,
          1999,
          2000,
          2001,
          2002,
          2003,
          2004,
          2005,
          2006,
          2007,
          2008,
          2009,
          2010,
          2011,
          2012,
          2013,
          2014,
          2015,
          2016,
          2017,
          2018
         ],
         "xaxis": "x",
         "y": [
          0,
          0,
          0,
          0,
          0,
          0,
          15,
          0,
          11,
          16,
          9,
          0,
          0,
          0,
          0,
          0,
          11,
          10,
          9,
          13,
          14,
          47,
          20,
          0,
          0,
          12,
          29,
          23,
          33,
          24,
          19,
          52,
          0,
          56,
          53,
          35,
          46,
          28,
          54,
          129,
          62,
          87,
          44,
          55,
          45,
          31,
          41,
          52,
          20,
          40,
          0,
          17
         ],
         "yaxis": "y"
        },
        {
         "alignmentgroup": "True",
         "hovertemplate": "genre=Schlager<br>release_year=%{x}<br>value=%{y}<extra></extra>",
         "legendgroup": "Schlager",
         "marker": {
          "color": "#ab63fa",
          "pattern": {
           "shape": ""
          }
         },
         "name": "Schlager",
         "offsetgroup": "Schlager",
         "orientation": "v",
         "showlegend": true,
         "textposition": "auto",
         "type": "bar",
         "x": [
          1966,
          1967,
          1968,
          1970,
          1971,
          1972,
          1973,
          1974,
          1975,
          1976,
          1977,
          1978,
          1979,
          1980,
          1981,
          1982,
          1983,
          1984,
          1985,
          1986,
          1987,
          1988,
          1989,
          1990,
          1991,
          1992,
          1993,
          1994,
          1995,
          1996,
          1997,
          1998,
          1999,
          2000,
          2001,
          2002,
          2003,
          2004,
          2005,
          2006,
          2007,
          2008,
          2009,
          2010,
          2011,
          2012,
          2013,
          2014,
          2015,
          2016,
          2017,
          2018
         ],
         "xaxis": "x",
         "y": [
          3,
          3,
          3,
          1,
          2,
          3,
          2,
          5,
          6,
          9,
          0,
          7,
          6,
          0,
          15,
          8,
          12,
          12,
          12,
          8,
          0,
          0,
          18,
          2,
          13,
          0,
          17,
          8,
          31,
          17,
          24,
          25,
          0,
          21,
          21,
          13,
          27,
          12,
          12,
          41,
          37,
          38,
          23,
          12,
          40,
          0,
          41,
          1,
          0,
          0,
          0,
          0
         ],
         "yaxis": "y"
        }
       ],
       "layout": {
        "barmode": "group",
        "legend": {
         "title": {
          "text": "genre"
         },
         "tracegroupgap": 0
        },
        "template": {
         "data": {
          "bar": [
           {
            "error_x": {
             "color": "#2a3f5f"
            },
            "error_y": {
             "color": "#2a3f5f"
            },
            "marker": {
             "line": {
              "color": "#E5ECF6",
              "width": 0.5
             },
             "pattern": {
              "fillmode": "overlay",
              "size": 10,
              "solidity": 0.2
             }
            },
            "type": "bar"
           }
          ],
          "barpolar": [
           {
            "marker": {
             "line": {
              "color": "#E5ECF6",
              "width": 0.5
             },
             "pattern": {
              "fillmode": "overlay",
              "size": 10,
              "solidity": 0.2
             }
            },
            "type": "barpolar"
           }
          ],
          "carpet": [
           {
            "aaxis": {
             "endlinecolor": "#2a3f5f",
             "gridcolor": "white",
             "linecolor": "white",
             "minorgridcolor": "white",
             "startlinecolor": "#2a3f5f"
            },
            "baxis": {
             "endlinecolor": "#2a3f5f",
             "gridcolor": "white",
             "linecolor": "white",
             "minorgridcolor": "white",
             "startlinecolor": "#2a3f5f"
            },
            "type": "carpet"
           }
          ],
          "choropleth": [
           {
            "colorbar": {
             "outlinewidth": 0,
             "ticks": ""
            },
            "type": "choropleth"
           }
          ],
          "contour": [
           {
            "colorbar": {
             "outlinewidth": 0,
             "ticks": ""
            },
            "colorscale": [
             [
              0,
              "#0d0887"
             ],
             [
              0.1111111111111111,
              "#46039f"
             ],
             [
              0.2222222222222222,
              "#7201a8"
             ],
             [
              0.3333333333333333,
              "#9c179e"
             ],
             [
              0.4444444444444444,
              "#bd3786"
             ],
             [
              0.5555555555555556,
              "#d8576b"
             ],
             [
              0.6666666666666666,
              "#ed7953"
             ],
             [
              0.7777777777777778,
              "#fb9f3a"
             ],
             [
              0.8888888888888888,
              "#fdca26"
             ],
             [
              1,
              "#f0f921"
             ]
            ],
            "type": "contour"
           }
          ],
          "contourcarpet": [
           {
            "colorbar": {
             "outlinewidth": 0,
             "ticks": ""
            },
            "type": "contourcarpet"
           }
          ],
          "heatmap": [
           {
            "colorbar": {
             "outlinewidth": 0,
             "ticks": ""
            },
            "colorscale": [
             [
              0,
              "#0d0887"
             ],
             [
              0.1111111111111111,
              "#46039f"
             ],
             [
              0.2222222222222222,
              "#7201a8"
             ],
             [
              0.3333333333333333,
              "#9c179e"
             ],
             [
              0.4444444444444444,
              "#bd3786"
             ],
             [
              0.5555555555555556,
              "#d8576b"
             ],
             [
              0.6666666666666666,
              "#ed7953"
             ],
             [
              0.7777777777777778,
              "#fb9f3a"
             ],
             [
              0.8888888888888888,
              "#fdca26"
             ],
             [
              1,
              "#f0f921"
             ]
            ],
            "type": "heatmap"
           }
          ],
          "heatmapgl": [
           {
            "colorbar": {
             "outlinewidth": 0,
             "ticks": ""
            },
            "colorscale": [
             [
              0,
              "#0d0887"
             ],
             [
              0.1111111111111111,
              "#46039f"
             ],
             [
              0.2222222222222222,
              "#7201a8"
             ],
             [
              0.3333333333333333,
              "#9c179e"
             ],
             [
              0.4444444444444444,
              "#bd3786"
             ],
             [
              0.5555555555555556,
              "#d8576b"
             ],
             [
              0.6666666666666666,
              "#ed7953"
             ],
             [
              0.7777777777777778,
              "#fb9f3a"
             ],
             [
              0.8888888888888888,
              "#fdca26"
             ],
             [
              1,
              "#f0f921"
             ]
            ],
            "type": "heatmapgl"
           }
          ],
          "histogram": [
           {
            "marker": {
             "pattern": {
              "fillmode": "overlay",
              "size": 10,
              "solidity": 0.2
             }
            },
            "type": "histogram"
           }
          ],
          "histogram2d": [
           {
            "colorbar": {
             "outlinewidth": 0,
             "ticks": ""
            },
            "colorscale": [
             [
              0,
              "#0d0887"
             ],
             [
              0.1111111111111111,
              "#46039f"
             ],
             [
              0.2222222222222222,
              "#7201a8"
             ],
             [
              0.3333333333333333,
              "#9c179e"
             ],
             [
              0.4444444444444444,
              "#bd3786"
             ],
             [
              0.5555555555555556,
              "#d8576b"
             ],
             [
              0.6666666666666666,
              "#ed7953"
             ],
             [
              0.7777777777777778,
              "#fb9f3a"
             ],
             [
              0.8888888888888888,
              "#fdca26"
             ],
             [
              1,
              "#f0f921"
             ]
            ],
            "type": "histogram2d"
           }
          ],
          "histogram2dcontour": [
           {
            "colorbar": {
             "outlinewidth": 0,
             "ticks": ""
            },
            "colorscale": [
             [
              0,
              "#0d0887"
             ],
             [
              0.1111111111111111,
              "#46039f"
             ],
             [
              0.2222222222222222,
              "#7201a8"
             ],
             [
              0.3333333333333333,
              "#9c179e"
             ],
             [
              0.4444444444444444,
              "#bd3786"
             ],
             [
              0.5555555555555556,
              "#d8576b"
             ],
             [
              0.6666666666666666,
              "#ed7953"
             ],
             [
              0.7777777777777778,
              "#fb9f3a"
             ],
             [
              0.8888888888888888,
              "#fdca26"
             ],
             [
              1,
              "#f0f921"
             ]
            ],
            "type": "histogram2dcontour"
           }
          ],
          "mesh3d": [
           {
            "colorbar": {
             "outlinewidth": 0,
             "ticks": ""
            },
            "type": "mesh3d"
           }
          ],
          "parcoords": [
           {
            "line": {
             "colorbar": {
              "outlinewidth": 0,
              "ticks": ""
             }
            },
            "type": "parcoords"
           }
          ],
          "pie": [
           {
            "automargin": true,
            "type": "pie"
           }
          ],
          "scatter": [
           {
            "fillpattern": {
             "fillmode": "overlay",
             "size": 10,
             "solidity": 0.2
            },
            "type": "scatter"
           }
          ],
          "scatter3d": [
           {
            "line": {
             "colorbar": {
              "outlinewidth": 0,
              "ticks": ""
             }
            },
            "marker": {
             "colorbar": {
              "outlinewidth": 0,
              "ticks": ""
             }
            },
            "type": "scatter3d"
           }
          ],
          "scattercarpet": [
           {
            "marker": {
             "colorbar": {
              "outlinewidth": 0,
              "ticks": ""
             }
            },
            "type": "scattercarpet"
           }
          ],
          "scattergeo": [
           {
            "marker": {
             "colorbar": {
              "outlinewidth": 0,
              "ticks": ""
             }
            },
            "type": "scattergeo"
           }
          ],
          "scattergl": [
           {
            "marker": {
             "colorbar": {
              "outlinewidth": 0,
              "ticks": ""
             }
            },
            "type": "scattergl"
           }
          ],
          "scattermapbox": [
           {
            "marker": {
             "colorbar": {
              "outlinewidth": 0,
              "ticks": ""
             }
            },
            "type": "scattermapbox"
           }
          ],
          "scatterpolar": [
           {
            "marker": {
             "colorbar": {
              "outlinewidth": 0,
              "ticks": ""
             }
            },
            "type": "scatterpolar"
           }
          ],
          "scatterpolargl": [
           {
            "marker": {
             "colorbar": {
              "outlinewidth": 0,
              "ticks": ""
             }
            },
            "type": "scatterpolargl"
           }
          ],
          "scatterternary": [
           {
            "marker": {
             "colorbar": {
              "outlinewidth": 0,
              "ticks": ""
             }
            },
            "type": "scatterternary"
           }
          ],
          "surface": [
           {
            "colorbar": {
             "outlinewidth": 0,
             "ticks": ""
            },
            "colorscale": [
             [
              0,
              "#0d0887"
             ],
             [
              0.1111111111111111,
              "#46039f"
             ],
             [
              0.2222222222222222,
              "#7201a8"
             ],
             [
              0.3333333333333333,
              "#9c179e"
             ],
             [
              0.4444444444444444,
              "#bd3786"
             ],
             [
              0.5555555555555556,
              "#d8576b"
             ],
             [
              0.6666666666666666,
              "#ed7953"
             ],
             [
              0.7777777777777778,
              "#fb9f3a"
             ],
             [
              0.8888888888888888,
              "#fdca26"
             ],
             [
              1,
              "#f0f921"
             ]
            ],
            "type": "surface"
           }
          ],
          "table": [
           {
            "cells": {
             "fill": {
              "color": "#EBF0F8"
             },
             "line": {
              "color": "white"
             }
            },
            "header": {
             "fill": {
              "color": "#C8D4E3"
             },
             "line": {
              "color": "white"
             }
            },
            "type": "table"
           }
          ]
         },
         "layout": {
          "annotationdefaults": {
           "arrowcolor": "#2a3f5f",
           "arrowhead": 0,
           "arrowwidth": 1
          },
          "autotypenumbers": "strict",
          "coloraxis": {
           "colorbar": {
            "outlinewidth": 0,
            "ticks": ""
           }
          },
          "colorscale": {
           "diverging": [
            [
             0,
             "#8e0152"
            ],
            [
             0.1,
             "#c51b7d"
            ],
            [
             0.2,
             "#de77ae"
            ],
            [
             0.3,
             "#f1b6da"
            ],
            [
             0.4,
             "#fde0ef"
            ],
            [
             0.5,
             "#f7f7f7"
            ],
            [
             0.6,
             "#e6f5d0"
            ],
            [
             0.7,
             "#b8e186"
            ],
            [
             0.8,
             "#7fbc41"
            ],
            [
             0.9,
             "#4d9221"
            ],
            [
             1,
             "#276419"
            ]
           ],
           "sequential": [
            [
             0,
             "#0d0887"
            ],
            [
             0.1111111111111111,
             "#46039f"
            ],
            [
             0.2222222222222222,
             "#7201a8"
            ],
            [
             0.3333333333333333,
             "#9c179e"
            ],
            [
             0.4444444444444444,
             "#bd3786"
            ],
            [
             0.5555555555555556,
             "#d8576b"
            ],
            [
             0.6666666666666666,
             "#ed7953"
            ],
            [
             0.7777777777777778,
             "#fb9f3a"
            ],
            [
             0.8888888888888888,
             "#fdca26"
            ],
            [
             1,
             "#f0f921"
            ]
           ],
           "sequentialminus": [
            [
             0,
             "#0d0887"
            ],
            [
             0.1111111111111111,
             "#46039f"
            ],
            [
             0.2222222222222222,
             "#7201a8"
            ],
            [
             0.3333333333333333,
             "#9c179e"
            ],
            [
             0.4444444444444444,
             "#bd3786"
            ],
            [
             0.5555555555555556,
             "#d8576b"
            ],
            [
             0.6666666666666666,
             "#ed7953"
            ],
            [
             0.7777777777777778,
             "#fb9f3a"
            ],
            [
             0.8888888888888888,
             "#fdca26"
            ],
            [
             1,
             "#f0f921"
            ]
           ]
          },
          "colorway": [
           "#636efa",
           "#EF553B",
           "#00cc96",
           "#ab63fa",
           "#FFA15A",
           "#19d3f3",
           "#FF6692",
           "#B6E880",
           "#FF97FF",
           "#FECB52"
          ],
          "font": {
           "color": "#2a3f5f"
          },
          "geo": {
           "bgcolor": "white",
           "lakecolor": "white",
           "landcolor": "#E5ECF6",
           "showlakes": true,
           "showland": true,
           "subunitcolor": "white"
          },
          "hoverlabel": {
           "align": "left"
          },
          "hovermode": "closest",
          "mapbox": {
           "style": "light"
          },
          "paper_bgcolor": "white",
          "plot_bgcolor": "#E5ECF6",
          "polar": {
           "angularaxis": {
            "gridcolor": "white",
            "linecolor": "white",
            "ticks": ""
           },
           "bgcolor": "#E5ECF6",
           "radialaxis": {
            "gridcolor": "white",
            "linecolor": "white",
            "ticks": ""
           }
          },
          "scene": {
           "xaxis": {
            "backgroundcolor": "#E5ECF6",
            "gridcolor": "white",
            "gridwidth": 2,
            "linecolor": "white",
            "showbackground": true,
            "ticks": "",
            "zerolinecolor": "white"
           },
           "yaxis": {
            "backgroundcolor": "#E5ECF6",
            "gridcolor": "white",
            "gridwidth": 2,
            "linecolor": "white",
            "showbackground": true,
            "ticks": "",
            "zerolinecolor": "white"
           },
           "zaxis": {
            "backgroundcolor": "#E5ECF6",
            "gridcolor": "white",
            "gridwidth": 2,
            "linecolor": "white",
            "showbackground": true,
            "ticks": "",
            "zerolinecolor": "white"
           }
          },
          "shapedefaults": {
           "line": {
            "color": "#2a3f5f"
           }
          },
          "ternary": {
           "aaxis": {
            "gridcolor": "white",
            "linecolor": "white",
            "ticks": ""
           },
           "baxis": {
            "gridcolor": "white",
            "linecolor": "white",
            "ticks": ""
           },
           "bgcolor": "#E5ECF6",
           "caxis": {
            "gridcolor": "white",
            "linecolor": "white",
            "ticks": ""
           }
          },
          "title": {
           "x": 0.05
          },
          "xaxis": {
           "automargin": true,
           "gridcolor": "white",
           "linecolor": "white",
           "ticks": "",
           "title": {
            "standoff": 15
           },
           "zerolinecolor": "white",
           "zerolinewidth": 2
          },
          "yaxis": {
           "automargin": true,
           "gridcolor": "white",
           "linecolor": "white",
           "ticks": "",
           "title": {
            "standoff": 15
           },
           "zerolinecolor": "white",
           "zerolinewidth": 2
          }
         }
        },
        "title": {
         "text": "Genre by Release Year"
        },
        "xaxis": {
         "anchor": "y",
         "domain": [
          0,
          1
         ],
         "title": {
          "text": "release_year"
         }
        },
        "yaxis": {
         "anchor": "x",
         "domain": [
          0,
          1
         ],
         "title": {
          "text": "value"
         }
        }
       }
      }
     },
     "metadata": {},
     "output_type": "display_data"
    }
   ],
   "source": [
    "genre_release_year_fig = genre_pivot.plot(kind='bar', title='Genre by Release Year')\n",
    "genre_release_year_fig.update_layout(barmode='group')\n",
    "genre_release_year_fig.show()"
   ]
  },
  {
   "cell_type": "code",
   "execution_count": 23,
   "metadata": {},
   "outputs": [
    {
     "data": {
      "text/html": [
       "<div>\n",
       "<style scoped>\n",
       "    .dataframe tbody tr th:only-of-type {\n",
       "        vertical-align: middle;\n",
       "    }\n",
       "\n",
       "    .dataframe tbody tr th {\n",
       "        vertical-align: top;\n",
       "    }\n",
       "\n",
       "    .dataframe thead th {\n",
       "        text-align: right;\n",
       "    }\n",
       "</style>\n",
       "<table border=\"1\" class=\"dataframe\">\n",
       "  <thead>\n",
       "    <tr style=\"text-align: right;\">\n",
       "      <th></th>\n",
       "      <th>genre</th>\n",
       "      <th>interpret</th>\n",
       "      <th>album</th>\n",
       "      <th>release_year</th>\n",
       "      <th>songtitle</th>\n",
       "      <th>decade</th>\n",
       "      <th>song_id</th>\n",
       "      <th>full_title</th>\n",
       "      <th>release_date_components_raw</th>\n",
       "      <th>release_date_for_display</th>\n",
       "      <th>stats_raw</th>\n",
       "      <th>lyrics</th>\n",
       "    </tr>\n",
       "  </thead>\n",
       "  <tbody>\n",
       "    <tr>\n",
       "      <th>2102</th>\n",
       "      <td>Rap</td>\n",
       "      <td>Genetikk</td>\n",
       "      <td>D.N.A.2</td>\n",
       "      <td>2018</td>\n",
       "      <td>Genetikk4ever</td>\n",
       "      <td>2010</td>\n",
       "      <td>3904644</td>\n",
       "      <td>Genetikk4ever by Genetikk</td>\n",
       "      <td>{'year': 2018, 'month': 8, 'day': 17}</td>\n",
       "      <td>August 17, 2018</td>\n",
       "      <td>{'unreviewed_annotations': 6, 'hot': False, 'p...</td>\n",
       "      <td>Genetikk4ever Lyrics\\nGang für immer, loyal bi...</td>\n",
       "    </tr>\n",
       "    <tr>\n",
       "      <th>2294</th>\n",
       "      <td>Rap</td>\n",
       "      <td>Kollegah</td>\n",
       "      <td>Monument</td>\n",
       "      <td>2018</td>\n",
       "      <td>Bossmove</td>\n",
       "      <td>2010</td>\n",
       "      <td>4135451</td>\n",
       "      <td>Bossmove by Kollegah</td>\n",
       "      <td>{'year': 2018, 'month': 12, 'day': 7}</td>\n",
       "      <td>December 7, 2018</td>\n",
       "      <td>{'unreviewed_annotations': 0, 'hot': False, 'p...</td>\n",
       "      <td>Bossmove Lyrics\\n\\nAh!\\n\\nIch verdrängte meine...</td>\n",
       "    </tr>\n",
       "    <tr>\n",
       "      <th>2296</th>\n",
       "      <td>Rap</td>\n",
       "      <td>Kollegah</td>\n",
       "      <td>Monument</td>\n",
       "      <td>2018</td>\n",
       "      <td>Psycho</td>\n",
       "      <td>2010</td>\n",
       "      <td>4135383</td>\n",
       "      <td>Psycho by Kollegah (Ft. Farid Bang)</td>\n",
       "      <td>{'year': 2018, 'month': 12, 'day': 7}</td>\n",
       "      <td>December 7, 2018</td>\n",
       "      <td>{'unreviewed_annotations': 0, 'hot': False, 'p...</td>\n",
       "      <td>Psycho Lyrics\\n\\nBoss und Banger, unser Life e...</td>\n",
       "    </tr>\n",
       "    <tr>\n",
       "      <th>2297</th>\n",
       "      <td>Rap</td>\n",
       "      <td>Kollegah</td>\n",
       "      <td>Monument</td>\n",
       "      <td>2018</td>\n",
       "      <td>Löwe</td>\n",
       "      <td>2010</td>\n",
       "      <td>4024005</td>\n",
       "      <td>Löwe by Kollegah</td>\n",
       "      <td>{'year': 2018, 'month': 10, 'day': 26}</td>\n",
       "      <td>October 26, 2018</td>\n",
       "      <td>{'unreviewed_annotations': 0, 'hot': False, 'p...</td>\n",
       "      <td>Löwe Lyrics\\n\\nYeah\\n\\nNur noch selten Zeit fü...</td>\n",
       "    </tr>\n",
       "    <tr>\n",
       "      <th>2298</th>\n",
       "      <td>Rap</td>\n",
       "      <td>Kollegah</td>\n",
       "      <td>Monument</td>\n",
       "      <td>2018</td>\n",
       "      <td>La Vida Koka</td>\n",
       "      <td>2010</td>\n",
       "      <td>4135384</td>\n",
       "      <td>La Vida Koka by Kollegah</td>\n",
       "      <td>{'year': 2018, 'month': 12, 'day': 7}</td>\n",
       "      <td>December 7, 2018</td>\n",
       "      <td>{'unreviewed_annotations': 1, 'hot': False, 'p...</td>\n",
       "      <td>La Vida Koka Lyrics\\n\\n(You are now listening ...</td>\n",
       "    </tr>\n",
       "    <tr>\n",
       "      <th>2299</th>\n",
       "      <td>Rap</td>\n",
       "      <td>Kollegah</td>\n",
       "      <td>Monument</td>\n",
       "      <td>2018</td>\n",
       "      <td>Makiaveli</td>\n",
       "      <td>2010</td>\n",
       "      <td>4135389</td>\n",
       "      <td>Makiaveli by Kollegah</td>\n",
       "      <td>{'year': 2018, 'month': 12, 'day': 7}</td>\n",
       "      <td>December 7, 2018</td>\n",
       "      <td>{'unreviewed_annotations': 0, 'hot': False, 'p...</td>\n",
       "      <td>Makiaveli Lyrics\\n\\nIhr ganzen verkommenen kle...</td>\n",
       "    </tr>\n",
       "    <tr>\n",
       "      <th>2300</th>\n",
       "      <td>Rap</td>\n",
       "      <td>Kollegah</td>\n",
       "      <td>Monument</td>\n",
       "      <td>2018</td>\n",
       "      <td>Realtalk</td>\n",
       "      <td>2010</td>\n",
       "      <td>4135390</td>\n",
       "      <td>Realtalk by Kollegah</td>\n",
       "      <td>{'year': 2018, 'month': 12, 'day': 7}</td>\n",
       "      <td>December 7, 2018</td>\n",
       "      <td>{'unreviewed_annotations': 11, 'hot': False, '...</td>\n",
       "      <td>Realtalk Lyrics\\nYou are now listening to Araa...</td>\n",
       "    </tr>\n",
       "    <tr>\n",
       "      <th>2301</th>\n",
       "      <td>Rap</td>\n",
       "      <td>Kollegah</td>\n",
       "      <td>Monument</td>\n",
       "      <td>2018</td>\n",
       "      <td>Continental</td>\n",
       "      <td>2010</td>\n",
       "      <td>4135391</td>\n",
       "      <td>Continental by Kollegah (Ft. Nas)</td>\n",
       "      <td>{'year': 2018, 'month': 12, 'day': 7}</td>\n",
       "      <td>December 7, 2018</td>\n",
       "      <td>{'unreviewed_annotations': 0, 'hot': False, 'p...</td>\n",
       "      <td>Continental Lyrics\\nYeah, jetzt wird auf deine...</td>\n",
       "    </tr>\n",
       "    <tr>\n",
       "      <th>2302</th>\n",
       "      <td>Rap</td>\n",
       "      <td>Kollegah</td>\n",
       "      <td>Monument</td>\n",
       "      <td>2018</td>\n",
       "      <td>Donlife</td>\n",
       "      <td>2010</td>\n",
       "      <td>4101478</td>\n",
       "      <td>Donlife by Kollegah (Ft. Cam'ron)</td>\n",
       "      <td>{'year': 2018, 'month': 12, 'day': 7}</td>\n",
       "      <td>December 7, 2018</td>\n",
       "      <td>{'unreviewed_annotations': 1, 'hot': False, 'p...</td>\n",
       "      <td>Donlife Lyrics\\n\\nKollegah, what's up, man?\\nA...</td>\n",
       "    </tr>\n",
       "    <tr>\n",
       "      <th>2303</th>\n",
       "      <td>Rap</td>\n",
       "      <td>Kollegah</td>\n",
       "      <td>Monument</td>\n",
       "      <td>2018</td>\n",
       "      <td>Cohiba Symphony</td>\n",
       "      <td>2010</td>\n",
       "      <td>4135392</td>\n",
       "      <td>Cohiba Symphony by Kollegah</td>\n",
       "      <td>{'year': 2018, 'month': 12, 'day': 7}</td>\n",
       "      <td>December 7, 2018</td>\n",
       "      <td>{'unreviewed_annotations': 2, 'hot': False, 'p...</td>\n",
       "      <td>Cohiba Symphony Lyrics\\n\\nYou are now listenin...</td>\n",
       "    </tr>\n",
       "  </tbody>\n",
       "</table>\n",
       "</div>"
      ],
      "text/plain": [
       "     genre interpret     album  release_year        songtitle  decade  \\\n",
       "2102   Rap  Genetikk   D.N.A.2          2018    Genetikk4ever    2010   \n",
       "2294   Rap  Kollegah  Monument          2018         Bossmove    2010   \n",
       "2296   Rap  Kollegah  Monument          2018           Psycho    2010   \n",
       "2297   Rap  Kollegah  Monument          2018             Löwe    2010   \n",
       "2298   Rap  Kollegah  Monument          2018     La Vida Koka    2010   \n",
       "2299   Rap  Kollegah  Monument          2018        Makiaveli    2010   \n",
       "2300   Rap  Kollegah  Monument          2018         Realtalk    2010   \n",
       "2301   Rap  Kollegah  Monument          2018      Continental    2010   \n",
       "2302   Rap  Kollegah  Monument          2018          Donlife    2010   \n",
       "2303   Rap  Kollegah  Monument          2018  Cohiba Symphony    2010   \n",
       "\n",
       "      song_id                           full_title  \\\n",
       "2102  3904644            Genetikk4ever by Genetikk   \n",
       "2294  4135451                 Bossmove by Kollegah   \n",
       "2296  4135383  Psycho by Kollegah (Ft. Farid Bang)   \n",
       "2297  4024005                     Löwe by Kollegah   \n",
       "2298  4135384             La Vida Koka by Kollegah   \n",
       "2299  4135389                Makiaveli by Kollegah   \n",
       "2300  4135390                 Realtalk by Kollegah   \n",
       "2301  4135391    Continental by Kollegah (Ft. Nas)   \n",
       "2302  4101478    Donlife by Kollegah (Ft. Cam'ron)   \n",
       "2303  4135392          Cohiba Symphony by Kollegah   \n",
       "\n",
       "                 release_date_components_raw release_date_for_display  \\\n",
       "2102   {'year': 2018, 'month': 8, 'day': 17}          August 17, 2018   \n",
       "2294   {'year': 2018, 'month': 12, 'day': 7}         December 7, 2018   \n",
       "2296   {'year': 2018, 'month': 12, 'day': 7}         December 7, 2018   \n",
       "2297  {'year': 2018, 'month': 10, 'day': 26}         October 26, 2018   \n",
       "2298   {'year': 2018, 'month': 12, 'day': 7}         December 7, 2018   \n",
       "2299   {'year': 2018, 'month': 12, 'day': 7}         December 7, 2018   \n",
       "2300   {'year': 2018, 'month': 12, 'day': 7}         December 7, 2018   \n",
       "2301   {'year': 2018, 'month': 12, 'day': 7}         December 7, 2018   \n",
       "2302   {'year': 2018, 'month': 12, 'day': 7}         December 7, 2018   \n",
       "2303   {'year': 2018, 'month': 12, 'day': 7}         December 7, 2018   \n",
       "\n",
       "                                              stats_raw  \\\n",
       "2102  {'unreviewed_annotations': 6, 'hot': False, 'p...   \n",
       "2294  {'unreviewed_annotations': 0, 'hot': False, 'p...   \n",
       "2296  {'unreviewed_annotations': 0, 'hot': False, 'p...   \n",
       "2297  {'unreviewed_annotations': 0, 'hot': False, 'p...   \n",
       "2298  {'unreviewed_annotations': 1, 'hot': False, 'p...   \n",
       "2299  {'unreviewed_annotations': 0, 'hot': False, 'p...   \n",
       "2300  {'unreviewed_annotations': 11, 'hot': False, '...   \n",
       "2301  {'unreviewed_annotations': 0, 'hot': False, 'p...   \n",
       "2302  {'unreviewed_annotations': 1, 'hot': False, 'p...   \n",
       "2303  {'unreviewed_annotations': 2, 'hot': False, 'p...   \n",
       "\n",
       "                                                 lyrics  \n",
       "2102  Genetikk4ever Lyrics\\nGang für immer, loyal bi...  \n",
       "2294  Bossmove Lyrics\\n\\nAh!\\n\\nIch verdrängte meine...  \n",
       "2296  Psycho Lyrics\\n\\nBoss und Banger, unser Life e...  \n",
       "2297  Löwe Lyrics\\n\\nYeah\\n\\nNur noch selten Zeit fü...  \n",
       "2298  La Vida Koka Lyrics\\n\\n(You are now listening ...  \n",
       "2299  Makiaveli Lyrics\\n\\nIhr ganzen verkommenen kle...  \n",
       "2300  Realtalk Lyrics\\nYou are now listening to Araa...  \n",
       "2301  Continental Lyrics\\nYeah, jetzt wird auf deine...  \n",
       "2302  Donlife Lyrics\\n\\nKollegah, what's up, man?\\nA...  \n",
       "2303  Cohiba Symphony Lyrics\\n\\nYou are now listenin...  "
      ]
     },
     "execution_count": 23,
     "metadata": {},
     "output_type": "execute_result"
    }
   ],
   "source": [
    "data.sort_values('release_year', ascending=False).iloc[0:10]"
   ]
  },
  {
   "cell_type": "code",
   "execution_count": 24,
   "metadata": {},
   "outputs": [
    {
     "data": {
      "text/html": [
       "<div>\n",
       "<style scoped>\n",
       "    .dataframe tbody tr th:only-of-type {\n",
       "        vertical-align: middle;\n",
       "    }\n",
       "\n",
       "    .dataframe tbody tr th {\n",
       "        vertical-align: top;\n",
       "    }\n",
       "\n",
       "    .dataframe thead th {\n",
       "        text-align: right;\n",
       "    }\n",
       "</style>\n",
       "<table border=\"1\" class=\"dataframe\">\n",
       "  <thead>\n",
       "    <tr style=\"text-align: right;\">\n",
       "      <th></th>\n",
       "      <th>genre</th>\n",
       "      <th>interpret</th>\n",
       "      <th>album</th>\n",
       "      <th>release_year</th>\n",
       "      <th>songtitle</th>\n",
       "      <th>decade</th>\n",
       "      <th>song_id</th>\n",
       "      <th>full_title</th>\n",
       "      <th>release_date_components_raw</th>\n",
       "      <th>release_date_for_display</th>\n",
       "      <th>stats_raw</th>\n",
       "      <th>lyrics</th>\n",
       "    </tr>\n",
       "  </thead>\n",
       "  <tbody>\n",
       "    <tr>\n",
       "      <th>1644</th>\n",
       "      <td>Rap</td>\n",
       "      <td>Die Fantastischen Vier</td>\n",
       "      <td>4 Gewinnt</td>\n",
       "      <td>1992</td>\n",
       "      <td>Dicker Pulli</td>\n",
       "      <td>1990</td>\n",
       "      <td>649874</td>\n",
       "      <td>Dicker Pulli by Die Fantastischen Vier</td>\n",
       "      <td>NaN</td>\n",
       "      <td>NaN</td>\n",
       "      <td>{'unreviewed_annotations': 0, 'hot': False}</td>\n",
       "      <td>Dicker Pulli Lyrics \\nDicker pulli an, man, da...</td>\n",
       "    </tr>\n",
       "    <tr>\n",
       "      <th>1647</th>\n",
       "      <td>Rap</td>\n",
       "      <td>Die Fantastischen Vier</td>\n",
       "      <td>4 Gewinnt</td>\n",
       "      <td>1992</td>\n",
       "      <td>Es wird Regen geben</td>\n",
       "      <td>1990</td>\n",
       "      <td>1559854</td>\n",
       "      <td>Es Wird Regen Geben by Die Fantastischen Vier</td>\n",
       "      <td>NaN</td>\n",
       "      <td>NaN</td>\n",
       "      <td>{'unreviewed_annotations': 0, 'hot': False}</td>\n",
       "      <td>Es Wird Regen Geben LyricsIch mach die Augen a...</td>\n",
       "    </tr>\n",
       "    <tr>\n",
       "      <th>1648</th>\n",
       "      <td>Rap</td>\n",
       "      <td>Die Fantastischen Vier</td>\n",
       "      <td>4 Gewinnt</td>\n",
       "      <td>1992</td>\n",
       "      <td>Plattenspieler</td>\n",
       "      <td>1990</td>\n",
       "      <td>649897</td>\n",
       "      <td>Plattenspieler by Die Fantastischen Vier</td>\n",
       "      <td>NaN</td>\n",
       "      <td>NaN</td>\n",
       "      <td>{'unreviewed_annotations': 0, 'hot': False}</td>\n",
       "      <td>Plattenspieler Lyrics\\nPlattenspieler, Platten...</td>\n",
       "    </tr>\n",
       "    <tr>\n",
       "      <th>1649</th>\n",
       "      <td>Rap</td>\n",
       "      <td>Die Fantastischen Vier</td>\n",
       "      <td>4 Gewinnt</td>\n",
       "      <td>1992</td>\n",
       "      <td>Hip Hop Musik</td>\n",
       "      <td>1990</td>\n",
       "      <td>649899</td>\n",
       "      <td>Hip Hop Musik by Die Fantastischen Vier</td>\n",
       "      <td>NaN</td>\n",
       "      <td>NaN</td>\n",
       "      <td>{'unreviewed_annotations': 1, 'hot': False}</td>\n",
       "      <td>Hip Hop Musik Lyrics \\nEs hat ein für allemal ...</td>\n",
       "    </tr>\n",
       "    <tr>\n",
       "      <th>1650</th>\n",
       "      <td>Rap</td>\n",
       "      <td>Die Fantastischen Vier</td>\n",
       "      <td>4 Gewinnt</td>\n",
       "      <td>1992</td>\n",
       "      <td>Laß die Sonne rein</td>\n",
       "      <td>1990</td>\n",
       "      <td>649916</td>\n",
       "      <td>Lass die Sonne rein by Die Fantastischen Vier</td>\n",
       "      <td>NaN</td>\n",
       "      <td>NaN</td>\n",
       "      <td>{'unreviewed_annotations': 1, 'hot': False}</td>\n",
       "      <td>Lass die Sonne rein Lyrics\\nSommer, Sonne Sonn...</td>\n",
       "    </tr>\n",
       "    <tr>\n",
       "      <th>1643</th>\n",
       "      <td>Rap</td>\n",
       "      <td>Die Fantastischen Vier</td>\n",
       "      <td>4 Gewinnt</td>\n",
       "      <td>1992</td>\n",
       "      <td>Saft</td>\n",
       "      <td>1990</td>\n",
       "      <td>442411</td>\n",
       "      <td>Saft by Die Fantastischen Vier</td>\n",
       "      <td>{'year': 1993, 'month': 1, 'day': 18}</td>\n",
       "      <td>January 18, 1993</td>\n",
       "      <td>{'unreviewed_annotations': 2, 'hot': False}</td>\n",
       "      <td>Saft Lyrics\\nGib mir Deinen Saft, ich geb Dir ...</td>\n",
       "    </tr>\n",
       "    <tr>\n",
       "      <th>1642</th>\n",
       "      <td>Rap</td>\n",
       "      <td>Die Fantastischen Vier</td>\n",
       "      <td>4 Gewinnt</td>\n",
       "      <td>1992</td>\n",
       "      <td>Hört euch den hier an</td>\n",
       "      <td>1990</td>\n",
       "      <td>649869</td>\n",
       "      <td>Hört Euch den hier an by Die Fantastischen Vier</td>\n",
       "      <td>NaN</td>\n",
       "      <td>NaN</td>\n",
       "      <td>{'unreviewed_annotations': 0, 'hot': False}</td>\n",
       "      <td>Hört Euch den hier an Lyrics\\nS.M.U.D.O. von d...</td>\n",
       "    </tr>\n",
       "    <tr>\n",
       "      <th>1646</th>\n",
       "      <td>Rap</td>\n",
       "      <td>Die Fantastischen Vier</td>\n",
       "      <td>4 Gewinnt</td>\n",
       "      <td>1992</td>\n",
       "      <td>Einen noch</td>\n",
       "      <td>1990</td>\n",
       "      <td>649895</td>\n",
       "      <td>Einen noch by Die Fantastischen Vier</td>\n",
       "      <td>NaN</td>\n",
       "      <td>NaN</td>\n",
       "      <td>{'unreviewed_annotations': 0, 'hot': False}</td>\n",
       "      <td>Einen noch Lyrics\\nHör mal zu, was ich\\nKann I...</td>\n",
       "    </tr>\n",
       "    <tr>\n",
       "      <th>1656</th>\n",
       "      <td>Rap</td>\n",
       "      <td>Die Fantastischen Vier</td>\n",
       "      <td>4 Gewinnt</td>\n",
       "      <td>1992</td>\n",
       "      <td>Arschloch</td>\n",
       "      <td>1990</td>\n",
       "      <td>650532</td>\n",
       "      <td>Arschloch by Die Fantastischen Vier</td>\n",
       "      <td>NaN</td>\n",
       "      <td>NaN</td>\n",
       "      <td>{'unreviewed_annotations': 0, 'hot': False}</td>\n",
       "      <td>Arschloch Lyrics\\nLeck mich, ich bin 'n Arschl...</td>\n",
       "    </tr>\n",
       "    <tr>\n",
       "      <th>1655</th>\n",
       "      <td>Rap</td>\n",
       "      <td>Die Fantastischen Vier</td>\n",
       "      <td>4 Gewinnt</td>\n",
       "      <td>1992</td>\n",
       "      <td>Individuell aber schnell</td>\n",
       "      <td>1990</td>\n",
       "      <td>650527</td>\n",
       "      <td>Individuell aber schnell by Die Fantastischen ...</td>\n",
       "      <td>NaN</td>\n",
       "      <td>NaN</td>\n",
       "      <td>{'unreviewed_annotations': 0, 'hot': False}</td>\n",
       "      <td>Individuell aber schnell Lyrics\\nIst euch scho...</td>\n",
       "    </tr>\n",
       "    <tr>\n",
       "      <th>1645</th>\n",
       "      <td>Rap</td>\n",
       "      <td>Die Fantastischen Vier</td>\n",
       "      <td>4 Gewinnt</td>\n",
       "      <td>1992</td>\n",
       "      <td>Na Gut</td>\n",
       "      <td>1990</td>\n",
       "      <td>649878</td>\n",
       "      <td>Na gut by Die Fantastischen Vier</td>\n",
       "      <td>NaN</td>\n",
       "      <td>NaN</td>\n",
       "      <td>{'unreviewed_annotations': 0, 'hot': False}</td>\n",
       "      <td>Na gut Lyrics\\nAh, ah gut\\n\\nNa gut - dann geh...</td>\n",
       "    </tr>\n",
       "    <tr>\n",
       "      <th>1653</th>\n",
       "      <td>Rap</td>\n",
       "      <td>Die Fantastischen Vier</td>\n",
       "      <td>4 Gewinnt</td>\n",
       "      <td>1992</td>\n",
       "      <td>Jaaa</td>\n",
       "      <td>1990</td>\n",
       "      <td>650243</td>\n",
       "      <td>Jaaa by Die Fantastischen Vier</td>\n",
       "      <td>NaN</td>\n",
       "      <td>NaN</td>\n",
       "      <td>{'unreviewed_annotations': 0, 'hot': False}</td>\n",
       "      <td>Jaaa Lyrics\\nKomm mal her\\nKomm mal her\\nKomm ...</td>\n",
       "    </tr>\n",
       "    <tr>\n",
       "      <th>1652</th>\n",
       "      <td>Rap</td>\n",
       "      <td>Die Fantastischen Vier</td>\n",
       "      <td>4 Gewinnt</td>\n",
       "      <td>1992</td>\n",
       "      <td>Nonixnarretz</td>\n",
       "      <td>1990</td>\n",
       "      <td>650227</td>\n",
       "      <td>Nonixnarretz by Die Fantastischen Vier</td>\n",
       "      <td>NaN</td>\n",
       "      <td>NaN</td>\n",
       "      <td>{'unreviewed_annotations': 1, 'hot': False}</td>\n",
       "      <td>Nonixnarretz Lyrics\\nIch sag, ich sag, ich\\nSa...</td>\n",
       "    </tr>\n",
       "    <tr>\n",
       "      <th>1651</th>\n",
       "      <td>Rap</td>\n",
       "      <td>Die Fantastischen Vier</td>\n",
       "      <td>4 Gewinnt</td>\n",
       "      <td>1992</td>\n",
       "      <td>Thomas und die Fraun</td>\n",
       "      <td>1990</td>\n",
       "      <td>649994</td>\n",
       "      <td>Thomas und die Fraun by Die Fantastischen Vier</td>\n",
       "      <td>NaN</td>\n",
       "      <td>NaN</td>\n",
       "      <td>{'unreviewed_annotations': 1, 'hot': False}</td>\n",
       "      <td>Thomas und die Fraun Lyrics\\nSoweit, so gut, i...</td>\n",
       "    </tr>\n",
       "    <tr>\n",
       "      <th>1654</th>\n",
       "      <td>Rap</td>\n",
       "      <td>Die Fantastischen Vier</td>\n",
       "      <td>4 Gewinnt</td>\n",
       "      <td>1992</td>\n",
       "      <td>Reich</td>\n",
       "      <td>1990</td>\n",
       "      <td>650525</td>\n",
       "      <td>Reich by Die Fantastischen Vier</td>\n",
       "      <td>NaN</td>\n",
       "      <td>NaN</td>\n",
       "      <td>{'unreviewed_annotations': 0, 'hot': False}</td>\n",
       "      <td>Reich Lyrics\\nWas sind wir?\\nReich und mächtig...</td>\n",
       "    </tr>\n",
       "    <tr>\n",
       "      <th>1641</th>\n",
       "      <td>Rap</td>\n",
       "      <td>Die Fantastischen Vier</td>\n",
       "      <td>4 Gewinnt</td>\n",
       "      <td>1992</td>\n",
       "      <td>Vier gewinnt</td>\n",
       "      <td>1990</td>\n",
       "      <td>649863</td>\n",
       "      <td>Vier gewinnt by Die Fantastischen Vier</td>\n",
       "      <td>NaN</td>\n",
       "      <td>NaN</td>\n",
       "      <td>{'unreviewed_annotations': 0, 'hot': False}</td>\n",
       "      <td>Vier gewinnt Lyrics\\nDer Smudo, der Smudo, ich...</td>\n",
       "    </tr>\n",
       "    <tr>\n",
       "      <th>1669</th>\n",
       "      <td>Rap</td>\n",
       "      <td>Die Fantastischen Vier</td>\n",
       "      <td>Lauschgift</td>\n",
       "      <td>1995</td>\n",
       "      <td>On the Next Album</td>\n",
       "      <td>1990</td>\n",
       "      <td>648272</td>\n",
       "      <td>On the Next Album by Die Fantastischen Vier</td>\n",
       "      <td>NaN</td>\n",
       "      <td>NaN</td>\n",
       "      <td>{'unreviewed_annotations': 0, 'hot': False}</td>\n",
       "      <td>On the Next Album Lyrics\\nYo, Michael Schmidt,...</td>\n",
       "    </tr>\n",
       "    <tr>\n",
       "      <th>1670</th>\n",
       "      <td>Rap</td>\n",
       "      <td>Die Fantastischen Vier</td>\n",
       "      <td>Lauschgift</td>\n",
       "      <td>1995</td>\n",
       "      <td>Locker bleiben</td>\n",
       "      <td>1990</td>\n",
       "      <td>649313</td>\n",
       "      <td>Locker bleiben by Die Fantastischen Vier</td>\n",
       "      <td>NaN</td>\n",
       "      <td>NaN</td>\n",
       "      <td>{'unreviewed_annotations': 0, 'hot': False}</td>\n",
       "      <td>Locker bleiben Lyrics\\nZack, was geht ab? Ich ...</td>\n",
       "    </tr>\n",
       "    <tr>\n",
       "      <th>1671</th>\n",
       "      <td>Rap</td>\n",
       "      <td>Die Fantastischen Vier</td>\n",
       "      <td>Lauschgift</td>\n",
       "      <td>1995</td>\n",
       "      <td>Love Sucks</td>\n",
       "      <td>1990</td>\n",
       "      <td>649317</td>\n",
       "      <td>Love Sucks by Die Fantastischen Vier</td>\n",
       "      <td>NaN</td>\n",
       "      <td>NaN</td>\n",
       "      <td>{'unreviewed_annotations': 0, 'hot': False}</td>\n",
       "      <td>Love Sucks Lyrics\\nJetzt muss es raus jetzt pa...</td>\n",
       "    </tr>\n",
       "    <tr>\n",
       "      <th>1672</th>\n",
       "      <td>Rap</td>\n",
       "      <td>Die Fantastischen Vier</td>\n",
       "      <td>Lauschgift</td>\n",
       "      <td>1995</td>\n",
       "      <td>Wie die Anderen</td>\n",
       "      <td>1990</td>\n",
       "      <td>649321</td>\n",
       "      <td>Wie die anderen by Die Fantastischen Vier</td>\n",
       "      <td>NaN</td>\n",
       "      <td>NaN</td>\n",
       "      <td>{'unreviewed_annotations': 0, 'hot': False}</td>\n",
       "      <td>Wie die anderen Lyrics\\nWie die andern die and...</td>\n",
       "    </tr>\n",
       "  </tbody>\n",
       "</table>\n",
       "</div>"
      ],
      "text/plain": [
       "     genre               interpret       album  release_year  \\\n",
       "1644   Rap  Die Fantastischen Vier   4 Gewinnt          1992   \n",
       "1647   Rap  Die Fantastischen Vier   4 Gewinnt          1992   \n",
       "1648   Rap  Die Fantastischen Vier   4 Gewinnt          1992   \n",
       "1649   Rap  Die Fantastischen Vier   4 Gewinnt          1992   \n",
       "1650   Rap  Die Fantastischen Vier   4 Gewinnt          1992   \n",
       "1643   Rap  Die Fantastischen Vier   4 Gewinnt          1992   \n",
       "1642   Rap  Die Fantastischen Vier   4 Gewinnt          1992   \n",
       "1646   Rap  Die Fantastischen Vier   4 Gewinnt          1992   \n",
       "1656   Rap  Die Fantastischen Vier   4 Gewinnt          1992   \n",
       "1655   Rap  Die Fantastischen Vier   4 Gewinnt          1992   \n",
       "1645   Rap  Die Fantastischen Vier   4 Gewinnt          1992   \n",
       "1653   Rap  Die Fantastischen Vier   4 Gewinnt          1992   \n",
       "1652   Rap  Die Fantastischen Vier   4 Gewinnt          1992   \n",
       "1651   Rap  Die Fantastischen Vier   4 Gewinnt          1992   \n",
       "1654   Rap  Die Fantastischen Vier   4 Gewinnt          1992   \n",
       "1641   Rap  Die Fantastischen Vier   4 Gewinnt          1992   \n",
       "1669   Rap  Die Fantastischen Vier  Lauschgift          1995   \n",
       "1670   Rap  Die Fantastischen Vier  Lauschgift          1995   \n",
       "1671   Rap  Die Fantastischen Vier  Lauschgift          1995   \n",
       "1672   Rap  Die Fantastischen Vier  Lauschgift          1995   \n",
       "\n",
       "                     songtitle  decade  song_id  \\\n",
       "1644              Dicker Pulli    1990   649874   \n",
       "1647       Es wird Regen geben    1990  1559854   \n",
       "1648            Plattenspieler    1990   649897   \n",
       "1649             Hip Hop Musik    1990   649899   \n",
       "1650        Laß die Sonne rein    1990   649916   \n",
       "1643                      Saft    1990   442411   \n",
       "1642     Hört euch den hier an    1990   649869   \n",
       "1646                Einen noch    1990   649895   \n",
       "1656                 Arschloch    1990   650532   \n",
       "1655  Individuell aber schnell    1990   650527   \n",
       "1645                    Na Gut    1990   649878   \n",
       "1653                      Jaaa    1990   650243   \n",
       "1652              Nonixnarretz    1990   650227   \n",
       "1651      Thomas und die Fraun    1990   649994   \n",
       "1654                     Reich    1990   650525   \n",
       "1641              Vier gewinnt    1990   649863   \n",
       "1669         On the Next Album    1990   648272   \n",
       "1670            Locker bleiben    1990   649313   \n",
       "1671                Love Sucks    1990   649317   \n",
       "1672           Wie die Anderen    1990   649321   \n",
       "\n",
       "                                             full_title  \\\n",
       "1644             Dicker Pulli by Die Fantastischen Vier   \n",
       "1647      Es Wird Regen Geben by Die Fantastischen Vier   \n",
       "1648           Plattenspieler by Die Fantastischen Vier   \n",
       "1649            Hip Hop Musik by Die Fantastischen Vier   \n",
       "1650      Lass die Sonne rein by Die Fantastischen Vier   \n",
       "1643                     Saft by Die Fantastischen Vier   \n",
       "1642    Hört Euch den hier an by Die Fantastischen Vier   \n",
       "1646               Einen noch by Die Fantastischen Vier   \n",
       "1656                Arschloch by Die Fantastischen Vier   \n",
       "1655  Individuell aber schnell by Die Fantastischen ...   \n",
       "1645                   Na gut by Die Fantastischen Vier   \n",
       "1653                     Jaaa by Die Fantastischen Vier   \n",
       "1652             Nonixnarretz by Die Fantastischen Vier   \n",
       "1651     Thomas und die Fraun by Die Fantastischen Vier   \n",
       "1654                    Reich by Die Fantastischen Vier   \n",
       "1641             Vier gewinnt by Die Fantastischen Vier   \n",
       "1669        On the Next Album by Die Fantastischen Vier   \n",
       "1670           Locker bleiben by Die Fantastischen Vier   \n",
       "1671               Love Sucks by Die Fantastischen Vier   \n",
       "1672          Wie die anderen by Die Fantastischen Vier   \n",
       "\n",
       "                release_date_components_raw release_date_for_display  \\\n",
       "1644                                    NaN                      NaN   \n",
       "1647                                    NaN                      NaN   \n",
       "1648                                    NaN                      NaN   \n",
       "1649                                    NaN                      NaN   \n",
       "1650                                    NaN                      NaN   \n",
       "1643  {'year': 1993, 'month': 1, 'day': 18}         January 18, 1993   \n",
       "1642                                    NaN                      NaN   \n",
       "1646                                    NaN                      NaN   \n",
       "1656                                    NaN                      NaN   \n",
       "1655                                    NaN                      NaN   \n",
       "1645                                    NaN                      NaN   \n",
       "1653                                    NaN                      NaN   \n",
       "1652                                    NaN                      NaN   \n",
       "1651                                    NaN                      NaN   \n",
       "1654                                    NaN                      NaN   \n",
       "1641                                    NaN                      NaN   \n",
       "1669                                    NaN                      NaN   \n",
       "1670                                    NaN                      NaN   \n",
       "1671                                    NaN                      NaN   \n",
       "1672                                    NaN                      NaN   \n",
       "\n",
       "                                        stats_raw  \\\n",
       "1644  {'unreviewed_annotations': 0, 'hot': False}   \n",
       "1647  {'unreviewed_annotations': 0, 'hot': False}   \n",
       "1648  {'unreviewed_annotations': 0, 'hot': False}   \n",
       "1649  {'unreviewed_annotations': 1, 'hot': False}   \n",
       "1650  {'unreviewed_annotations': 1, 'hot': False}   \n",
       "1643  {'unreviewed_annotations': 2, 'hot': False}   \n",
       "1642  {'unreviewed_annotations': 0, 'hot': False}   \n",
       "1646  {'unreviewed_annotations': 0, 'hot': False}   \n",
       "1656  {'unreviewed_annotations': 0, 'hot': False}   \n",
       "1655  {'unreviewed_annotations': 0, 'hot': False}   \n",
       "1645  {'unreviewed_annotations': 0, 'hot': False}   \n",
       "1653  {'unreviewed_annotations': 0, 'hot': False}   \n",
       "1652  {'unreviewed_annotations': 1, 'hot': False}   \n",
       "1651  {'unreviewed_annotations': 1, 'hot': False}   \n",
       "1654  {'unreviewed_annotations': 0, 'hot': False}   \n",
       "1641  {'unreviewed_annotations': 0, 'hot': False}   \n",
       "1669  {'unreviewed_annotations': 0, 'hot': False}   \n",
       "1670  {'unreviewed_annotations': 0, 'hot': False}   \n",
       "1671  {'unreviewed_annotations': 0, 'hot': False}   \n",
       "1672  {'unreviewed_annotations': 0, 'hot': False}   \n",
       "\n",
       "                                                 lyrics  \n",
       "1644  Dicker Pulli Lyrics \\nDicker pulli an, man, da...  \n",
       "1647  Es Wird Regen Geben LyricsIch mach die Augen a...  \n",
       "1648  Plattenspieler Lyrics\\nPlattenspieler, Platten...  \n",
       "1649  Hip Hop Musik Lyrics \\nEs hat ein für allemal ...  \n",
       "1650  Lass die Sonne rein Lyrics\\nSommer, Sonne Sonn...  \n",
       "1643  Saft Lyrics\\nGib mir Deinen Saft, ich geb Dir ...  \n",
       "1642  Hört Euch den hier an Lyrics\\nS.M.U.D.O. von d...  \n",
       "1646  Einen noch Lyrics\\nHör mal zu, was ich\\nKann I...  \n",
       "1656  Arschloch Lyrics\\nLeck mich, ich bin 'n Arschl...  \n",
       "1655  Individuell aber schnell Lyrics\\nIst euch scho...  \n",
       "1645  Na gut Lyrics\\nAh, ah gut\\n\\nNa gut - dann geh...  \n",
       "1653  Jaaa Lyrics\\nKomm mal her\\nKomm mal her\\nKomm ...  \n",
       "1652  Nonixnarretz Lyrics\\nIch sag, ich sag, ich\\nSa...  \n",
       "1651  Thomas und die Fraun Lyrics\\nSoweit, so gut, i...  \n",
       "1654  Reich Lyrics\\nWas sind wir?\\nReich und mächtig...  \n",
       "1641  Vier gewinnt Lyrics\\nDer Smudo, der Smudo, ich...  \n",
       "1669  On the Next Album Lyrics\\nYo, Michael Schmidt,...  \n",
       "1670  Locker bleiben Lyrics\\nZack, was geht ab? Ich ...  \n",
       "1671  Love Sucks Lyrics\\nJetzt muss es raus jetzt pa...  \n",
       "1672  Wie die anderen Lyrics\\nWie die andern die and...  "
      ]
     },
     "execution_count": 24,
     "metadata": {},
     "output_type": "execute_result"
    }
   ],
   "source": [
    "data[data['genre'] == 'Rap'].sort_values('release_year').head(n=20)"
   ]
  },
  {
   "cell_type": "code",
   "execution_count": 26,
   "metadata": {},
   "outputs": [
    {
     "data": {
      "text/html": [
       "<div>\n",
       "<style scoped>\n",
       "    .dataframe tbody tr th:only-of-type {\n",
       "        vertical-align: middle;\n",
       "    }\n",
       "\n",
       "    .dataframe tbody tr th {\n",
       "        vertical-align: top;\n",
       "    }\n",
       "\n",
       "    .dataframe thead th {\n",
       "        text-align: right;\n",
       "    }\n",
       "</style>\n",
       "<table border=\"1\" class=\"dataframe\">\n",
       "  <thead>\n",
       "    <tr style=\"text-align: right;\">\n",
       "      <th></th>\n",
       "      <th>genre</th>\n",
       "      <th>interpret</th>\n",
       "      <th>album</th>\n",
       "      <th>release_year</th>\n",
       "      <th>songtitle</th>\n",
       "      <th>decade</th>\n",
       "      <th>song_id</th>\n",
       "      <th>full_title</th>\n",
       "      <th>release_date_components_raw</th>\n",
       "      <th>release_date_for_display</th>\n",
       "      <th>stats_raw</th>\n",
       "      <th>lyrics</th>\n",
       "    </tr>\n",
       "  </thead>\n",
       "  <tbody>\n",
       "    <tr>\n",
       "      <th>4309</th>\n",
       "      <td>Schlager</td>\n",
       "      <td>Nina Hagen</td>\n",
       "      <td>FreuD Euch</td>\n",
       "      <td>1995</td>\n",
       "      <td>Sternmädchen</td>\n",
       "      <td>1990</td>\n",
       "      <td>866656</td>\n",
       "      <td>Sternmädchen by Nina Hagen</td>\n",
       "      <td>{'year': 1995, 'month': 1, 'day': 1}</td>\n",
       "      <td>January 1, 1995</td>\n",
       "      <td>{'unreviewed_annotations': 0, 'hot': False}</td>\n",
       "      <td>Sternmädchen LyricsIch bin ’n Sternmädchen\\nIc...</td>\n",
       "    </tr>\n",
       "    <tr>\n",
       "      <th>4306</th>\n",
       "      <td>Schlager</td>\n",
       "      <td>Nina Hagen</td>\n",
       "      <td>FreuD Euch</td>\n",
       "      <td>1995</td>\n",
       "      <td>Wende</td>\n",
       "      <td>1990</td>\n",
       "      <td>1499355</td>\n",
       "      <td>Wende by Nina Hagen</td>\n",
       "      <td>{'year': 1995, 'month': 1, 'day': 1}</td>\n",
       "      <td>January 1, 1995</td>\n",
       "      <td>{'unreviewed_annotations': 0, 'hot': False}</td>\n",
       "      <td>Wende Lyrics\\nDu sollst nicht alles glauben wa...</td>\n",
       "    </tr>\n",
       "    <tr>\n",
       "      <th>4305</th>\n",
       "      <td>Schlager</td>\n",
       "      <td>Nina Hagen</td>\n",
       "      <td>FreuD Euch</td>\n",
       "      <td>1995</td>\n",
       "      <td>Freiheitslied</td>\n",
       "      <td>1990</td>\n",
       "      <td>930380</td>\n",
       "      <td>Freiheitslied by Nina Hagen</td>\n",
       "      <td>{'year': 1995, 'month': 1, 'day': 1}</td>\n",
       "      <td>January 1, 1995</td>\n",
       "      <td>{'unreviewed_annotations': 0, 'hot': False}</td>\n",
       "      <td>Freiheitslied Lyrics\\nIch bin schon vierzig Ja...</td>\n",
       "    </tr>\n",
       "    <tr>\n",
       "      <th>4304</th>\n",
       "      <td>Schlager</td>\n",
       "      <td>Nina Hagen</td>\n",
       "      <td>FreuD Euch</td>\n",
       "      <td>1995</td>\n",
       "      <td>Abgehaun</td>\n",
       "      <td>1990</td>\n",
       "      <td>1254096</td>\n",
       "      <td>Abgehaun by Nina Hagen</td>\n",
       "      <td>{'year': 1995, 'month': 1, 'day': 1}</td>\n",
       "      <td>January 1, 1995</td>\n",
       "      <td>{'unreviewed_annotations': 0, 'hot': False}</td>\n",
       "      <td>Abgehaun Lyrics\\nWo ich bin kann ich nicht sei...</td>\n",
       "    </tr>\n",
       "    <tr>\n",
       "      <th>4303</th>\n",
       "      <td>Schlager</td>\n",
       "      <td>Nina Hagen</td>\n",
       "      <td>FreuD Euch</td>\n",
       "      <td>1995</td>\n",
       "      <td>Sonntagmorgen</td>\n",
       "      <td>1990</td>\n",
       "      <td>1139835</td>\n",
       "      <td>Sonntagmorgen by Nina Hagen</td>\n",
       "      <td>{'year': 1995, 'month': 1, 'day': 1}</td>\n",
       "      <td>January 1, 1995</td>\n",
       "      <td>{'unreviewed_annotations': 0, 'hot': False}</td>\n",
       "      <td>Sonntagmorgen Lyrics\\nSonntagmorgen\\nUnd deine...</td>\n",
       "    </tr>\n",
       "    <tr>\n",
       "      <th>...</th>\n",
       "      <td>...</td>\n",
       "      <td>...</td>\n",
       "      <td>...</td>\n",
       "      <td>...</td>\n",
       "      <td>...</td>\n",
       "      <td>...</td>\n",
       "      <td>...</td>\n",
       "      <td>...</td>\n",
       "      <td>...</td>\n",
       "      <td>...</td>\n",
       "      <td>...</td>\n",
       "      <td>...</td>\n",
       "    </tr>\n",
       "    <tr>\n",
       "      <th>3996</th>\n",
       "      <td>Schlager</td>\n",
       "      <td>Andrea Berg</td>\n",
       "      <td>Du bist frei</td>\n",
       "      <td>2004</td>\n",
       "      <td>Und dann fehlt mir der Mut</td>\n",
       "      <td>2000</td>\n",
       "      <td>1431250</td>\n",
       "      <td>Und dann fehlt mir der Mut by Andrea Berg</td>\n",
       "      <td>NaN</td>\n",
       "      <td>NaN</td>\n",
       "      <td>{'unreviewed_annotations': 0, 'hot': False}</td>\n",
       "      <td>Und dann fehlt mir der Mut LyricsNur einen Tis...</td>\n",
       "    </tr>\n",
       "    <tr>\n",
       "      <th>3997</th>\n",
       "      <td>Schlager</td>\n",
       "      <td>Andrea Berg</td>\n",
       "      <td>Du bist frei</td>\n",
       "      <td>2004</td>\n",
       "      <td>Weil ich dich liebe</td>\n",
       "      <td>2000</td>\n",
       "      <td>1634078</td>\n",
       "      <td>Weil ich dich liebe by Andrea Berg</td>\n",
       "      <td>NaN</td>\n",
       "      <td>NaN</td>\n",
       "      <td>{'unreviewed_annotations': 0, 'hot': False}</td>\n",
       "      <td>Weil ich dich liebe LyricsRegen fällt und der ...</td>\n",
       "    </tr>\n",
       "    <tr>\n",
       "      <th>3998</th>\n",
       "      <td>Schlager</td>\n",
       "      <td>Andrea Berg</td>\n",
       "      <td>Du bist frei</td>\n",
       "      <td>2004</td>\n",
       "      <td>Schwarzes Labyrinth</td>\n",
       "      <td>2000</td>\n",
       "      <td>1059446</td>\n",
       "      <td>Schwarzes Labyrinth by Andrea Berg</td>\n",
       "      <td>NaN</td>\n",
       "      <td>NaN</td>\n",
       "      <td>{'unreviewed_annotations': 0, 'hot': False}</td>\n",
       "      <td>Schwarzes Labyrinth LyricsFlüsternde Macht drä...</td>\n",
       "    </tr>\n",
       "    <tr>\n",
       "      <th>1296</th>\n",
       "      <td>Rap</td>\n",
       "      <td>Bushido</td>\n",
       "      <td>Electro Ghetto</td>\n",
       "      <td>2004</td>\n",
       "      <td>Teufelskreis</td>\n",
       "      <td>2000</td>\n",
       "      <td>56786</td>\n",
       "      <td>Teufelskreis by Bushido (Ft. Sentino)</td>\n",
       "      <td>{'year': 2004, 'month': 10, 'day': 24}</td>\n",
       "      <td>October 24, 2004</td>\n",
       "      <td>{'unreviewed_annotations': 0, 'hot': False}</td>\n",
       "      <td>Teufelskreis Lyrics\\n\\nBadam-bam-bam\\nAh, yo\\n...</td>\n",
       "    </tr>\n",
       "    <tr>\n",
       "      <th>141</th>\n",
       "      <td>Pop</td>\n",
       "      <td>Clueso</td>\n",
       "      <td>Gute Musik</td>\n",
       "      <td>2004</td>\n",
       "      <td>Nacht Unterwegs</td>\n",
       "      <td>2000</td>\n",
       "      <td>599391</td>\n",
       "      <td>Nacht unterwegs by Clueso</td>\n",
       "      <td>NaN</td>\n",
       "      <td>NaN</td>\n",
       "      <td>{'unreviewed_annotations': 0, 'hot': False}</td>\n",
       "      <td>Nacht unterwegs Lyrics\\nGuten tag\\nDa müsste e...</td>\n",
       "    </tr>\n",
       "  </tbody>\n",
       "</table>\n",
       "<p>1015 rows × 12 columns</p>\n",
       "</div>"
      ],
      "text/plain": [
       "         genre    interpret           album  release_year  \\\n",
       "4309  Schlager   Nina Hagen      FreuD Euch          1995   \n",
       "4306  Schlager   Nina Hagen      FreuD Euch          1995   \n",
       "4305  Schlager   Nina Hagen      FreuD Euch          1995   \n",
       "4304  Schlager   Nina Hagen      FreuD Euch          1995   \n",
       "4303  Schlager   Nina Hagen      FreuD Euch          1995   \n",
       "...        ...          ...             ...           ...   \n",
       "3996  Schlager  Andrea Berg    Du bist frei          2004   \n",
       "3997  Schlager  Andrea Berg    Du bist frei          2004   \n",
       "3998  Schlager  Andrea Berg    Du bist frei          2004   \n",
       "1296       Rap      Bushido  Electro Ghetto          2004   \n",
       "141        Pop       Clueso      Gute Musik          2004   \n",
       "\n",
       "                       songtitle  decade  song_id  \\\n",
       "4309                Sternmädchen    1990   866656   \n",
       "4306                       Wende    1990  1499355   \n",
       "4305               Freiheitslied    1990   930380   \n",
       "4304                    Abgehaun    1990  1254096   \n",
       "4303               Sonntagmorgen    1990  1139835   \n",
       "...                          ...     ...      ...   \n",
       "3996  Und dann fehlt mir der Mut    2000  1431250   \n",
       "3997         Weil ich dich liebe    2000  1634078   \n",
       "3998         Schwarzes Labyrinth    2000  1059446   \n",
       "1296                Teufelskreis    2000    56786   \n",
       "141              Nacht Unterwegs    2000   599391   \n",
       "\n",
       "                                     full_title  \\\n",
       "4309                 Sternmädchen by Nina Hagen   \n",
       "4306                        Wende by Nina Hagen   \n",
       "4305                Freiheitslied by Nina Hagen   \n",
       "4304                     Abgehaun by Nina Hagen   \n",
       "4303                Sonntagmorgen by Nina Hagen   \n",
       "...                                         ...   \n",
       "3996  Und dann fehlt mir der Mut by Andrea Berg   \n",
       "3997         Weil ich dich liebe by Andrea Berg   \n",
       "3998         Schwarzes Labyrinth by Andrea Berg   \n",
       "1296      Teufelskreis by Bushido (Ft. Sentino)   \n",
       "141                   Nacht unterwegs by Clueso   \n",
       "\n",
       "                 release_date_components_raw release_date_for_display  \\\n",
       "4309    {'year': 1995, 'month': 1, 'day': 1}          January 1, 1995   \n",
       "4306    {'year': 1995, 'month': 1, 'day': 1}          January 1, 1995   \n",
       "4305    {'year': 1995, 'month': 1, 'day': 1}          January 1, 1995   \n",
       "4304    {'year': 1995, 'month': 1, 'day': 1}          January 1, 1995   \n",
       "4303    {'year': 1995, 'month': 1, 'day': 1}          January 1, 1995   \n",
       "...                                      ...                      ...   \n",
       "3996                                     NaN                      NaN   \n",
       "3997                                     NaN                      NaN   \n",
       "3998                                     NaN                      NaN   \n",
       "1296  {'year': 2004, 'month': 10, 'day': 24}         October 24, 2004   \n",
       "141                                      NaN                      NaN   \n",
       "\n",
       "                                        stats_raw  \\\n",
       "4309  {'unreviewed_annotations': 0, 'hot': False}   \n",
       "4306  {'unreviewed_annotations': 0, 'hot': False}   \n",
       "4305  {'unreviewed_annotations': 0, 'hot': False}   \n",
       "4304  {'unreviewed_annotations': 0, 'hot': False}   \n",
       "4303  {'unreviewed_annotations': 0, 'hot': False}   \n",
       "...                                           ...   \n",
       "3996  {'unreviewed_annotations': 0, 'hot': False}   \n",
       "3997  {'unreviewed_annotations': 0, 'hot': False}   \n",
       "3998  {'unreviewed_annotations': 0, 'hot': False}   \n",
       "1296  {'unreviewed_annotations': 0, 'hot': False}   \n",
       "141   {'unreviewed_annotations': 0, 'hot': False}   \n",
       "\n",
       "                                                 lyrics  \n",
       "4309  Sternmädchen LyricsIch bin ’n Sternmädchen\\nIc...  \n",
       "4306  Wende Lyrics\\nDu sollst nicht alles glauben wa...  \n",
       "4305  Freiheitslied Lyrics\\nIch bin schon vierzig Ja...  \n",
       "4304  Abgehaun Lyrics\\nWo ich bin kann ich nicht sei...  \n",
       "4303  Sonntagmorgen Lyrics\\nSonntagmorgen\\nUnd deine...  \n",
       "...                                                 ...  \n",
       "3996  Und dann fehlt mir der Mut LyricsNur einen Tis...  \n",
       "3997  Weil ich dich liebe LyricsRegen fällt und der ...  \n",
       "3998  Schwarzes Labyrinth LyricsFlüsternde Macht drä...  \n",
       "1296  Teufelskreis Lyrics\\n\\nBadam-bam-bam\\nAh, yo\\n...  \n",
       "141   Nacht unterwegs Lyrics\\nGuten tag\\nDa müsste e...  \n",
       "\n",
       "[1015 rows x 12 columns]"
      ]
     },
     "execution_count": 26,
     "metadata": {},
     "output_type": "execute_result"
    }
   ],
   "source": [
    "data[(data.release_year >= 1995) & (data.release_year < 2005)].sort_values('release_year')"
   ]
  },
  {
   "cell_type": "code",
   "execution_count": 27,
   "metadata": {},
   "outputs": [],
   "source": [
    "import math\n",
    "data['decade'] = data['release_year'].map(lambda x : int(math.trunc(x / 10) * 10))"
   ]
  },
  {
   "cell_type": "code",
   "execution_count": 28,
   "metadata": {},
   "outputs": [],
   "source": [
    "genre_pivot_decade = data.pivot_table(index='decade', columns='genre', aggfunc='size', fill_value=0)"
   ]
  },
  {
   "cell_type": "code",
   "execution_count": 29,
   "metadata": {},
   "outputs": [
    {
     "data": {
      "application/vnd.plotly.v1+json": {
       "config": {
        "plotlyServerURL": "https://plot.ly"
       },
       "data": [
        {
         "alignmentgroup": "True",
         "hovertemplate": "genre=Pop<br>decade=%{x}<br>value=%{y}<extra></extra>",
         "legendgroup": "Pop",
         "marker": {
          "color": "#636efa",
          "pattern": {
           "shape": ""
          }
         },
         "name": "Pop",
         "offsetgroup": "Pop",
         "orientation": "v",
         "showlegend": true,
         "textposition": "auto",
         "type": "bar",
         "x": [
          1960,
          1970,
          1980,
          1990,
          2000,
          2010
         ],
         "xaxis": "x",
         "y": [
          0,
          10,
          101,
          97,
          457,
          460
         ],
         "yaxis": "y"
        },
        {
         "alignmentgroup": "True",
         "hovertemplate": "genre=Rap<br>decade=%{x}<br>value=%{y}<extra></extra>",
         "legendgroup": "Rap",
         "marker": {
          "color": "#EF553B",
          "pattern": {
           "shape": ""
          }
         },
         "name": "Rap",
         "offsetgroup": "Rap",
         "orientation": "v",
         "showlegend": true,
         "textposition": "auto",
         "type": "bar",
         "x": [
          1960,
          1970,
          1980,
          1990,
          2000,
          2010
         ],
         "xaxis": "x",
         "y": [
          0,
          0,
          0,
          107,
          687,
          750
         ],
         "yaxis": "y"
        },
        {
         "alignmentgroup": "True",
         "hovertemplate": "genre=Rock<br>decade=%{x}<br>value=%{y}<extra></extra>",
         "legendgroup": "Rock",
         "marker": {
          "color": "#00cc96",
          "pattern": {
           "shape": ""
          }
         },
         "name": "Rock",
         "offsetgroup": "Rock",
         "orientation": "v",
         "showlegend": true,
         "textposition": "auto",
         "type": "bar",
         "x": [
          1960,
          1970,
          1980,
          1990,
          2000,
          2010
         ],
         "xaxis": "x",
         "y": [
          0,
          51,
          124,
          192,
          594,
          301
         ],
         "yaxis": "y"
        },
        {
         "alignmentgroup": "True",
         "hovertemplate": "genre=Schlager<br>decade=%{x}<br>value=%{y}<extra></extra>",
         "legendgroup": "Schlager",
         "marker": {
          "color": "#ab63fa",
          "pattern": {
           "shape": ""
          }
         },
         "name": "Schlager",
         "offsetgroup": "Schlager",
         "orientation": "v",
         "showlegend": true,
         "textposition": "auto",
         "type": "bar",
         "x": [
          1960,
          1970,
          1980,
          1990,
          2000,
          2010
         ],
         "xaxis": "x",
         "y": [
          9,
          41,
          85,
          137,
          245,
          94
         ],
         "yaxis": "y"
        }
       ],
       "layout": {
        "barmode": "group",
        "legend": {
         "title": {
          "text": "genre"
         },
         "tracegroupgap": 0
        },
        "template": {
         "data": {
          "bar": [
           {
            "error_x": {
             "color": "#2a3f5f"
            },
            "error_y": {
             "color": "#2a3f5f"
            },
            "marker": {
             "line": {
              "color": "#E5ECF6",
              "width": 0.5
             },
             "pattern": {
              "fillmode": "overlay",
              "size": 10,
              "solidity": 0.2
             }
            },
            "type": "bar"
           }
          ],
          "barpolar": [
           {
            "marker": {
             "line": {
              "color": "#E5ECF6",
              "width": 0.5
             },
             "pattern": {
              "fillmode": "overlay",
              "size": 10,
              "solidity": 0.2
             }
            },
            "type": "barpolar"
           }
          ],
          "carpet": [
           {
            "aaxis": {
             "endlinecolor": "#2a3f5f",
             "gridcolor": "white",
             "linecolor": "white",
             "minorgridcolor": "white",
             "startlinecolor": "#2a3f5f"
            },
            "baxis": {
             "endlinecolor": "#2a3f5f",
             "gridcolor": "white",
             "linecolor": "white",
             "minorgridcolor": "white",
             "startlinecolor": "#2a3f5f"
            },
            "type": "carpet"
           }
          ],
          "choropleth": [
           {
            "colorbar": {
             "outlinewidth": 0,
             "ticks": ""
            },
            "type": "choropleth"
           }
          ],
          "contour": [
           {
            "colorbar": {
             "outlinewidth": 0,
             "ticks": ""
            },
            "colorscale": [
             [
              0,
              "#0d0887"
             ],
             [
              0.1111111111111111,
              "#46039f"
             ],
             [
              0.2222222222222222,
              "#7201a8"
             ],
             [
              0.3333333333333333,
              "#9c179e"
             ],
             [
              0.4444444444444444,
              "#bd3786"
             ],
             [
              0.5555555555555556,
              "#d8576b"
             ],
             [
              0.6666666666666666,
              "#ed7953"
             ],
             [
              0.7777777777777778,
              "#fb9f3a"
             ],
             [
              0.8888888888888888,
              "#fdca26"
             ],
             [
              1,
              "#f0f921"
             ]
            ],
            "type": "contour"
           }
          ],
          "contourcarpet": [
           {
            "colorbar": {
             "outlinewidth": 0,
             "ticks": ""
            },
            "type": "contourcarpet"
           }
          ],
          "heatmap": [
           {
            "colorbar": {
             "outlinewidth": 0,
             "ticks": ""
            },
            "colorscale": [
             [
              0,
              "#0d0887"
             ],
             [
              0.1111111111111111,
              "#46039f"
             ],
             [
              0.2222222222222222,
              "#7201a8"
             ],
             [
              0.3333333333333333,
              "#9c179e"
             ],
             [
              0.4444444444444444,
              "#bd3786"
             ],
             [
              0.5555555555555556,
              "#d8576b"
             ],
             [
              0.6666666666666666,
              "#ed7953"
             ],
             [
              0.7777777777777778,
              "#fb9f3a"
             ],
             [
              0.8888888888888888,
              "#fdca26"
             ],
             [
              1,
              "#f0f921"
             ]
            ],
            "type": "heatmap"
           }
          ],
          "heatmapgl": [
           {
            "colorbar": {
             "outlinewidth": 0,
             "ticks": ""
            },
            "colorscale": [
             [
              0,
              "#0d0887"
             ],
             [
              0.1111111111111111,
              "#46039f"
             ],
             [
              0.2222222222222222,
              "#7201a8"
             ],
             [
              0.3333333333333333,
              "#9c179e"
             ],
             [
              0.4444444444444444,
              "#bd3786"
             ],
             [
              0.5555555555555556,
              "#d8576b"
             ],
             [
              0.6666666666666666,
              "#ed7953"
             ],
             [
              0.7777777777777778,
              "#fb9f3a"
             ],
             [
              0.8888888888888888,
              "#fdca26"
             ],
             [
              1,
              "#f0f921"
             ]
            ],
            "type": "heatmapgl"
           }
          ],
          "histogram": [
           {
            "marker": {
             "pattern": {
              "fillmode": "overlay",
              "size": 10,
              "solidity": 0.2
             }
            },
            "type": "histogram"
           }
          ],
          "histogram2d": [
           {
            "colorbar": {
             "outlinewidth": 0,
             "ticks": ""
            },
            "colorscale": [
             [
              0,
              "#0d0887"
             ],
             [
              0.1111111111111111,
              "#46039f"
             ],
             [
              0.2222222222222222,
              "#7201a8"
             ],
             [
              0.3333333333333333,
              "#9c179e"
             ],
             [
              0.4444444444444444,
              "#bd3786"
             ],
             [
              0.5555555555555556,
              "#d8576b"
             ],
             [
              0.6666666666666666,
              "#ed7953"
             ],
             [
              0.7777777777777778,
              "#fb9f3a"
             ],
             [
              0.8888888888888888,
              "#fdca26"
             ],
             [
              1,
              "#f0f921"
             ]
            ],
            "type": "histogram2d"
           }
          ],
          "histogram2dcontour": [
           {
            "colorbar": {
             "outlinewidth": 0,
             "ticks": ""
            },
            "colorscale": [
             [
              0,
              "#0d0887"
             ],
             [
              0.1111111111111111,
              "#46039f"
             ],
             [
              0.2222222222222222,
              "#7201a8"
             ],
             [
              0.3333333333333333,
              "#9c179e"
             ],
             [
              0.4444444444444444,
              "#bd3786"
             ],
             [
              0.5555555555555556,
              "#d8576b"
             ],
             [
              0.6666666666666666,
              "#ed7953"
             ],
             [
              0.7777777777777778,
              "#fb9f3a"
             ],
             [
              0.8888888888888888,
              "#fdca26"
             ],
             [
              1,
              "#f0f921"
             ]
            ],
            "type": "histogram2dcontour"
           }
          ],
          "mesh3d": [
           {
            "colorbar": {
             "outlinewidth": 0,
             "ticks": ""
            },
            "type": "mesh3d"
           }
          ],
          "parcoords": [
           {
            "line": {
             "colorbar": {
              "outlinewidth": 0,
              "ticks": ""
             }
            },
            "type": "parcoords"
           }
          ],
          "pie": [
           {
            "automargin": true,
            "type": "pie"
           }
          ],
          "scatter": [
           {
            "fillpattern": {
             "fillmode": "overlay",
             "size": 10,
             "solidity": 0.2
            },
            "type": "scatter"
           }
          ],
          "scatter3d": [
           {
            "line": {
             "colorbar": {
              "outlinewidth": 0,
              "ticks": ""
             }
            },
            "marker": {
             "colorbar": {
              "outlinewidth": 0,
              "ticks": ""
             }
            },
            "type": "scatter3d"
           }
          ],
          "scattercarpet": [
           {
            "marker": {
             "colorbar": {
              "outlinewidth": 0,
              "ticks": ""
             }
            },
            "type": "scattercarpet"
           }
          ],
          "scattergeo": [
           {
            "marker": {
             "colorbar": {
              "outlinewidth": 0,
              "ticks": ""
             }
            },
            "type": "scattergeo"
           }
          ],
          "scattergl": [
           {
            "marker": {
             "colorbar": {
              "outlinewidth": 0,
              "ticks": ""
             }
            },
            "type": "scattergl"
           }
          ],
          "scattermapbox": [
           {
            "marker": {
             "colorbar": {
              "outlinewidth": 0,
              "ticks": ""
             }
            },
            "type": "scattermapbox"
           }
          ],
          "scatterpolar": [
           {
            "marker": {
             "colorbar": {
              "outlinewidth": 0,
              "ticks": ""
             }
            },
            "type": "scatterpolar"
           }
          ],
          "scatterpolargl": [
           {
            "marker": {
             "colorbar": {
              "outlinewidth": 0,
              "ticks": ""
             }
            },
            "type": "scatterpolargl"
           }
          ],
          "scatterternary": [
           {
            "marker": {
             "colorbar": {
              "outlinewidth": 0,
              "ticks": ""
             }
            },
            "type": "scatterternary"
           }
          ],
          "surface": [
           {
            "colorbar": {
             "outlinewidth": 0,
             "ticks": ""
            },
            "colorscale": [
             [
              0,
              "#0d0887"
             ],
             [
              0.1111111111111111,
              "#46039f"
             ],
             [
              0.2222222222222222,
              "#7201a8"
             ],
             [
              0.3333333333333333,
              "#9c179e"
             ],
             [
              0.4444444444444444,
              "#bd3786"
             ],
             [
              0.5555555555555556,
              "#d8576b"
             ],
             [
              0.6666666666666666,
              "#ed7953"
             ],
             [
              0.7777777777777778,
              "#fb9f3a"
             ],
             [
              0.8888888888888888,
              "#fdca26"
             ],
             [
              1,
              "#f0f921"
             ]
            ],
            "type": "surface"
           }
          ],
          "table": [
           {
            "cells": {
             "fill": {
              "color": "#EBF0F8"
             },
             "line": {
              "color": "white"
             }
            },
            "header": {
             "fill": {
              "color": "#C8D4E3"
             },
             "line": {
              "color": "white"
             }
            },
            "type": "table"
           }
          ]
         },
         "layout": {
          "annotationdefaults": {
           "arrowcolor": "#2a3f5f",
           "arrowhead": 0,
           "arrowwidth": 1
          },
          "autotypenumbers": "strict",
          "coloraxis": {
           "colorbar": {
            "outlinewidth": 0,
            "ticks": ""
           }
          },
          "colorscale": {
           "diverging": [
            [
             0,
             "#8e0152"
            ],
            [
             0.1,
             "#c51b7d"
            ],
            [
             0.2,
             "#de77ae"
            ],
            [
             0.3,
             "#f1b6da"
            ],
            [
             0.4,
             "#fde0ef"
            ],
            [
             0.5,
             "#f7f7f7"
            ],
            [
             0.6,
             "#e6f5d0"
            ],
            [
             0.7,
             "#b8e186"
            ],
            [
             0.8,
             "#7fbc41"
            ],
            [
             0.9,
             "#4d9221"
            ],
            [
             1,
             "#276419"
            ]
           ],
           "sequential": [
            [
             0,
             "#0d0887"
            ],
            [
             0.1111111111111111,
             "#46039f"
            ],
            [
             0.2222222222222222,
             "#7201a8"
            ],
            [
             0.3333333333333333,
             "#9c179e"
            ],
            [
             0.4444444444444444,
             "#bd3786"
            ],
            [
             0.5555555555555556,
             "#d8576b"
            ],
            [
             0.6666666666666666,
             "#ed7953"
            ],
            [
             0.7777777777777778,
             "#fb9f3a"
            ],
            [
             0.8888888888888888,
             "#fdca26"
            ],
            [
             1,
             "#f0f921"
            ]
           ],
           "sequentialminus": [
            [
             0,
             "#0d0887"
            ],
            [
             0.1111111111111111,
             "#46039f"
            ],
            [
             0.2222222222222222,
             "#7201a8"
            ],
            [
             0.3333333333333333,
             "#9c179e"
            ],
            [
             0.4444444444444444,
             "#bd3786"
            ],
            [
             0.5555555555555556,
             "#d8576b"
            ],
            [
             0.6666666666666666,
             "#ed7953"
            ],
            [
             0.7777777777777778,
             "#fb9f3a"
            ],
            [
             0.8888888888888888,
             "#fdca26"
            ],
            [
             1,
             "#f0f921"
            ]
           ]
          },
          "colorway": [
           "#636efa",
           "#EF553B",
           "#00cc96",
           "#ab63fa",
           "#FFA15A",
           "#19d3f3",
           "#FF6692",
           "#B6E880",
           "#FF97FF",
           "#FECB52"
          ],
          "font": {
           "color": "#2a3f5f"
          },
          "geo": {
           "bgcolor": "white",
           "lakecolor": "white",
           "landcolor": "#E5ECF6",
           "showlakes": true,
           "showland": true,
           "subunitcolor": "white"
          },
          "hoverlabel": {
           "align": "left"
          },
          "hovermode": "closest",
          "mapbox": {
           "style": "light"
          },
          "paper_bgcolor": "white",
          "plot_bgcolor": "#E5ECF6",
          "polar": {
           "angularaxis": {
            "gridcolor": "white",
            "linecolor": "white",
            "ticks": ""
           },
           "bgcolor": "#E5ECF6",
           "radialaxis": {
            "gridcolor": "white",
            "linecolor": "white",
            "ticks": ""
           }
          },
          "scene": {
           "xaxis": {
            "backgroundcolor": "#E5ECF6",
            "gridcolor": "white",
            "gridwidth": 2,
            "linecolor": "white",
            "showbackground": true,
            "ticks": "",
            "zerolinecolor": "white"
           },
           "yaxis": {
            "backgroundcolor": "#E5ECF6",
            "gridcolor": "white",
            "gridwidth": 2,
            "linecolor": "white",
            "showbackground": true,
            "ticks": "",
            "zerolinecolor": "white"
           },
           "zaxis": {
            "backgroundcolor": "#E5ECF6",
            "gridcolor": "white",
            "gridwidth": 2,
            "linecolor": "white",
            "showbackground": true,
            "ticks": "",
            "zerolinecolor": "white"
           }
          },
          "shapedefaults": {
           "line": {
            "color": "#2a3f5f"
           }
          },
          "ternary": {
           "aaxis": {
            "gridcolor": "white",
            "linecolor": "white",
            "ticks": ""
           },
           "baxis": {
            "gridcolor": "white",
            "linecolor": "white",
            "ticks": ""
           },
           "bgcolor": "#E5ECF6",
           "caxis": {
            "gridcolor": "white",
            "linecolor": "white",
            "ticks": ""
           }
          },
          "title": {
           "x": 0.05
          },
          "xaxis": {
           "automargin": true,
           "gridcolor": "white",
           "linecolor": "white",
           "ticks": "",
           "title": {
            "standoff": 15
           },
           "zerolinecolor": "white",
           "zerolinewidth": 2
          },
          "yaxis": {
           "automargin": true,
           "gridcolor": "white",
           "linecolor": "white",
           "ticks": "",
           "title": {
            "standoff": 15
           },
           "zerolinecolor": "white",
           "zerolinewidth": 2
          }
         }
        },
        "title": {
         "text": "Genre by Release Year"
        },
        "xaxis": {
         "anchor": "y",
         "domain": [
          0,
          1
         ],
         "title": {
          "text": "decade"
         }
        },
        "yaxis": {
         "anchor": "x",
         "domain": [
          0,
          1
         ],
         "title": {
          "text": "value"
         }
        }
       }
      }
     },
     "metadata": {},
     "output_type": "display_data"
    }
   ],
   "source": [
    "genre_decade_fig = genre_pivot_decade.plot(kind='bar', title='Genre by Release Year')\n",
    "genre_decade_fig.update_layout(barmode='group')\n",
    "genre_decade_fig.show()"
   ]
  },
  {
   "cell_type": "markdown",
   "metadata": {},
   "source": [
    "### Start eigener Code"
   ]
  },
  {
   "cell_type": "code",
   "execution_count": 20,
   "metadata": {},
   "outputs": [
    {
     "data": {
      "text/html": [
       "<div>\n",
       "<style scoped>\n",
       "    .dataframe tbody tr th:only-of-type {\n",
       "        vertical-align: middle;\n",
       "    }\n",
       "\n",
       "    .dataframe tbody tr th {\n",
       "        vertical-align: top;\n",
       "    }\n",
       "\n",
       "    .dataframe thead th {\n",
       "        text-align: right;\n",
       "    }\n",
       "</style>\n",
       "<table border=\"1\" class=\"dataframe\">\n",
       "  <thead>\n",
       "    <tr style=\"text-align: right;\">\n",
       "      <th></th>\n",
       "      <th>genre</th>\n",
       "      <th>interpret</th>\n",
       "      <th>album</th>\n",
       "      <th>release_year</th>\n",
       "      <th>songtitle</th>\n",
       "      <th>decade</th>\n",
       "      <th>song_id</th>\n",
       "      <th>full_title</th>\n",
       "      <th>release_date_components_raw</th>\n",
       "      <th>release_date_for_display</th>\n",
       "      <th>stats_raw</th>\n",
       "      <th>lyrics</th>\n",
       "    </tr>\n",
       "  </thead>\n",
       "  <tbody>\n",
       "    <tr>\n",
       "      <th>1176</th>\n",
       "      <td>Rap</td>\n",
       "      <td>Alligatoah</td>\n",
       "      <td>Schlaftabletten, Rotwein III</td>\n",
       "      <td>2011</td>\n",
       "      <td>Schwamm drüber</td>\n",
       "      <td>2010</td>\n",
       "      <td>109913</td>\n",
       "      <td>Schwamm drüber by Alligatoah</td>\n",
       "      <td>{'year': 2011, 'month': 2, 'day': 25}</td>\n",
       "      <td>February 25, 2011</td>\n",
       "      <td>{'unreviewed_annotations': 7, 'hot': False, 'p...</td>\n",
       "      <td>Schwamm drüber Lyrics\\nIn meiner Wohnung leben...</td>\n",
       "    </tr>\n",
       "  </tbody>\n",
       "</table>\n",
       "</div>"
      ],
      "text/plain": [
       "     genre   interpret                         album  release_year  \\\n",
       "1176   Rap  Alligatoah  Schlaftabletten, Rotwein III          2011   \n",
       "\n",
       "           songtitle  decade  song_id                    full_title  \\\n",
       "1176  Schwamm drüber    2010   109913  Schwamm drüber by Alligatoah   \n",
       "\n",
       "                release_date_components_raw release_date_for_display  \\\n",
       "1176  {'year': 2011, 'month': 2, 'day': 25}        February 25, 2011   \n",
       "\n",
       "                                              stats_raw  \\\n",
       "1176  {'unreviewed_annotations': 7, 'hot': False, 'p...   \n",
       "\n",
       "                                                 lyrics  \n",
       "1176  Schwamm drüber Lyrics\\nIn meiner Wohnung leben...  "
      ]
     },
     "execution_count": 20,
     "metadata": {},
     "output_type": "execute_result"
    }
   ],
   "source": [
    "data.loc[data[\"lyrics\"].str.contains(\"Erbsenzähler\", case=False)]"
   ]
  },
  {
   "cell_type": "code",
   "execution_count": 20,
   "metadata": {},
   "outputs": [
    {
     "name": "stdout",
     "output_type": "stream",
     "text": [
      "     genre interpret                       album  release_year  \\\n",
      "2429   Rap  Prinz Pi  Teenage Mutant Horror Show          2005   \n",
      "2435   Rap  Prinz Pi  Teenage Mutant Horror Show          2005   \n",
      "\n",
      "                  songtitle  decade  song_id  \\\n",
      "2429  Gold sinkt nach unten    2000   641286   \n",
      "2435  Gold sinkt nach unten    2000   641286   \n",
      "\n",
      "                                       full_title release_date_components_raw  \\\n",
      "2429  Die Traumdeutung Kapitel 6 by Sigmund Freud                         NaN   \n",
      "2435  Die Traumdeutung Kapitel 6 by Sigmund Freud                         NaN   \n",
      "\n",
      "     release_date_for_display  \\\n",
      "2429                      NaN   \n",
      "2435                      NaN   \n",
      "\n",
      "                                              stats_raw  \\\n",
      "2429  {'unreviewed_annotations': 0, 'hot': False, 'p...   \n",
      "2435  {'unreviewed_annotations': 0, 'hot': False, 'p...   \n",
      "\n",
      "                                                 lyrics  \n",
      "2429  Die Traumdeutung Kapitel 6 Lyrics             ...  \n",
      "2435  Die Traumdeutung Kapitel 6 Lyrics             ...  \n"
     ]
    }
   ],
   "source": [
    "\n",
    "print(data.loc[data[\"songtitle\"].str.contains(\"Gold sinkt nach unten\", case=False)])"
   ]
  },
  {
   "cell_type": "code",
   "execution_count": 35,
   "metadata": {},
   "outputs": [],
   "source": [
    "with open('../data/raw/schimpfwörter.txt', 'r') as f:\n",
    "    words = f.read().splitlines()"
   ]
  },
  {
   "cell_type": "code",
   "execution_count": 36,
   "metadata": {},
   "outputs": [
    {
     "name": "stdout",
     "output_type": "stream",
     "text": [
      "{'31er': 1, 'Altnazi': 0, 'Anorak': 0, 'Anstreicher': 0, 'Apparatschik': 0, 'Arschloch': 103, 'Bagalut': 0, 'Baizuo': 0, 'Baka': 0, 'Banause': 3, 'Baraber': 0, 'Barbar': 13, 'Bastard': 94, 'Besatzungskind': 0, 'Besserwessi': 0, 'Besserwisser': 8, 'Betonkopf': 0, 'Blockwart': 0, 'Bloder': 0, 'Boche': 0, 'Bohnenstange': 2, 'Bonze': 37, 'Bünzli': 0, 'Buxe': 0, 'Chaot': 5, 'Chaotin': 1, 'Chav': 0, 'Chino': 1, 'Couch-Potato': 0, 'Covidiot': 0, 'Crackpot': 0, 'Dilettant': 1, 'Diversant': 0, 'Drückeberger': 2, 'Duckmäuser': 1, 'Düffeldoffel': 0, 'Dumpfbacke': 0, 'Eierkopf': 1, 'Entenklemmer': 0, 'Erbsenzähler': 3, 'Fachidiot': 2, 'Falscher Fuffziger': 0, 'Feminazi': 0, 'Frühstücksdirektor': 0, 'Fürstendiener': 0, 'Fuzzi': 1, 'Galgenvogel': 0, 'Gammler': 1, 'Gauner': 10, 'Graf Koks': 0, 'Grantler': 0, 'Grattler': 0, 'Griesgram': 0, 'Grobian': 0, 'Grüßaugust': 0, 'Gscherter': 0, 'Gummihals': 0, 'Gutmensch': 1, 'Haderlump': 0, 'Halbdackel': 0, 'Halbschuhtourist': 0, 'Hallodri': 1, 'Halunke': 5, 'Handlanger': 0, 'Hillbilly': 0, 'Hofschranze': 0, 'Nichtsnutz': 2, 'Honk': 12, 'Hoon': 0, 'Hundsfott': 0, 'Hungerhaken': 1, 'Idiot': 97, 'Iglufahrer': 0, 'Ignorant': 3, 'Incroyables et merveilleuses': 0, 'Irische Zwillinge': 0, 'Jeck': 0, 'Kaffer': 0, 'Kaldaunenschlucker': 0, 'Kalmäuser': 0, 'Kampfradler': 0, 'Kanaille': 0, 'Kanake': 29, 'Kartoffel': 36, 'Kiberer': 0, 'Klassenfeind': 0, 'Klinterklater': 0, 'Knalltüte': 0, 'Korinthenkacker': 0, 'Kornjude': 0, 'Kretin': 0, 'Krippenreiter': 0, 'Križari': 0, 'Kruke': 0, 'Krummer Hund': 0, 'Krüppel': 17, 'Kulak': 0, 'Kümmeltürke': 0, 'Kurpfuscher': 0, 'Lame Duck': 0, 'Lerge': 0, 'Linksliberale Elite': 0, 'Marmeladinger': 0, 'Meschugge': 0, 'Mietnomade': 1, 'Mitläufer': 2, 'Mondkalb': 0, 'Muffel': 1, 'Mulhid': 0, 'Nachtmütze': 0, 'Narr': 47, 'Nassauer': 0, 'Nazi': 49, 'Neger': 14, 'Nepmann': 0, 'Nerd': 11, 'Nestbeschmutzer': 0, 'Nigger': 3, 'Nulpe': 0, 'Nützlicher Idiot': 0, 'Oberlehrer': 1, 'OK Boomer': 0, 'Ölgötze': 0, 'Opfer': 158, 'Ossi und Wessi': 0, 'Papist': 0, 'Pappnase': 1, 'Parvenü': 2, 'Patent-Troll': 0, 'Pedant': 1, 'Pfeffersack': 0, 'Philister': 5, 'Pickaninny': 0, 'Pietcong': 0, 'Platzhirsch': 0, 'Poser': 8, 'Primitivling': 0, 'Prolet': 16, 'Quacksalber': 0, 'Quertreiber': 0, 'Rädelsführer': 1, 'Redneck': 1, 'Renegat': 0, 'Revoluzzer': 1, 'Rohling': 3, 'Rote Socke': 0, 'Rotzlöffel': 2, 'Rowdy': 2, 'Rübenschwein': 0, 'Rüpel': 2, 'Salbader': 0, 'Salonbolschewist': 0, 'Salontiroler': 0, 'Satansbraten': 2, 'Saupreiß': 0, 'Sbirre': 0, 'Scharlatan': 2, 'Scheinasylant': 0, 'Scherge': 0, 'Schlafschaf': 0, 'Schlemihl': 3, 'Schlunz': 0, 'Schmierfink': 0, 'Schmock': 22, 'Schnapsdrossel': 0, 'Schnapsnase': 0, 'Schnorrer': 2, 'Schnösel': 3, 'Schrumpfgermane': 0, 'Schurke': 10, 'Schwachmatikus': 0, 'Schweinigel': 0, 'Snob': 4, 'Social Justice Warrior': 0, 'Sozi': 44, 'Sozialschmarotzer': 2, 'Speckjäger': 0, 'Spießbürger': 1, 'Spießer': 20, 'Spießgeselle': 0, 'Spießerin': 0, 'Spitzbube': 0, 'Spottvogel': 0, 'Strickreiter': 0, 'Strizzi': 0, 'Strolch': 4, 'Stümper': 4, 'Süßholzraspler': 0, 'Tagedieb': 2, 'Taugenichts': 4, 'TERF': 0, 'Teschek': 0, 'Tollpatsch': 0, 'Tönnekesdrieter': 0, 'Trottel': 28, 'Turnbeutelvergesser': 0, 'Udel': 0, 'Ungeheuer': 5, 'Vandale': 0, 'Vatnik': 0}\n"
     ]
    }
   ],
   "source": [
    "word_count = {}\n",
    "\n",
    "for word in words:\n",
    "    word_count[word] = data['lyrics'].str.count(word).sum()\n",
    "\n",
    "print(word_count)"
   ]
  },
  {
   "cell_type": "code",
   "execution_count": null,
   "metadata": {},
   "outputs": [],
   "source": []
  },
  {
   "cell_type": "code",
   "execution_count": 18,
   "metadata": {},
   "outputs": [
    {
     "name": "stdout",
     "output_type": "stream",
     "text": [
      "Bushido - Messerstecherei\n",
      "31er: 1\n",
      "Alligatoah - Fick ihn doch\n",
      "Arschloch: 1\n",
      "Alligatoah - Im Namen des Gesetzes\n",
      "Arschloch: 1\n",
      "Idiot: 1\n",
      "Annett Louisan - Kleine Zwischenfälle\n",
      "Arschloch: 1\n",
      "Antilopen Gang - Abwasser\n",
      "Arschloch: 1\n",
      "Bela B - Altes Arschloch Liebe\n",
      "Arschloch: 1\n",
      "Bushido - Abschaum\n",
      "Arschloch: 1\n",
      "Bonze: 1\n",
      "Bushido - Blei-Patronen\n",
      "Arschloch: 1\n",
      "Bushido - Mitten in der Nacht\n",
      "Arschloch: 1\n",
      "Bastard: 1\n",
      "Opfer: 1\n",
      "Bushido - Vack You!\n",
      "Arschloch: 1\n",
      "Opfer: 1\n",
      "Die Fantastischen Vier - Arschloch\n",
      "Arschloch: 1\n",
      "Die Ärzte - Backpfeifengesicht\n",
      "Arschloch: 1\n",
      "Die Ärzte - Schrei nach Liebe\n",
      "Arschloch: 3\n",
      "Eko Fresh - Der letzte Überlebende\n",
      "Arschloch: 1\n",
      "Kanake: 1\n",
      "Eko Fresh - E.K.O.\n",
      "Arschloch: 1\n",
      "Idiot: 1\n",
      "Eko Fresh - Manche sind so\n",
      "Arschloch: 1\n",
      "Eko Fresh - Mein eigener Chef\n",
      "Arschloch: 1\n",
      "Sozi: 1\n",
      "Farid Bang - Immer noch ein Bastard\n",
      "Arschloch: 1\n",
      "Bastard: 1\n",
      "Farid Bang - Klick Klick Boom\n",
      "Arschloch: 1\n",
      "Farid Bang - Machogelaber\n",
      "Arschloch: 1\n",
      "Fler - Vollmond\n",
      "Arschloch: 1\n",
      "Genetikk - Erst Der Anfang\n",
      "Arschloch: 1\n",
      "Bonze: 1\n",
      "Genetikk - TeenSpirit\n",
      "Arschloch: 1\n",
      "Satansbraten: 1\n",
      "K.I.Z. - 11. Plage\n",
      "Arschloch: 1\n",
      "K.I.Z. - Freiwild\n",
      "Arschloch: 1\n",
      "Bastard: 1\n",
      "Rohling: 1\n",
      "K.I.Z. - Heiraten\n",
      "Arschloch: 1\n",
      "K.I.Z. - Hurensohn\n",
      "Arschloch: 1\n",
      "Gauner: 1\n",
      "K.I.Z. - Mach Sie Sagen\n",
      "Arschloch: 1\n",
      "K.I.Z. - Ringelpiez mit Anscheißen\n",
      "Arschloch: 1\n",
      "K.I.Z. - Selbstjustiz\n",
      "Arschloch: 1\n",
      "Kanake: 1\n",
      "Kay One - Deine Zeit Kommt\n",
      "Arschloch: 1\n",
      "Bastard: 1\n",
      "Opfer: 1\n",
      "Kay One - Verzeih Mir\n",
      "Arschloch: 1\n",
      "Kettcar - Ich danke der Academy\n",
      "Arschloch: 1\n",
      "Killerpilze - Ich hasse dich\n",
      "Arschloch: 1\n",
      "Kollegah - Kobrakopf\n",
      "Arschloch: 1\n",
      "Kool Savas - Merkt euch\n",
      "Arschloch: 1\n",
      "Idiot: 1\n",
      "Schmock: 1\n",
      "Kool Savas - Stampf\n",
      "Arschloch: 1\n",
      "Madsen - Arschloch\n",
      "Arschloch: 1\n",
      "Idiot: 1\n",
      "Madsen - Nitro\n",
      "Arschloch: 1\n",
      "Massive Töne - Rapgame\n",
      "Arschloch: 1\n",
      "Moop Mama - Anger Management\n",
      "Arschloch: 1\n",
      "Moop Mama - Liebe\n",
      "Arschloch: 1\n",
      "Prinz Pi - Schädelficken\n",
      "Arschloch: 1\n",
      "SDP - Arschloch\n",
      "Arschloch: 1\n",
      "Samy Deluxe - International Love\n",
      "Arschloch: 1\n",
      "Bastard: 1\n",
      "Fettes Brot - Da Draussen\n",
      "Banause: 1\n",
      "Fettes Brot - Da draussen\n",
      "Banause: 1\n",
      "Sportfreunde Stiller -  1. Wahl\n",
      "Banause: 1\n",
      "Gauner: 1\n",
      "Alligatoah - Eine Welt\n",
      "Barbar: 1\n",
      "Opfer: 1\n",
      "Schmock: 1\n",
      "Beginner - Chili-Chil Bäng Bäng\n",
      "Barbar: 1\n",
      "Deichkind - Leider geil (Leider geil)\n",
      "Barbar: 1\n",
      "Fettes Brot - Was hat der Junge doch für Nerven\n",
      "Barbar: 1\n",
      "K.I.Z. - Boom Boom Boom\n",
      "Barbar: 1\n",
      "Idiot: 1\n",
      "Nazi: 1\n",
      "Sozi: 1\n",
      "Sozialschmarotzer: 1\n",
      "Marius Müller-Westernhagen - Willenlos\n",
      "Barbar: 3\n",
      "Udo Lindenberg - Body Building Braut\n",
      "Barbar: 1\n",
      "Wolfgang Petry - Keine Lust auf gar nichts\n",
      "Barbar: 1\n",
      "Narr: 1\n",
      "Pedant: 1\n",
      "257ers - Gib mal ein aus\n",
      "Bastard: 1\n",
      "257ers - Samba\n",
      "Bastard: 1\n",
      "Idiot: 1\n",
      "257ers - Übertriebener Rap\n",
      "Bastard: 1\n",
      "Alligatoah - Abgestochen\n",
      "Bastard: 1\n",
      "Nazi: 1\n",
      "Opfer: 1\n",
      "Schmock: 1\n",
      "Alligatoah - Faszination Bier\n",
      "Bastard: 1\n",
      "Opfer: 1\n",
      "Alligatoah - Rabenväter\n",
      "Bastard: 1\n",
      "Broilers - Mit einem Fuß im Grab\n",
      "Bastard: 1\n",
      "Opfer: 1\n",
      "Schmock: 1\n",
      "Broilers - Wenn ich es will\n",
      "Bastard: 1\n",
      "Bushido - Asylantenstatus\n",
      "Bastard: 1\n",
      "Idiot: 1\n",
      "Bushido - Das Leben Ist Hart\n",
      "Bastard: 1\n",
      "Bushido - Heile Welt\n",
      "Bastard: 1\n",
      "Idiot: 1\n",
      "Kanake: 1\n",
      "Opfer: 1\n",
      "Bushido - Jeder meiner Freunde\n",
      "Bastard: 1\n",
      "Bushido - Tausend Gründe\n",
      "Bastard: 1\n",
      "Bushido - Vom Bordstein bis zur Skyline\n",
      "Bastard: 1\n",
      "Opfer: 1\n",
      "Bushido - Von der Skyline zum Bordstein zurück\n",
      "Bastard: 1\n",
      "Opfer: 1\n",
      "Casper - Straße 2\n",
      "Bastard: 1\n",
      "Eko Fresh - Klassentreffen\n",
      "Bastard: 1\n",
      "Bonze: 1\n",
      "Eko Fresh - Scheiß drauf\n",
      "Bastard: 1\n",
      "Farid Bang - Banger Musik\n",
      "Bastard: 1\n",
      "Farid Bang - Bladi Musik\n",
      "Bastard: 1\n",
      "Bonze: 1\n",
      "Opfer: 1\n",
      "Farid Bang - Es ist soweit\n",
      "Bastard: 1\n",
      "Farid Bang - Gangsta Leben Kürzer\n",
      "Bastard: 1\n",
      "Bonze: 1\n",
      "Kanake: 1\n",
      "Narr: 1\n",
      "Farid Bang - Nutten Wollen Bang\n",
      "Bastard: 1\n",
      "Farid Bang - Vom Dealer zum Rapstar\n",
      "Bastard: 1\n",
      "Farid Bang - Wer Ist Düsseldorf\n",
      "Bastard: 1\n",
      "Farid Bang - Zweimal Im Leben\n",
      "Bastard: 1\n",
      "Fler - Fler vs. Frank White\n",
      "Bastard: 1\n",
      "Kartoffel: 1\n",
      "Nazi: 1\n",
      "Opfer: 1\n",
      "Trottel: 1\n",
      "Fler - Nacht und Nebel Aktion\n",
      "Bastard: 1\n",
      "K.I.Z. - Doitschland schafft sich ab\n",
      "Bastard: 1\n",
      "K.I.Z. - In Seiner Mutter\n",
      "Bastard: 1\n",
      "K.I.Z. - Lauf weg\n",
      "Bastard: 1\n",
      "Opfer: 1\n",
      "K.I.Z. - Was Willst Du Machen\n",
      "Bastard: 1\n",
      "Kanake: 1\n",
      "Kartoffel: 1\n",
      "Opfer: 1\n",
      "Sozi: 1\n",
      "Kay One - Helal Money\n",
      "Bastard: 1\n",
      "Kay One - Sexy Teens\n",
      "Bastard: 1\n",
      "Kollegah - Bossaura\n",
      "Bastard: 1\n",
      "Kollegah - Das erste Mal\n",
      "Bastard: 1\n",
      "Kollegah - Du\n",
      "Bastard: 1\n",
      "Kollegah - Makiaveli\n",
      "Bastard: 1\n",
      "Kollegah - Pharao\n",
      "Bastard: 1\n",
      "Kollegah - Pythonleder\n",
      "Bastard: 1\n",
      "Kool Savas - Echo\n",
      "Bastard: 1\n",
      "Kool Savas - Es rappelt im Karton\n",
      "Bastard: 1\n",
      "OK KID - 1996\n",
      "Bastard: 1\n",
      "Summer Cem - Bol Chance\n",
      "Bastard: 1\n",
      "Idiot: 1\n",
      "Tomte - Die Bastarde, die dich jetzt nach Hause bringen\n",
      "Bastard: 1\n",
      "AnnenMayKantereit -  3. Stock\n",
      "Besserwisser: 1\n",
      "AnnenMayKantereit - 3. Stock\n",
      "Besserwisser: 1\n",
      "Die Fantastischen Vier - Kaputt\n",
      "Besserwisser: 1\n",
      "Die Ärzte - Besserwisserboy\n",
      "Besserwisser: 1\n",
      "Kool Savas - Tot oder Lebendig\n",
      "Besserwisser: 1\n",
      "Massive Töne - Unterschied\n",
      "Besserwisser: 1\n",
      "Fettes Brot - Falsche Entscheidung\n",
      "Bohnenstange: 2\n",
      "Alligatoah - Ich Hasse\n",
      "Bonze: 1\n",
      "Nazi: 1\n",
      "Antilopen Gang - Molotowcocktails auf die Bibliotheken\n",
      "Bonze: 1\n",
      "Sozi: 1\n",
      "Antilopen Gang - RAF Rentner\n",
      "Bonze: 1\n",
      "Bushido - Kurt Cobain\n",
      "Bonze: 1\n",
      "Cro - Drei Minuten\n",
      "Bonze: 1\n",
      "Deichkind - Hört ihr die Signale\n",
      "Bonze: 1\n",
      "Farid Bang - Asphalt Massaka\n",
      "Bonze: 1\n",
      "Nigger: 1\n",
      "Farid Bang - König der Nacht\n",
      "Bonze: 1\n",
      "Farid Bang - Willkommen auf der Kö\n",
      "Bonze: 1\n",
      "Fettes Brot - Eure Autos\n",
      "Bonze: 1\n",
      "Fler - Atme Ein Atme Aus\n",
      "Bonze: 1\n",
      "Fler - Böser Engel\n",
      "Bonze: 1\n",
      "Fler - Gewaltbereit\n",
      "Bonze: 1\n",
      "Nazi: 1\n",
      "Prolet: 1\n",
      "Fler - Jackpot\n",
      "Bonze: 1\n",
      "Opfer: 1\n",
      "K.I.Z. - AMG Mercedes\n",
      "Bonze: 1\n",
      "Opfer: 1\n",
      "Kay One - Rain On You\n",
      "Bonze: 1\n",
      "Kollegah - Assassine\n",
      "Bonze: 1\n",
      "Kollegah - Royal\n",
      "Bonze: 1\n",
      "Nena - Betonblock\n",
      "Bonze: 1\n",
      "Prinz Pi - Meine Roots\n",
      "Bonze: 1\n",
      "Samy Deluxe - Wer Wird Millionär\n",
      "Bonze: 1\n",
      "Sozi: 1\n",
      "Sido - 30-11-80\n",
      "Bonze: 1\n",
      "Opfer: 1\n",
      "Fettes Brot - Schieb Es Auf Die Brote\n",
      "Chaot: 1\n",
      "Idiot: 1\n",
      "Fettes Brot - Schieb es auf die Brote\n",
      "Chaot: 1\n",
      "Idiot: 1\n",
      "Moop Mama - Molotow\n",
      "Chaot: 1\n",
      "Chaotin: 1\n",
      "PUR - Mein Freund Rüdi\n",
      "Chaot: 1\n",
      "Wolfgang Petry - Gott sei Dank\n",
      "Chaot: 1\n",
      "Idiot: 1\n",
      "Genetikk - Zombies\n",
      "Chino: 1\n",
      "Kool Savas - Matrix\n",
      "Dilettant: 1\n",
      "Farid Bang - Ich Geh Auf 4\n",
      "Eierkopf: 1\n",
      "OK KID - Lügenhits\n",
      "Fachidiot: 1\n",
      "Samy Deluxe - Positiv\n",
      "Fachidiot: 1\n",
      "Udo Lindenberg - Satellit City Fighter\n",
      "Fuzzi: 1\n",
      "Samy Deluxe - S.O.S.\n",
      "Gammler: 1\n",
      "Bushido - Universal Soldier\n",
      "Gauner: 1\n",
      "Marsimoto - Marsi der Zigeuner\n",
      "Gauner: 1\n",
      "Massive Töne - Trend II\n",
      "Gauner: 1\n",
      "Nina Hagen - An einem Tag in Frühling\n",
      "Gauner: 1\n",
      "Summer Cem - Original\n",
      "Gauner: 1\n",
      "Max Herre - Einstürzen neubauen\n",
      "Gutmensch: 1\n",
      "Dendemann - LaLaLabernich\n",
      "Hallodri: 1\n",
      "Die Ärzte - El Cattivo\n",
      "Halunke: 3\n",
      "Jennifer Rostock - Du willst mir an die Wäsche\n",
      "Halunke: 1\n",
      "Sportfreunde Stiller -  Mag Tischtennis\n",
      "Halunke: 1\n",
      "Massive Töne - Nichtsnutz\n",
      "Nichtsnutz: 1\n",
      "Casper - Stampf Ihn Ein\n",
      "Honk: 1\n",
      "Kartoffel: 1\n",
      "Casper - Zauber Pur\n",
      "Honk: 1\n",
      "Dendemann - Hörtnichauf\n",
      "Honk: 1\n",
      "Kool Savas - Wie S\n",
      "Honk: 1\n",
      "Samy Deluxe - Eppendorf\n",
      "Honk: 1\n",
      "Udo Lindenberg - Honky Tonky Show\n",
      "Honk: 1\n",
      "Alligatoah - Meine Band\n",
      "Hungerhaken: 1\n",
      "257ers - Gruppenzwang\n",
      "Idiot: 1\n",
      "Alligatoah - Anders\n",
      "Idiot: 1\n",
      "Alligatoah - Dagegen\n",
      "Idiot: 1\n",
      "Alligatoah - Es gibt einen Ort\n",
      "Idiot: 1\n",
      "Alligatoah - Klüger\n",
      "Idiot: 1\n",
      "Antilopen Gang - Anti Alles Aktion\n",
      "Idiot: 1\n",
      "Antilopen Gang - Outlaws\n",
      "Idiot: 1\n",
      "Opfer: 1\n",
      "Trottel: 1\n",
      "Beginner - Scheinwerfer\n",
      "Idiot: 1\n",
      "Bosse - All die Dinge\n",
      "Idiot: 1\n",
      "Bosse - So oder so\n",
      "Idiot: 1\n",
      "Bushido - Feuersturm\n",
      "Idiot: 1\n",
      "Kanake: 1\n",
      "Opfer: 1\n",
      "Schmock: 1\n",
      "Bushido - Wir Regieren Deutschland\n",
      "Idiot: 1\n",
      "Cro - Non Stop\n",
      "Idiot: 1\n",
      "Cro - Vielleicht\n",
      "Idiot: 1\n",
      "DJ Tomekk - Ich Lebe Für Hip Hop\n",
      "Idiot: 1\n",
      "Dendemann - Sensationell\n",
      "Idiot: 1\n",
      "Die Fantastischen Vier - Buenos Dias Messias\n",
      "Idiot: 1\n",
      "Die Fantastischen Vier - Ernten was wir säen\n",
      "Idiot: 1\n",
      "Die Ärzte - Anti-Zombie\n",
      "Idiot: 1\n",
      "Eko Fresh - Fackeln im Sturm\n",
      "Idiot: 1\n",
      "Farid Bang - Der Araber\n",
      "Idiot: 1\n",
      "Fettes Brot - Das Lied vom Ende\n",
      "Idiot: 1\n",
      "Ungeheuer: 1\n",
      "Fler - Backstage Pass\n",
      "Idiot: 1\n",
      "Fler - Ich bleib wie ich bin\n",
      "Idiot: 1\n",
      "Genetikk - König Der Lügner\n",
      "Idiot: 1\n",
      "Herbert Grönemeyer - Tanzen\n",
      "Idiot: 1\n",
      "K.I.Z. - Ariane\n",
      "Idiot: 1\n",
      "K.I.Z. - Fleisch\n",
      "Idiot: 1\n",
      "K.I.Z. - In der Nacht\n",
      "Idiot: 1\n",
      "K.I.Z. - Käfigbett\n",
      "Idiot: 1\n",
      "K.I.Z. - Superstars\n",
      "Idiot: 1\n",
      "K.I.Z. - Urlaub fürs Gehirn\n",
      "Idiot: 1\n",
      "Kettcar - Der apokalyptische Reiter und das besorgte Pferd\n",
      "Idiot: 1\n",
      "Kool Savas - Alle schieben Optik\n",
      "Idiot: 1\n",
      "Schmock: 1\n",
      "Kool Savas - Der Beweis\n",
      "Idiot: 1\n",
      "Kool Savas - Gib auf\n",
      "Idiot: 1\n",
      "Kool Savas - O.P.T.I.K.\n",
      "Idiot: 1\n",
      "Kanake: 1\n",
      "Opfer: 1\n",
      "Trottel: 1\n",
      "Kool Savas - Und dann kam Essah\n",
      "Idiot: 1\n",
      "Opfer: 1\n",
      "Kraftklub - Ich hau rein\n",
      "Idiot: 1\n",
      "Kraftklub - Liebe\n",
      "Idiot: 2\n",
      "Kraftklub - Mein Rad\n",
      "Idiot: 1\n",
      "Kraftklub - Schlagerstars\n",
      "Idiot: 1\n",
      "Nerd: 1\n",
      "Madsen - Für immer dein\n",
      "Idiot: 1\n",
      "Marius Müller-Westernhagen - Mir ist so heiß\n",
      "Idiot: 1\n",
      "Marius Müller-Westernhagen - Schrei\n",
      "Idiot: 1\n",
      "Massive Töne - Stress\n",
      "Idiot: 1\n",
      "Moop Mama - Wenn ich du wär\n",
      "Idiot: 1\n",
      "Nina Hagen - Bei mir bist du schön\n",
      "Idiot: 1\n",
      "Trottel: 1\n",
      "OK KID - Kaffee warm\n",
      "Idiot: 1\n",
      "OK KID - Kaffee warm 3\n",
      "Idiot: 1\n",
      "Prinz Pi - Affen an die Macht\n",
      "Idiot: 1\n",
      "Prinz Pi - Kann es sein\n",
      "Idiot: 1\n",
      "Prinz Pi - Keine Idole\n",
      "Idiot: 1\n",
      "Prinz Pi - Zünd die Welt an\n",
      "Idiot: 1\n",
      "Rowdy: 1\n",
      "Rosenstolz - Die Dame von der Akademie\n",
      "Idiot: 1\n",
      "Rosenstolz - Ich geh in Flammen auf\n",
      "Idiot: 1\n",
      "Rosenstolz - Komm doch mit\n",
      "Idiot: 1\n",
      "SDP - Mein Leben\n",
      "Idiot: 1\n",
      "Sido - Schlechtes Vorbild\n",
      "Idiot: 1\n",
      "Sportfreunde Stiller -  Sodom\n",
      "Idiot: 1\n",
      "Udo Lindenberg - Der blaue Planet\n",
      "Idiot: 1\n",
      "Udo Lindenberg - Ich schwöre\n",
      "Idiot: 1\n",
      "Udo Lindenberg - Meine erste Liebe\n",
      "Idiot: 1\n",
      "Udo Lindenberg - Russisch Roulette\n",
      "Idiot: 1\n",
      "Eko Fresh - Jetzt bin ich dran\n",
      "Ignorant: 1\n",
      "Nena - Das alte Lied\n",
      "Ignorant: 1\n",
      "Nina Hagen - Laß mich in Ruhe!\n",
      "Ignorant: 1\n",
      "Bushido - Alles verloren\n",
      "Kanake: 1\n",
      "Opfer: 1\n",
      "Bushido - Bei Nacht\n",
      "Kanake: 1\n",
      "Opfer: 1\n",
      "Bushido - King of Kingz\n",
      "Kanake: 1\n",
      "Nigger: 1\n",
      "Eko Fresh - Das ist mein Viertel\n",
      "Kanake: 1\n",
      "Eko Fresh - Ruhe vor dem Sturm\n",
      "Kanake: 1\n",
      "Farid Bang - 3 mal im Leben\n",
      "Kanake: 1\n",
      "Farid Bang - German Dream 2012\n",
      "Kanake: 1\n",
      "Farid Bang - Goodfellas\n",
      "Kanake: 1\n",
      "Farid Bang - Mein Block\n",
      "Kanake: 1\n",
      "Fler - Eine Bombe du liegst\n",
      "Kanake: 1\n",
      "Genetikk - Masi Masi\n",
      "Kanake: 1\n",
      "K.I.Z. - Der Schöne und das Biest\n",
      "Kanake: 1\n",
      "Nazi: 1\n",
      "Kollegah - American Express\n",
      "Kanake: 1\n",
      "Kollegah - Kaiseraura\n",
      "Kanake: 1\n",
      "Kool Savas - Homo Thugs\n",
      "Kanake: 1\n",
      "Kool Savas - Optimale Nutzung unserer Ressourcen\n",
      "Kanake: 1\n",
      "Sido - Ihr habt uns so gemacht\n",
      "Kanake: 1\n",
      "Summer Cem - Kein Mann Von Welt\n",
      "Kanake: 1\n",
      "Bosse - Die Regie\n",
      "Kartoffel: 1\n",
      "Bushido - Untergrund\n",
      "Kartoffel: 1\n",
      "Muffel: 1\n",
      "Casper - Abriss\n",
      "Kartoffel: 1\n",
      "Nerd: 1\n",
      "Die Ärzte - Der Infant\n",
      "Kartoffel: 1\n",
      "Die Ärzte - West Berlin\n",
      "Kartoffel: 1\n",
      "Sozi: 1\n",
      "Eko Fresh - Drück auf Play\n",
      "Kartoffel: 1\n",
      "Grossstadtgeflüster - Kartoffelsuppe\n",
      "Kartoffel: 1\n",
      "Jan Delay - Kartoffeln\n",
      "Kartoffel: 1\n",
      "K.I.Z. - Ellenbogengesellschaft\n",
      "Kartoffel: 1\n",
      "OK KID - Erinnert\n",
      "Kartoffel: 1\n",
      "PUR - Irene\n",
      "Kartoffel: 1\n",
      "Prinz Pi - Von und Zu\n",
      "Kartoffel: 1\n",
      "SDP - Ich steh auf Hausfrauen\n",
      "Kartoffel: 1\n",
      "Wolfgang Petry - Wenn du bei mir bist\n",
      "Kartoffel: 1\n",
      "Bushido - Baseballschläger\n",
      "Mietnomade: 1\n",
      "Opfer: 1\n",
      "Antilopen Gang - Das Trojanische Pferd\n",
      "Narr: 1\n",
      "Dieter Thomas Kuhn - Fremde oder Freunde\n",
      "Narr: 1\n",
      "Sozi: 1\n",
      "Trottel: 1\n",
      "Genetikk - Solang Ich Träume Hab\n",
      "Narr: 1\n",
      "Herbert Grönemeyer - Ich bin ein Spieler\n",
      "Narr: 1\n",
      "Marius Müller-Westernhagen - Ich will es wissen\n",
      "Narr: 1\n",
      "Prinz Pi - Gold sinkt nach unten\n",
      "Narr: 2\n",
      "Neger: 2\n",
      "Opfer: 2\n",
      "Philister: 2\n",
      "Schlemihl: 2\n",
      "Prinz Pi - Teufel im Schafspelz\n",
      "Narr: 1\n",
      "Opfer: 1\n",
      "Rosenstolz - Lass es regnen\n",
      "Narr: 1\n",
      "Philister: 1\n",
      "Ungeheuer: 1\n",
      "Spider Murphy Gang - A nackerte Prinzessin\n",
      "Narr: 1\n",
      "Sportfreunde Stiller -  Unter unten!\n",
      "Narr: 1\n",
      "Udo Jürgens - Narrenschiff\n",
      "Narr: 1\n",
      "Alligatoah - Amnesie\n",
      "Nazi: 1\n",
      "Alligatoah - Märchenschlampen\n",
      "Nazi: 1\n",
      "Opfer: 1\n",
      "Strolch: 1\n",
      "Alligatoah - Wer weiß\n",
      "Nazi: 1\n",
      "Antilopen Gang - Beate Zschäpe hört U2\n",
      "Nazi: 1\n",
      "Antilopen Gang - Liebe Grüße\n",
      "Nazi: 1\n",
      "Beginner - So schön\n",
      "Nazi: 1\n",
      "Bushido - Ihr habt mich gemacht\n",
      "Nazi: 1\n",
      "Die Fantastischen Vier - Du mich auch\n",
      "Nazi: 1\n",
      "Die Ärzte - Ein Sommer nur für mich\n",
      "Nazi: 1\n",
      "Farid Bang - 110\n",
      "Nazi: 1\n",
      "Farid Bang - Russisch Roulette\n",
      "Nazi: 1\n",
      "Feine Sahne Fischfilet - Nur Applaus\n",
      "Nazi: 1\n",
      "Fettes Brot - Du bist the shit\n",
      "Nazi: 1\n",
      "Fettes Brot - Krankenhausreif\n",
      "Nazi: 1\n",
      "Neger: 1\n",
      "Strolch: 1\n",
      "Fler - Deutscha Bad Boy\n",
      "Nazi: 1\n",
      "Fler - Ich werde nie vergessen\n",
      "Nazi: 1\n",
      "Fler - Mein Jahr\n",
      "Nazi: 1\n",
      "Opfer: 1\n",
      "Jan Delay - Söhne Stammheims\n",
      "Nazi: 1\n",
      "K.I.Z. - Einritt\n",
      "Nazi: 1\n",
      "K.I.Z. - Küss mir den Schwanz\n",
      "Nazi: 1\n",
      "Opfer: 1\n",
      "K.I.Z. - Lass die Sau raus\n",
      "Nazi: 1\n",
      "K.I.Z. - Mr. Sonderbar\n",
      "Nazi: 1\n",
      "K.I.Z. - Rauher Wind\n",
      "Nazi: 1\n",
      "Schnorrer: 1\n",
      "Sozi: 1\n",
      "Sozialschmarotzer: 1\n",
      "Kollegah - Realtalk\n",
      "Nazi: 1\n",
      "Kraftklub - Karl-Marx-Stadt\n",
      "Nazi: 1\n",
      "Marsimoto - Angst\n",
      "Nazi: 1\n",
      "OK KID - Gute Menschen\n",
      "Nazi: 1\n",
      "Neger: 1\n",
      "Opfer: 1\n",
      "Prinz Pi - Spring!\n",
      "Nazi: 1\n",
      "Prinz Pi - Säulen der Gesellschaft\n",
      "Nazi: 1\n",
      "Sozi: 1\n",
      "Samy Deluxe - Dis wo ich herkomm\n",
      "Nazi: 1\n",
      "Samy Deluxe - Weck Mich Auf\n",
      "Nazi: 1\n",
      "Opfer: 1\n",
      "Sido - 1000 Fragen\n",
      "Nazi: 1\n",
      "Sido - Enrico\n",
      "Nazi: 1\n",
      "Sido - Zu Straße\n",
      "Nazi: 1\n",
      "Silbermond - In Zeiten wie diesen\n",
      "Nazi: 1\n",
      "Udo Lindenberg - Gutes tun\n",
      "Nazi: 1\n",
      "Udo Lindenberg - Panik-Panther\n",
      "Nazi: 1\n",
      "Wolfgang Petry - Scheisse ist braun\n",
      "Nazi: 1\n",
      "Bushido - Gemein wie 10\n",
      "Neger: 1\n",
      "Die Ärzte - Radio Rap\n",
      "Neger: 1\n",
      "Fünf Sterne Deluxe - Dein Herz schlägt schneller\n",
      "Neger: 1\n",
      "K.I.Z. - Scheinehaxxxn\n",
      "Neger: 1\n",
      "Opfer: 1\n",
      "Marius Müller-Westernhagen - Mit Pfefferminz bin ich Dein Prinz\n",
      "Neger: 1\n",
      "Marius Müller-Westernhagen - Mit Pfefferminz bin ich dein Prinz\n",
      "Neger: 1\n",
      "Marius Müller-Westernhagen - Schweigen ist feige\n",
      "Neger: 3\n",
      "Samy Deluxe - Samy Deluxe 2001\n",
      "Neger: 1\n",
      "Beginner - Fäule\n",
      "Nerd: 1\n",
      "Eko Fresh - Ek to the Future\n",
      "Nerd: 1\n",
      "Farid Bang - Disco MMA\n",
      "Nerd: 1\n",
      "Prinz Pi - Mich hat jeder gekannt\n",
      "Nerd: 1\n",
      "Prinz Pi - Nerdhymne\n",
      "Nerd: 1\n",
      "Prinz Pi - Ohne Pee\n",
      "Nerd: 1\n",
      "Bushido - Battle on the Rockz\n",
      "Nigger: 1\n",
      "Eko Fresh - 101 Bars\n",
      "Oberlehrer: 1\n",
      "Alligatoah - Geiselnehmah\n",
      "Opfer: 1\n",
      "Alligatoah - Geschäftsmann\n",
      "Opfer: 1\n",
      "Alligatoah - Ich kann am besten I\n",
      "Opfer: 1\n",
      "Alligatoah - Meine Freunde von der Insel\n",
      "Opfer: 1\n",
      "Schmock: 1\n",
      "Alligatoah - Namen machen\n",
      "Opfer: 1\n",
      "Alligatoah - Raubkopierah\n",
      "Opfer: 1\n",
      "Alligatoah - Reiten\n",
      "Opfer: 1\n",
      "Annett Louisan - Fettnäpfchenwetthüpfen\n",
      "Opfer: 1\n",
      "Beginner - Spam\n",
      "Opfer: 1\n",
      "Bushido - Berlin\n",
      "Opfer: 1\n",
      "Bushido - Bravo Cover\n",
      "Opfer: 1\n",
      "Rohling: 1\n",
      "Trottel: 1\n",
      "Bushido - Electro Ghetto\n",
      "Opfer: 1\n",
      "Bushido - Gangsta Rap Kings\n",
      "Opfer: 1\n",
      "Bushido - Kickboxer\n",
      "Opfer: 1\n",
      "Bushido - Nutte Bounce\n",
      "Opfer: 1\n",
      "Bushido - Schwarze Seite\n",
      "Opfer: 1\n",
      "Bushido - Sonnenbank Flavour\n",
      "Opfer: 1\n",
      "Bushido - Sporttasche\n",
      "Opfer: 1\n",
      "Bushido - Teufelskreis\n",
      "Opfer: 1\n",
      "Bushido - Wenn Wir Kommen\n",
      "Opfer: 1\n",
      "Deichkind - Befehl von ganz unten\n",
      "Opfer: 1\n",
      "Die Ärzte - Gehirn-Stürm\n",
      "Opfer: 1\n",
      "Die Ärzte - Opfer\n",
      "Opfer: 1\n",
      "Fettes Brot - Motherfucker\n",
      "Opfer: 1\n",
      "Fler - 20:15\n",
      "Opfer: 1\n",
      "Fler - Abtörn görl\n",
      "Opfer: 1\n",
      "Fler - Alle gefickt\n",
      "Opfer: 1\n",
      "Fler - Am Abzug\n",
      "Opfer: 1\n",
      "Fler - Bäng Bäng\n",
      "Opfer: 1\n",
      "Fler - Die Schule brennt\n",
      "Opfer: 1\n",
      "Fler - Lady Killa\n",
      "Opfer: 1\n",
      "Fler - Nick bis dein Genick bricht\n",
      "Opfer: 1\n",
      "Fler - Rap Electroschock\n",
      "Opfer: 1\n",
      "Fler - Roll auf Chrome\n",
      "Opfer: 1\n",
      "Fler - Um Uns Rum\n",
      "Opfer: 1\n",
      "Genetikk - Seit Ich Denken Kann\n",
      "Opfer: 1\n",
      "Genetikk - Warum Nicht\n",
      "Opfer: 1\n",
      "Herbert Grönemeyer - Haarscharf\n",
      "Opfer: 1\n",
      "K.I.Z. - Halbstark\n",
      "Opfer: 1\n",
      "K.I.Z. - Klassenfahrt\n",
      "Opfer: 1\n",
      "K.I.Z. - Nagellackentfernerfotze\n",
      "Opfer: 1\n",
      "K.I.Z. - Seekuh\n",
      "Opfer: 1\n",
      "Kay One - Rockstar\n",
      "Opfer: 1\n",
      "Kollegah - 24 Karat\n",
      "Opfer: 1\n",
      "Kollegah - Cold Blooded\n",
      "Opfer: 1\n",
      "Kool Savas - Neue Namen\n",
      "Opfer: 1\n",
      "Kool Savas - Summa Summarum\n",
      "Opfer: 1\n",
      "Kraftklub - Schüsse in die Luft\n",
      "Opfer: 1\n",
      "Marius Müller-Westernhagen - Clown\n",
      "Opfer: 1\n",
      "Marius Müller-Westernhagen - Rosanna\n",
      "Opfer: 1\n",
      "Massive Töne - Ausbruch\n",
      "Opfer: 1\n",
      "Strolch: 1\n",
      "Moop Mama - Kill die Zeit\n",
      "Opfer: 1\n",
      "OK KID - Borderline\n",
      "Opfer: 1\n",
      "PUR - Anonyme Opfer\n",
      "Opfer: 1\n",
      "PUR - Der Henker\n",
      "Opfer: 1\n",
      "PUR - Leben\n",
      "Opfer: 1\n",
      "Peter Maffay - Meine Welt\n",
      "Opfer: 1\n",
      "Prinz Pi - Herr Claasen\n",
      "Opfer: 1\n",
      "Samy Deluxe - Der Beste\n",
      "Opfer: 1\n",
      "Sido - Ja man\n",
      "Opfer: 1\n",
      "Sido - Masafaka\n",
      "Opfer: 1\n",
      "Yvonne Catterfeld - Regenbogen\n",
      "Opfer: 1\n",
      "Beginner - Wunderschön\n",
      "Pappnase: 1\n",
      "Absolute Beginner - Geht was\n",
      "Poser: 1\n",
      "Die Fantastischen Vier - Bring it Back\n",
      "Poser: 1\n",
      "Farid Bang - Mütter in der Trennungsphase\n",
      "Poser: 1\n",
      "Scharlatan: 1\n",
      "Kool Savas - Transatlantic\n",
      "Poser: 1\n",
      "Prinz Pi - Kkff\n",
      "Poser: 1\n",
      "Samy Deluxe - Sensationell\n",
      "Poser: 1\n",
      "Trottel: 1\n",
      "Seeed - Ding\n",
      "Poser: 1\n",
      "Beginner - Ahnma\n",
      "Prolet: 1\n",
      "Deichkind - Pferd aus Glas\n",
      "Prolet: 1\n",
      "Farid Bang - Teufelskreis\n",
      "Prolet: 1\n",
      "Michael Wendler - Die Geier kreisen schon\n",
      "Prolet: 1\n",
      "Trottel: 1\n",
      "Prinz Pi - Bombenwetter\n",
      "Prolet: 1\n",
      "Prinz Pi - Morgengrauen\n",
      "Prolet: 1\n",
      "SDP - ...hast du mal ein Problem\n",
      "Prolet: 1\n",
      "Schurke: 1\n",
      "SDP - Eigentlich wollte er nie ein Liebeslied schreiben\n",
      "Prolet: 1\n",
      "Sido - Sarah\n",
      "Prolet: 1\n",
      "Sido - Strassenjunge\n",
      "Prolet: 1\n",
      "Casper - Jambalaya\n",
      "Redneck: 1\n",
      "Samy Deluxe - Zurück Zu Wir\n",
      "Revoluzzer: 1\n",
      "Beginner - Stift her\n",
      "Rohling: 1\n",
      "Fettes Brot - Fast 30\n",
      "Rowdy: 1\n",
      "Alligatoah - Trippersong\n",
      "Satansbraten: 1\n",
      "Dendemann - Sachma gehtsnoch\n",
      "Scharlatan: 1\n",
      "Dendemann - Dende 74\n",
      "Schlemihl: 1\n",
      "Alligatoah - Counterstrike Song\n",
      "Schmock: 1\n",
      "Trottel: 1\n",
      "Casper - Klatschtüte\n",
      "Schmock: 1\n",
      "Casper - Propeller\n",
      "Schmock: 1\n",
      "Die Fantastischen Vier - Schmock\n",
      "Schmock: 1\n",
      "Kool Savas - Nur ein Spiel\n",
      "Schmock: 1\n",
      "Max Herre - Kahedi Dub\n",
      "Schmock: 1\n",
      "Eko Fresh - Ein Tag\n",
      "Schnorrer: 1\n",
      "Farid Bang - Samurai\n",
      "Schurke: 1\n",
      "Massive Töne - Cruisen\n",
      "Schurke: 1\n",
      "PUR - Im Labyrinth\n",
      "Schurke: 1\n",
      "Sportfreunde Stiller -  Auf der guten Seite\n",
      "Schurke: 1\n",
      "Wir Sind Helden - Heldenzeit\n",
      "Schurke: 1\n",
      "Bushido - Stadt der Engel\n",
      "Snob: 1\n",
      "Fler - Papa ist zurück\n",
      "Snob: 1\n",
      "Genetikk - F.D.S\n",
      "Snob: 1\n",
      "Kollegah - Kokayne\n",
      "Snob: 1\n",
      "Broilers - König des Viertels\n",
      "Sozi: 1\n",
      "Deichkind - Imbissmief 040\n",
      "Sozi: 1\n",
      "Die Ärzte - Breit\n",
      "Sozi: 1\n",
      "Fettes Brot - Erdbeben\n",
      "Sozi: 2\n",
      "Fler - Ich scheine\n",
      "Sozi: 1\n",
      "Fler - Reich so reich\n",
      "Sozi: 1\n",
      "Jennifer Rostock - Mona Lisa\n",
      "Sozi: 1\n",
      "PUR - Nutzlos\n",
      "Sozi: 1\n",
      "SDP - Außenseiter\n",
      "Sozi: 1\n",
      "Summer Cem - Ich Ticke\n",
      "Sozi: 1\n",
      "Summer Cem - Oh No!\n",
      "Sozi: 1\n",
      "Summer Cem - Youtube\n",
      "Sozi: 1\n",
      "Tim Bendzko - Programmiert\n",
      "Sozi: 1\n",
      "Udo Lindenberg - Ich bin Rocker\n",
      "Sozi: 1\n",
      "K.I.Z. - Töten\n",
      "Strolch: 1\n",
      "Eko Fresh - Es tut mir leid\n",
      "Tagedieb: 1\n",
      "Taugenichts: 1\n",
      "Eko Fresh - Guten Morgen\n",
      "Tagedieb: 1\n",
      "Antilopen Gang - Lob der Lüge\n",
      "Taugenichts: 1\n",
      "Farid Bang - Ich will Beef\n",
      "Taugenichts: 1\n",
      "Farid Bang - Mein Mann ist ein Gangster\n",
      "Taugenichts: 1\n",
      "Alligatoah - Weihnachtsmann\n",
      "Trottel: 1\n",
      "Antilopen Gang - Gestern war nicht besser\n",
      "Trottel: 1\n",
      "Bushido - Dealer vom Block\n",
      "Trottel: 1\n",
      "Cro - Higher\n",
      "Trottel: 1\n",
      "Cro - Wir waren hier\n",
      "Trottel: 1\n",
      "Eko Fresh - Meine Krone\n",
      "Trottel: 1\n",
      "Fettes Brot - Jein\n",
      "Trottel: 1\n",
      "Fler - Neues Ich\n",
      "Trottel: 1\n",
      "Fler - Schönheit Ist Vergänglich\n",
      "Trottel: 1\n",
      "Kay One - Reich Und Schön\n",
      "Trottel: 1\n",
      "Kollegah - Jetlag\n",
      "Trottel: 1\n",
      "Michael Wendler - Komm wir ziehem zum Mond\n",
      "Trottel: 1\n",
      "PUR - Supermann\n",
      "Trottel: 1\n",
      "Prinz Pi - Gegen die Wand\n",
      "Trottel: 1\n",
      "Prinz Pi - Wir bleiben immer Anti\n",
      "Trottel: 1\n",
      "PUR - Ungeheuer\n",
      "Ungeheuer: 1\n",
      "Udo Lindenberg - Jenny\n",
      "Ungeheuer: 1\n"
     ]
    }
   ],
   "source": [
    "\n",
    "# Schritt 3: Schleife über die Wörter in der Textdatei\n",
    "word_count = {}\n",
    "\n",
    "for word in words:\n",
    "    # Schritt 4: Filtern der Daten nach Übereinstimmung mit dem aktuellen Wort\n",
    "    matches = data[data['lyrics'].str.contains(word)]\n",
    "    \n",
    "    # Schritt 5: Gruppieren nach Interpret und Song-Titel und Zählen der Vorkommnisse des Wortes\n",
    "    group_count = matches.groupby(['interpret', 'songtitle']).size().reset_index(name='Count')\n",
    "    \n",
    "    # Schritt 6: Hinzufügen der Vorkommnisse des Wortes zum word_count-Dictionary\n",
    "    for index, row in group_count.iterrows():\n",
    "        key = row['interpret'] + ' - ' + row['songtitle']\n",
    "        count = row['Count']\n",
    "        if key in word_count:\n",
    "            word_count[key][word] = count\n",
    "        else:\n",
    "            word_count[key] = {word: count}\n",
    "\n",
    "# Schritt 7: Ausgabe der häufigsten Vorkommnisse der Wörter\n",
    "for key in word_count:\n",
    "    print(key)\n",
    "    sorted_words = sorted(word_count[key], key=lambda x: word_count[key][x], reverse=True)\n",
    "    top_word = sorted_words[0]\n",
    "    print(top_word + ':', word_count[key][top_word])\n",
    "    for word in sorted_words[1:6]:\n",
    "        print(word + ':', word_count[key][word])"
   ]
  },
  {
   "cell_type": "code",
   "execution_count": 19,
   "metadata": {},
   "outputs": [
    {
     "name": "stdout",
     "output_type": "stream",
     "text": [
      "Prinz Pi - Gold sinkt nach unten : 84 Wörter aus der Schimpfwortliste\n",
      "Farid Bang - Immer noch ein Bastard : 28 Wörter aus der Schimpfwortliste\n",
      "Michael Wendler - Vollidiot : 24 Wörter aus der Schimpfwortliste\n",
      "SDP - Arschloch : 24 Wörter aus der Schimpfwortliste\n",
      "Fettes Brot - Erdbeben : 22 Wörter aus der Schimpfwortliste\n",
      "K.I.Z. - Was Willst Du Machen : 20 Wörter aus der Schimpfwortliste\n",
      "Udo Jürgens - Narrenschiff : 17 Wörter aus der Schimpfwortliste\n",
      "Die Ärzte - Trick 17 m.S. : 16 Wörter aus der Schimpfwortliste\n",
      "Wolfgang Petry - Keine Lust auf gar nichts : 16 Wörter aus der Schimpfwortliste\n",
      "Die Ärzte - Schrei nach Liebe : 15 Wörter aus der Schimpfwortliste\n"
     ]
    }
   ],
   "source": [
    "import re\n",
    "# Schritt 3: Filtern der Daten nach Übereinstimmung mit den Wörtern aus der Textdatei\n",
    "matches = data[data['lyrics'].str.contains('|'.join(words), case=False)]\n",
    "\n",
    "# Schritt 4: Gruppieren nach Interpret, Song-Titel und Anzahl der übereinstimmenden Wörter\n",
    "grouped = matches.groupby(['interpret', 'songtitle']).agg(count=('lyrics', lambda x: sum(x.str.count('|'.join(words), re.I))))\n",
    "grouped = grouped.reset_index()\n",
    "\n",
    "# Schritt 5: Sortieren nach Anzahl der übereinstimmenden Wörter und Ausgabe der Top 10\n",
    "top_10 = grouped.nlargest(10, 'count')\n",
    "for index, row in top_10.iterrows():\n",
    "    print(row['interpret'], '-', row['songtitle'], ':', row['count'], 'Wörter aus der Schimpfwortliste')"
   ]
  },
  {
   "cell_type": "code",
   "execution_count": 37,
   "metadata": {},
   "outputs": [
    {
     "name": "stdout",
     "output_type": "stream",
     "text": [
      "                     interpret  schimpfwoerter  song_count  durchschnitt\n",
      "0                       257ers               0          17      0.000000\n",
      "1            Absolute Beginner               0          11      0.000000\n",
      "2                   Adel Tawil               0          14      0.000000\n",
      "3                   Alligatoah               0          59      0.000000\n",
      "4                  Andrea Berg               0         147      0.000000\n",
      "5              Andreas Bourani               0          12      0.000000\n",
      "6             Andreas Gabalier               0           1      0.000000\n",
      "7            AnnenMayKantereit               0          16      0.000000\n",
      "8               Annett Louisan               0          63      0.000000\n",
      "9               Antilopen Gang               0          30      0.000000\n",
      "10                    Beginner               0          23      0.000000\n",
      "11                      Bela B               0          16      0.000000\n",
      "12                       Bosse               0          52      0.000000\n",
      "13                    Broilers               0          67      0.000000\n",
      "14                     Bushido               1         132      0.007576\n",
      "15                      Casper               0          49      0.000000\n",
      "16            Christian Anders               0          12      0.000000\n",
      "17                      Clueso               0          85      0.000000\n",
      "18              Costa Cordalis               0          10      0.000000\n",
      "19                         Cro               0          66      0.000000\n",
      "20              Culcha Candela               0          17      0.000000\n",
      "21                   DJ Tomekk               0           4      0.000000\n",
      "22                   Deichkind               0          78      0.000000\n",
      "23                   Dendemann               0          32      0.000000\n",
      "24      Die Fantastischen Vier               0          87      0.000000\n",
      "25                   Die Ärzte               0         231      0.000000\n",
      "26          Dieter Thomas Kuhn               0           8      0.000000\n",
      "27                   Eko Fresh               0          58      0.000000\n",
      "28                  Farid Bang               0          67      0.000000\n",
      "29      Feine Sahne Fischfilet               0          14      0.000000\n",
      "30                 Fettes Brot               0          88      0.000000\n",
      "31                        Fler               0          85      0.000000\n",
      "32                 Frittenbude               0          37      0.000000\n",
      "33          Fünf Sterne Deluxe               0          10      0.000000\n",
      "34                    Genetikk               0          64      0.000000\n",
      "35         Grossstadtgeflüster               0          40      0.000000\n",
      "36                 Guildo Horn               0           1      0.000000\n",
      "37                       Heino               0           5      0.000000\n",
      "38              Helene Fischer               0          80      0.000000\n",
      "39          Herbert Grönemeyer               0         120      0.000000\n",
      "40                   Jan Delay               0          27      0.000000\n",
      "41            Jennifer Rostock               0          59      0.000000\n",
      "42                        Juli               0          36      0.000000\n",
      "43                      K.I.Z.               0          78      0.000000\n",
      "44                  Karel Gott               0           2      0.000000\n",
      "45                     Kay One               0          44      0.000000\n",
      "46                     Kettcar               0          48      0.000000\n",
      "47                 Killerpilze               0          42      0.000000\n",
      "48                    Kollegah               0          44      0.000000\n",
      "49                  Kool Savas               0          43      0.000000\n",
      "50                   Kraftklub               0          25      0.000000\n",
      "51                      Madsen               0          62      0.000000\n",
      "52  Marius Müller-Westernhagen               0          72      0.000000\n",
      "53                Mark Forster               0          52      0.000000\n",
      "54                   Marsimoto               0          16      0.000000\n",
      "55                Massive Töne               0          14      0.000000\n",
      "56               Max Giesinger               0          23      0.000000\n",
      "57                   Max Herre               0          33      0.000000\n",
      "58             Michael Wendler               0          61      0.000000\n",
      "59                   Moop Mama               0          35      0.000000\n",
      "60                      Namika               0          26      0.000000\n",
      "61                        Nena               0          99      0.000000\n",
      "62                  Nina Hagen               0          37      0.000000\n",
      "63                      OK KID               0          35      0.000000\n",
      "64                         PUR               0          96      0.000000\n",
      "65                   Peter Fox               0          10      0.000000\n",
      "66                Peter Maffay               0          55      0.000000\n",
      "67              Philipp Poisel               0          27      0.000000\n",
      "68                    Prinz Pi               0         103      0.000000\n",
      "69                   Rammstein               0          67      0.000000\n",
      "70                  Rosenstolz               0          73      0.000000\n",
      "71                   Roy Black               0          10      0.000000\n",
      "72                         SDP               0          41      0.000000\n",
      "73                 Samy Deluxe               0          42      0.000000\n",
      "74                       Seeed               0          22      0.000000\n",
      "75                        Sido               0          65      0.000000\n",
      "76                  Silbermond               0          66      0.000000\n",
      "77          Spider Murphy Gang               0          25      0.000000\n",
      "78        Sportfreunde Stiller               0          60      0.000000\n",
      "79                  Summer Cem               0          14      0.000000\n",
      "80                 Tiemo Hauer               0          27      0.000000\n",
      "81                 Tim Bendzko               0          26      0.000000\n",
      "82                 Tokio Hotel               0          37      0.000000\n",
      "83                       Tomte               0          47      0.000000\n",
      "84                 Udo Jürgens               0          30      0.000000\n",
      "85              Udo Lindenberg               0         158      0.000000\n",
      "86           Von wegen Lisbeth               0           3      0.000000\n",
      "87             Wir Sind Helden               0          44      0.000000\n",
      "88              Wolfgang Petry               0         104      0.000000\n",
      "89               Xavier Naidoo               0          48      0.000000\n",
      "90           Yvonne Catterfeld               0          53      0.000000\n"
     ]
    }
   ],
   "source": [
    "import pandas as pd\n",
    "import re\n",
    "\n",
    "# Lese die Textdatei mit Schimpfwörtern ein\n",
    "with open('../data/raw/schimpfwörter.txt', \"r\") as f:\n",
    "    schimpfwoerter = [word.strip() for word in f.readlines()]\n",
    "\n",
    "# Lese den DataFrame mit den Lyrics ein\n",
    "data = pd.read_csv(\"../data/raw/first_dataset_lyrics_only.csv\")\n",
    "\n",
    "# Erstelle eine Funktion, um die Anzahl der Schimpfwörter in einer Zeichenfolge zu zählen\n",
    "def count_schimpfwoerter(string):\n",
    "    count = 0\n",
    "    for word in schimpfwoerter:\n",
    "        count += len(re.findall(rf\"{word}\", string.lower()))\n",
    "    return count\n",
    "\n",
    "# Füge eine Spalte hinzu, um die Anzahl der Schimpfwörter in jedem Song zu speichern\n",
    "data[\"schimpfwoerter\"] = data[\"lyrics\"].apply(count_schimpfwoerter)\n",
    "\n",
    "# Gruppiere die Daten nach Interpret und Songtitel und summiere die Anzahl der Schimpfwörter pro Song\n",
    "grouped = data.groupby([\"interpret\", \"songtitle\"])[\"schimpfwoerter\"].sum()\n",
    "\n",
    "# Gruppiere die Daten nach Interpret und summiere die Anzahl der Schimpfwörter pro Interpret\n",
    "grouped = grouped.groupby(\"interpret\").sum()\n",
    "\n",
    "# Füge eine Spalte hinzu, um die Anzahl der Songs pro Interpret zu speichern\n",
    "interpret_song_count = data.groupby(\"interpret\")[\"songtitle\"].nunique()\n",
    "interpret_song_count = interpret_song_count.reset_index(name='song_count')\n",
    "\n",
    "# Füge die Anzahl der Songs pro Interpret und die Anzahl der Schimpfwörter pro Interpret zusammen\n",
    "interpret_schimpfwoerter = pd.merge(grouped, interpret_song_count, on='interpret')\n",
    "interpret_schimpfwoerter['durchschnitt'] = interpret_schimpfwoerter['schimpfwoerter']/interpret_schimpfwoerter['song_count']\n",
    "\n",
    "# Gib das Ergebnis aus\n",
    "print(interpret_schimpfwoerter)\n",
    "\n",
    "\n"
   ]
  },
  {
   "cell_type": "code",
   "execution_count": 38,
   "metadata": {},
   "outputs": [],
   "source": [
    "data['songtext_word_count'] = data['lyrics'].apply(lambda x: len(x.split()))"
   ]
  },
  {
   "cell_type": "code",
   "execution_count": 1,
   "metadata": {},
   "outputs": [
    {
     "ename": "NameError",
     "evalue": "name 'data' is not defined",
     "output_type": "error",
     "traceback": [
      "\u001b[1;31m---------------------------------------------------------------------------\u001b[0m",
      "\u001b[1;31mNameError\u001b[0m                                 Traceback (most recent call last)",
      "Cell \u001b[1;32mIn[1], line 1\u001b[0m\n\u001b[1;32m----> 1\u001b[0m longest_song_title \u001b[39m=\u001b[39m data\u001b[39m.\u001b[39mloc[data[\u001b[39m'\u001b[39m\u001b[39msongtext_word_count\u001b[39m\u001b[39m'\u001b[39m]\u001b[39m.\u001b[39midxmax(), \u001b[39m'\u001b[39m\u001b[39mfull_title\u001b[39m\u001b[39m'\u001b[39m]\n\u001b[0;32m      2\u001b[0m \u001b[39mprint\u001b[39m(\u001b[39m\"\u001b[39m\u001b[39mDer längste Song ist:\u001b[39m\u001b[39m\"\u001b[39m, longest_song_title)\n\u001b[0;32m      3\u001b[0m wordcount \u001b[39m=\u001b[39m data[\u001b[39m'\u001b[39m\u001b[39msongtext_word_count\u001b[39m\u001b[39m'\u001b[39m]\u001b[39m.\u001b[39mmax()\n",
      "\u001b[1;31mNameError\u001b[0m: name 'data' is not defined"
     ]
    }
   ],
   "source": [
    "longest_song_title = data.loc[data['songtext_word_count'].idxmax(), 'full_title']\n",
    "print(\"Der längste Song ist:\", longest_song_title)\n",
    "wordcount = data['songtext_word_count'].max()\n",
    "print(f\"Der Song hat {wordcount} Wörter \")"
   ]
  }
 ],
 "metadata": {
  "kernelspec": {
   "display_name": "Python 3.9.1 64-bit ('3.9.1')",
   "language": "python",
   "name": "python3"
  },
  "language_info": {
   "codemirror_mode": {
    "name": "ipython",
    "version": 3
   },
   "file_extension": ".py",
   "mimetype": "text/x-python",
   "name": "python",
   "nbconvert_exporter": "python",
   "pygments_lexer": "ipython3",
   "version": "3.10.11"
  },
  "orig_nbformat": 4,
  "vscode": {
   "interpreter": {
    "hash": "fb408a8a50588f9d482ac690f7d1c5df410608bd4bf41691bb22e16d1eff6208"
   }
  }
 },
 "nbformat": 4,
 "nbformat_minor": 2
}
