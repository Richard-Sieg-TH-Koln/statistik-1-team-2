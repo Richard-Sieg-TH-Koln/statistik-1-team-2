{
 "cells": [
  {
   "cell_type": "markdown",
   "metadata": {},
   "source": [
    "## General Import and Setup"
   ]
  },
  {
   "cell_type": "code",
   "execution_count": 45,
   "metadata": {},
   "outputs": [],
   "source": [
    "import pandas as pd\n",
    "import plotly.express as px\n",
    "from collections import Counter\n",
    "import string\n",
    "import spacy\n",
    "from tabulate import tabulate\n",
    "from textblob_de import TextBlobDE\n",
    "from stopwordsiso import stopwords"
   ]
  },
  {
   "cell_type": "code",
   "execution_count": 46,
   "metadata": {},
   "outputs": [],
   "source": [
    "custom_stops = [\"'ne\", \"ne\", \"komm\", \"...\", \"lass\", \"yeah\", \"sag\", \"einfach\", \"weiß\", \"ah\", \"ey\", \"all\", \"mach\", \"bleibt\", \"heut\", \"nem\"]"
   ]
  },
  {
   "cell_type": "code",
   "execution_count": 47,
   "metadata": {},
   "outputs": [
    {
     "data": {
      "text/html": [
       "<div>\n",
       "<style scoped>\n",
       "    .dataframe tbody tr th:only-of-type {\n",
       "        vertical-align: middle;\n",
       "    }\n",
       "\n",
       "    .dataframe tbody tr th {\n",
       "        vertical-align: top;\n",
       "    }\n",
       "\n",
       "    .dataframe thead th {\n",
       "        text-align: right;\n",
       "    }\n",
       "</style>\n",
       "<table border=\"1\" class=\"dataframe\">\n",
       "  <thead>\n",
       "    <tr style=\"text-align: right;\">\n",
       "      <th></th>\n",
       "      <th>artist</th>\n",
       "      <th>artist_id</th>\n",
       "      <th>album</th>\n",
       "      <th>album_id</th>\n",
       "      <th>release_date</th>\n",
       "      <th>title</th>\n",
       "      <th>full_title</th>\n",
       "      <th>song_id</th>\n",
       "      <th>lyrics</th>\n",
       "      <th>release_year</th>\n",
       "      <th>weekday</th>\n",
       "      <th>genre</th>\n",
       "      <th>genre_cat</th>\n",
       "      <th>word_count</th>\n",
       "    </tr>\n",
       "  </thead>\n",
       "  <tbody>\n",
       "    <tr>\n",
       "      <th>0</th>\n",
       "      <td>1099</td>\n",
       "      <td>209826</td>\n",
       "      <td>10999</td>\n",
       "      <td>831505</td>\n",
       "      <td>2021-10-29</td>\n",
       "      <td>INTRO (10999)</td>\n",
       "      <td>INTRO (10999) by King Khalil</td>\n",
       "      <td>7337100</td>\n",
       "      <td>Powpow  Dicka, das kein Rap mehr, das ist Kind...</td>\n",
       "      <td>2021</td>\n",
       "      <td>Friday</td>\n",
       "      <td>post-rock</td>\n",
       "      <td>Rock</td>\n",
       "      <td>60</td>\n",
       "    </tr>\n",
       "    <tr>\n",
       "      <th>1</th>\n",
       "      <td>1099</td>\n",
       "      <td>209826</td>\n",
       "      <td>10999</td>\n",
       "      <td>831505</td>\n",
       "      <td>2021-10-29</td>\n",
       "      <td>GIB IHM</td>\n",
       "      <td>GIB IHM by King Khalil &amp; AK 33</td>\n",
       "      <td>7337102</td>\n",
       "      <td>Gefährliche, gefährliche KiKiKiKi Gefährliche ...</td>\n",
       "      <td>2021</td>\n",
       "      <td>Friday</td>\n",
       "      <td>post-rock</td>\n",
       "      <td>Rock</td>\n",
       "      <td>92</td>\n",
       "    </tr>\n",
       "    <tr>\n",
       "      <th>2</th>\n",
       "      <td>1099</td>\n",
       "      <td>209826</td>\n",
       "      <td>KING KONG</td>\n",
       "      <td>546439</td>\n",
       "      <td>2020-01-31</td>\n",
       "      <td>BUNDESWEIT</td>\n",
       "      <td>BUNDESWEIT by King Khalil (Ft. Fler)</td>\n",
       "      <td>4532899</td>\n",
       "      <td>Aus meiner Stadt fliegen Leuchtclips und Bresl...</td>\n",
       "      <td>2020</td>\n",
       "      <td>Friday</td>\n",
       "      <td>post-rock</td>\n",
       "      <td>Rock</td>\n",
       "      <td>113</td>\n",
       "    </tr>\n",
       "    <tr>\n",
       "      <th>3</th>\n",
       "      <td>1099</td>\n",
       "      <td>209826</td>\n",
       "      <td>KING KONG</td>\n",
       "      <td>546439</td>\n",
       "      <td>2020-01-31</td>\n",
       "      <td>HOLLANDA</td>\n",
       "      <td>HOLLANDA by King Khalil (Ft. Mert)</td>\n",
       "      <td>5189158</td>\n",
       "      <td>Because youre so sweet You lift up my heart An...</td>\n",
       "      <td>2020</td>\n",
       "      <td>Friday</td>\n",
       "      <td>post-rock</td>\n",
       "      <td>Rock</td>\n",
       "      <td>80</td>\n",
       "    </tr>\n",
       "    <tr>\n",
       "      <th>4</th>\n",
       "      <td>1099</td>\n",
       "      <td>209826</td>\n",
       "      <td>KING KONG</td>\n",
       "      <td>546439</td>\n",
       "      <td>2020-01-31</td>\n",
       "      <td>MOON</td>\n",
       "      <td>MOON by King Khalil &amp; Lil Lano</td>\n",
       "      <td>5109178</td>\n",
       "      <td>. Liquid Swords  GZA  Actual . souljaboytellem...</td>\n",
       "      <td>2020</td>\n",
       "      <td>Friday</td>\n",
       "      <td>post-rock</td>\n",
       "      <td>Rock</td>\n",
       "      <td>233</td>\n",
       "    </tr>\n",
       "  </tbody>\n",
       "</table>\n",
       "</div>"
      ],
      "text/plain": [
       "  artist  artist_id      album  album_id release_date          title  \\\n",
       "0   1099     209826      10999    831505   2021-10-29  INTRO (10999)   \n",
       "1   1099     209826      10999    831505   2021-10-29        GIB IHM   \n",
       "2   1099     209826  KING KONG    546439   2020-01-31     BUNDESWEIT   \n",
       "3   1099     209826  KING KONG    546439   2020-01-31       HOLLANDA   \n",
       "4   1099     209826  KING KONG    546439   2020-01-31           MOON   \n",
       "\n",
       "                             full_title  song_id  \\\n",
       "0          INTRO (10999) by King Khalil  7337100   \n",
       "1        GIB IHM by King Khalil & AK 33  7337102   \n",
       "2  BUNDESWEIT by King Khalil (Ft. Fler)  4532899   \n",
       "3    HOLLANDA by King Khalil (Ft. Mert)  5189158   \n",
       "4        MOON by King Khalil & Lil Lano  5109178   \n",
       "\n",
       "                                              lyrics  release_year weekday  \\\n",
       "0  Powpow  Dicka, das kein Rap mehr, das ist Kind...          2021  Friday   \n",
       "1  Gefährliche, gefährliche KiKiKiKi Gefährliche ...          2021  Friday   \n",
       "2  Aus meiner Stadt fliegen Leuchtclips und Bresl...          2020  Friday   \n",
       "3  Because youre so sweet You lift up my heart An...          2020  Friday   \n",
       "4  . Liquid Swords  GZA  Actual . souljaboytellem...          2020  Friday   \n",
       "\n",
       "       genre genre_cat  word_count  \n",
       "0  post-rock      Rock          60  \n",
       "1  post-rock      Rock          92  \n",
       "2  post-rock      Rock         113  \n",
       "3  post-rock      Rock          80  \n",
       "4  post-rock      Rock         233  "
      ]
     },
     "execution_count": 47,
     "metadata": {},
     "output_type": "execute_result"
    }
   ],
   "source": [
    "nlp = spacy.load(\"de_core_news_sm\")\n",
    "data = pd.read_csv('../data/raw/songs_complete_final.csv')\n",
    "data.head()"
   ]
  },
  {
   "cell_type": "markdown",
   "metadata": {},
   "source": [
    "### Checking the Vocabulary of the Artists"
   ]
  },
  {
   "cell_type": "code",
   "execution_count": 48,
   "metadata": {},
   "outputs": [
    {
     "data": {
      "application/vnd.plotly.v1+json": {
       "config": {
        "plotlyServerURL": "https://plot.ly"
       },
       "data": [
        {
         "customdata": [
          [
           "1099"
          ],
          [
           "18 Karat"
          ],
          [
           "257ers"
          ],
          [
           "2raumwohnung"
          ],
          [
           "Absolute Beginner"
          ],
          [
           "Adel Tawil"
          ],
          [
           "Alligatoah"
          ],
          [
           "Andrea Berg"
          ],
          [
           "Andreas Bourani"
          ],
          [
           "Andreas Gabalier"
          ],
          [
           "AnnenMayKantereit"
          ],
          [
           "Annett Louisan"
          ],
          [
           "Antilopen Gang"
          ],
          [
           "Apache 207"
          ],
          [
           "Ardian Bujupi"
          ],
          [
           "Asche"
          ],
          [
           "Azad"
          ],
          [
           "Azet"
          ],
          [
           "BHZ"
          ],
          [
           "BRKN"
          ],
          [
           "Bass Sultan Hengzt"
          ],
          [
           "Bausa"
          ],
          [
           "Beatrice Egli"
          ],
          [
           "Bela B"
          ],
          [
           "Ben Zucker"
          ],
          [
           "Bilderbuch"
          ],
          [
           "Bizzy Montana"
          ],
          [
           "Bl�mchen"
          ],
          [
           "Brings"
          ],
          [
           "Broilers"
          ],
          [
           "Bushido"
          ],
          [
           "Capital Bra"
          ],
          [
           "Capo"
          ],
          [
           "Cat Ballou"
          ],
          [
           "Celo & Abdi"
          ],
          [
           "Chakuza"
          ],
          [
           "Christina St�rmer"
          ],
          [
           "Clueso"
          ],
          [
           "Costa Cordalis"
          ],
          [
           "Culcha Candela"
          ],
          [
           "DCVDNS"
          ],
          [
           "DJ Tomekk"
          ],
          [
           "Daniel Sommer"
          ],
          [
           "Dardan"
          ],
          [
           "Deichkind"
          ],
          [
           "Dendemann"
          ],
          [
           "Die Atzen"
          ],
          [
           "Die Fantastischen Vier"
          ],
          [
           "Die Flippers"
          ],
          [
           "Die Lochis"
          ],
          [
           "Die Orsons"
          ],
          [
           "Die Prinzen"
          ],
          [
           "Dieter Thomas Kuhn"
          ],
          [
           "Eddin"
          ],
          [
           "Edo Saiya"
          ],
          [
           "Edwin Rosen"
          ],
          [
           "Eko Fresh"
          ],
          [
           "Elif"
          ],
          [
           "Emilio"
          ],
          [
           "FOURTY"
          ],
          [
           "Farid Bang"
          ],
          [
           "Farin Urlaub"
          ],
          [
           "Feine Sahne Fischfilet"
          ],
          [
           "Fettes Brot"
          ],
          [
           "Feuherz"
          ],
          [
           "Finch"
          ],
          [
           "Fler"
          ],
          [
           "Florian Silbereisen"
          ],
          [
           "Frauenarzt"
          ],
          [
           "Frittenbude"
          ],
          [
           "Fynn Kliemann"
          ],
          [
           "Geier Sturzflug"
          ],
          [
           "Genetikk"
          ],
          [
           "Giovanni Zarrella"
          ],
          [
           "Gisbert Zu Knyphausen"
          ],
          [
           "Glasperlenspiel"
          ],
          [
           "Guildo Horn"
          ],
          [
           "Haftbefehl"
          ],
          [
           "Heino"
          ],
          [
           "Helene Fischer"
          ],
          [
           "Herzog"
          ],
          [
           "HoodBlaq"
          ],
          [
           "H�hner"
          ],
          [
           "Ich + Ich"
          ],
          [
           "Ion Miles"
          ],
          [
           "Jamule"
          ],
          [
           "Jan Delay"
          ],
          [
           "Jennifer Rostock"
          ],
          [
           "Johannes Oerding"
          ],
          [
           "Jonesmann"
          ],
          [
           "Joris"
          ],
          [
           "Juju"
          ],
          [
           "Jupiter Jones"
          ],
          [
           "K.I.Z."
          ],
          [
           "KALIM"
          ],
          [
           "KC Rebell"
          ],
          [
           "Kalazh44"
          ],
          [
           "Kasalla"
          ],
          [
           "Katja Krasavice"
          ],
          [
           "Kay One"
          ],
          [
           "Kayef"
          ],
          [
           "Kettcar"
          ],
          [
           "Killerpilze"
          ],
          [
           "KitschKrieg"
          ],
          [
           "Kollegah"
          ],
          [
           "Kontra K"
          ],
          [
           "Kool Savas"
          ],
          [
           "Kraftklub"
          ],
          [
           "Kummer"
          ],
          [
           "LUZI"
          ],
          [
           "LX"
          ],
          [
           "Loredana"
          ],
          [
           "Luciano"
          ],
          [
           "MC Basstard"
          ],
          [
           "Madsen"
          ],
          [
           "Majan"
          ],
          [
           "Majoe"
          ],
          [
           "Malte Kelly"
          ],
          [
           "Manny Marc"
          ],
          [
           "Marianne Rosenberg"
          ],
          [
           "Mark Forster"
          ],
          [
           "Mathea"
          ],
          [
           "Matthias Reim"
          ],
          [
           "Max Giesinger"
          ],
          [
           "Max Herre"
          ],
          [
           "Max Mutzke"
          ],
          [
           "Mayberg"
          ],
          [
           "Megaloh"
          ],
          [
           "Mero"
          ],
          [
           "Mia Julia"
          ],
          [
           "Miami Yacine"
          ],
          [
           "Michael Wendler"
          ],
          [
           "Mickie Krause"
          ],
          [
           "Miwata"
          ],
          [
           "Mo-Torres"
          ],
          [
           "Mois"
          ],
          [
           "Monet192"
          ],
          [
           "Money Boy"
          ],
          [
           "Montez"
          ],
          [
           "Moop Mama"
          ],
          [
           "Motrip"
          ],
          [
           "Namika"
          ],
          [
           "Nate57"
          ],
          [
           "Nena"
          ],
          [
           "Nimo"
          ],
          [
           "Nina Chuba"
          ],
          [
           "Nina Hagen"
          ],
          [
           "Nura"
          ],
          [
           "OK KID"
          ],
          [
           "Olexesh"
          ],
          [
           "Oliver Pocher"
          ],
          [
           "Olli Schulz"
          ],
          [
           "Olson"
          ],
          [
           "Otto Waalkes"
          ],
          [
           "PA Sports"
          ],
          [
           "Paula Hartmann"
          ],
          [
           "Peter Fox"
          ],
          [
           "Peter Maffay"
          ],
          [
           "Peter Wackel"
          ],
          [
           "Philipp Dittberner"
          ],
          [
           "Philipp Poisel"
          ],
          [
           "Pietro Lombardi"
          ],
          [
           "Pohlmann"
          ],
          [
           "Prinz Pi"
          ],
          [
           "Provinz"
          ],
          [
           "Querbeat"
          ],
          [
           "Raf Camorra"
          ],
          [
           "Reezy"
          ],
          [
           "Reperbahn Kaleem"
          ],
          [
           "Revolverheld"
          ],
          [
           "Riccardo"
          ],
          [
           "Rio Reiser"
          ],
          [
           "Roger Cicero"
          ],
          [
           "Roland Kaiser"
          ],
          [
           "Rosenstolz"
          ],
          [
           "R�uber"
          ],
          [
           "SA4"
          ],
          [
           "SDP"
          ],
          [
           "SSIO"
          ],
          [
           "Samy Deluxe"
          ],
          [
           "Sarah Connor"
          ],
          [
           "Schmyt"
          ],
          [
           "Schwesta Ewa"
          ],
          [
           "Seeed"
          ],
          [
           "Selig"
          ],
          [
           "Sero"
          ],
          [
           "Shindy"
          ],
          [
           "Shirin David"
          ],
          [
           "Sido"
          ],
          [
           "Silbermond"
          ],
          [
           "Ski Aggu"
          ],
          [
           "Soufian"
          ],
          [
           "Spider Murphy Gang"
          ],
          [
           "Sportfreunde Stiller"
          ],
          [
           "Stefan Raab"
          ],
          [
           "Summer Cem"
          ],
          [
           "Telly Tellz"
          ],
          [
           "Tiemo Hauer"
          ],
          [
           "Tim Bendzko"
          ],
          [
           "Tokio Hotel"
          ],
          [
           "Tomte"
          ],
          [
           "Toten Hosen"
          ],
          [
           "Trettmann"
          ],
          [
           "Udo Lindenberg"
          ],
          [
           "Unheilig"
          ],
          [
           "Vanessa Mai"
          ],
          [
           "Wilhelmine"
          ],
          [
           "Wir Sind Helden"
          ],
          [
           "Wise Guys"
          ],
          [
           "Wolfgang Petry"
          ],
          [
           "XATAR"
          ],
          [
           "Xavier Naidoo"
          ],
          [
           "Yung Hurn"
          ],
          [
           "Yvonne Catterfeld"
          ],
          [
           "badchieff"
          ],
          [
           "kilian wasi"
          ],
          [
           "t-low"
          ]
         ],
         "hovertemplate": "Word Count=%{x}<br>Number of Songs=%{y}<br>Interpret=%{customdata[0]}<extra></extra>",
         "legendgroup": "",
         "marker": {
          "color": "#636efa",
          "symbol": "circle"
         },
         "mode": "markers",
         "name": "",
         "orientation": "v",
         "showlegend": false,
         "type": "scatter",
         "x": [
          10656,
          25922,
          35572,
          5264,
          14380,
          9900,
          35077,
          22468,
          3441,
          9792,
          7733,
          16071,
          17776,
          5622,
          9352,
          25712,
          47182,
          10854,
          12934,
          8690,
          32129,
          9457,
          17221,
          22094,
          6852,
          8526,
          30908,
          2580,
          11118,
          14214,
          5746,
          29360,
          10805,
          9196,
          18379,
          61655,
          59,
          18636,
          769,
          13207,
          9965,
          424,
          687,
          22476,
          19229,
          12768,
          11451,
          32644,
          7825,
          7663,
          15160,
          19277,
          777,
          1544,
          38060,
          408,
          54944,
          8855,
          5109,
          8326,
          48661,
          11735,
          4803,
          28895,
          23179,
          13032,
          58815,
          3972,
          5437,
          11507,
          4148,
          1521,
          30459,
          416,
          3798,
          9718,
          1330,
          30180,
          15807,
          21776,
          18751,
          6669,
          11813,
          68328,
          5223,
          10100,
          7898,
          13161,
          15446,
          4299,
          5910,
          2719,
          12364,
          32511,
          18221,
          37179,
          13248,
          4600,
          6791,
          19673,
          21103,
          9373,
          5536,
          5875,
          96243,
          54066,
          7724,
          9259,
          2773,
          40008,
          13346,
          7957,
          14387,
          8101,
          11181,
          5649,
          28697,
          6685,
          1413,
          5432,
          12237,
          2960,
          37780,
          10111,
          13157,
          5003,
          1080,
          19576,
          6725,
          3644,
          10366,
          27278,
          4394,
          10773,
          10844,
          2938,
          10355,
          50928,
          14016,
          8715,
          13048,
          6656,
          23179,
          25099,
          16363,
          2903,
          8390,
          4548,
          10963,
          35796,
          1407,
          5726,
          12143,
          581,
          55403,
          1696,
          4078,
          14038,
          1331,
          4312,
          6022,
          2328,
          7712,
          63500,
          4587,
          3574,
          53354,
          13101,
          4210,
          10827,
          4280,
          10488,
          10173,
          12537,
          14706,
          17852,
          9081,
          26661,
          13224,
          55741,
          6204,
          2966,
          16308,
          2636,
          6246,
          15798,
          10812,
          3989,
          42768,
          14087,
          2742,
          5156,
          6559,
          7902,
          1296,
          30317,
          4373,
          7645,
          12685,
          5578,
          4555,
          18794,
          5293,
          35291,
          16603,
          16548,
          2370,
          7424,
          34866,
          22724,
          20290,
          21008,
          11073,
          11096,
          5775,
          665,
          13849
         ],
         "xaxis": "x",
         "y": [
          49,
          130,
          181,
          42,
          61,
          69,
          174,
          151,
          24,
          56,
          58,
          117,
          86,
          37,
          64,
          128,
          199,
          70,
          65,
          50,
          158,
          58,
          124,
          127,
          53,
          72,
          130,
          13,
          73,
          102,
          30,
          162,
          59,
          70,
          96,
          253,
          1,
          118,
          5,
          84,
          46,
          2,
          5,
          114,
          109,
          67,
          60,
          138,
          51,
          53,
          91,
          127,
          5,
          9,
          192,
          3,
          252,
          57,
          32,
          50,
          239,
          77,
          34,
          135,
          106,
          78,
          280,
          31,
          27,
          75,
          25,
          9,
          140,
          4,
          21,
          57,
          5,
          153,
          88,
          158,
          94,
          38,
          55,
          357,
          25,
          59,
          50,
          84,
          104,
          18,
          42,
          12,
          75,
          163,
          92,
          178,
          78,
          32,
          43,
          93,
          109,
          59,
          37,
          41,
          409,
          255,
          26,
          58,
          14,
          212,
          75,
          45,
          89,
          39,
          83,
          33,
          135,
          47,
          8,
          39,
          81,
          20,
          239,
          70,
          66,
          30,
          8,
          96,
          37,
          25,
          56,
          173,
          26,
          59,
          55,
          16,
          65,
          230,
          68,
          48,
          55,
          39,
          98,
          188,
          84,
          19,
          61,
          26,
          64,
          181,
          6,
          42,
          61,
          5,
          249,
          11,
          24,
          99,
          9,
          30,
          47,
          17,
          46,
          287,
          34,
          26,
          285,
          71,
          22,
          77,
          24,
          68,
          66,
          92,
          120,
          86,
          51,
          138,
          72,
          236,
          42,
          19,
          83,
          17,
          33,
          87,
          59,
          22,
          201,
          100,
          13,
          30,
          44,
          58,
          9,
          140,
          19,
          49,
          82,
          47,
          33,
          140,
          27,
          249,
          117,
          119,
          18,
          54,
          211,
          157,
          100,
          135,
          69,
          71,
          33,
          4,
          70
         ],
         "yaxis": "y"
        }
       ],
       "layout": {
        "legend": {
         "tracegroupgap": 0
        },
        "template": {
         "data": {
          "bar": [
           {
            "error_x": {
             "color": "#2a3f5f"
            },
            "error_y": {
             "color": "#2a3f5f"
            },
            "marker": {
             "line": {
              "color": "#E5ECF6",
              "width": 0.5
             },
             "pattern": {
              "fillmode": "overlay",
              "size": 10,
              "solidity": 0.2
             }
            },
            "type": "bar"
           }
          ],
          "barpolar": [
           {
            "marker": {
             "line": {
              "color": "#E5ECF6",
              "width": 0.5
             },
             "pattern": {
              "fillmode": "overlay",
              "size": 10,
              "solidity": 0.2
             }
            },
            "type": "barpolar"
           }
          ],
          "carpet": [
           {
            "aaxis": {
             "endlinecolor": "#2a3f5f",
             "gridcolor": "white",
             "linecolor": "white",
             "minorgridcolor": "white",
             "startlinecolor": "#2a3f5f"
            },
            "baxis": {
             "endlinecolor": "#2a3f5f",
             "gridcolor": "white",
             "linecolor": "white",
             "minorgridcolor": "white",
             "startlinecolor": "#2a3f5f"
            },
            "type": "carpet"
           }
          ],
          "choropleth": [
           {
            "colorbar": {
             "outlinewidth": 0,
             "ticks": ""
            },
            "type": "choropleth"
           }
          ],
          "contour": [
           {
            "colorbar": {
             "outlinewidth": 0,
             "ticks": ""
            },
            "colorscale": [
             [
              0,
              "#0d0887"
             ],
             [
              0.1111111111111111,
              "#46039f"
             ],
             [
              0.2222222222222222,
              "#7201a8"
             ],
             [
              0.3333333333333333,
              "#9c179e"
             ],
             [
              0.4444444444444444,
              "#bd3786"
             ],
             [
              0.5555555555555556,
              "#d8576b"
             ],
             [
              0.6666666666666666,
              "#ed7953"
             ],
             [
              0.7777777777777778,
              "#fb9f3a"
             ],
             [
              0.8888888888888888,
              "#fdca26"
             ],
             [
              1,
              "#f0f921"
             ]
            ],
            "type": "contour"
           }
          ],
          "contourcarpet": [
           {
            "colorbar": {
             "outlinewidth": 0,
             "ticks": ""
            },
            "type": "contourcarpet"
           }
          ],
          "heatmap": [
           {
            "colorbar": {
             "outlinewidth": 0,
             "ticks": ""
            },
            "colorscale": [
             [
              0,
              "#0d0887"
             ],
             [
              0.1111111111111111,
              "#46039f"
             ],
             [
              0.2222222222222222,
              "#7201a8"
             ],
             [
              0.3333333333333333,
              "#9c179e"
             ],
             [
              0.4444444444444444,
              "#bd3786"
             ],
             [
              0.5555555555555556,
              "#d8576b"
             ],
             [
              0.6666666666666666,
              "#ed7953"
             ],
             [
              0.7777777777777778,
              "#fb9f3a"
             ],
             [
              0.8888888888888888,
              "#fdca26"
             ],
             [
              1,
              "#f0f921"
             ]
            ],
            "type": "heatmap"
           }
          ],
          "heatmapgl": [
           {
            "colorbar": {
             "outlinewidth": 0,
             "ticks": ""
            },
            "colorscale": [
             [
              0,
              "#0d0887"
             ],
             [
              0.1111111111111111,
              "#46039f"
             ],
             [
              0.2222222222222222,
              "#7201a8"
             ],
             [
              0.3333333333333333,
              "#9c179e"
             ],
             [
              0.4444444444444444,
              "#bd3786"
             ],
             [
              0.5555555555555556,
              "#d8576b"
             ],
             [
              0.6666666666666666,
              "#ed7953"
             ],
             [
              0.7777777777777778,
              "#fb9f3a"
             ],
             [
              0.8888888888888888,
              "#fdca26"
             ],
             [
              1,
              "#f0f921"
             ]
            ],
            "type": "heatmapgl"
           }
          ],
          "histogram": [
           {
            "marker": {
             "pattern": {
              "fillmode": "overlay",
              "size": 10,
              "solidity": 0.2
             }
            },
            "type": "histogram"
           }
          ],
          "histogram2d": [
           {
            "colorbar": {
             "outlinewidth": 0,
             "ticks": ""
            },
            "colorscale": [
             [
              0,
              "#0d0887"
             ],
             [
              0.1111111111111111,
              "#46039f"
             ],
             [
              0.2222222222222222,
              "#7201a8"
             ],
             [
              0.3333333333333333,
              "#9c179e"
             ],
             [
              0.4444444444444444,
              "#bd3786"
             ],
             [
              0.5555555555555556,
              "#d8576b"
             ],
             [
              0.6666666666666666,
              "#ed7953"
             ],
             [
              0.7777777777777778,
              "#fb9f3a"
             ],
             [
              0.8888888888888888,
              "#fdca26"
             ],
             [
              1,
              "#f0f921"
             ]
            ],
            "type": "histogram2d"
           }
          ],
          "histogram2dcontour": [
           {
            "colorbar": {
             "outlinewidth": 0,
             "ticks": ""
            },
            "colorscale": [
             [
              0,
              "#0d0887"
             ],
             [
              0.1111111111111111,
              "#46039f"
             ],
             [
              0.2222222222222222,
              "#7201a8"
             ],
             [
              0.3333333333333333,
              "#9c179e"
             ],
             [
              0.4444444444444444,
              "#bd3786"
             ],
             [
              0.5555555555555556,
              "#d8576b"
             ],
             [
              0.6666666666666666,
              "#ed7953"
             ],
             [
              0.7777777777777778,
              "#fb9f3a"
             ],
             [
              0.8888888888888888,
              "#fdca26"
             ],
             [
              1,
              "#f0f921"
             ]
            ],
            "type": "histogram2dcontour"
           }
          ],
          "mesh3d": [
           {
            "colorbar": {
             "outlinewidth": 0,
             "ticks": ""
            },
            "type": "mesh3d"
           }
          ],
          "parcoords": [
           {
            "line": {
             "colorbar": {
              "outlinewidth": 0,
              "ticks": ""
             }
            },
            "type": "parcoords"
           }
          ],
          "pie": [
           {
            "automargin": true,
            "type": "pie"
           }
          ],
          "scatter": [
           {
            "fillpattern": {
             "fillmode": "overlay",
             "size": 10,
             "solidity": 0.2
            },
            "type": "scatter"
           }
          ],
          "scatter3d": [
           {
            "line": {
             "colorbar": {
              "outlinewidth": 0,
              "ticks": ""
             }
            },
            "marker": {
             "colorbar": {
              "outlinewidth": 0,
              "ticks": ""
             }
            },
            "type": "scatter3d"
           }
          ],
          "scattercarpet": [
           {
            "marker": {
             "colorbar": {
              "outlinewidth": 0,
              "ticks": ""
             }
            },
            "type": "scattercarpet"
           }
          ],
          "scattergeo": [
           {
            "marker": {
             "colorbar": {
              "outlinewidth": 0,
              "ticks": ""
             }
            },
            "type": "scattergeo"
           }
          ],
          "scattergl": [
           {
            "marker": {
             "colorbar": {
              "outlinewidth": 0,
              "ticks": ""
             }
            },
            "type": "scattergl"
           }
          ],
          "scattermapbox": [
           {
            "marker": {
             "colorbar": {
              "outlinewidth": 0,
              "ticks": ""
             }
            },
            "type": "scattermapbox"
           }
          ],
          "scatterpolar": [
           {
            "marker": {
             "colorbar": {
              "outlinewidth": 0,
              "ticks": ""
             }
            },
            "type": "scatterpolar"
           }
          ],
          "scatterpolargl": [
           {
            "marker": {
             "colorbar": {
              "outlinewidth": 0,
              "ticks": ""
             }
            },
            "type": "scatterpolargl"
           }
          ],
          "scatterternary": [
           {
            "marker": {
             "colorbar": {
              "outlinewidth": 0,
              "ticks": ""
             }
            },
            "type": "scatterternary"
           }
          ],
          "surface": [
           {
            "colorbar": {
             "outlinewidth": 0,
             "ticks": ""
            },
            "colorscale": [
             [
              0,
              "#0d0887"
             ],
             [
              0.1111111111111111,
              "#46039f"
             ],
             [
              0.2222222222222222,
              "#7201a8"
             ],
             [
              0.3333333333333333,
              "#9c179e"
             ],
             [
              0.4444444444444444,
              "#bd3786"
             ],
             [
              0.5555555555555556,
              "#d8576b"
             ],
             [
              0.6666666666666666,
              "#ed7953"
             ],
             [
              0.7777777777777778,
              "#fb9f3a"
             ],
             [
              0.8888888888888888,
              "#fdca26"
             ],
             [
              1,
              "#f0f921"
             ]
            ],
            "type": "surface"
           }
          ],
          "table": [
           {
            "cells": {
             "fill": {
              "color": "#EBF0F8"
             },
             "line": {
              "color": "white"
             }
            },
            "header": {
             "fill": {
              "color": "#C8D4E3"
             },
             "line": {
              "color": "white"
             }
            },
            "type": "table"
           }
          ]
         },
         "layout": {
          "annotationdefaults": {
           "arrowcolor": "#2a3f5f",
           "arrowhead": 0,
           "arrowwidth": 1
          },
          "autotypenumbers": "strict",
          "coloraxis": {
           "colorbar": {
            "outlinewidth": 0,
            "ticks": ""
           }
          },
          "colorscale": {
           "diverging": [
            [
             0,
             "#8e0152"
            ],
            [
             0.1,
             "#c51b7d"
            ],
            [
             0.2,
             "#de77ae"
            ],
            [
             0.3,
             "#f1b6da"
            ],
            [
             0.4,
             "#fde0ef"
            ],
            [
             0.5,
             "#f7f7f7"
            ],
            [
             0.6,
             "#e6f5d0"
            ],
            [
             0.7,
             "#b8e186"
            ],
            [
             0.8,
             "#7fbc41"
            ],
            [
             0.9,
             "#4d9221"
            ],
            [
             1,
             "#276419"
            ]
           ],
           "sequential": [
            [
             0,
             "#0d0887"
            ],
            [
             0.1111111111111111,
             "#46039f"
            ],
            [
             0.2222222222222222,
             "#7201a8"
            ],
            [
             0.3333333333333333,
             "#9c179e"
            ],
            [
             0.4444444444444444,
             "#bd3786"
            ],
            [
             0.5555555555555556,
             "#d8576b"
            ],
            [
             0.6666666666666666,
             "#ed7953"
            ],
            [
             0.7777777777777778,
             "#fb9f3a"
            ],
            [
             0.8888888888888888,
             "#fdca26"
            ],
            [
             1,
             "#f0f921"
            ]
           ],
           "sequentialminus": [
            [
             0,
             "#0d0887"
            ],
            [
             0.1111111111111111,
             "#46039f"
            ],
            [
             0.2222222222222222,
             "#7201a8"
            ],
            [
             0.3333333333333333,
             "#9c179e"
            ],
            [
             0.4444444444444444,
             "#bd3786"
            ],
            [
             0.5555555555555556,
             "#d8576b"
            ],
            [
             0.6666666666666666,
             "#ed7953"
            ],
            [
             0.7777777777777778,
             "#fb9f3a"
            ],
            [
             0.8888888888888888,
             "#fdca26"
            ],
            [
             1,
             "#f0f921"
            ]
           ]
          },
          "colorway": [
           "#636efa",
           "#EF553B",
           "#00cc96",
           "#ab63fa",
           "#FFA15A",
           "#19d3f3",
           "#FF6692",
           "#B6E880",
           "#FF97FF",
           "#FECB52"
          ],
          "font": {
           "color": "#2a3f5f"
          },
          "geo": {
           "bgcolor": "white",
           "lakecolor": "white",
           "landcolor": "#E5ECF6",
           "showlakes": true,
           "showland": true,
           "subunitcolor": "white"
          },
          "hoverlabel": {
           "align": "left"
          },
          "hovermode": "closest",
          "mapbox": {
           "style": "light"
          },
          "paper_bgcolor": "white",
          "plot_bgcolor": "#E5ECF6",
          "polar": {
           "angularaxis": {
            "gridcolor": "white",
            "linecolor": "white",
            "ticks": ""
           },
           "bgcolor": "#E5ECF6",
           "radialaxis": {
            "gridcolor": "white",
            "linecolor": "white",
            "ticks": ""
           }
          },
          "scene": {
           "xaxis": {
            "backgroundcolor": "#E5ECF6",
            "gridcolor": "white",
            "gridwidth": 2,
            "linecolor": "white",
            "showbackground": true,
            "ticks": "",
            "zerolinecolor": "white"
           },
           "yaxis": {
            "backgroundcolor": "#E5ECF6",
            "gridcolor": "white",
            "gridwidth": 2,
            "linecolor": "white",
            "showbackground": true,
            "ticks": "",
            "zerolinecolor": "white"
           },
           "zaxis": {
            "backgroundcolor": "#E5ECF6",
            "gridcolor": "white",
            "gridwidth": 2,
            "linecolor": "white",
            "showbackground": true,
            "ticks": "",
            "zerolinecolor": "white"
           }
          },
          "shapedefaults": {
           "line": {
            "color": "#2a3f5f"
           }
          },
          "ternary": {
           "aaxis": {
            "gridcolor": "white",
            "linecolor": "white",
            "ticks": ""
           },
           "baxis": {
            "gridcolor": "white",
            "linecolor": "white",
            "ticks": ""
           },
           "bgcolor": "#E5ECF6",
           "caxis": {
            "gridcolor": "white",
            "linecolor": "white",
            "ticks": ""
           }
          },
          "title": {
           "x": 0.05
          },
          "xaxis": {
           "automargin": true,
           "gridcolor": "white",
           "linecolor": "white",
           "ticks": "",
           "title": {
            "standoff": 15
           },
           "zerolinecolor": "white",
           "zerolinewidth": 2
          },
          "yaxis": {
           "automargin": true,
           "gridcolor": "white",
           "linecolor": "white",
           "ticks": "",
           "title": {
            "standoff": 15
           },
           "zerolinecolor": "white",
           "zerolinewidth": 2
          }
         }
        },
        "title": {
         "text": "Number of Songs vs. Word Count"
        },
        "xaxis": {
         "anchor": "y",
         "domain": [
          0,
          1
         ],
         "title": {
          "text": "Word Count"
         }
        },
        "yaxis": {
         "anchor": "x",
         "domain": [
          0,
          1
         ],
         "title": {
          "text": "Number of Songs"
         }
        }
       }
      }
     },
     "metadata": {},
     "output_type": "display_data"
    }
   ],
   "source": [
    "grouped_data = data.groupby(\"artist\")\n",
    "\n",
    "tokenized_words = grouped_data[\"lyrics\"].apply(lambda x: ' '.join(x).split())\n",
    "\n",
    "unique_word_counts = tokenized_words.apply(lambda x: len(x))\n",
    "\n",
    "num_songs = grouped_data.size()\n",
    "\n",
    "\n",
    "df = pd.DataFrame({'Interpret': unique_word_counts.index, 'Word Count': unique_word_counts, 'Number of Songs': num_songs})\n",
    "\n",
    "fig = px.scatter(df, x='Word Count', y='Number of Songs', hover_data=['Interpret'], title='Number of Songs vs. Word Count')\n",
    "\n",
    "fig.show()"
   ]
  },
  {
   "cell_type": "markdown",
   "metadata": {},
   "source": [
    "### Checking the 10 most used words for each Genre\n",
    "\n",
    "Anmerkung Stand 31.05: Muss mit custom Stopwords gearbeitet werden, sowohl sapcy als auch Stopwordsiso liefern schelchte ergebnisse. Whitespace dafür fixed."
   ]
  },
  {
   "cell_type": "code",
   "execution_count": 49,
   "metadata": {},
   "outputs": [],
   "source": [
    "def filter_stopwords(tokens):\n",
    "    german_stopwords = set(stopwords([\"de\"]))\n",
    "    full_Stopwords = list(german_stopwords) + custom_stops\n",
    "    filtered_tokens = []\n",
    "    for token in tokens:\n",
    "        if token.lower_ not in full_Stopwords and token.text not in string.punctuation and not token.is_space:\n",
    "            filtered_tokens.append(token.lower_)\n",
    "    return filtered_tokens"
   ]
  },
  {
   "cell_type": "code",
   "execution_count": 50,
   "metadata": {},
   "outputs": [],
   "source": [
    "data[\"filtered_lyrics\"] = data[\"lyrics\"].apply(lambda x: filter_stopwords(nlp(x)))"
   ]
  },
  {
   "cell_type": "code",
   "execution_count": 51,
   "metadata": {},
   "outputs": [],
   "source": [
    "data[\"word_counts\"] = data[\"filtered_lyrics\"].apply(lambda x: Counter(set(x)))"
   ]
  },
  {
   "cell_type": "code",
   "execution_count": 52,
   "metadata": {},
   "outputs": [],
   "source": [
    "grouped_data = data.groupby(\"genre_cat\")"
   ]
  },
  {
   "cell_type": "code",
   "execution_count": 54,
   "metadata": {},
   "outputs": [
    {
     "name": "stdout",
     "output_type": "stream",
     "text": [
      "Genre: Pop\n",
      "    Word  Song Count\n",
      "0  leben         700\n",
      "1   welt         582\n",
      "2  liebe         506\n",
      "3  nacht         485\n",
      "4   herz         436\n",
      "5  augen         352\n",
      "6    seh         330\n",
      "7   sehn         324\n",
      "8   egal         323\n",
      "9   kopf         320\n",
      "\n",
      "Genre: Rap\n",
      "     Word  Song Count\n",
      "0   leben        2524\n",
      "1    welt        1594\n",
      "2    geld        1568\n",
      "3    fick        1444\n",
      "4     geh        1437\n",
      "5    kopf        1417\n",
      "6  scheiß        1367\n",
      "7     nem        1318\n",
      "8    raus        1288\n",
      "9    egal        1288\n",
      "\n",
      "Genre: Rock\n",
      "    Word  Song Count\n",
      "0  leben         588\n",
      "1   welt         549\n",
      "2  nacht         349\n",
      "3   herz         306\n",
      "4  liebe         293\n",
      "5  augen         259\n",
      "6  sehen         247\n",
      "7   egal         234\n",
      "8   raus         223\n",
      "9  schön         222\n",
      "\n",
      "Genre: Schlager\n",
      "     Word  Song Count\n",
      "0   nacht         441\n",
      "1   liebe         439\n",
      "2   leben         386\n",
      "3    herz         369\n",
      "4    welt         359\n",
      "5  himmel         197\n",
      "6   glück         192\n",
      "7   augen         192\n",
      "8    gehn         191\n",
      "9    sehn         167\n",
      "\n"
     ]
    }
   ],
   "source": [
    "genre_word_counts = {}\n",
    "for genre_cat, group in grouped_data:\n",
    "    word_counts = group[\"word_counts\"].sum()\n",
    "    genre_word_counts[genre_cat] = word_counts\n",
    "\n",
    "top_10_words_per_genre = {}\n",
    "for genre, word_counts in genre_word_counts.items():\n",
    "    # Exclude whitespace from the top words list\n",
    "    word_counts.pop('', None)\n",
    "    # Sort the words based on song count only\n",
    "    top_words = sorted(word_counts.items(), key=lambda x: x[1], reverse=True)[:10]\n",
    "    top_10_words_per_genre[genre] = top_words\n",
    "\n",
    "for genre, top_words in top_10_words_per_genre.items():\n",
    "    print(\"Genre:\", genre)\n",
    "    df = pd.DataFrame(top_words, columns=[\"Word\", \"Song Count\"])\n",
    "    print(df)\n",
    "    print()"
   ]
  },
  {
   "cell_type": "code",
   "execution_count": 55,
   "metadata": {},
   "outputs": [
    {
     "name": "stdout",
     "output_type": "stream",
     "text": [
      "+----------------+------------------+----------------+-----------------+\n",
      "|      Pop       |       Rap        |      Rock      |    Schlager     |\n",
      "+----------------+------------------+----------------+-----------------+\n",
      "| ('leben', 700) | ('leben', 2524)  | ('leben', 588) | ('nacht', 441)  |\n",
      "| ('welt', 582)  |  ('welt', 1594)  | ('welt', 549)  | ('liebe', 439)  |\n",
      "| ('liebe', 506) |  ('geld', 1568)  | ('nacht', 349) | ('leben', 386)  |\n",
      "| ('nacht', 485) |  ('fick', 1444)  | ('herz', 306)  |  ('herz', 369)  |\n",
      "| ('herz', 436)  |  ('geh', 1437)   | ('liebe', 293) |  ('welt', 359)  |\n",
      "| ('augen', 352) |  ('kopf', 1417)  | ('augen', 259) | ('himmel', 197) |\n",
      "|  ('seh', 330)  | ('scheiß', 1367) | ('sehen', 247) | ('glück', 192)  |\n",
      "| ('sehn', 324)  |  ('nem', 1318)   | ('egal', 234)  | ('augen', 192)  |\n",
      "| ('egal', 323)  |  ('raus', 1288)  | ('raus', 223)  |  ('gehn', 191)  |\n",
      "| ('kopf', 320)  |  ('egal', 1288)  | ('schön', 222) |  ('sehn', 167)  |\n",
      "+----------------+------------------+----------------+-----------------+\n"
     ]
    }
   ],
   "source": [
    "### Example on how to plot the data, couldnt really find anything prettier (didnt search that long tho)\n",
    "table_data = []\n",
    "headers = list(top_10_words_per_genre.keys())\n",
    "for i in range(10):\n",
    "    row_data = [top_10_words_per_genre[genre][i] for genre in top_10_words_per_genre]\n",
    "    table_data.append(row_data)\n",
    "\n",
    "table = tabulate(table_data, headers, tablefmt=\"pretty\")\n",
    "print(table)\n",
    "# nicht word count sondern songs\n",
    "# wörter highlighten (genre spezifisch // überall vorkommend)"
   ]
  },
  {
   "cell_type": "markdown",
   "metadata": {},
   "source": [
    "### Sentiment Analysis of a Genre"
   ]
  },
  {
   "cell_type": "code",
   "execution_count": 44,
   "metadata": {},
   "outputs": [
    {
     "name": "stdout",
     "output_type": "stream",
     "text": [
      "                                               Lyric  Polarity  Subjectivity\n",
      "0   Okay, Ansage, Freundchen, ich warne dich Ey, ...  0.067500      0.100000\n",
      "1    Ey Leute, passt doch auf, ihr lebt in Gefahr...  0.115972      0.006944\n",
      "2   Okay, Ellen lang und elegant Keule Mutterfick... -0.031250      0.015625\n",
      "3   Hallihallöchen, ist lange her Schatz Ich vers...  0.048352      0.000000\n",
      "4    Ich steh auf am Kleister riechen und gleiche... -0.054167      0.144444\n"
     ]
    }
   ],
   "source": [
    "genre_data = data[data[\"genre\"] == \"Rap\"]\n",
    "\n",
    "sentiments = []\n",
    "for lyric in genre_data[\"lyrics\"]:\n",
    "    blob = TextBlobDE(lyric)\n",
    "    sentiment = blob.sentiment\n",
    "    sentiments.append((lyric, sentiment.polarity, sentiment.subjectivity))\n",
    "\n",
    "sentiments_df = pd.DataFrame(sentiments, columns=[\"Lyric\", \"Polarity\", \"Subjectivity\"])\n",
    "print(sentiments_df.head())"
   ]
  },
  {
   "cell_type": "code",
   "execution_count": 29,
   "metadata": {},
   "outputs": [
    {
     "name": "stdout",
     "output_type": "stream",
     "text": [
      "Genre: Pop\n",
      "Average Polarity: 0.1296460012286485\n",
      "\n",
      "Genre: Rap\n",
      "Average Polarity: 0.07332280483746088\n",
      "\n",
      "Genre: Rock\n",
      "Average Polarity: 0.0995539542870728\n",
      "\n",
      "Genre: Schlager\n",
      "Average Polarity: 0.1397368378330272\n",
      "\n"
     ]
    }
   ],
   "source": [
    "def analyze_sentiment(data, genre):\n",
    "    genre_data = data[data[\"genre\"] == genre]\n",
    "\n",
    "    sentiments = []\n",
    "    lyrics_sentiments = []\n",
    "\n",
    "    for lyric in genre_data[\"lyrics\"]:\n",
    "        blob = TextBlobDE(lyric)\n",
    "        sentiment = blob.sentiment.polarity\n",
    "        sentiments.append(sentiment)\n",
    "        lyrics_sentiments.append((lyric, sentiment))\n",
    "\n",
    "    avg_polarity = sum(sentiments) / len(sentiments)\n",
    "    #lyrics_sentiments.sort(key=lambda x: x[1], reverse=True)\n",
    "    #best_lyric = lyrics_sentiments[0][0]\n",
    "    #worst_lyric = lyrics_sentiments[-1][0]\n",
    "\n",
    "    return avg_polarity#, best_lyric, worst_lyric\n",
    "\n",
    "grouped_data = data.groupby(\"genre\")\n",
    "for genre, group in grouped_data:\n",
    "    avg_polarity = analyze_sentiment(data, genre)\n",
    "    #avg_polarity, best_lyric, worst_lyric = analyze_sentiment(data, genre)\n",
    "    print(\"Genre:\", genre)\n",
    "    print(\"Average Polarity:\", avg_polarity)\n",
    "    #print(\"Best Polarity Lyric:\\n\", best_lyric)\n",
    "    #print(\"Worst Polarity Lyric:\\n\", worst_lyric)\n",
    "    print()\n",
    "\n",
    "# Nicht nur Avarage ausgeben, inklusive Perzentile -> Boxplot"
   ]
  }
 ],
 "metadata": {
  "kernelspec": {
   "display_name": "Python 3.9.1 64-bit ('3.9.1')",
   "language": "python",
   "name": "python3"
  },
  "language_info": {
   "codemirror_mode": {
    "name": "ipython",
    "version": 3
   },
   "file_extension": ".py",
   "mimetype": "text/x-python",
   "name": "python",
   "nbconvert_exporter": "python",
   "pygments_lexer": "ipython3",
   "version": "3.9.1"
  },
  "orig_nbformat": 4,
  "vscode": {
   "interpreter": {
    "hash": "fb408a8a50588f9d482ac690f7d1c5df410608bd4bf41691bb22e16d1eff6208"
   }
  }
 },
 "nbformat": 4,
 "nbformat_minor": 2
}
