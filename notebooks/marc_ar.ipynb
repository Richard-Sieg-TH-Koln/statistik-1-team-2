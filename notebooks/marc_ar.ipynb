{
 "cells": [
  {
   "cell_type": "markdown",
   "metadata": {},
   "source": [
    "## General Import and Setup"
   ]
  },
  {
   "cell_type": "code",
   "execution_count": 13,
   "metadata": {},
   "outputs": [],
   "source": [
    "import pandas as pd\n",
    "import plotly.express as px\n",
    "import spacy\n",
    "from collections import Counter\n",
    "import string\n",
    "from tabulate import tabulate\n",
    "from textblob_de import TextBlobDE\n",
    "from stopwordsiso import stopwords"
   ]
  },
  {
   "cell_type": "code",
   "execution_count": 4,
   "metadata": {},
   "outputs": [
    {
     "data": {
      "text/html": [
       "<div>\n",
       "<style scoped>\n",
       "    .dataframe tbody tr th:only-of-type {\n",
       "        vertical-align: middle;\n",
       "    }\n",
       "\n",
       "    .dataframe tbody tr th {\n",
       "        vertical-align: top;\n",
       "    }\n",
       "\n",
       "    .dataframe thead th {\n",
       "        text-align: right;\n",
       "    }\n",
       "</style>\n",
       "<table border=\"1\" class=\"dataframe\">\n",
       "  <thead>\n",
       "    <tr style=\"text-align: right;\">\n",
       "      <th></th>\n",
       "      <th>genre</th>\n",
       "      <th>interpret</th>\n",
       "      <th>album</th>\n",
       "      <th>release_year</th>\n",
       "      <th>songtitle</th>\n",
       "      <th>decade</th>\n",
       "      <th>song_id</th>\n",
       "      <th>full_title</th>\n",
       "      <th>release_date_components_raw</th>\n",
       "      <th>release_date_for_display</th>\n",
       "      <th>stats_raw</th>\n",
       "      <th>lyrics</th>\n",
       "      <th>weekday</th>\n",
       "      <th>word_count</th>\n",
       "    </tr>\n",
       "  </thead>\n",
       "  <tbody>\n",
       "    <tr>\n",
       "      <th>0</th>\n",
       "      <td>NaN</td>\n",
       "      <td>Ardian Bujupi</td>\n",
       "      <td>NaN</td>\n",
       "      <td>2023</td>\n",
       "      <td>Skena Koh</td>\n",
       "      <td>0</td>\n",
       "      <td>9142376</td>\n",
       "      <td>Skena Koh by Ardian Bujupi</td>\n",
       "      <td>{'year': 2023, 'month': 5, 'day': 19}</td>\n",
       "      <td>2023-05-19 00:00:00</td>\n",
       "      <td>{'unreviewed_annotations': 0, 'hot': False}</td>\n",
       "      <td>Ich weiß genau, wie es anfing Hab' mich noch...</td>\n",
       "      <td>Friday</td>\n",
       "      <td>175</td>\n",
       "    </tr>\n",
       "    <tr>\n",
       "      <th>1</th>\n",
       "      <td>NaN</td>\n",
       "      <td>Ardian Bujupi</td>\n",
       "      <td>NaN</td>\n",
       "      <td>2023</td>\n",
       "      <td>Maria</td>\n",
       "      <td>0</td>\n",
       "      <td>9014456</td>\n",
       "      <td>Maria by Ardian Bujupi</td>\n",
       "      <td>{'year': 2023, 'month': 4, 'day': 14}</td>\n",
       "      <td>2023-04-14 00:00:00</td>\n",
       "      <td>{'unreviewed_annotations': 0, 'hot': False}</td>\n",
       "      <td>Ey-yeah-yeah-yeah-yeah-yeah Ey-ja-ja-ja-ja-j...</td>\n",
       "      <td>Friday</td>\n",
       "      <td>98</td>\n",
       "    </tr>\n",
       "    <tr>\n",
       "      <th>2</th>\n",
       "      <td>NaN</td>\n",
       "      <td>Ardian Bujupi</td>\n",
       "      <td>NaN</td>\n",
       "      <td>2023</td>\n",
       "      <td>3 Panamera</td>\n",
       "      <td>0</td>\n",
       "      <td>8881172</td>\n",
       "      <td>3 Panamera by Ardian Bujupi</td>\n",
       "      <td>{'year': 2023, 'month': 3, 'day': 3}</td>\n",
       "      <td>2023-03-03 00:00:00</td>\n",
       "      <td>{'unreviewed_annotations': 0, 'hot': False}</td>\n",
       "      <td>Blick' durch die Cartier, nice Ferrari, Ital...</td>\n",
       "      <td>Friday</td>\n",
       "      <td>214</td>\n",
       "    </tr>\n",
       "    <tr>\n",
       "      <th>3</th>\n",
       "      <td>NaN</td>\n",
       "      <td>Ardian Bujupi</td>\n",
       "      <td>NaN</td>\n",
       "      <td>2022</td>\n",
       "      <td>Atlantik</td>\n",
       "      <td>0</td>\n",
       "      <td>8625082</td>\n",
       "      <td>Atlantik by Ardian Bujupi</td>\n",
       "      <td>{'year': 2022, 'month': 12, 'day': 9}</td>\n",
       "      <td>2022-12-09 00:00:00</td>\n",
       "      <td>{'unreviewed_annotations': 0, 'hot': False}</td>\n",
       "      <td>Ruf nur einmal an Und ich fliege für dich üb...</td>\n",
       "      <td>Friday</td>\n",
       "      <td>129</td>\n",
       "    </tr>\n",
       "    <tr>\n",
       "      <th>4</th>\n",
       "      <td>NaN</td>\n",
       "      <td>Ardian Bujupi</td>\n",
       "      <td>NaN</td>\n",
       "      <td>2022</td>\n",
       "      <td>K.i.m.B</td>\n",
       "      <td>0</td>\n",
       "      <td>8146443</td>\n",
       "      <td>K.i.m.B by Ardian Bujupi</td>\n",
       "      <td>{'year': 2022, 'month': 7, 'day': 1}</td>\n",
       "      <td>2022-07-01 00:00:00</td>\n",
       "      <td>{'unreviewed_annotations': 0, 'hot': False}</td>\n",
       "      <td>Komm in mein'n Block (Ey, ey) Aussicht von h...</td>\n",
       "      <td>Friday</td>\n",
       "      <td>195</td>\n",
       "    </tr>\n",
       "  </tbody>\n",
       "</table>\n",
       "</div>"
      ],
      "text/plain": [
       "  genre      interpret album  release_year   songtitle  decade  song_id  \\\n",
       "0   NaN  Ardian Bujupi   NaN          2023   Skena Koh       0  9142376   \n",
       "1   NaN  Ardian Bujupi   NaN          2023       Maria       0  9014456   \n",
       "2   NaN  Ardian Bujupi   NaN          2023  3 Panamera       0  8881172   \n",
       "3   NaN  Ardian Bujupi   NaN          2022    Atlantik       0  8625082   \n",
       "4   NaN  Ardian Bujupi   NaN          2022     K.i.m.B       0  8146443   \n",
       "\n",
       "                    full_title            release_date_components_raw  \\\n",
       "0   Skena Koh by Ardian Bujupi  {'year': 2023, 'month': 5, 'day': 19}   \n",
       "1       Maria by Ardian Bujupi  {'year': 2023, 'month': 4, 'day': 14}   \n",
       "2  3 Panamera by Ardian Bujupi   {'year': 2023, 'month': 3, 'day': 3}   \n",
       "3    Atlantik by Ardian Bujupi  {'year': 2022, 'month': 12, 'day': 9}   \n",
       "4     K.i.m.B by Ardian Bujupi   {'year': 2022, 'month': 7, 'day': 1}   \n",
       "\n",
       "  release_date_for_display                                    stats_raw  \\\n",
       "0      2023-05-19 00:00:00  {'unreviewed_annotations': 0, 'hot': False}   \n",
       "1      2023-04-14 00:00:00  {'unreviewed_annotations': 0, 'hot': False}   \n",
       "2      2023-03-03 00:00:00  {'unreviewed_annotations': 0, 'hot': False}   \n",
       "3      2022-12-09 00:00:00  {'unreviewed_annotations': 0, 'hot': False}   \n",
       "4      2022-07-01 00:00:00  {'unreviewed_annotations': 0, 'hot': False}   \n",
       "\n",
       "                                              lyrics weekday  word_count  \n",
       "0    Ich weiß genau, wie es anfing Hab' mich noch...  Friday         175  \n",
       "1    Ey-yeah-yeah-yeah-yeah-yeah Ey-ja-ja-ja-ja-j...  Friday          98  \n",
       "2    Blick' durch die Cartier, nice Ferrari, Ital...  Friday         214  \n",
       "3    Ruf nur einmal an Und ich fliege für dich üb...  Friday         129  \n",
       "4    Komm in mein'n Block (Ey, ey) Aussicht von h...  Friday         195  "
      ]
     },
     "execution_count": 4,
     "metadata": {},
     "output_type": "execute_result"
    }
   ],
   "source": [
    "nlp = spacy.load(\"de_core_news_sm\")\n",
    "data = pd.read_csv('../data/raw/dataset_cleaned_file_v7.csv')\n",
    "data.head()"
   ]
  },
  {
   "cell_type": "markdown",
   "metadata": {},
   "source": [
    "### Checking the Vocabulary of the Artists"
   ]
  },
  {
   "cell_type": "code",
   "execution_count": 5,
   "metadata": {},
   "outputs": [
    {
     "data": {
      "application/vnd.plotly.v1+json": {
       "config": {
        "plotlyServerURL": "https://plot.ly"
       },
       "data": [
        {
         "customdata": [
          [
           "01099"
          ],
          [
           "18 Karat"
          ],
          [
           "187 Straßenbande"
          ],
          [
           "257ers"
          ],
          [
           "2raumwohnung"
          ],
          [
           "Absolute Beginner"
          ],
          [
           "Adel Tawil"
          ],
          [
           "Alligatoah"
          ],
          [
           "Andrea Berg"
          ],
          [
           "Andreas Bourani"
          ],
          [
           "Andreas Gabalier"
          ],
          [
           "AnnenMayKantereit"
          ],
          [
           "Annett Louisan"
          ],
          [
           "Antilopen Gang"
          ],
          [
           "Apache 207"
          ],
          [
           "Ardian Bujupi"
          ],
          [
           "Asche"
          ],
          [
           "Azad"
          ],
          [
           "Azet"
          ],
          [
           "BHZ"
          ],
          [
           "BRKN"
          ],
          [
           "Bass Sultan Hengzt"
          ],
          [
           "Bausa"
          ],
          [
           "Beatrice Egli"
          ],
          [
           "Beginner"
          ],
          [
           "Bela B"
          ],
          [
           "Ben Zucker"
          ],
          [
           "Bilderbuch"
          ],
          [
           "Bizzy Montana"
          ],
          [
           "Black Fööss"
          ],
          [
           "Blümchen"
          ],
          [
           "Bosse"
          ],
          [
           "Brings"
          ],
          [
           "Broilers"
          ],
          [
           "Bushido"
          ],
          [
           "Capital Bra"
          ],
          [
           "Capo"
          ],
          [
           "Casper"
          ],
          [
           "Cat Ballou"
          ],
          [
           "Celo & Abdi"
          ],
          [
           "Chakuza"
          ],
          [
           "Christian Anders"
          ],
          [
           "Christina Stürmer"
          ],
          [
           "Clueso"
          ],
          [
           "Costa Cordalis"
          ],
          [
           "Cro"
          ],
          [
           "Culcha Candela"
          ],
          [
           "DCVDNS"
          ],
          [
           "DJ Tomekk"
          ],
          [
           "DJ Ötzi"
          ],
          [
           "Daniel Sommer"
          ],
          [
           "Dardan"
          ],
          [
           "Deichkind"
          ],
          [
           "Dendemann"
          ],
          [
           "Die Atzen"
          ],
          [
           "Die Fantastischen Vier"
          ],
          [
           "Die Flippers"
          ],
          [
           "Die Lochis"
          ],
          [
           "Die Orsons"
          ],
          [
           "Die Prinzen"
          ],
          [
           "Die Ärzte"
          ],
          [
           "Dieter Thomas Kuhn"
          ],
          [
           "Domstürmer"
          ],
          [
           "Eddin"
          ],
          [
           "Edo Saiya"
          ],
          [
           "Edwin Rosen"
          ],
          [
           "Eko Fresh"
          ],
          [
           "Elif"
          ],
          [
           "Emilio"
          ],
          [
           "FOURTY"
          ],
          [
           "Farid Bang"
          ],
          [
           "Farin Urlaub"
          ],
          [
           "Favorite"
          ],
          [
           "Feine Sahne Fischfilet"
          ],
          [
           "Fettes Brot"
          ],
          [
           "Feuherz"
          ],
          [
           "Finch"
          ],
          [
           "Fler"
          ],
          [
           "Florian Silbereisen"
          ],
          [
           "Frauenarzt"
          ],
          [
           "Frittenbude"
          ],
          [
           "Funky Marys"
          ],
          [
           "Fynn Kliemann"
          ],
          [
           "Fünf Sterne Deluxe"
          ],
          [
           "Geier Sturzflug"
          ],
          [
           "Genetikk"
          ],
          [
           "Gestört aber Geil"
          ],
          [
           "Giovanni Zarrella"
          ],
          [
           "Gisbert Zu Knyphausen"
          ],
          [
           "Glasperlenspiel"
          ],
          [
           "Grossstadtgeflüster"
          ],
          [
           "Guildo Horn"
          ],
          [
           "Haftbefehl"
          ],
          [
           "Heino"
          ],
          [
           "Helene Fischer"
          ],
          [
           "Herbert Grönemeyer"
          ],
          [
           "Herzog"
          ],
          [
           "HoodBlaq"
          ],
          [
           "Höhner"
          ],
          [
           "Ich + Ich"
          ],
          [
           "Ikke Hüftgold"
          ],
          [
           "Ion Miles"
          ],
          [
           "Jamule"
          ],
          [
           "Jan Böhmermann"
          ],
          [
           "Jan Delay"
          ],
          [
           "Jennifer Rostock"
          ],
          [
           "Johannes Oerding"
          ],
          [
           "Jonesmann"
          ],
          [
           "Joris"
          ],
          [
           "Juju"
          ],
          [
           "Juli"
          ],
          [
           "Jupiter Jones"
          ],
          [
           "Jürgen Drews"
          ],
          [
           "K.I.Z."
          ],
          [
           "KALIM"
          ],
          [
           "KC Rebell"
          ],
          [
           "Kalazh44"
          ],
          [
           "Karel Gott"
          ],
          [
           "Kasalla"
          ],
          [
           "Katja Krasavice"
          ],
          [
           "Kay One"
          ],
          [
           "Kayef"
          ],
          [
           "Kettcar"
          ],
          [
           "Killerpilze"
          ],
          [
           "KitschKrieg"
          ],
          [
           "Klaus Lage"
          ],
          [
           "Klüngelköpp"
          ],
          [
           "Kollegah"
          ],
          [
           "Kontra K"
          ],
          [
           "Kool Savas"
          ],
          [
           "Kraftklub"
          ],
          [
           "Kummer"
          ],
          [
           "LUZI"
          ],
          [
           "LX"
          ],
          [
           "Loredana"
          ],
          [
           "Luca Hänni"
          ],
          [
           "Luciano"
          ],
          [
           "MC Basstard"
          ],
          [
           "Madsen"
          ],
          [
           "Majan"
          ],
          [
           "Majoe"
          ],
          [
           "Malte Kelly"
          ],
          [
           "Manny Marc"
          ],
          [
           "Marianne Rosenberg"
          ],
          [
           "Marius Müller-Westernhagen"
          ],
          [
           "Mark Forster"
          ],
          [
           "Marsimoto"
          ],
          [
           "Massive Töne"
          ],
          [
           "Mathea"
          ],
          [
           "Matthias Reim"
          ],
          [
           "Max Giesinger"
          ],
          [
           "Max Herre"
          ],
          [
           "Max Mutzke"
          ],
          [
           "Mayberg"
          ],
          [
           "Megaloh"
          ],
          [
           "Mero"
          ],
          [
           "Mia Julia"
          ],
          [
           "Miami Yacine"
          ],
          [
           "Michael Wendler"
          ],
          [
           "Mickie Krause"
          ],
          [
           "Miljö"
          ],
          [
           "Miwata"
          ],
          [
           "Mo-Torres"
          ],
          [
           "Mois"
          ],
          [
           "Monet192"
          ],
          [
           "Money Boy"
          ],
          [
           "Montez"
          ],
          [
           "Moop Mama"
          ],
          [
           "Motrip"
          ],
          [
           "Mütze Katze"
          ],
          [
           "Namika"
          ],
          [
           "Nate57"
          ],
          [
           "Nena"
          ],
          [
           "Nimo"
          ],
          [
           "Nina Chuba"
          ],
          [
           "Nina Hagen"
          ],
          [
           "Nura"
          ],
          [
           "OK KID"
          ],
          [
           "Olexesh"
          ],
          [
           "Oliver Pocher"
          ],
          [
           "Olli Schulz"
          ],
          [
           "Olson"
          ],
          [
           "Otto Waalkes"
          ],
          [
           "PA Sports"
          ],
          [
           "PUR"
          ],
          [
           "Paula Hartmann"
          ],
          [
           "Paveier"
          ],
          [
           "Peter Fox"
          ],
          [
           "Peter Maffay"
          ],
          [
           "Peter Wackel"
          ],
          [
           "Philipp Dittberner"
          ],
          [
           "Philipp Poisel"
          ],
          [
           "Pietro Lombardi"
          ],
          [
           "Pohlmann."
          ],
          [
           "Prinz Pi"
          ],
          [
           "Provinz"
          ],
          [
           "Querbeat"
          ],
          [
           "RIN"
          ],
          [
           "Raf Camorra"
          ],
          [
           "Rammstein"
          ],
          [
           "Reezy"
          ],
          [
           "Reperbahn Kaleem"
          ],
          [
           "Revolverheld"
          ],
          [
           "Riccardo"
          ],
          [
           "Rio Reiser"
          ],
          [
           "Roger Cicero"
          ],
          [
           "Roland Kaiser"
          ],
          [
           "Rosenstolz"
          ],
          [
           "Roy Black"
          ],
          [
           "Räuber"
          ],
          [
           "SA4"
          ],
          [
           "SDP"
          ],
          [
           "SSIO"
          ],
          [
           "SXTN"
          ],
          [
           "Samy Deluxe"
          ],
          [
           "Sarah Connor"
          ],
          [
           "Schmyt"
          ],
          [
           "Schwesta Ewa"
          ],
          [
           "Seeed"
          ],
          [
           "Selig"
          ],
          [
           "Sero"
          ],
          [
           "Shindy"
          ],
          [
           "Shirin David"
          ],
          [
           "Sido"
          ],
          [
           "Silbermond"
          ],
          [
           "Ski Aggu"
          ],
          [
           "Soufian"
          ],
          [
           "Spider Murphy Gang"
          ],
          [
           "Sportfreunde Stiller"
          ],
          [
           "Stefan Raab"
          ],
          [
           "Summer Cem"
          ],
          [
           "Teddy Teclebrhan"
          ],
          [
           "Telly Tellz"
          ],
          [
           "Tiemo Hauer"
          ],
          [
           "Tim Bendzko"
          ],
          [
           "Tokio Hotel"
          ],
          [
           "Tomte"
          ],
          [
           "Ton Steine Scherben"
          ],
          [
           "Toten Hosen"
          ],
          [
           "Trettmann"
          ],
          [
           "Udo Jürgens"
          ],
          [
           "Udo Lindenberg"
          ],
          [
           "Ufo361"
          ],
          [
           "Unheilig"
          ],
          [
           "Vanessa Mai"
          ],
          [
           "Veysel"
          ],
          [
           "Von wegen Lisbeth"
          ],
          [
           "Wanda"
          ],
          [
           "Wilhelmine"
          ],
          [
           "Wir Sind Helden"
          ],
          [
           "Wise Guys"
          ],
          [
           "Wolfgang Petry"
          ],
          [
           "XATAR"
          ],
          [
           "Xavier Naidoo"
          ],
          [
           "Yung Hurn"
          ],
          [
           "Yung Kafa & Kücük Efendi"
          ],
          [
           "Yvonne Catterfeld"
          ],
          [
           "badchieff"
          ],
          [
           "kilian wasi"
          ],
          [
           "t-low"
          ]
         ],
         "hovertemplate": "Word Count=%{x}<br>Number of Songs=%{y}<br>Interpret=%{customdata[0]}<extra></extra>",
         "legendgroup": "",
         "marker": {
          "color": "#636efa",
          "symbol": "circle"
         },
         "mode": "markers",
         "name": "",
         "orientation": "v",
         "showlegend": false,
         "type": "scatter",
         "x": [
          2023,
          2883,
          3772,
          5349,
          1148,
          6366,
          2439,
          9645,
          3363,
          1362,
          1129,
          1524,
          4018,
          7771,
          2151,
          2108,
          3750,
          2559,
          2202,
          2507,
          2324,
          2882,
          1783,
          1842,
          2068,
          2230,
          1360,
          1334,
          3594,
          2156,
          1269,
          3505,
          1242,
          3564,
          12502,
          2384,
          2382,
          6696,
          1428,
          3918,
          3102,
          1219,
          1501,
          5370,
          951,
          5968,
          4353,
          2746,
          1434,
          924,
          527,
          2445,
          8470,
          6965,
          1314,
          8867,
          1030,
          1947,
          2285,
          1890,
          8578,
          986,
          445,
          1812,
          1877,
          375,
          10996,
          2131,
          1895,
          2088,
          9510,
          1971,
          3320,
          1487,
          10690,
          3861,
          2383,
          9135,
          168,
          2265,
          3688,
          362,
          1962,
          3942,
          914,
          9679,
          1014,
          158,
          1994,
          1484,
          3226,
          201,
          3292,
          1527,
          3080,
          6183,
          3182,
          3718,
          1554,
          1349,
          551,
          1497,
          2648,
          3725,
          3288,
          4346,
          1619,
          3093,
          1308,
          1719,
          1465,
          1843,
          1619,
          11316,
          2380,
          2882,
          2432,
          615,
          1628,
          1966,
          6285,
          1761,
          3903,
          2090,
          364,
          1454,
          449,
          11302,
          2307,
          9304,
          3543,
          1198,
          1305,
          2551,
          2339,
          1188,
          1952,
          2819,
          2878,
          2146,
          3593,
          1213,
          450,
          1319,
          3933,
          3595,
          4250,
          5811,
          1513,
          1281,
          2368,
          5075,
          1764,
          1102,
          3304,
          2797,
          1641,
          2707,
          2856,
          1298,
          1521,
          1749,
          2723,
          1795,
          1840,
          2054,
          1751,
          4909,
          2815,
          158,
          3411,
          3711,
          3550,
          2617,
          1434,
          3037,
          1552,
          4382,
          2508,
          170,
          2104,
          2632,
          1325,
          3511,
          4620,
          1089,
          1501,
          2399,
          2982,
          1236,
          1454,
          1883,
          1649,
          2152,
          13046,
          1814,
          1883,
          2023,
          1876,
          2869,
          2833,
          2771,
          1538,
          2676,
          1315,
          1939,
          1242,
          2469,
          1056,
          1021,
          3057,
          5272,
          3266,
          2854,
          8706,
          1278,
          1127,
          2596,
          3459,
          1551,
          1505,
          2186,
          3174,
          7746,
          4503,
          2459,
          2883,
          1851,
          3420,
          1695,
          4621,
          619,
          2416,
          2020,
          2483,
          1493,
          1948,
          1363,
          1546,
          2907,
          2712,
          7575,
          2466,
          1116,
          1455,
          2410,
          1427,
          1026,
          1279,
          2570,
          2377,
          3455,
          3232,
          4392,
          1209,
          2096,
          2600,
          1730,
          194,
          1641
         ],
         "xaxis": "x",
         "y": [
          26,
          25,
          25,
          47,
          26,
          35,
          44,
          85,
          150,
          30,
          17,
          37,
          82,
          60,
          26,
          24,
          26,
          22,
          25,
          20,
          26,
          23,
          24,
          30,
          10,
          36,
          30,
          27,
          26,
          25,
          29,
          76,
          25,
          79,
          162,
          25,
          24,
          68,
          27,
          22,
          25,
          26,
          30,
          105,
          18,
          91,
          44,
          23,
          7,
          17,
          7,
          23,
          97,
          62,
          25,
          93,
          29,
          30,
          28,
          25,
          214,
          19,
          5,
          25,
          25,
          9,
          85,
          29,
          30,
          24,
          87,
          30,
          25,
          31,
          101,
          12,
          25,
          109,
          2,
          26,
          55,
          4,
          25,
          27,
          13,
          89,
          22,
          3,
          27,
          29,
          57,
          3,
          26,
          27,
          103,
          135,
          26,
          25,
          27,
          26,
          7,
          12,
          29,
          24,
          44,
          75,
          23,
          26,
          20,
          13,
          31,
          30,
          30,
          101,
          25,
          22,
          24,
          4,
          24,
          23,
          69,
          29,
          57,
          39,
          2,
          20,
          7,
          71,
          26,
          70,
          49,
          13,
          12,
          21,
          26,
          21,
          19,
          25,
          66,
          25,
          26,
          28,
          3,
          29,
          73,
          77,
          43,
          30,
          24,
          25,
          52,
          50,
          27,
          26,
          26,
          24,
          29,
          20,
          85,
          27,
          26,
          30,
          30,
          14,
          22,
          17,
          30,
          48,
          26,
          1,
          42,
          26,
          103,
          23,
          18,
          43,
          19,
          54,
          23,
          2,
          30,
          26,
          16,
          23,
          94,
          15,
          20,
          20,
          76,
          28,
          30,
          50,
          28,
          30,
          125,
          30,
          27,
          23,
          19,
          83,
          25,
          19,
          26,
          26,
          24,
          30,
          24,
          71,
          26,
          15,
          25,
          68,
          23,
          28,
          64,
          17,
          15,
          26,
          32,
          29,
          26,
          19,
          22,
          89,
          92,
          23,
          25,
          37,
          75,
          22,
          38,
          4,
          16,
          46,
          56,
          37,
          43,
          27,
          23,
          24,
          51,
          165,
          24,
          25,
          30,
          23,
          27,
          29,
          24,
          47,
          30,
          99,
          25,
          72,
          24,
          24,
          63,
          24,
          1,
          23
         ],
         "yaxis": "y"
        }
       ],
       "layout": {
        "legend": {
         "tracegroupgap": 0
        },
        "template": {
         "data": {
          "bar": [
           {
            "error_x": {
             "color": "#2a3f5f"
            },
            "error_y": {
             "color": "#2a3f5f"
            },
            "marker": {
             "line": {
              "color": "#E5ECF6",
              "width": 0.5
             },
             "pattern": {
              "fillmode": "overlay",
              "size": 10,
              "solidity": 0.2
             }
            },
            "type": "bar"
           }
          ],
          "barpolar": [
           {
            "marker": {
             "line": {
              "color": "#E5ECF6",
              "width": 0.5
             },
             "pattern": {
              "fillmode": "overlay",
              "size": 10,
              "solidity": 0.2
             }
            },
            "type": "barpolar"
           }
          ],
          "carpet": [
           {
            "aaxis": {
             "endlinecolor": "#2a3f5f",
             "gridcolor": "white",
             "linecolor": "white",
             "minorgridcolor": "white",
             "startlinecolor": "#2a3f5f"
            },
            "baxis": {
             "endlinecolor": "#2a3f5f",
             "gridcolor": "white",
             "linecolor": "white",
             "minorgridcolor": "white",
             "startlinecolor": "#2a3f5f"
            },
            "type": "carpet"
           }
          ],
          "choropleth": [
           {
            "colorbar": {
             "outlinewidth": 0,
             "ticks": ""
            },
            "type": "choropleth"
           }
          ],
          "contour": [
           {
            "colorbar": {
             "outlinewidth": 0,
             "ticks": ""
            },
            "colorscale": [
             [
              0,
              "#0d0887"
             ],
             [
              0.1111111111111111,
              "#46039f"
             ],
             [
              0.2222222222222222,
              "#7201a8"
             ],
             [
              0.3333333333333333,
              "#9c179e"
             ],
             [
              0.4444444444444444,
              "#bd3786"
             ],
             [
              0.5555555555555556,
              "#d8576b"
             ],
             [
              0.6666666666666666,
              "#ed7953"
             ],
             [
              0.7777777777777778,
              "#fb9f3a"
             ],
             [
              0.8888888888888888,
              "#fdca26"
             ],
             [
              1,
              "#f0f921"
             ]
            ],
            "type": "contour"
           }
          ],
          "contourcarpet": [
           {
            "colorbar": {
             "outlinewidth": 0,
             "ticks": ""
            },
            "type": "contourcarpet"
           }
          ],
          "heatmap": [
           {
            "colorbar": {
             "outlinewidth": 0,
             "ticks": ""
            },
            "colorscale": [
             [
              0,
              "#0d0887"
             ],
             [
              0.1111111111111111,
              "#46039f"
             ],
             [
              0.2222222222222222,
              "#7201a8"
             ],
             [
              0.3333333333333333,
              "#9c179e"
             ],
             [
              0.4444444444444444,
              "#bd3786"
             ],
             [
              0.5555555555555556,
              "#d8576b"
             ],
             [
              0.6666666666666666,
              "#ed7953"
             ],
             [
              0.7777777777777778,
              "#fb9f3a"
             ],
             [
              0.8888888888888888,
              "#fdca26"
             ],
             [
              1,
              "#f0f921"
             ]
            ],
            "type": "heatmap"
           }
          ],
          "heatmapgl": [
           {
            "colorbar": {
             "outlinewidth": 0,
             "ticks": ""
            },
            "colorscale": [
             [
              0,
              "#0d0887"
             ],
             [
              0.1111111111111111,
              "#46039f"
             ],
             [
              0.2222222222222222,
              "#7201a8"
             ],
             [
              0.3333333333333333,
              "#9c179e"
             ],
             [
              0.4444444444444444,
              "#bd3786"
             ],
             [
              0.5555555555555556,
              "#d8576b"
             ],
             [
              0.6666666666666666,
              "#ed7953"
             ],
             [
              0.7777777777777778,
              "#fb9f3a"
             ],
             [
              0.8888888888888888,
              "#fdca26"
             ],
             [
              1,
              "#f0f921"
             ]
            ],
            "type": "heatmapgl"
           }
          ],
          "histogram": [
           {
            "marker": {
             "pattern": {
              "fillmode": "overlay",
              "size": 10,
              "solidity": 0.2
             }
            },
            "type": "histogram"
           }
          ],
          "histogram2d": [
           {
            "colorbar": {
             "outlinewidth": 0,
             "ticks": ""
            },
            "colorscale": [
             [
              0,
              "#0d0887"
             ],
             [
              0.1111111111111111,
              "#46039f"
             ],
             [
              0.2222222222222222,
              "#7201a8"
             ],
             [
              0.3333333333333333,
              "#9c179e"
             ],
             [
              0.4444444444444444,
              "#bd3786"
             ],
             [
              0.5555555555555556,
              "#d8576b"
             ],
             [
              0.6666666666666666,
              "#ed7953"
             ],
             [
              0.7777777777777778,
              "#fb9f3a"
             ],
             [
              0.8888888888888888,
              "#fdca26"
             ],
             [
              1,
              "#f0f921"
             ]
            ],
            "type": "histogram2d"
           }
          ],
          "histogram2dcontour": [
           {
            "colorbar": {
             "outlinewidth": 0,
             "ticks": ""
            },
            "colorscale": [
             [
              0,
              "#0d0887"
             ],
             [
              0.1111111111111111,
              "#46039f"
             ],
             [
              0.2222222222222222,
              "#7201a8"
             ],
             [
              0.3333333333333333,
              "#9c179e"
             ],
             [
              0.4444444444444444,
              "#bd3786"
             ],
             [
              0.5555555555555556,
              "#d8576b"
             ],
             [
              0.6666666666666666,
              "#ed7953"
             ],
             [
              0.7777777777777778,
              "#fb9f3a"
             ],
             [
              0.8888888888888888,
              "#fdca26"
             ],
             [
              1,
              "#f0f921"
             ]
            ],
            "type": "histogram2dcontour"
           }
          ],
          "mesh3d": [
           {
            "colorbar": {
             "outlinewidth": 0,
             "ticks": ""
            },
            "type": "mesh3d"
           }
          ],
          "parcoords": [
           {
            "line": {
             "colorbar": {
              "outlinewidth": 0,
              "ticks": ""
             }
            },
            "type": "parcoords"
           }
          ],
          "pie": [
           {
            "automargin": true,
            "type": "pie"
           }
          ],
          "scatter": [
           {
            "fillpattern": {
             "fillmode": "overlay",
             "size": 10,
             "solidity": 0.2
            },
            "type": "scatter"
           }
          ],
          "scatter3d": [
           {
            "line": {
             "colorbar": {
              "outlinewidth": 0,
              "ticks": ""
             }
            },
            "marker": {
             "colorbar": {
              "outlinewidth": 0,
              "ticks": ""
             }
            },
            "type": "scatter3d"
           }
          ],
          "scattercarpet": [
           {
            "marker": {
             "colorbar": {
              "outlinewidth": 0,
              "ticks": ""
             }
            },
            "type": "scattercarpet"
           }
          ],
          "scattergeo": [
           {
            "marker": {
             "colorbar": {
              "outlinewidth": 0,
              "ticks": ""
             }
            },
            "type": "scattergeo"
           }
          ],
          "scattergl": [
           {
            "marker": {
             "colorbar": {
              "outlinewidth": 0,
              "ticks": ""
             }
            },
            "type": "scattergl"
           }
          ],
          "scattermapbox": [
           {
            "marker": {
             "colorbar": {
              "outlinewidth": 0,
              "ticks": ""
             }
            },
            "type": "scattermapbox"
           }
          ],
          "scatterpolar": [
           {
            "marker": {
             "colorbar": {
              "outlinewidth": 0,
              "ticks": ""
             }
            },
            "type": "scatterpolar"
           }
          ],
          "scatterpolargl": [
           {
            "marker": {
             "colorbar": {
              "outlinewidth": 0,
              "ticks": ""
             }
            },
            "type": "scatterpolargl"
           }
          ],
          "scatterternary": [
           {
            "marker": {
             "colorbar": {
              "outlinewidth": 0,
              "ticks": ""
             }
            },
            "type": "scatterternary"
           }
          ],
          "surface": [
           {
            "colorbar": {
             "outlinewidth": 0,
             "ticks": ""
            },
            "colorscale": [
             [
              0,
              "#0d0887"
             ],
             [
              0.1111111111111111,
              "#46039f"
             ],
             [
              0.2222222222222222,
              "#7201a8"
             ],
             [
              0.3333333333333333,
              "#9c179e"
             ],
             [
              0.4444444444444444,
              "#bd3786"
             ],
             [
              0.5555555555555556,
              "#d8576b"
             ],
             [
              0.6666666666666666,
              "#ed7953"
             ],
             [
              0.7777777777777778,
              "#fb9f3a"
             ],
             [
              0.8888888888888888,
              "#fdca26"
             ],
             [
              1,
              "#f0f921"
             ]
            ],
            "type": "surface"
           }
          ],
          "table": [
           {
            "cells": {
             "fill": {
              "color": "#EBF0F8"
             },
             "line": {
              "color": "white"
             }
            },
            "header": {
             "fill": {
              "color": "#C8D4E3"
             },
             "line": {
              "color": "white"
             }
            },
            "type": "table"
           }
          ]
         },
         "layout": {
          "annotationdefaults": {
           "arrowcolor": "#2a3f5f",
           "arrowhead": 0,
           "arrowwidth": 1
          },
          "autotypenumbers": "strict",
          "coloraxis": {
           "colorbar": {
            "outlinewidth": 0,
            "ticks": ""
           }
          },
          "colorscale": {
           "diverging": [
            [
             0,
             "#8e0152"
            ],
            [
             0.1,
             "#c51b7d"
            ],
            [
             0.2,
             "#de77ae"
            ],
            [
             0.3,
             "#f1b6da"
            ],
            [
             0.4,
             "#fde0ef"
            ],
            [
             0.5,
             "#f7f7f7"
            ],
            [
             0.6,
             "#e6f5d0"
            ],
            [
             0.7,
             "#b8e186"
            ],
            [
             0.8,
             "#7fbc41"
            ],
            [
             0.9,
             "#4d9221"
            ],
            [
             1,
             "#276419"
            ]
           ],
           "sequential": [
            [
             0,
             "#0d0887"
            ],
            [
             0.1111111111111111,
             "#46039f"
            ],
            [
             0.2222222222222222,
             "#7201a8"
            ],
            [
             0.3333333333333333,
             "#9c179e"
            ],
            [
             0.4444444444444444,
             "#bd3786"
            ],
            [
             0.5555555555555556,
             "#d8576b"
            ],
            [
             0.6666666666666666,
             "#ed7953"
            ],
            [
             0.7777777777777778,
             "#fb9f3a"
            ],
            [
             0.8888888888888888,
             "#fdca26"
            ],
            [
             1,
             "#f0f921"
            ]
           ],
           "sequentialminus": [
            [
             0,
             "#0d0887"
            ],
            [
             0.1111111111111111,
             "#46039f"
            ],
            [
             0.2222222222222222,
             "#7201a8"
            ],
            [
             0.3333333333333333,
             "#9c179e"
            ],
            [
             0.4444444444444444,
             "#bd3786"
            ],
            [
             0.5555555555555556,
             "#d8576b"
            ],
            [
             0.6666666666666666,
             "#ed7953"
            ],
            [
             0.7777777777777778,
             "#fb9f3a"
            ],
            [
             0.8888888888888888,
             "#fdca26"
            ],
            [
             1,
             "#f0f921"
            ]
           ]
          },
          "colorway": [
           "#636efa",
           "#EF553B",
           "#00cc96",
           "#ab63fa",
           "#FFA15A",
           "#19d3f3",
           "#FF6692",
           "#B6E880",
           "#FF97FF",
           "#FECB52"
          ],
          "font": {
           "color": "#2a3f5f"
          },
          "geo": {
           "bgcolor": "white",
           "lakecolor": "white",
           "landcolor": "#E5ECF6",
           "showlakes": true,
           "showland": true,
           "subunitcolor": "white"
          },
          "hoverlabel": {
           "align": "left"
          },
          "hovermode": "closest",
          "mapbox": {
           "style": "light"
          },
          "paper_bgcolor": "white",
          "plot_bgcolor": "#E5ECF6",
          "polar": {
           "angularaxis": {
            "gridcolor": "white",
            "linecolor": "white",
            "ticks": ""
           },
           "bgcolor": "#E5ECF6",
           "radialaxis": {
            "gridcolor": "white",
            "linecolor": "white",
            "ticks": ""
           }
          },
          "scene": {
           "xaxis": {
            "backgroundcolor": "#E5ECF6",
            "gridcolor": "white",
            "gridwidth": 2,
            "linecolor": "white",
            "showbackground": true,
            "ticks": "",
            "zerolinecolor": "white"
           },
           "yaxis": {
            "backgroundcolor": "#E5ECF6",
            "gridcolor": "white",
            "gridwidth": 2,
            "linecolor": "white",
            "showbackground": true,
            "ticks": "",
            "zerolinecolor": "white"
           },
           "zaxis": {
            "backgroundcolor": "#E5ECF6",
            "gridcolor": "white",
            "gridwidth": 2,
            "linecolor": "white",
            "showbackground": true,
            "ticks": "",
            "zerolinecolor": "white"
           }
          },
          "shapedefaults": {
           "line": {
            "color": "#2a3f5f"
           }
          },
          "ternary": {
           "aaxis": {
            "gridcolor": "white",
            "linecolor": "white",
            "ticks": ""
           },
           "baxis": {
            "gridcolor": "white",
            "linecolor": "white",
            "ticks": ""
           },
           "bgcolor": "#E5ECF6",
           "caxis": {
            "gridcolor": "white",
            "linecolor": "white",
            "ticks": ""
           }
          },
          "title": {
           "x": 0.05
          },
          "xaxis": {
           "automargin": true,
           "gridcolor": "white",
           "linecolor": "white",
           "ticks": "",
           "title": {
            "standoff": 15
           },
           "zerolinecolor": "white",
           "zerolinewidth": 2
          },
          "yaxis": {
           "automargin": true,
           "gridcolor": "white",
           "linecolor": "white",
           "ticks": "",
           "title": {
            "standoff": 15
           },
           "zerolinecolor": "white",
           "zerolinewidth": 2
          }
         }
        },
        "title": {
         "text": "Number of Songs vs. Word Count"
        },
        "xaxis": {
         "anchor": "y",
         "domain": [
          0,
          1
         ],
         "title": {
          "text": "Word Count"
         }
        },
        "yaxis": {
         "anchor": "x",
         "domain": [
          0,
          1
         ],
         "title": {
          "text": "Number of Songs"
         }
        }
       }
      }
     },
     "metadata": {},
     "output_type": "display_data"
    }
   ],
   "source": [
    "grouped_data = data.groupby(\"interpret\")\n",
    "\n",
    "tokenized_words = grouped_data[\"lyrics\"].apply(lambda x: ' '.join(x).split())\n",
    "\n",
    "unique_word_counts = tokenized_words.apply(lambda x: len(set(x)))\n",
    "\n",
    "num_songs = grouped_data.size()\n",
    "\n",
    "\n",
    "df = pd.DataFrame({'Interpret': unique_word_counts.index, 'Word Count': unique_word_counts, 'Number of Songs': num_songs})\n",
    "\n",
    "fig = px.scatter(df, x='Word Count', y='Number of Songs', hover_data=['Interpret'], title='Number of Songs vs. Word Count')\n",
    "\n",
    "fig.show()"
   ]
  },
  {
   "cell_type": "markdown",
   "metadata": {},
   "source": [
    "### Checking the 10 most used words for each Genre\n",
    "\n",
    "Anmerkung Stand 31.05: Muss mit custom Stopwords gearbeitet werden, sowohl sapcy als auch Stopwordsiso liefern schelchte ergebnisse. Whitespace dafür fixed."
   ]
  },
  {
   "cell_type": "code",
   "execution_count": 21,
   "metadata": {},
   "outputs": [],
   "source": [
    "def filter_stopwords(tokens):\n",
    "    german_stopwords = set(stopwords([\"de\"]))\n",
    "    filtered_tokens = []\n",
    "    for token in tokens:\n",
    "        if token.lower_ not in german_stopwords and token.text not in string.punctuation and not token.is_space:\n",
    "            filtered_tokens.append(token.lower_)\n",
    "    return filtered_tokens"
   ]
  },
  {
   "cell_type": "code",
   "execution_count": 22,
   "metadata": {},
   "outputs": [],
   "source": [
    "data[\"filtered_lyrics\"] = data[\"lyrics\"].apply(lambda x: filter_stopwords(nlp(x)))"
   ]
  },
  {
   "cell_type": "code",
   "execution_count": 23,
   "metadata": {},
   "outputs": [],
   "source": [
    "data[\"word_counts\"] = data[\"filtered_lyrics\"].apply(lambda x: Counter(set(x)))"
   ]
  },
  {
   "cell_type": "code",
   "execution_count": 24,
   "metadata": {},
   "outputs": [],
   "source": [
    "grouped_data = data.groupby(\"genre\")"
   ]
  },
  {
   "cell_type": "code",
   "execution_count": 25,
   "metadata": {},
   "outputs": [
    {
     "name": "stdout",
     "output_type": "stream",
     "text": [
      "Genre: Pop\n",
      "      Word  Song Count\n",
      "0    leben         274\n",
      "1     weiß         240\n",
      "2     welt         226\n",
      "3    nacht         197\n",
      "4  einfach         190\n",
      "5     komm         174\n",
      "6    liebe         170\n",
      "7     herz         168\n",
      "8     lass         162\n",
      "9    augen         154\n",
      "\n",
      "Genre: Rap\n",
      "      Word  Song Count\n",
      "0    leben         636\n",
      "1     mach         567\n",
      "2     komm         561\n",
      "3     weiß         548\n",
      "4      'ne         462\n",
      "5     welt         447\n",
      "6     yeah         434\n",
      "7      sag         417\n",
      "8   scheiß         394\n",
      "9  einfach         384\n",
      "\n",
      "Genre: Rock\n",
      "      Word  Song Count\n",
      "0     welt         206\n",
      "1    leben         206\n",
      "2     weiß         202\n",
      "3    nacht         151\n",
      "4    liebe         132\n",
      "5    schön         129\n",
      "6  einfach         123\n",
      "7      'ne         119\n",
      "8     lass         116\n",
      "9      ...         114\n",
      "\n",
      "Genre: Schlager\n",
      "      Word  Song Count\n",
      "0    nacht         197\n",
      "1    liebe         163\n",
      "2     herz         141\n",
      "3    leben         130\n",
      "4     weiß         103\n",
      "5  einfach         103\n",
      "6     lass         101\n",
      "7     welt          98\n",
      "8     komm          92\n",
      "9     heut          86\n",
      "\n"
     ]
    }
   ],
   "source": [
    "genre_word_counts = {}\n",
    "for genre, group in grouped_data:\n",
    "    word_counts = group[\"word_counts\"].sum()\n",
    "    genre_word_counts[genre] = word_counts\n",
    "\n",
    "top_10_words_per_genre = {}\n",
    "for genre, word_counts in genre_word_counts.items():\n",
    "    # Exclude whitespace from the top words list\n",
    "    word_counts.pop('', None)\n",
    "    # Sort the words based on song count only\n",
    "    top_words = sorted(word_counts.items(), key=lambda x: x[1], reverse=True)[:10]\n",
    "    top_10_words_per_genre[genre] = top_words\n",
    "\n",
    "for genre, top_words in top_10_words_per_genre.items():\n",
    "    print(\"Genre:\", genre)\n",
    "    df = pd.DataFrame(top_words, columns=[\"Word\", \"Song Count\"])\n",
    "    print(df)\n",
    "    print()"
   ]
  },
  {
   "cell_type": "code",
   "execution_count": 26,
   "metadata": {},
   "outputs": [
    {
     "name": "stdout",
     "output_type": "stream",
     "text": [
      "+------------------+------------------+------------------+------------------+\n",
      "|       Pop        |       Rap        |       Rock       |     Schlager     |\n",
      "+------------------+------------------+------------------+------------------+\n",
      "|  ('leben', 274)  |  ('leben', 636)  |  ('welt', 206)   |  ('nacht', 197)  |\n",
      "|  ('weiß', 240)   |  ('mach', 567)   |  ('leben', 206)  |  ('liebe', 163)  |\n",
      "|  ('welt', 226)   |  ('komm', 561)   |  ('weiß', 202)   |  ('herz', 141)   |\n",
      "|  ('nacht', 197)  |  ('weiß', 548)   |  ('nacht', 151)  |  ('leben', 130)  |\n",
      "| ('einfach', 190) |   (\"'ne\", 462)   |  ('liebe', 132)  |  ('weiß', 103)   |\n",
      "|  ('komm', 174)   |  ('welt', 447)   |  ('schön', 129)  | ('einfach', 103) |\n",
      "|  ('liebe', 170)  |  ('yeah', 434)   | ('einfach', 123) |  ('lass', 101)   |\n",
      "|  ('herz', 168)   |   ('sag', 417)   |   (\"'ne\", 119)   |   ('welt', 98)   |\n",
      "|  ('lass', 162)   | ('scheiß', 394)  |  ('lass', 116)   |   ('komm', 92)   |\n",
      "|  ('augen', 154)  | ('einfach', 384) |   ('...', 114)   |   ('heut', 86)   |\n",
      "+------------------+------------------+------------------+------------------+\n"
     ]
    }
   ],
   "source": [
    "### Example on how to plot the data, couldnt really find anything prettier (didnt search that long tho)\n",
    "table_data = []\n",
    "headers = list(top_10_words_per_genre.keys())\n",
    "for i in range(10):\n",
    "    row_data = [top_10_words_per_genre[genre][i] for genre in top_10_words_per_genre]\n",
    "    table_data.append(row_data)\n",
    "\n",
    "table = tabulate(table_data, headers, tablefmt=\"pretty\")\n",
    "print(table)\n",
    "# nicht word count sondern songs"
   ]
  },
  {
   "cell_type": "markdown",
   "metadata": {},
   "source": [
    "### Sentiment Analysis of a Genre"
   ]
  },
  {
   "cell_type": "code",
   "execution_count": 44,
   "metadata": {},
   "outputs": [
    {
     "name": "stdout",
     "output_type": "stream",
     "text": [
      "                                               Lyric  Polarity  Subjectivity\n",
      "0   Okay, Ansage, Freundchen, ich warne dich Ey, ...  0.067500      0.100000\n",
      "1    Ey Leute, passt doch auf, ihr lebt in Gefahr...  0.115972      0.006944\n",
      "2   Okay, Ellen lang und elegant Keule Mutterfick... -0.031250      0.015625\n",
      "3   Hallihallöchen, ist lange her Schatz Ich vers...  0.048352      0.000000\n",
      "4    Ich steh auf am Kleister riechen und gleiche... -0.054167      0.144444\n"
     ]
    }
   ],
   "source": [
    "genre_data = data[data[\"genre\"] == \"Rap\"]\n",
    "\n",
    "sentiments = []\n",
    "for lyric in genre_data[\"lyrics\"]:\n",
    "    blob = TextBlobDE(lyric)\n",
    "    sentiment = blob.sentiment\n",
    "    sentiments.append((lyric, sentiment.polarity, sentiment.subjectivity))\n",
    "\n",
    "sentiments_df = pd.DataFrame(sentiments, columns=[\"Lyric\", \"Polarity\", \"Subjectivity\"])\n",
    "print(sentiments_df.head())"
   ]
  },
  {
   "cell_type": "code",
   "execution_count": 29,
   "metadata": {},
   "outputs": [
    {
     "name": "stdout",
     "output_type": "stream",
     "text": [
      "Genre: Pop\n",
      "Average Polarity: 0.1296460012286485\n",
      "\n",
      "Genre: Rap\n",
      "Average Polarity: 0.07332280483746088\n",
      "\n",
      "Genre: Rock\n",
      "Average Polarity: 0.0995539542870728\n",
      "\n",
      "Genre: Schlager\n",
      "Average Polarity: 0.1397368378330272\n",
      "\n"
     ]
    }
   ],
   "source": [
    "def analyze_sentiment(data, genre):\n",
    "    genre_data = data[data[\"genre\"] == genre]\n",
    "\n",
    "    sentiments = []\n",
    "    lyrics_sentiments = []\n",
    "\n",
    "    for lyric in genre_data[\"lyrics\"]:\n",
    "        blob = TextBlobDE(lyric)\n",
    "        sentiment = blob.sentiment.polarity\n",
    "        sentiments.append(sentiment)\n",
    "        lyrics_sentiments.append((lyric, sentiment))\n",
    "\n",
    "    avg_polarity = sum(sentiments) / len(sentiments)\n",
    "    #lyrics_sentiments.sort(key=lambda x: x[1], reverse=True)\n",
    "    #best_lyric = lyrics_sentiments[0][0]\n",
    "    #worst_lyric = lyrics_sentiments[-1][0]\n",
    "\n",
    "    return avg_polarity#, best_lyric, worst_lyric\n",
    "\n",
    "grouped_data = data.groupby(\"genre\")\n",
    "for genre, group in grouped_data:\n",
    "    avg_polarity = analyze_sentiment(data, genre)\n",
    "    #avg_polarity, best_lyric, worst_lyric = analyze_sentiment(data, genre)\n",
    "    print(\"Genre:\", genre)\n",
    "    print(\"Average Polarity:\", avg_polarity)\n",
    "    #print(\"Best Polarity Lyric:\\n\", best_lyric)\n",
    "    #print(\"Worst Polarity Lyric:\\n\", worst_lyric)\n",
    "    print()"
   ]
  }
 ],
 "metadata": {
  "kernelspec": {
   "display_name": "Python 3.9.1 64-bit ('3.9.1')",
   "language": "python",
   "name": "python3"
  },
  "language_info": {
   "codemirror_mode": {
    "name": "ipython",
    "version": 3
   },
   "file_extension": ".py",
   "mimetype": "text/x-python",
   "name": "python",
   "nbconvert_exporter": "python",
   "pygments_lexer": "ipython3",
   "version": "3.9.1"
  },
  "orig_nbformat": 4,
  "vscode": {
   "interpreter": {
    "hash": "fb408a8a50588f9d482ac690f7d1c5df410608bd4bf41691bb22e16d1eff6208"
   }
  }
 },
 "nbformat": 4,
 "nbformat_minor": 2
}
