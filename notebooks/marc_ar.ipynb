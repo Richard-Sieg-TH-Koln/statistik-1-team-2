{
 "cells": [
  {
   "cell_type": "markdown",
   "metadata": {},
   "source": [
    "## General Import and Setup"
   ]
  },
  {
   "cell_type": "code",
   "execution_count": 43,
   "metadata": {},
   "outputs": [],
   "source": [
    "import pandas as pd\n",
    "import plotly.express as px\n",
    "import spacy\n",
    "from collections import Counter\n",
    "from nltk.corpus import stopwords\n",
    "import string\n",
    "from tabulate import tabulate\n",
    "from textblob_de import TextBlobDE"
   ]
  },
  {
   "cell_type": "code",
   "execution_count": 42,
   "metadata": {},
   "outputs": [
    {
     "data": {
      "text/html": [
       "<div>\n",
       "<style scoped>\n",
       "    .dataframe tbody tr th:only-of-type {\n",
       "        vertical-align: middle;\n",
       "    }\n",
       "\n",
       "    .dataframe tbody tr th {\n",
       "        vertical-align: top;\n",
       "    }\n",
       "\n",
       "    .dataframe thead th {\n",
       "        text-align: right;\n",
       "    }\n",
       "</style>\n",
       "<table border=\"1\" class=\"dataframe\">\n",
       "  <thead>\n",
       "    <tr style=\"text-align: right;\">\n",
       "      <th></th>\n",
       "      <th>genre</th>\n",
       "      <th>interpret</th>\n",
       "      <th>album</th>\n",
       "      <th>release_year</th>\n",
       "      <th>songtitle</th>\n",
       "      <th>decade</th>\n",
       "      <th>song_id</th>\n",
       "      <th>full_title</th>\n",
       "      <th>release_date_components_raw</th>\n",
       "      <th>release_date_for_display</th>\n",
       "      <th>stats_raw</th>\n",
       "      <th>lyrics</th>\n",
       "      <th>weekday</th>\n",
       "      <th>word_count</th>\n",
       "    </tr>\n",
       "  </thead>\n",
       "  <tbody>\n",
       "    <tr>\n",
       "      <th>0</th>\n",
       "      <td>Pop</td>\n",
       "      <td>Adel Tawil</td>\n",
       "      <td>Lieder</td>\n",
       "      <td>2013</td>\n",
       "      <td>Immer da</td>\n",
       "      <td>2010</td>\n",
       "      <td>256740</td>\n",
       "      <td>Immer da by Adel Tawil</td>\n",
       "      <td>{'year': 2013, 'month': 11, 'day': 8}</td>\n",
       "      <td>2013-11-08</td>\n",
       "      <td>{'unreviewed_annotations': 0, 'hot': False}</td>\n",
       "      <td>Manchmal hast du gar nichts mehr Nur noch de...</td>\n",
       "      <td>Friday</td>\n",
       "      <td>60</td>\n",
       "    </tr>\n",
       "    <tr>\n",
       "      <th>1</th>\n",
       "      <td>Pop</td>\n",
       "      <td>Adel Tawil</td>\n",
       "      <td>Lieder</td>\n",
       "      <td>2013</td>\n",
       "      <td>Wenn Du liebst</td>\n",
       "      <td>2010</td>\n",
       "      <td>256742</td>\n",
       "      <td>Wenn du liebst by Adel Tawil</td>\n",
       "      <td>{'year': 2013, 'month': 11, 'day': 8}</td>\n",
       "      <td>2013-11-08</td>\n",
       "      <td>{'unreviewed_annotations': 4, 'hot': False, 'p...</td>\n",
       "      <td>Ganz allein im schwarzen Licht wie hinter Gla...</td>\n",
       "      <td>Friday</td>\n",
       "      <td>100</td>\n",
       "    </tr>\n",
       "    <tr>\n",
       "      <th>2</th>\n",
       "      <td>Pop</td>\n",
       "      <td>Adel Tawil</td>\n",
       "      <td>Lieder</td>\n",
       "      <td>2013</td>\n",
       "      <td>Lieder</td>\n",
       "      <td>2010</td>\n",
       "      <td>236655</td>\n",
       "      <td>Lieder by Adel Tawil</td>\n",
       "      <td>{'year': 2013, 'month': 11, 'day': 8}</td>\n",
       "      <td>2013-11-08</td>\n",
       "      <td>{'unreviewed_annotations': 0, 'hot': False, 'p...</td>\n",
       "      <td>Ich ging wie ein Ägypter Hab' mit Tauben gew...</td>\n",
       "      <td>Friday</td>\n",
       "      <td>145</td>\n",
       "    </tr>\n",
       "    <tr>\n",
       "      <th>3</th>\n",
       "      <td>Pop</td>\n",
       "      <td>Adel Tawil</td>\n",
       "      <td>Lieder</td>\n",
       "      <td>2013</td>\n",
       "      <td>Weinen</td>\n",
       "      <td>2010</td>\n",
       "      <td>256745</td>\n",
       "      <td>Weinen by Adel Tawil</td>\n",
       "      <td>{'year': 2013, 'month': 11, 'day': 8}</td>\n",
       "      <td>2013-11-08</td>\n",
       "      <td>{'unreviewed_annotations': 0, 'hot': False, 'p...</td>\n",
       "      <td>Du warst die ganze Welt für mich Warst das, ...</td>\n",
       "      <td>Friday</td>\n",
       "      <td>69</td>\n",
       "    </tr>\n",
       "    <tr>\n",
       "      <th>4</th>\n",
       "      <td>Pop</td>\n",
       "      <td>Adel Tawil</td>\n",
       "      <td>Lieder</td>\n",
       "      <td>2013</td>\n",
       "      <td>Unter Wasser</td>\n",
       "      <td>2010</td>\n",
       "      <td>256747</td>\n",
       "      <td>Unter Wasser by Adel Tawil</td>\n",
       "      <td>{'year': 2013, 'month': 11, 'day': 8}</td>\n",
       "      <td>2013-11-08</td>\n",
       "      <td>{'unreviewed_annotations': 0, 'hot': False}</td>\n",
       "      <td>Keine Chance, es ist viel zu tief Keine Chan...</td>\n",
       "      <td>Friday</td>\n",
       "      <td>108</td>\n",
       "    </tr>\n",
       "  </tbody>\n",
       "</table>\n",
       "</div>"
      ],
      "text/plain": [
       "  genre   interpret   album  release_year       songtitle  decade  song_id  \\\n",
       "0   Pop  Adel Tawil  Lieder          2013        Immer da    2010   256740   \n",
       "1   Pop  Adel Tawil  Lieder          2013  Wenn Du liebst    2010   256742   \n",
       "2   Pop  Adel Tawil  Lieder          2013          Lieder    2010   236655   \n",
       "3   Pop  Adel Tawil  Lieder          2013          Weinen    2010   256745   \n",
       "4   Pop  Adel Tawil  Lieder          2013    Unter Wasser    2010   256747   \n",
       "\n",
       "                     full_title            release_date_components_raw  \\\n",
       "0        Immer da by Adel Tawil  {'year': 2013, 'month': 11, 'day': 8}   \n",
       "1  Wenn du liebst by Adel Tawil  {'year': 2013, 'month': 11, 'day': 8}   \n",
       "2          Lieder by Adel Tawil  {'year': 2013, 'month': 11, 'day': 8}   \n",
       "3          Weinen by Adel Tawil  {'year': 2013, 'month': 11, 'day': 8}   \n",
       "4    Unter Wasser by Adel Tawil  {'year': 2013, 'month': 11, 'day': 8}   \n",
       "\n",
       "  release_date_for_display                                          stats_raw  \\\n",
       "0               2013-11-08        {'unreviewed_annotations': 0, 'hot': False}   \n",
       "1               2013-11-08  {'unreviewed_annotations': 4, 'hot': False, 'p...   \n",
       "2               2013-11-08  {'unreviewed_annotations': 0, 'hot': False, 'p...   \n",
       "3               2013-11-08  {'unreviewed_annotations': 0, 'hot': False, 'p...   \n",
       "4               2013-11-08        {'unreviewed_annotations': 0, 'hot': False}   \n",
       "\n",
       "                                              lyrics weekday  word_count  \n",
       "0    Manchmal hast du gar nichts mehr Nur noch de...  Friday          60  \n",
       "1   Ganz allein im schwarzen Licht wie hinter Gla...  Friday         100  \n",
       "2    Ich ging wie ein Ägypter Hab' mit Tauben gew...  Friday         145  \n",
       "3    Du warst die ganze Welt für mich Warst das, ...  Friday          69  \n",
       "4    Keine Chance, es ist viel zu tief Keine Chan...  Friday         108  "
      ]
     },
     "execution_count": 42,
     "metadata": {},
     "output_type": "execute_result"
    }
   ],
   "source": [
    "nlp = spacy.load(\"de_core_news_sm\")\n",
    "data = pd.read_csv('../data/raw/dataset_cleaned_file_v5.csv')\n",
    "data.head()"
   ]
  },
  {
   "cell_type": "markdown",
   "metadata": {},
   "source": [
    "### Checking the Vocabulary of the Artists"
   ]
  },
  {
   "cell_type": "code",
   "execution_count": 16,
   "metadata": {},
   "outputs": [
    {
     "data": {
      "application/vnd.plotly.v1+json": {
       "config": {
        "plotlyServerURL": "https://plot.ly"
       },
       "data": [
        {
         "customdata": [
          [
           "257ers"
          ],
          [
           "Absolute Beginner"
          ],
          [
           "Adel Tawil"
          ],
          [
           "Alligatoah"
          ],
          [
           "Andrea Berg"
          ],
          [
           "Andreas Bourani"
          ],
          [
           "Andreas Gabalier"
          ],
          [
           "AnnenMayKantereit"
          ],
          [
           "Annett Louisan"
          ],
          [
           "Antilopen Gang"
          ],
          [
           "Beginner"
          ],
          [
           "Bela B"
          ],
          [
           "Bosse"
          ],
          [
           "Broilers"
          ],
          [
           "Bushido"
          ],
          [
           "Casper"
          ],
          [
           "Christian Anders"
          ],
          [
           "Clueso"
          ],
          [
           "Costa Cordalis"
          ],
          [
           "Cro"
          ],
          [
           "Culcha Candela"
          ],
          [
           "DJ Tomekk"
          ],
          [
           "Deichkind"
          ],
          [
           "Dendemann"
          ],
          [
           "Die Fantastischen Vier"
          ],
          [
           "Die Ärzte"
          ],
          [
           "Dieter Thomas Kuhn"
          ],
          [
           "Eko Fresh"
          ],
          [
           "Farid Bang"
          ],
          [
           "Feine Sahne Fischfilet"
          ],
          [
           "Fettes Brot"
          ],
          [
           "Fler"
          ],
          [
           "Frittenbude"
          ],
          [
           "Fünf Sterne Deluxe"
          ],
          [
           "Genetikk"
          ],
          [
           "Grossstadtgeflüster"
          ],
          [
           "Guildo Horn"
          ],
          [
           "Heino"
          ],
          [
           "Helene Fischer"
          ],
          [
           "Herbert Grönemeyer"
          ],
          [
           "Jan Delay"
          ],
          [
           "Jennifer Rostock"
          ],
          [
           "Juli"
          ],
          [
           "K.I.Z."
          ],
          [
           "Karel Gott"
          ],
          [
           "Kay One"
          ],
          [
           "Kettcar"
          ],
          [
           "Killerpilze"
          ],
          [
           "Kollegah"
          ],
          [
           "Kool Savas"
          ],
          [
           "Kraftklub"
          ],
          [
           "Madsen"
          ],
          [
           "Marius Müller-Westernhagen"
          ],
          [
           "Mark Forster"
          ],
          [
           "Marsimoto"
          ],
          [
           "Massive Töne"
          ],
          [
           "Max Giesinger"
          ],
          [
           "Max Herre"
          ],
          [
           "Michael Wendler"
          ],
          [
           "Moop Mama"
          ],
          [
           "Namika"
          ],
          [
           "Nena"
          ],
          [
           "Nina Hagen"
          ],
          [
           "OK KID"
          ],
          [
           "PUR"
          ],
          [
           "Peter Fox"
          ],
          [
           "Peter Maffay"
          ],
          [
           "Philipp Poisel"
          ],
          [
           "Prinz Pi"
          ],
          [
           "Rammstein"
          ],
          [
           "Rosenstolz"
          ],
          [
           "Roy Black"
          ],
          [
           "SDP"
          ],
          [
           "Samy Deluxe"
          ],
          [
           "Seeed"
          ],
          [
           "Sido"
          ],
          [
           "Silbermond"
          ],
          [
           "Spider Murphy Gang"
          ],
          [
           "Sportfreunde Stiller"
          ],
          [
           "Summer Cem"
          ],
          [
           "Tiemo Hauer"
          ],
          [
           "Tim Bendzko"
          ],
          [
           "Tokio Hotel"
          ],
          [
           "Tomte"
          ],
          [
           "Udo Jürgens"
          ],
          [
           "Udo Lindenberg"
          ],
          [
           "Von wegen Lisbeth"
          ],
          [
           "Wir Sind Helden"
          ],
          [
           "Wolfgang Petry"
          ],
          [
           "Xavier Naidoo"
          ],
          [
           "Yvonne Catterfeld"
          ]
         ],
         "hovertemplate": "Word Count=%{x}<br>Number of Songs=%{y}<br>Interpret=%{customdata[0]}<extra></extra>",
         "legendgroup": "",
         "marker": {
          "color": "#636efa",
          "symbol": "circle"
         },
         "mode": "markers",
         "name": "",
         "orientation": "v",
         "showlegend": false,
         "type": "scatter",
         "x": [
          3042,
          2462,
          1052,
          7759,
          2963,
          791,
          101,
          776,
          3243,
          4589,
          3622,
          1192,
          2323,
          2911,
          10865,
          5449,
          863,
          3914,
          592,
          5142,
          2230,
          1054,
          6642,
          4252,
          7754,
          7752,
          519,
          6958,
          7731,
          753,
          9448,
          7626,
          2072,
          1865,
          7570,
          1822,
          68,
          288,
          2417,
          5461,
          2109,
          3676,
          1465,
          9127,
          435,
          4554,
          2877,
          1879,
          7546,
          6729,
          2176,
          1783,
          3465,
          3069,
          1683,
          3011,
          1276,
          3781,
          2280,
          3837,
          2313,
          3224,
          2350,
          2749,
          4620,
          1474,
          2310,
          1104,
          11628,
          2441,
          2174,
          458,
          3767,
          5880,
          2625,
          6624,
          3676,
          1393,
          2555,
          2451,
          1078,
          1295,
          1479,
          1705,
          1717,
          7017,
          191,
          2471,
          2677,
          3323,
          2012
         ],
         "xaxis": "x",
         "y": [
          17,
          11,
          14,
          59,
          125,
          12,
          1,
          19,
          61,
          30,
          22,
          16,
          48,
          65,
          132,
          49,
          9,
          76,
          13,
          68,
          17,
          4,
          70,
          32,
          74,
          261,
          7,
          57,
          69,
          11,
          90,
          84,
          26,
          9,
          64,
          34,
          1,
          6,
          79,
          116,
          26,
          59,
          31,
          74,
          2,
          44,
          59,
          34,
          44,
          42,
          26,
          40,
          76,
          52,
          16,
          13,
          23,
          33,
          71,
          34,
          26,
          87,
          33,
          34,
          94,
          10,
          51,
          22,
          102,
          71,
          59,
          8,
          40,
          41,
          22,
          64,
          63,
          23,
          53,
          14,
          22,
          26,
          36,
          33,
          27,
          154,
          2,
          43,
          83,
          43,
          49
         ],
         "yaxis": "y"
        }
       ],
       "layout": {
        "legend": {
         "tracegroupgap": 0
        },
        "template": {
         "data": {
          "bar": [
           {
            "error_x": {
             "color": "#2a3f5f"
            },
            "error_y": {
             "color": "#2a3f5f"
            },
            "marker": {
             "line": {
              "color": "#E5ECF6",
              "width": 0.5
             },
             "pattern": {
              "fillmode": "overlay",
              "size": 10,
              "solidity": 0.2
             }
            },
            "type": "bar"
           }
          ],
          "barpolar": [
           {
            "marker": {
             "line": {
              "color": "#E5ECF6",
              "width": 0.5
             },
             "pattern": {
              "fillmode": "overlay",
              "size": 10,
              "solidity": 0.2
             }
            },
            "type": "barpolar"
           }
          ],
          "carpet": [
           {
            "aaxis": {
             "endlinecolor": "#2a3f5f",
             "gridcolor": "white",
             "linecolor": "white",
             "minorgridcolor": "white",
             "startlinecolor": "#2a3f5f"
            },
            "baxis": {
             "endlinecolor": "#2a3f5f",
             "gridcolor": "white",
             "linecolor": "white",
             "minorgridcolor": "white",
             "startlinecolor": "#2a3f5f"
            },
            "type": "carpet"
           }
          ],
          "choropleth": [
           {
            "colorbar": {
             "outlinewidth": 0,
             "ticks": ""
            },
            "type": "choropleth"
           }
          ],
          "contour": [
           {
            "colorbar": {
             "outlinewidth": 0,
             "ticks": ""
            },
            "colorscale": [
             [
              0,
              "#0d0887"
             ],
             [
              0.1111111111111111,
              "#46039f"
             ],
             [
              0.2222222222222222,
              "#7201a8"
             ],
             [
              0.3333333333333333,
              "#9c179e"
             ],
             [
              0.4444444444444444,
              "#bd3786"
             ],
             [
              0.5555555555555556,
              "#d8576b"
             ],
             [
              0.6666666666666666,
              "#ed7953"
             ],
             [
              0.7777777777777778,
              "#fb9f3a"
             ],
             [
              0.8888888888888888,
              "#fdca26"
             ],
             [
              1,
              "#f0f921"
             ]
            ],
            "type": "contour"
           }
          ],
          "contourcarpet": [
           {
            "colorbar": {
             "outlinewidth": 0,
             "ticks": ""
            },
            "type": "contourcarpet"
           }
          ],
          "heatmap": [
           {
            "colorbar": {
             "outlinewidth": 0,
             "ticks": ""
            },
            "colorscale": [
             [
              0,
              "#0d0887"
             ],
             [
              0.1111111111111111,
              "#46039f"
             ],
             [
              0.2222222222222222,
              "#7201a8"
             ],
             [
              0.3333333333333333,
              "#9c179e"
             ],
             [
              0.4444444444444444,
              "#bd3786"
             ],
             [
              0.5555555555555556,
              "#d8576b"
             ],
             [
              0.6666666666666666,
              "#ed7953"
             ],
             [
              0.7777777777777778,
              "#fb9f3a"
             ],
             [
              0.8888888888888888,
              "#fdca26"
             ],
             [
              1,
              "#f0f921"
             ]
            ],
            "type": "heatmap"
           }
          ],
          "heatmapgl": [
           {
            "colorbar": {
             "outlinewidth": 0,
             "ticks": ""
            },
            "colorscale": [
             [
              0,
              "#0d0887"
             ],
             [
              0.1111111111111111,
              "#46039f"
             ],
             [
              0.2222222222222222,
              "#7201a8"
             ],
             [
              0.3333333333333333,
              "#9c179e"
             ],
             [
              0.4444444444444444,
              "#bd3786"
             ],
             [
              0.5555555555555556,
              "#d8576b"
             ],
             [
              0.6666666666666666,
              "#ed7953"
             ],
             [
              0.7777777777777778,
              "#fb9f3a"
             ],
             [
              0.8888888888888888,
              "#fdca26"
             ],
             [
              1,
              "#f0f921"
             ]
            ],
            "type": "heatmapgl"
           }
          ],
          "histogram": [
           {
            "marker": {
             "pattern": {
              "fillmode": "overlay",
              "size": 10,
              "solidity": 0.2
             }
            },
            "type": "histogram"
           }
          ],
          "histogram2d": [
           {
            "colorbar": {
             "outlinewidth": 0,
             "ticks": ""
            },
            "colorscale": [
             [
              0,
              "#0d0887"
             ],
             [
              0.1111111111111111,
              "#46039f"
             ],
             [
              0.2222222222222222,
              "#7201a8"
             ],
             [
              0.3333333333333333,
              "#9c179e"
             ],
             [
              0.4444444444444444,
              "#bd3786"
             ],
             [
              0.5555555555555556,
              "#d8576b"
             ],
             [
              0.6666666666666666,
              "#ed7953"
             ],
             [
              0.7777777777777778,
              "#fb9f3a"
             ],
             [
              0.8888888888888888,
              "#fdca26"
             ],
             [
              1,
              "#f0f921"
             ]
            ],
            "type": "histogram2d"
           }
          ],
          "histogram2dcontour": [
           {
            "colorbar": {
             "outlinewidth": 0,
             "ticks": ""
            },
            "colorscale": [
             [
              0,
              "#0d0887"
             ],
             [
              0.1111111111111111,
              "#46039f"
             ],
             [
              0.2222222222222222,
              "#7201a8"
             ],
             [
              0.3333333333333333,
              "#9c179e"
             ],
             [
              0.4444444444444444,
              "#bd3786"
             ],
             [
              0.5555555555555556,
              "#d8576b"
             ],
             [
              0.6666666666666666,
              "#ed7953"
             ],
             [
              0.7777777777777778,
              "#fb9f3a"
             ],
             [
              0.8888888888888888,
              "#fdca26"
             ],
             [
              1,
              "#f0f921"
             ]
            ],
            "type": "histogram2dcontour"
           }
          ],
          "mesh3d": [
           {
            "colorbar": {
             "outlinewidth": 0,
             "ticks": ""
            },
            "type": "mesh3d"
           }
          ],
          "parcoords": [
           {
            "line": {
             "colorbar": {
              "outlinewidth": 0,
              "ticks": ""
             }
            },
            "type": "parcoords"
           }
          ],
          "pie": [
           {
            "automargin": true,
            "type": "pie"
           }
          ],
          "scatter": [
           {
            "fillpattern": {
             "fillmode": "overlay",
             "size": 10,
             "solidity": 0.2
            },
            "type": "scatter"
           }
          ],
          "scatter3d": [
           {
            "line": {
             "colorbar": {
              "outlinewidth": 0,
              "ticks": ""
             }
            },
            "marker": {
             "colorbar": {
              "outlinewidth": 0,
              "ticks": ""
             }
            },
            "type": "scatter3d"
           }
          ],
          "scattercarpet": [
           {
            "marker": {
             "colorbar": {
              "outlinewidth": 0,
              "ticks": ""
             }
            },
            "type": "scattercarpet"
           }
          ],
          "scattergeo": [
           {
            "marker": {
             "colorbar": {
              "outlinewidth": 0,
              "ticks": ""
             }
            },
            "type": "scattergeo"
           }
          ],
          "scattergl": [
           {
            "marker": {
             "colorbar": {
              "outlinewidth": 0,
              "ticks": ""
             }
            },
            "type": "scattergl"
           }
          ],
          "scattermapbox": [
           {
            "marker": {
             "colorbar": {
              "outlinewidth": 0,
              "ticks": ""
             }
            },
            "type": "scattermapbox"
           }
          ],
          "scatterpolar": [
           {
            "marker": {
             "colorbar": {
              "outlinewidth": 0,
              "ticks": ""
             }
            },
            "type": "scatterpolar"
           }
          ],
          "scatterpolargl": [
           {
            "marker": {
             "colorbar": {
              "outlinewidth": 0,
              "ticks": ""
             }
            },
            "type": "scatterpolargl"
           }
          ],
          "scatterternary": [
           {
            "marker": {
             "colorbar": {
              "outlinewidth": 0,
              "ticks": ""
             }
            },
            "type": "scatterternary"
           }
          ],
          "surface": [
           {
            "colorbar": {
             "outlinewidth": 0,
             "ticks": ""
            },
            "colorscale": [
             [
              0,
              "#0d0887"
             ],
             [
              0.1111111111111111,
              "#46039f"
             ],
             [
              0.2222222222222222,
              "#7201a8"
             ],
             [
              0.3333333333333333,
              "#9c179e"
             ],
             [
              0.4444444444444444,
              "#bd3786"
             ],
             [
              0.5555555555555556,
              "#d8576b"
             ],
             [
              0.6666666666666666,
              "#ed7953"
             ],
             [
              0.7777777777777778,
              "#fb9f3a"
             ],
             [
              0.8888888888888888,
              "#fdca26"
             ],
             [
              1,
              "#f0f921"
             ]
            ],
            "type": "surface"
           }
          ],
          "table": [
           {
            "cells": {
             "fill": {
              "color": "#EBF0F8"
             },
             "line": {
              "color": "white"
             }
            },
            "header": {
             "fill": {
              "color": "#C8D4E3"
             },
             "line": {
              "color": "white"
             }
            },
            "type": "table"
           }
          ]
         },
         "layout": {
          "annotationdefaults": {
           "arrowcolor": "#2a3f5f",
           "arrowhead": 0,
           "arrowwidth": 1
          },
          "autotypenumbers": "strict",
          "coloraxis": {
           "colorbar": {
            "outlinewidth": 0,
            "ticks": ""
           }
          },
          "colorscale": {
           "diverging": [
            [
             0,
             "#8e0152"
            ],
            [
             0.1,
             "#c51b7d"
            ],
            [
             0.2,
             "#de77ae"
            ],
            [
             0.3,
             "#f1b6da"
            ],
            [
             0.4,
             "#fde0ef"
            ],
            [
             0.5,
             "#f7f7f7"
            ],
            [
             0.6,
             "#e6f5d0"
            ],
            [
             0.7,
             "#b8e186"
            ],
            [
             0.8,
             "#7fbc41"
            ],
            [
             0.9,
             "#4d9221"
            ],
            [
             1,
             "#276419"
            ]
           ],
           "sequential": [
            [
             0,
             "#0d0887"
            ],
            [
             0.1111111111111111,
             "#46039f"
            ],
            [
             0.2222222222222222,
             "#7201a8"
            ],
            [
             0.3333333333333333,
             "#9c179e"
            ],
            [
             0.4444444444444444,
             "#bd3786"
            ],
            [
             0.5555555555555556,
             "#d8576b"
            ],
            [
             0.6666666666666666,
             "#ed7953"
            ],
            [
             0.7777777777777778,
             "#fb9f3a"
            ],
            [
             0.8888888888888888,
             "#fdca26"
            ],
            [
             1,
             "#f0f921"
            ]
           ],
           "sequentialminus": [
            [
             0,
             "#0d0887"
            ],
            [
             0.1111111111111111,
             "#46039f"
            ],
            [
             0.2222222222222222,
             "#7201a8"
            ],
            [
             0.3333333333333333,
             "#9c179e"
            ],
            [
             0.4444444444444444,
             "#bd3786"
            ],
            [
             0.5555555555555556,
             "#d8576b"
            ],
            [
             0.6666666666666666,
             "#ed7953"
            ],
            [
             0.7777777777777778,
             "#fb9f3a"
            ],
            [
             0.8888888888888888,
             "#fdca26"
            ],
            [
             1,
             "#f0f921"
            ]
           ]
          },
          "colorway": [
           "#636efa",
           "#EF553B",
           "#00cc96",
           "#ab63fa",
           "#FFA15A",
           "#19d3f3",
           "#FF6692",
           "#B6E880",
           "#FF97FF",
           "#FECB52"
          ],
          "font": {
           "color": "#2a3f5f"
          },
          "geo": {
           "bgcolor": "white",
           "lakecolor": "white",
           "landcolor": "#E5ECF6",
           "showlakes": true,
           "showland": true,
           "subunitcolor": "white"
          },
          "hoverlabel": {
           "align": "left"
          },
          "hovermode": "closest",
          "mapbox": {
           "style": "light"
          },
          "paper_bgcolor": "white",
          "plot_bgcolor": "#E5ECF6",
          "polar": {
           "angularaxis": {
            "gridcolor": "white",
            "linecolor": "white",
            "ticks": ""
           },
           "bgcolor": "#E5ECF6",
           "radialaxis": {
            "gridcolor": "white",
            "linecolor": "white",
            "ticks": ""
           }
          },
          "scene": {
           "xaxis": {
            "backgroundcolor": "#E5ECF6",
            "gridcolor": "white",
            "gridwidth": 2,
            "linecolor": "white",
            "showbackground": true,
            "ticks": "",
            "zerolinecolor": "white"
           },
           "yaxis": {
            "backgroundcolor": "#E5ECF6",
            "gridcolor": "white",
            "gridwidth": 2,
            "linecolor": "white",
            "showbackground": true,
            "ticks": "",
            "zerolinecolor": "white"
           },
           "zaxis": {
            "backgroundcolor": "#E5ECF6",
            "gridcolor": "white",
            "gridwidth": 2,
            "linecolor": "white",
            "showbackground": true,
            "ticks": "",
            "zerolinecolor": "white"
           }
          },
          "shapedefaults": {
           "line": {
            "color": "#2a3f5f"
           }
          },
          "ternary": {
           "aaxis": {
            "gridcolor": "white",
            "linecolor": "white",
            "ticks": ""
           },
           "baxis": {
            "gridcolor": "white",
            "linecolor": "white",
            "ticks": ""
           },
           "bgcolor": "#E5ECF6",
           "caxis": {
            "gridcolor": "white",
            "linecolor": "white",
            "ticks": ""
           }
          },
          "title": {
           "x": 0.05
          },
          "xaxis": {
           "automargin": true,
           "gridcolor": "white",
           "linecolor": "white",
           "ticks": "",
           "title": {
            "standoff": 15
           },
           "zerolinecolor": "white",
           "zerolinewidth": 2
          },
          "yaxis": {
           "automargin": true,
           "gridcolor": "white",
           "linecolor": "white",
           "ticks": "",
           "title": {
            "standoff": 15
           },
           "zerolinecolor": "white",
           "zerolinewidth": 2
          }
         }
        },
        "title": {
         "text": "Number of Songs vs. Word Count"
        },
        "xaxis": {
         "anchor": "y",
         "domain": [
          0,
          1
         ],
         "title": {
          "text": "Word Count"
         }
        },
        "yaxis": {
         "anchor": "x",
         "domain": [
          0,
          1
         ],
         "title": {
          "text": "Number of Songs"
         }
        }
       }
      }
     },
     "metadata": {},
     "output_type": "display_data"
    }
   ],
   "source": [
    "grouped_data = data.groupby(\"interpret\")\n",
    "\n",
    "tokenized_words = grouped_data[\"lyrics\"].apply(lambda x: ' '.join(x).split())\n",
    "\n",
    "unique_word_counts = tokenized_words.apply(lambda x: len(set(x)))\n",
    "\n",
    "num_songs = grouped_data.size()\n",
    "\n",
    "\n",
    "df = pd.DataFrame({'Interpret': unique_word_counts.index, 'Word Count': unique_word_counts, 'Number of Songs': num_songs})\n",
    "\n",
    "fig = px.scatter(df, x='Word Count', y='Number of Songs', hover_data=['Interpret'], title='Number of Songs vs. Word Count')\n",
    "\n",
    "fig.show()"
   ]
  },
  {
   "cell_type": "markdown",
   "metadata": {},
   "source": [
    "### Checking the 10 most used words for each Genre"
   ]
  },
  {
   "cell_type": "code",
   "execution_count": 34,
   "metadata": {},
   "outputs": [
    {
     "name": "stdout",
     "output_type": "stream",
     "text": [
      "Genre: Pop\n",
      "     Word  Frequency\n",
      "0               2783\n",
      "1    mehr       1272\n",
      "2   immer       1056\n",
      "3   leben        766\n",
      "4     mal        726\n",
      "5   schon        682\n",
      "6    zeit        677\n",
      "7     nie        657\n",
      "8    weiß        606\n",
      "9    welt        573\n",
      "10   geht        570\n",
      "\n",
      "Genre: Rap\n",
      "     Word  Frequency\n",
      "0               7184\n",
      "1     mal       2149\n",
      "2    mehr       1983\n",
      "3    yeah       1679\n",
      "4   immer       1677\n",
      "5   leben       1643\n",
      "6      ja       1564\n",
      "7   schon       1439\n",
      "8    komm       1424\n",
      "9    geht       1392\n",
      "10   mach       1290\n",
      "\n",
      "Genre: Rock\n",
      "     Word  Frequency\n",
      "0               3631\n",
      "1    mehr       1129\n",
      "2   immer       1079\n",
      "3     mal        815\n",
      "4   schon        730\n",
      "5   leben        628\n",
      "6    hast        611\n",
      "7    weiß        594\n",
      "8      ja        553\n",
      "9    welt        550\n",
      "10    nie        533\n",
      "\n",
      "Genre: Schlager\n",
      "     Word  Frequency\n",
      "0                876\n",
      "1   nacht        632\n",
      "2    mehr        614\n",
      "3     nie        510\n",
      "4   liebe        488\n",
      "5   immer        432\n",
      "6    ganz        386\n",
      "7   schon        386\n",
      "8   leben        378\n",
      "9    herz        356\n",
      "10   lass        352\n",
      "\n"
     ]
    }
   ],
   "source": [
    "### Function for filtering stopwords and punctuation\n",
    "def filter_stopwords(tokens):\n",
    "    german_stopwords = set(stopwords.words(\"german\"))\n",
    "    filtered_tokens = []\n",
    "    for token in tokens:\n",
    "        if token.lower() not in german_stopwords and token not in string.punctuation:\n",
    "            filtered_tokens.append(token.lower())\n",
    "    return filtered_tokens\n",
    "\n",
    "data[\"filtered_lyrics\"] = data[\"lyrics\"].apply(lambda x: filter_stopwords([token.text for token in nlp(x)]))\n",
    "grouped_data = data.groupby(\"genre\")\n",
    "\n",
    "genre_word_counts = {}\n",
    "for genre, group in grouped_data:\n",
    "    lyrics = group[\"filtered_lyrics\"].sum()\n",
    "    word_counts = Counter(lyrics)\n",
    "    genre_word_counts[genre] = word_counts\n",
    "\n",
    "\n",
    "top_10_words_per_genre = {}\n",
    "for genre, word_counts in genre_word_counts.items():\n",
    "    top_words = word_counts.most_common(11) ### see down below\n",
    "    top_10_words_per_genre[genre] = top_words\n",
    "\n",
    "for genre, top_words in top_10_words_per_genre.items():\n",
    "    print(\"Genre:\", genre)\n",
    "    df = pd.DataFrame(top_words, columns=[\"Word\", \"Frequency\"])\n",
    "    print(df)\n",
    "    print()"
   ]
  },
  {
   "cell_type": "code",
   "execution_count": 35,
   "metadata": {},
   "outputs": [
    {
     "name": "stdout",
     "output_type": "stream",
     "text": [
      "Genre: Pop\n",
      "    Word  Frequency\n",
      "0   mehr       1272\n",
      "1  immer       1056\n",
      "2  leben        766\n",
      "3    mal        726\n",
      "4  schon        682\n",
      "5   zeit        677\n",
      "6    nie        657\n",
      "7   weiß        606\n",
      "8   welt        573\n",
      "9   geht        570\n",
      "\n",
      "Genre: Rap\n",
      "    Word  Frequency\n",
      "0    mal       2149\n",
      "1   mehr       1983\n",
      "2   yeah       1679\n",
      "3  immer       1677\n",
      "4  leben       1643\n",
      "5     ja       1564\n",
      "6  schon       1439\n",
      "7   komm       1424\n",
      "8   geht       1392\n",
      "9   mach       1290\n",
      "\n",
      "Genre: Rock\n",
      "    Word  Frequency\n",
      "0   mehr       1129\n",
      "1  immer       1079\n",
      "2    mal        815\n",
      "3  schon        730\n",
      "4  leben        628\n",
      "5   hast        611\n",
      "6   weiß        594\n",
      "7     ja        553\n",
      "8   welt        550\n",
      "9    nie        533\n",
      "\n",
      "Genre: Schlager\n",
      "    Word  Frequency\n",
      "0  nacht        632\n",
      "1   mehr        614\n",
      "2    nie        510\n",
      "3  liebe        488\n",
      "4  immer        432\n",
      "5   ganz        386\n",
      "6  schon        386\n",
      "7  leben        378\n",
      "8   herz        356\n",
      "9   lass        352\n",
      "\n"
     ]
    }
   ],
   "source": [
    "###if token.lower() not in german_stopwords and token not in string.punctuation and token.strip() != \"\":\n",
    "###            filtered_tokens.append(token.lower())\n",
    "### takes super long to run >=2hours... probably bugged somehow ?\n",
    "### used a fix in counting the top 11 words and just excluding the first one, since that is whitespace\n",
    "\n",
    "top_10_words_per_genre = {}\n",
    "for genre, word_counts in genre_word_counts.items():\n",
    "    top_words = word_counts.most_common(11)\n",
    "    top_10_words_per_genre[genre] = top_words[1:]  # Exclude the first item\n",
    "\n",
    "for genre, top_words in top_10_words_per_genre.items():\n",
    "    print(\"Genre:\", genre)\n",
    "    df = pd.DataFrame(top_words, columns=[\"Word\", \"Frequency\"])\n",
    "    print(df)\n",
    "    print()"
   ]
  },
  {
   "cell_type": "code",
   "execution_count": 40,
   "metadata": {},
   "outputs": [
    {
     "name": "stdout",
     "output_type": "stream",
     "text": [
      "+-----------------+-----------------+-----------------+----------------+\n",
      "|      Word       |       Pop       |       Rap       |      Rock      |\n",
      "+-----------------+-----------------+-----------------+----------------+\n",
      "| ('mehr', 1272)  |  ('mal', 2149)  | ('mehr', 1129)  | ('nacht', 632) |\n",
      "| ('immer', 1056) | ('mehr', 1983)  | ('immer', 1079) | ('mehr', 614)  |\n",
      "| ('leben', 766)  | ('yeah', 1679)  |  ('mal', 815)   |  ('nie', 510)  |\n",
      "|  ('mal', 726)   | ('immer', 1677) | ('schon', 730)  | ('liebe', 488) |\n",
      "| ('schon', 682)  | ('leben', 1643) | ('leben', 628)  | ('immer', 432) |\n",
      "|  ('zeit', 677)  |  ('ja', 1564)   |  ('hast', 611)  | ('ganz', 386)  |\n",
      "|  ('nie', 657)   | ('schon', 1439) |  ('weiß', 594)  | ('schon', 386) |\n",
      "|  ('weiß', 606)  | ('komm', 1424)  |   ('ja', 553)   | ('leben', 378) |\n",
      "|  ('welt', 573)  | ('geht', 1392)  |  ('welt', 550)  | ('herz', 356)  |\n",
      "|  ('geht', 570)  | ('mach', 1290)  |  ('nie', 533)   | ('lass', 352)  |\n",
      "+-----------------+-----------------+-----------------+----------------+\n"
     ]
    }
   ],
   "source": [
    "### Example on how to plot the data, couldnt really find anything prettier (didnt search that long tho)\n",
    "table_data = []\n",
    "headers = [\"Word\"] + list(top_10_words_per_genre.keys())\n",
    "for i in range(10):\n",
    "    row_data = [top_10_words_per_genre[genre][i] for genre in top_10_words_per_genre]\n",
    "    table_data.append(row_data)\n",
    "\n",
    "table = tabulate(table_data, headers, tablefmt=\"pretty\")\n",
    "print(table)"
   ]
  },
  {
   "cell_type": "markdown",
   "metadata": {},
   "source": [
    "### Sentiment Analysis of a Genre"
   ]
  },
  {
   "cell_type": "code",
   "execution_count": 44,
   "metadata": {},
   "outputs": [
    {
     "name": "stdout",
     "output_type": "stream",
     "text": [
      "                                               Lyric  Polarity  Subjectivity\n",
      "0   Okay, Ansage, Freundchen, ich warne dich Ey, ...  0.067500      0.100000\n",
      "1    Ey Leute, passt doch auf, ihr lebt in Gefahr...  0.115972      0.006944\n",
      "2   Okay, Ellen lang und elegant Keule Mutterfick... -0.031250      0.015625\n",
      "3   Hallihallöchen, ist lange her Schatz Ich vers...  0.048352      0.000000\n",
      "4    Ich steh auf am Kleister riechen und gleiche... -0.054167      0.144444\n"
     ]
    }
   ],
   "source": [
    "genre_data = data[data[\"genre\"] == \"Rap\"]\n",
    "\n",
    "sentiments = []\n",
    "for lyric in genre_data[\"lyrics\"]:\n",
    "    blob = TextBlobDE(lyric)\n",
    "    sentiment = blob.sentiment\n",
    "    sentiments.append((lyric, sentiment.polarity, sentiment.subjectivity))\n",
    "\n",
    "sentiments_df = pd.DataFrame(sentiments, columns=[\"Lyric\", \"Polarity\", \"Subjectivity\"])\n",
    "print(sentiments_df.head())"
   ]
  },
  {
   "cell_type": "code",
   "execution_count": 47,
   "metadata": {},
   "outputs": [
    {
     "name": "stdout",
     "output_type": "stream",
     "text": [
      "Average Polarity - Pop: 0.13076579929096935\n",
      "Average Polarity - Rap: 0.07712942875037107\n",
      "Most Positive Pop Lyric:\n",
      "   Ich schlafe ein Der nächste Schritt heißt Koma Das Fenster unten Und der Nachtwind rein Ich seh die Bäume Und ihre Wipfel so verschwommen Kann meinen Namen Grad so lallen Und es fährt mich nach Haus Es fährt mich wieder weit raus Und es fährt mich nach Haus Es fährt mich wieder weit raus  Ich sehe ein Paar Augen Höre vertraute Laute Kurzes Blaulicht, dann nur Mondschein Und eine Weite mit Dingen, die ich liebe Ich wünschte, es könnte immer so sein  Und es fährt mich nach Haus Es fährt mich wieder weit raus Und es fährt mich nach Haus Es fährt mich wieder weit raus Weit raus  Und es fährt mich nach Haus Es fährt mich wieder weit raus Und es fährt mich nach Haus Es fährt mich wieder weit raus\n",
      "\n",
      "Most Negative Pop Lyric:\n",
      " Ich würd' für dich jeden Boxer verschlagen Ich würd' für dich alle Einkaufstüten tragen Ich würd' für dich wenn du willst ein wildes Tier Doch ich bin für dich nur der Junge am Klavier Bleib doch steh'n hör mir wenigstens zu Das Mädchen über das ich sing bist ganz alleine du Bleib doch stehen, schau mich wenigstens an Damit ich dir beim reden in die Augen schauen kann Bin nur der Junge am Klavier Nur der Junge am Klavier Nur der Junge am Klavier Ich würd' für dich nen Juwelier ausrauben Ich würd' für dich täglich alle Schuhe abstauben Ich stopf für dich sogar die löchrigsten Socken Doch ich bin für dich nur der Typ mit den Locken Bleib doch steh'n hör mir wenigstens zu Das Mädchen über das ich sing bist ganz alleine du Bleib doch stehen, schau mich wenigstens an Damit ich dir beim reden in die Augen schauen kann Bin nur der Junge am Klavier Nur der Junge am Klavier Nur der Junge am Klavier\n",
      "\n",
      "Most Positive Rap Lyric:\n",
      "  Deine Eltern sind auf einem Tennisturnier Du machst eine Party, wie nett von dir Impulsive Menschen kennen keine Grenzen Schmeiß die Möbel aus dem Fenster Wir brauchen Platz zum Dancen  Yippie Yipiie Yeah Yipiie Yeah krawall und Remmidemmi Yippie Yipiie Yeah Yipiie Yeah krawall und Remmidemmi Yippie Yipiie Yeah Yipiie Yeah krawall und Remmidemmi Yippie Yipiie Yeah Yipiie Yeah krawall und Remmidemmi Ein bisschen Gold und Silber Ein bisschen Glitzer-Glitzer Habt ihr nichts zum Fressen hier? Ich will Pizza Deine Mutter hat gesagt \"Tragt nicht soviel Dreck rein\" Auf dem Foto in der Küche sieht sie aus wie Katja Ebstein  Yippie Yipiie Yeah Yipiie Yeah krawall und Remmidemmi Yippie Yipiie Yeah Yipiie Yeah krawall und Remmidemmi Yippie Yipiie Yeah Yipiie Yeah krawall und Remmidemmi Yippie Yipiie Yeah Yipiie Yeah krawall und Remmidemmi  Wir tanzen auf den Tischen Die Stimmung ist beschissen Ich will nackt sein Im Pool kann man sich erfrischen Die Boxen von deinem Vater nehme ich mit in die Sauna Ich mache einen Aufguss mit der Hausbar Und dann dreh ich lauter  Yippie Yipiie Yeah Yipiie Yeah krawall und Remmidemmi Yippie Yipiie Yeah Yipiie Yeah krawall und Remmidemmi Yippie Yipiie Yeah Yipiie Yeah krawall und Remmidemmi Yippie Yipiie Yeah Yipiie Yeah krawall und Remmidemmi  Ey spießt mal nich so rum, ey Wir wolln nur was erleben Privat bei reichen Eltern, was kann es schöneres geben?\n",
      "\n",
      "Most Negative Rap Lyric:\n",
      "  Ich schnür' die Dunks fest Mein iPod voll mit Punk-Tracks Die Stadt stresst, es langt jetzt Ich seh' Chrom, das die Wand ätzt Ich seh' Outlines, die aufschrei'n Morpheus sagte, trau kei'm Hör nur statisches Rauschen Ich hab'' mich in der Matrix verlaufen  Schlag - die - Faust - gegen - die - Wand Zerstör' dich und lass Frust ab Mach kaputt, was dich kaputt macht Schlag - die - Faust - gegen - die - Wand Zerstör' das alte Muster Spuck auf was dich angespuckt hat Irre wie Elektrolore Die übliche Ghettomischpoge Misch das Dope auf dem Hinterhofe Drei Tage druff, Sex auf Droge Aufgewacht im Görlie, Görlie Sonntagmorgen Kampfhund-Derby Die Kläffer sollen die Fresse halten Sonst kotz'  ich einen Restausschlag  Schlag die Faust gegen die Wand Zerstör dich und lass Frust ab Mach kaputt, was dich kaputt macht Schlag die Faust gegen die Wand Zerstör das alte Muster Spuck auf was dich angespuckt hat Schlag die Faust gegen die Wand Zerstör dich und lass Frust ab Mach kaputt, was dich kaputt macht Schlag die Faust gegen die Wand Zerstör das alte Muster Spuck auf was dich angespuckt hat  Pole-Position, Kastenrennen Icke, Biztram, Atze brenn' Die Mädels haben bleiche Haut Wir alle hier sind scheiße drauf Riesengroße Ray-Ban Und trotzdem geht's mir elend USA, USB-Stick Ich will raus, doch find' den Weg nich'  Schlag - die - Faust - gegen - die - Wand Zerstör' dich und lass Frust ab Mach kaputt, was dich kaputt macht Schlag - die - Faust - gegen - die - Wand Zerstör' das alte Muster Spuck auf was dich angespuckt hat\n"
     ]
    }
   ],
   "source": [
    "pop_data = data[data[\"genre\"] == \"Pop\"]\n",
    "rap_data = data[data[\"genre\"] == \"Rap\"]\n",
    "pop_lyrics_sentiments = []\n",
    "rap_lyrics_sentiments = []\n",
    "\n",
    "\n",
    "pop_sentiments = []\n",
    "for lyric in pop_data[\"lyrics\"]:\n",
    "    blob = TextBlobDE(lyric)\n",
    "    sentiment = blob.sentiment.polarity\n",
    "    pop_sentiments.append(sentiment)\n",
    "    pop_lyrics_sentiments.append((lyric, sentiment))\n",
    "\n",
    "rap_sentiments = []\n",
    "for lyric in rap_data[\"lyrics\"]:\n",
    "    blob = TextBlobDE(lyric)\n",
    "    sentiment = blob.sentiment.polarity\n",
    "    rap_sentiments.append(sentiment)\n",
    "    rap_lyrics_sentiments.append((lyric, sentiment))\n",
    "\n",
    "pop_avg_polarity = sum(pop_sentiments) / len(pop_sentiments)\n",
    "rap_avg_polarity = sum(rap_sentiments) / len(rap_sentiments)\n",
    "\n",
    "pop_lyrics_sentiments.sort(key=lambda x: x[1], reverse=True)\n",
    "rap_lyrics_sentiments.sort(key=lambda x: x[1], reverse=True)\n",
    "\n",
    "most_positive_pop_lyric = pop_lyrics_sentiments[0][0]\n",
    "most_negative_pop_lyric = pop_lyrics_sentiments[-1][0]\n",
    "most_positive_rap_lyric = rap_lyrics_sentiments[0][0]\n",
    "most_negative_rap_lyric = rap_lyrics_sentiments[-1][0]\n",
    "\n",
    "print(\"Average Polarity - Pop:\", pop_avg_polarity)\n",
    "print(\"Average Polarity - Rap:\", rap_avg_polarity)\n",
    "print(\"Most Positive Pop Lyric:\\n\", most_positive_pop_lyric)\n",
    "print(\"\\nMost Negative Pop Lyric:\\n\", most_negative_pop_lyric)\n",
    "print(\"\\nMost Positive Rap Lyric:\\n\", most_positive_rap_lyric)\n",
    "print(\"\\nMost Negative Rap Lyric:\\n\", most_negative_rap_lyric)"
   ]
  },
  {
   "cell_type": "code",
   "execution_count": null,
   "metadata": {},
   "outputs": [],
   "source": []
  }
 ],
 "metadata": {
  "kernelspec": {
   "display_name": "Python 3.9.1 64-bit ('3.9.1')",
   "language": "python",
   "name": "python3"
  },
  "language_info": {
   "codemirror_mode": {
    "name": "ipython",
    "version": 3
   },
   "file_extension": ".py",
   "mimetype": "text/x-python",
   "name": "python",
   "nbconvert_exporter": "python",
   "pygments_lexer": "ipython3",
   "version": "3.9.1"
  },
  "orig_nbformat": 4,
  "vscode": {
   "interpreter": {
    "hash": "fb408a8a50588f9d482ac690f7d1c5df410608bd4bf41691bb22e16d1eff6208"
   }
  }
 },
 "nbformat": 4,
 "nbformat_minor": 2
}
